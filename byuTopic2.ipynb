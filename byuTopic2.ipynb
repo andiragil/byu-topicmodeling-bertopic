{
 "cells": [
  {
   "cell_type": "markdown",
   "id": "00347854",
   "metadata": {},
   "source": [
    "<h3>LOAD DAN TAMPILKAN DATA</h3> "
   ]
  },
  {
   "cell_type": "code",
   "execution_count": 101,
   "id": "e83e6ff3",
   "metadata": {},
   "outputs": [
    {
     "data": {
      "text/html": [
       "<div>\n",
       "<style scoped>\n",
       "    .dataframe tbody tr th:only-of-type {\n",
       "        vertical-align: middle;\n",
       "    }\n",
       "\n",
       "    .dataframe tbody tr th {\n",
       "        vertical-align: top;\n",
       "    }\n",
       "\n",
       "    .dataframe thead th {\n",
       "        text-align: right;\n",
       "    }\n",
       "</style>\n",
       "<table border=\"1\" class=\"dataframe\">\n",
       "  <thead>\n",
       "    <tr style=\"text-align: right;\">\n",
       "      <th></th>\n",
       "      <th>userName</th>\n",
       "      <th>content</th>\n",
       "      <th>score</th>\n",
       "      <th>at</th>\n",
       "    </tr>\n",
       "  </thead>\n",
       "  <tbody>\n",
       "    <tr>\n",
       "      <th>0</th>\n",
       "      <td>Pengguna Google</td>\n",
       "      <td>aku pengguna lama by.u, tapi kok lama kelamaan aku ngerasa by.u itu jaringannya AGAK kurang stabil ya? kalo buat sosmed an enak\" aja sih, enggak begitu kerasa jaringan kurang stabilnya,kalo dipake untuk nge-game baru agak berasa,kadang ngeganggu banget,waktu pertama kali pake by.u itu jaringannya bener\" poll loh. jarang sekali yg namanya penurunan jaringan,tapi ya gitu,mohon maaf,sekarang jaringan by.u agak kurang menurutku</td>\n",
       "      <td>4</td>\n",
       "      <td>2025-05-01 14:10:47</td>\n",
       "    </tr>\n",
       "    <tr>\n",
       "      <th>1</th>\n",
       "      <td>Pengguna Google</td>\n",
       "      <td>untuk jaringan by.u nya sih bagus cuman kalau untuk diaplikasi nya sudah mulai kendor untuk transaksinya, dulunya bisa melakukan transfer melalui akun virtual bank dan sekarang hanya bisa melalui ewallet doang itu kalau boleh kembalikan seperti dulu, dan tambahin untuk metode pembayarannya melalui QRIS. kedua, untuk android versi +12 susah menggunakan aplikasi by.u, seperti saya baru unduh aplikasi by.u di android 12, tidak dapat. terdapat tulisan \"Perangkat keras aman tidak tersedia\"</td>\n",
       "      <td>3</td>\n",
       "      <td>2025-05-12 19:38:54</td>\n",
       "    </tr>\n",
       "    <tr>\n",
       "      <th>2</th>\n",
       "      <td>Pengguna Google</td>\n",
       "      <td>Makin kesini byu makin ga bagus,aplikasi sering ga bisa di buka,komplain respon lambat, proses lama kadang nunggu lama,giliran keluar aplikasi ada balesan,masuk aplikasi hilang lagi cs nya kayak sengaja gitu, tidak ada penyelesaian, di notif kendala sudah selesai tapi masalah nya masih terjadi, cs nya pun kadang ganti ganti di satu chat, parah, chat cs di aplikasi sinyal bagus paket ada mode data atau pake wifi juga susah, parah, jwbn anak SD dari cs&amp;develover cmn nunjukin ketololan nya.</td>\n",
       "      <td>1</td>\n",
       "      <td>2025-04-23 11:17:48</td>\n",
       "    </tr>\n",
       "    <tr>\n",
       "      <th>3</th>\n",
       "      <td>Pengguna Google</td>\n",
       "      <td>Aplikasinya sebenarnya bagus, banyak pilihan kuota yang menarik juga. Tapi minusnya jaringannya, kadang suka hilang atau lambat banget, padahal gaada gangguan sama sekali, sudah coba ganti jenis jaringan pun tetap aja jaringannya lambat. Mohon kedepannya ini lebih diperhatikan lagi karena jujur perkara jaringan ini sangat menggangu, apalagi kalau perlu ngerjain sesuatu yang penting tapi jaringannya malah lambat. Mungkin itu aja, makasih ya</td>\n",
       "      <td>3</td>\n",
       "      <td>2025-05-16 14:15:18</td>\n",
       "    </tr>\n",
       "    <tr>\n",
       "      <th>4</th>\n",
       "      <td>Pengguna Google</td>\n",
       "      <td>pake by u lumayan lama tapi sampe sekarang belum ada peningkatan jaringan aja, kalau di kota yahh bagus soalnya dapet 5G nya, tapi kalau di lingkungan rumah? maen game ping nya 108ms mulu sering ping merahh, gak pernah tuh maen game ampe ping hijau dari dulu gini mulu cuman cocok buat maen youtube doank itupun otomatis resolusi nya jadi 360p an, kek nya emang harus maen sekitaran kota doank</td>\n",
       "      <td>3</td>\n",
       "      <td>2025-05-03 16:20:23</td>\n",
       "    </tr>\n",
       "  </tbody>\n",
       "</table>\n",
       "</div>"
      ],
      "text/plain": [
       "          userName  \\\n",
       "0  Pengguna Google   \n",
       "1  Pengguna Google   \n",
       "2  Pengguna Google   \n",
       "3  Pengguna Google   \n",
       "4  Pengguna Google   \n",
       "\n",
       "                                                                                                                                                                                                                                                                                                                                                                                                                                                                                                        content  \\\n",
       "0                                                                   aku pengguna lama by.u, tapi kok lama kelamaan aku ngerasa by.u itu jaringannya AGAK kurang stabil ya? kalo buat sosmed an enak\" aja sih, enggak begitu kerasa jaringan kurang stabilnya,kalo dipake untuk nge-game baru agak berasa,kadang ngeganggu banget,waktu pertama kali pake by.u itu jaringannya bener\" poll loh. jarang sekali yg namanya penurunan jaringan,tapi ya gitu,mohon maaf,sekarang jaringan by.u agak kurang menurutku   \n",
       "1     untuk jaringan by.u nya sih bagus cuman kalau untuk diaplikasi nya sudah mulai kendor untuk transaksinya, dulunya bisa melakukan transfer melalui akun virtual bank dan sekarang hanya bisa melalui ewallet doang itu kalau boleh kembalikan seperti dulu, dan tambahin untuk metode pembayarannya melalui QRIS. kedua, untuk android versi +12 susah menggunakan aplikasi by.u, seperti saya baru unduh aplikasi by.u di android 12, tidak dapat. terdapat tulisan \"Perangkat keras aman tidak tersedia\"   \n",
       "2  Makin kesini byu makin ga bagus,aplikasi sering ga bisa di buka,komplain respon lambat, proses lama kadang nunggu lama,giliran keluar aplikasi ada balesan,masuk aplikasi hilang lagi cs nya kayak sengaja gitu, tidak ada penyelesaian, di notif kendala sudah selesai tapi masalah nya masih terjadi, cs nya pun kadang ganti ganti di satu chat, parah, chat cs di aplikasi sinyal bagus paket ada mode data atau pake wifi juga susah, parah, jwbn anak SD dari cs&develover cmn nunjukin ketololan nya.   \n",
       "3                                                   Aplikasinya sebenarnya bagus, banyak pilihan kuota yang menarik juga. Tapi minusnya jaringannya, kadang suka hilang atau lambat banget, padahal gaada gangguan sama sekali, sudah coba ganti jenis jaringan pun tetap aja jaringannya lambat. Mohon kedepannya ini lebih diperhatikan lagi karena jujur perkara jaringan ini sangat menggangu, apalagi kalau perlu ngerjain sesuatu yang penting tapi jaringannya malah lambat. Mungkin itu aja, makasih ya   \n",
       "4                                                                                                     pake by u lumayan lama tapi sampe sekarang belum ada peningkatan jaringan aja, kalau di kota yahh bagus soalnya dapet 5G nya, tapi kalau di lingkungan rumah? maen game ping nya 108ms mulu sering ping merahh, gak pernah tuh maen game ampe ping hijau dari dulu gini mulu cuman cocok buat maen youtube doank itupun otomatis resolusi nya jadi 360p an, kek nya emang harus maen sekitaran kota doank   \n",
       "\n",
       "   score                   at  \n",
       "0      4  2025-05-01 14:10:47  \n",
       "1      3  2025-05-12 19:38:54  \n",
       "2      1  2025-04-23 11:17:48  \n",
       "3      3  2025-05-16 14:15:18  \n",
       "4      3  2025-05-03 16:20:23  "
      ]
     },
     "execution_count": 101,
     "metadata": {},
     "output_type": "execute_result"
    }
   ],
   "source": [
    "# Import library\n",
    "import pandas as pd\n",
    "\n",
    "# Setting agar kolom panjang tampil semua\n",
    "pd.set_option('display.max_colwidth', None)\n",
    "\n",
    "# Load file CSV ulasan\n",
    "df = pd.read_csv('byu_reviews2.csv')\n",
    "\n",
    "# Lihat 5 baris pertama\n",
    "df.head()"
   ]
  },
  {
   "cell_type": "markdown",
   "id": "51e70890",
   "metadata": {},
   "source": [
    "<h3>HAPUS DATA KURANG DARI 10</h3> "
   ]
  },
  {
   "cell_type": "code",
   "execution_count": 102,
   "id": "39935924",
   "metadata": {},
   "outputs": [],
   "source": [
    "df = df[df['content'].apply(lambda x: len(x.split()) >= 10)]"
   ]
  },
  {
   "cell_type": "markdown",
   "id": "484cbee1",
   "metadata": {},
   "source": [
    "<h3>CEK JUMLAH ULASAN SETELAH DIHAPUS</h3>"
   ]
  },
  {
   "cell_type": "code",
   "execution_count": 103,
   "id": "dd5bbb37",
   "metadata": {},
   "outputs": [
    {
     "name": "stdout",
     "output_type": "stream",
     "text": [
      "(9376, 4)\n"
     ]
    }
   ],
   "source": [
    "print(df.shape)"
   ]
  },
  {
   "cell_type": "markdown",
   "id": "3d3a035a",
   "metadata": {},
   "source": [
    "<h3>CASE FOLDING</h3>"
   ]
  },
  {
   "cell_type": "code",
   "execution_count": 104,
   "id": "da841396",
   "metadata": {},
   "outputs": [
    {
     "data": {
      "text/html": [
       "<div>\n",
       "<style scoped>\n",
       "    .dataframe tbody tr th:only-of-type {\n",
       "        vertical-align: middle;\n",
       "    }\n",
       "\n",
       "    .dataframe tbody tr th {\n",
       "        vertical-align: top;\n",
       "    }\n",
       "\n",
       "    .dataframe thead th {\n",
       "        text-align: right;\n",
       "    }\n",
       "</style>\n",
       "<table border=\"1\" class=\"dataframe\">\n",
       "  <thead>\n",
       "    <tr style=\"text-align: right;\">\n",
       "      <th></th>\n",
       "      <th>content</th>\n",
       "      <th>case_folding</th>\n",
       "    </tr>\n",
       "  </thead>\n",
       "  <tbody>\n",
       "    <tr>\n",
       "      <th>0</th>\n",
       "      <td>aku pengguna lama by.u, tapi kok lama kelamaan aku ngerasa by.u itu jaringannya AGAK kurang stabil ya? kalo buat sosmed an enak\" aja sih, enggak begitu kerasa jaringan kurang stabilnya,kalo dipake untuk nge-game baru agak berasa,kadang ngeganggu banget,waktu pertama kali pake by.u itu jaringannya bener\" poll loh. jarang sekali yg namanya penurunan jaringan,tapi ya gitu,mohon maaf,sekarang jaringan by.u agak kurang menurutku</td>\n",
       "      <td>aku pengguna lama by.u, tapi kok lama kelamaan aku ngerasa by.u itu jaringannya agak kurang stabil ya? kalo buat sosmed an enak\" aja sih, enggak begitu kerasa jaringan kurang stabilnya,kalo dipake untuk nge-game baru agak berasa,kadang ngeganggu banget,waktu pertama kali pake by.u itu jaringannya bener\" poll loh. jarang sekali yg namanya penurunan jaringan,tapi ya gitu,mohon maaf,sekarang jaringan by.u agak kurang menurutku</td>\n",
       "    </tr>\n",
       "    <tr>\n",
       "      <th>1</th>\n",
       "      <td>untuk jaringan by.u nya sih bagus cuman kalau untuk diaplikasi nya sudah mulai kendor untuk transaksinya, dulunya bisa melakukan transfer melalui akun virtual bank dan sekarang hanya bisa melalui ewallet doang itu kalau boleh kembalikan seperti dulu, dan tambahin untuk metode pembayarannya melalui QRIS. kedua, untuk android versi +12 susah menggunakan aplikasi by.u, seperti saya baru unduh aplikasi by.u di android 12, tidak dapat. terdapat tulisan \"Perangkat keras aman tidak tersedia\"</td>\n",
       "      <td>untuk jaringan by.u nya sih bagus cuman kalau untuk diaplikasi nya sudah mulai kendor untuk transaksinya, dulunya bisa melakukan transfer melalui akun virtual bank dan sekarang hanya bisa melalui ewallet doang itu kalau boleh kembalikan seperti dulu, dan tambahin untuk metode pembayarannya melalui qris. kedua, untuk android versi +12 susah menggunakan aplikasi by.u, seperti saya baru unduh aplikasi by.u di android 12, tidak dapat. terdapat tulisan \"perangkat keras aman tidak tersedia\"</td>\n",
       "    </tr>\n",
       "    <tr>\n",
       "      <th>2</th>\n",
       "      <td>Makin kesini byu makin ga bagus,aplikasi sering ga bisa di buka,komplain respon lambat, proses lama kadang nunggu lama,giliran keluar aplikasi ada balesan,masuk aplikasi hilang lagi cs nya kayak sengaja gitu, tidak ada penyelesaian, di notif kendala sudah selesai tapi masalah nya masih terjadi, cs nya pun kadang ganti ganti di satu chat, parah, chat cs di aplikasi sinyal bagus paket ada mode data atau pake wifi juga susah, parah, jwbn anak SD dari cs&amp;develover cmn nunjukin ketololan nya.</td>\n",
       "      <td>makin kesini byu makin ga bagus,aplikasi sering ga bisa di buka,komplain respon lambat, proses lama kadang nunggu lama,giliran keluar aplikasi ada balesan,masuk aplikasi hilang lagi cs nya kayak sengaja gitu, tidak ada penyelesaian, di notif kendala sudah selesai tapi masalah nya masih terjadi, cs nya pun kadang ganti ganti di satu chat, parah, chat cs di aplikasi sinyal bagus paket ada mode data atau pake wifi juga susah, parah, jwbn anak sd dari cs&amp;develover cmn nunjukin ketololan nya.</td>\n",
       "    </tr>\n",
       "    <tr>\n",
       "      <th>3</th>\n",
       "      <td>Aplikasinya sebenarnya bagus, banyak pilihan kuota yang menarik juga. Tapi minusnya jaringannya, kadang suka hilang atau lambat banget, padahal gaada gangguan sama sekali, sudah coba ganti jenis jaringan pun tetap aja jaringannya lambat. Mohon kedepannya ini lebih diperhatikan lagi karena jujur perkara jaringan ini sangat menggangu, apalagi kalau perlu ngerjain sesuatu yang penting tapi jaringannya malah lambat. Mungkin itu aja, makasih ya</td>\n",
       "      <td>aplikasinya sebenarnya bagus, banyak pilihan kuota yang menarik juga. tapi minusnya jaringannya, kadang suka hilang atau lambat banget, padahal gaada gangguan sama sekali, sudah coba ganti jenis jaringan pun tetap aja jaringannya lambat. mohon kedepannya ini lebih diperhatikan lagi karena jujur perkara jaringan ini sangat menggangu, apalagi kalau perlu ngerjain sesuatu yang penting tapi jaringannya malah lambat. mungkin itu aja, makasih ya</td>\n",
       "    </tr>\n",
       "    <tr>\n",
       "      <th>4</th>\n",
       "      <td>pake by u lumayan lama tapi sampe sekarang belum ada peningkatan jaringan aja, kalau di kota yahh bagus soalnya dapet 5G nya, tapi kalau di lingkungan rumah? maen game ping nya 108ms mulu sering ping merahh, gak pernah tuh maen game ampe ping hijau dari dulu gini mulu cuman cocok buat maen youtube doank itupun otomatis resolusi nya jadi 360p an, kek nya emang harus maen sekitaran kota doank</td>\n",
       "      <td>pake by u lumayan lama tapi sampe sekarang belum ada peningkatan jaringan aja, kalau di kota yahh bagus soalnya dapet 5g nya, tapi kalau di lingkungan rumah? maen game ping nya 108ms mulu sering ping merahh, gak pernah tuh maen game ampe ping hijau dari dulu gini mulu cuman cocok buat maen youtube doank itupun otomatis resolusi nya jadi 360p an, kek nya emang harus maen sekitaran kota doank</td>\n",
       "    </tr>\n",
       "  </tbody>\n",
       "</table>\n",
       "</div>"
      ],
      "text/plain": [
       "                                                                                                                                                                                                                                                                                                                                                                                                                                                                                                        content  \\\n",
       "0                                                                   aku pengguna lama by.u, tapi kok lama kelamaan aku ngerasa by.u itu jaringannya AGAK kurang stabil ya? kalo buat sosmed an enak\" aja sih, enggak begitu kerasa jaringan kurang stabilnya,kalo dipake untuk nge-game baru agak berasa,kadang ngeganggu banget,waktu pertama kali pake by.u itu jaringannya bener\" poll loh. jarang sekali yg namanya penurunan jaringan,tapi ya gitu,mohon maaf,sekarang jaringan by.u agak kurang menurutku   \n",
       "1     untuk jaringan by.u nya sih bagus cuman kalau untuk diaplikasi nya sudah mulai kendor untuk transaksinya, dulunya bisa melakukan transfer melalui akun virtual bank dan sekarang hanya bisa melalui ewallet doang itu kalau boleh kembalikan seperti dulu, dan tambahin untuk metode pembayarannya melalui QRIS. kedua, untuk android versi +12 susah menggunakan aplikasi by.u, seperti saya baru unduh aplikasi by.u di android 12, tidak dapat. terdapat tulisan \"Perangkat keras aman tidak tersedia\"   \n",
       "2  Makin kesini byu makin ga bagus,aplikasi sering ga bisa di buka,komplain respon lambat, proses lama kadang nunggu lama,giliran keluar aplikasi ada balesan,masuk aplikasi hilang lagi cs nya kayak sengaja gitu, tidak ada penyelesaian, di notif kendala sudah selesai tapi masalah nya masih terjadi, cs nya pun kadang ganti ganti di satu chat, parah, chat cs di aplikasi sinyal bagus paket ada mode data atau pake wifi juga susah, parah, jwbn anak SD dari cs&develover cmn nunjukin ketololan nya.   \n",
       "3                                                   Aplikasinya sebenarnya bagus, banyak pilihan kuota yang menarik juga. Tapi minusnya jaringannya, kadang suka hilang atau lambat banget, padahal gaada gangguan sama sekali, sudah coba ganti jenis jaringan pun tetap aja jaringannya lambat. Mohon kedepannya ini lebih diperhatikan lagi karena jujur perkara jaringan ini sangat menggangu, apalagi kalau perlu ngerjain sesuatu yang penting tapi jaringannya malah lambat. Mungkin itu aja, makasih ya   \n",
       "4                                                                                                     pake by u lumayan lama tapi sampe sekarang belum ada peningkatan jaringan aja, kalau di kota yahh bagus soalnya dapet 5G nya, tapi kalau di lingkungan rumah? maen game ping nya 108ms mulu sering ping merahh, gak pernah tuh maen game ampe ping hijau dari dulu gini mulu cuman cocok buat maen youtube doank itupun otomatis resolusi nya jadi 360p an, kek nya emang harus maen sekitaran kota doank   \n",
       "\n",
       "                                                                                                                                                                                                                                                                                                                                                                                                                                                                                                   case_folding  \n",
       "0                                                                   aku pengguna lama by.u, tapi kok lama kelamaan aku ngerasa by.u itu jaringannya agak kurang stabil ya? kalo buat sosmed an enak\" aja sih, enggak begitu kerasa jaringan kurang stabilnya,kalo dipake untuk nge-game baru agak berasa,kadang ngeganggu banget,waktu pertama kali pake by.u itu jaringannya bener\" poll loh. jarang sekali yg namanya penurunan jaringan,tapi ya gitu,mohon maaf,sekarang jaringan by.u agak kurang menurutku  \n",
       "1     untuk jaringan by.u nya sih bagus cuman kalau untuk diaplikasi nya sudah mulai kendor untuk transaksinya, dulunya bisa melakukan transfer melalui akun virtual bank dan sekarang hanya bisa melalui ewallet doang itu kalau boleh kembalikan seperti dulu, dan tambahin untuk metode pembayarannya melalui qris. kedua, untuk android versi +12 susah menggunakan aplikasi by.u, seperti saya baru unduh aplikasi by.u di android 12, tidak dapat. terdapat tulisan \"perangkat keras aman tidak tersedia\"  \n",
       "2  makin kesini byu makin ga bagus,aplikasi sering ga bisa di buka,komplain respon lambat, proses lama kadang nunggu lama,giliran keluar aplikasi ada balesan,masuk aplikasi hilang lagi cs nya kayak sengaja gitu, tidak ada penyelesaian, di notif kendala sudah selesai tapi masalah nya masih terjadi, cs nya pun kadang ganti ganti di satu chat, parah, chat cs di aplikasi sinyal bagus paket ada mode data atau pake wifi juga susah, parah, jwbn anak sd dari cs&develover cmn nunjukin ketololan nya.  \n",
       "3                                                   aplikasinya sebenarnya bagus, banyak pilihan kuota yang menarik juga. tapi minusnya jaringannya, kadang suka hilang atau lambat banget, padahal gaada gangguan sama sekali, sudah coba ganti jenis jaringan pun tetap aja jaringannya lambat. mohon kedepannya ini lebih diperhatikan lagi karena jujur perkara jaringan ini sangat menggangu, apalagi kalau perlu ngerjain sesuatu yang penting tapi jaringannya malah lambat. mungkin itu aja, makasih ya  \n",
       "4                                                                                                     pake by u lumayan lama tapi sampe sekarang belum ada peningkatan jaringan aja, kalau di kota yahh bagus soalnya dapet 5g nya, tapi kalau di lingkungan rumah? maen game ping nya 108ms mulu sering ping merahh, gak pernah tuh maen game ampe ping hijau dari dulu gini mulu cuman cocok buat maen youtube doank itupun otomatis resolusi nya jadi 360p an, kek nya emang harus maen sekitaran kota doank  "
      ]
     },
     "execution_count": 104,
     "metadata": {},
     "output_type": "execute_result"
    }
   ],
   "source": [
    "# Ubah semua teks di kolom 'content' menjadi huruf kecil\n",
    "df['case_folding'] = df['content'].str.lower()\n",
    "\n",
    "# Tampilkan hasil case folding\n",
    "df[['content', 'case_folding']].head()"
   ]
  },
  {
   "cell_type": "markdown",
   "id": "ced06efb",
   "metadata": {},
   "source": [
    "<h3>Normalisasi Kata byu</h3>"
   ]
  },
  {
   "cell_type": "code",
   "execution_count": 105,
   "id": "046acf0c",
   "metadata": {},
   "outputs": [
    {
     "data": {
      "text/html": [
       "<div>\n",
       "<style scoped>\n",
       "    .dataframe tbody tr th:only-of-type {\n",
       "        vertical-align: middle;\n",
       "    }\n",
       "\n",
       "    .dataframe tbody tr th {\n",
       "        vertical-align: top;\n",
       "    }\n",
       "\n",
       "    .dataframe thead th {\n",
       "        text-align: right;\n",
       "    }\n",
       "</style>\n",
       "<table border=\"1\" class=\"dataframe\">\n",
       "  <thead>\n",
       "    <tr style=\"text-align: right;\">\n",
       "      <th></th>\n",
       "      <th>case_folding</th>\n",
       "      <th>normalized</th>\n",
       "    </tr>\n",
       "  </thead>\n",
       "  <tbody>\n",
       "    <tr>\n",
       "      <th>0</th>\n",
       "      <td>aku pengguna lama by.u, tapi kok lama kelamaan aku ngerasa by.u itu jaringannya agak kurang stabil ya? kalo buat sosmed an enak\" aja sih, enggak begitu kerasa jaringan kurang stabilnya,kalo dipake untuk nge-game baru agak berasa,kadang ngeganggu banget,waktu pertama kali pake by.u itu jaringannya bener\" poll loh. jarang sekali yg namanya penurunan jaringan,tapi ya gitu,mohon maaf,sekarang jaringan by.u agak kurang menurutku</td>\n",
       "      <td>aku pengguna lama byu, tapi kok lama kelamaan aku ngerasa byu itu jaringannya agak kurang stabil ya? kalo buat sosmed an enak\" aja sih, enggak begitu kerasa jaringan kurang stabilnya,kalo dipake untuk nge-game baru agak berasa,kadang ngeganggu banget,waktu pertama kali pake byu itu jaringannya bener\" poll loh. jarang sekali yg namanya penurunan jaringan,tapi ya gitu,mohon maaf,sekarang jaringan byu agak kurang menurutku</td>\n",
       "    </tr>\n",
       "    <tr>\n",
       "      <th>1</th>\n",
       "      <td>untuk jaringan by.u nya sih bagus cuman kalau untuk diaplikasi nya sudah mulai kendor untuk transaksinya, dulunya bisa melakukan transfer melalui akun virtual bank dan sekarang hanya bisa melalui ewallet doang itu kalau boleh kembalikan seperti dulu, dan tambahin untuk metode pembayarannya melalui qris. kedua, untuk android versi +12 susah menggunakan aplikasi by.u, seperti saya baru unduh aplikasi by.u di android 12, tidak dapat. terdapat tulisan \"perangkat keras aman tidak tersedia\"</td>\n",
       "      <td>untuk jaringan byu nya sih bagus cuman kalau untuk diaplikasi nya sudah mulai kendor untuk transaksinya, dulunya bisa melakukan transfer melalui akun virtual bank dan sekarang hanya bisa melalui ewallet doang itu kalau boleh kembalikan seperti dulu, dan tambahin untuk metode pembayarannya melalui qris. kedua, untuk android versi +12 susah menggunakan aplikasi byu, seperti saya baru unduh aplikasi byu di android 12, tidak dapat. terdapat tulisan \"perangkat keras aman tidak tersedia\"</td>\n",
       "    </tr>\n",
       "    <tr>\n",
       "      <th>2</th>\n",
       "      <td>makin kesini byu makin ga bagus,aplikasi sering ga bisa di buka,komplain respon lambat, proses lama kadang nunggu lama,giliran keluar aplikasi ada balesan,masuk aplikasi hilang lagi cs nya kayak sengaja gitu, tidak ada penyelesaian, di notif kendala sudah selesai tapi masalah nya masih terjadi, cs nya pun kadang ganti ganti di satu chat, parah, chat cs di aplikasi sinyal bagus paket ada mode data atau pake wifi juga susah, parah, jwbn anak sd dari cs&amp;develover cmn nunjukin ketololan nya.</td>\n",
       "      <td>makin kesini byu makin ga bagus,aplikasi sering ga bisa di buka,komplain respon lambat, proses lama kadang nunggu lama,giliran keluar aplikasi ada balesan,masuk aplikasi hilang lagi cs nya kayak sengaja gitu, tidak ada penyelesaian, di notif kendala sudah selesai tapi masalah nya masih terjadi, cs nya pun kadang ganti ganti di satu chat, parah, chat cs di aplikasi sinyal bagus paket ada mode data atau pake wifi juga susah, parah, jwbn anak sd dari cs&amp;develover cmn nunjukin ketololan nya.</td>\n",
       "    </tr>\n",
       "    <tr>\n",
       "      <th>3</th>\n",
       "      <td>aplikasinya sebenarnya bagus, banyak pilihan kuota yang menarik juga. tapi minusnya jaringannya, kadang suka hilang atau lambat banget, padahal gaada gangguan sama sekali, sudah coba ganti jenis jaringan pun tetap aja jaringannya lambat. mohon kedepannya ini lebih diperhatikan lagi karena jujur perkara jaringan ini sangat menggangu, apalagi kalau perlu ngerjain sesuatu yang penting tapi jaringannya malah lambat. mungkin itu aja, makasih ya</td>\n",
       "      <td>aplikasinya sebenarnya bagus, banyak pilihan kuota yang menarik juga. tapi minusnya jaringannya, kadang suka hilang atau lambat banget, padahal gaada gangguan sama sekali, sudah coba ganti jenis jaringan pun tetap aja jaringannya lambat. mohon kedepannya ini lebih diperhatikan lagi karena jujur perkara jaringan ini sangat menggangu, apalagi kalau perlu ngerjain sesuatu yang penting tapi jaringannya malah lambat. mungkin itu aja, makasih ya</td>\n",
       "    </tr>\n",
       "    <tr>\n",
       "      <th>4</th>\n",
       "      <td>pake by u lumayan lama tapi sampe sekarang belum ada peningkatan jaringan aja, kalau di kota yahh bagus soalnya dapet 5g nya, tapi kalau di lingkungan rumah? maen game ping nya 108ms mulu sering ping merahh, gak pernah tuh maen game ampe ping hijau dari dulu gini mulu cuman cocok buat maen youtube doank itupun otomatis resolusi nya jadi 360p an, kek nya emang harus maen sekitaran kota doank</td>\n",
       "      <td>pake byu lumayan lama tapi sampe sekarang belum ada peningkatan jaringan aja, kalau di kota yahh bagus soalnya dapet 5g nya, tapi kalau di lingkungan rumah? maen game ping nya 108ms mulu sering ping merahh, gak pernah tuh maen game ampe ping hijau dari dulu gini mulu cuman cocok buat maen youtube doank itupun otomatis resolusi nya jadi 360p an, kek nya emang harus maen sekitaran kota doank</td>\n",
       "    </tr>\n",
       "  </tbody>\n",
       "</table>\n",
       "</div>"
      ],
      "text/plain": [
       "                                                                                                                                                                                                                                                                                                                                                                                                                                                                                                   case_folding  \\\n",
       "0                                                                   aku pengguna lama by.u, tapi kok lama kelamaan aku ngerasa by.u itu jaringannya agak kurang stabil ya? kalo buat sosmed an enak\" aja sih, enggak begitu kerasa jaringan kurang stabilnya,kalo dipake untuk nge-game baru agak berasa,kadang ngeganggu banget,waktu pertama kali pake by.u itu jaringannya bener\" poll loh. jarang sekali yg namanya penurunan jaringan,tapi ya gitu,mohon maaf,sekarang jaringan by.u agak kurang menurutku   \n",
       "1     untuk jaringan by.u nya sih bagus cuman kalau untuk diaplikasi nya sudah mulai kendor untuk transaksinya, dulunya bisa melakukan transfer melalui akun virtual bank dan sekarang hanya bisa melalui ewallet doang itu kalau boleh kembalikan seperti dulu, dan tambahin untuk metode pembayarannya melalui qris. kedua, untuk android versi +12 susah menggunakan aplikasi by.u, seperti saya baru unduh aplikasi by.u di android 12, tidak dapat. terdapat tulisan \"perangkat keras aman tidak tersedia\"   \n",
       "2  makin kesini byu makin ga bagus,aplikasi sering ga bisa di buka,komplain respon lambat, proses lama kadang nunggu lama,giliran keluar aplikasi ada balesan,masuk aplikasi hilang lagi cs nya kayak sengaja gitu, tidak ada penyelesaian, di notif kendala sudah selesai tapi masalah nya masih terjadi, cs nya pun kadang ganti ganti di satu chat, parah, chat cs di aplikasi sinyal bagus paket ada mode data atau pake wifi juga susah, parah, jwbn anak sd dari cs&develover cmn nunjukin ketololan nya.   \n",
       "3                                                   aplikasinya sebenarnya bagus, banyak pilihan kuota yang menarik juga. tapi minusnya jaringannya, kadang suka hilang atau lambat banget, padahal gaada gangguan sama sekali, sudah coba ganti jenis jaringan pun tetap aja jaringannya lambat. mohon kedepannya ini lebih diperhatikan lagi karena jujur perkara jaringan ini sangat menggangu, apalagi kalau perlu ngerjain sesuatu yang penting tapi jaringannya malah lambat. mungkin itu aja, makasih ya   \n",
       "4                                                                                                     pake by u lumayan lama tapi sampe sekarang belum ada peningkatan jaringan aja, kalau di kota yahh bagus soalnya dapet 5g nya, tapi kalau di lingkungan rumah? maen game ping nya 108ms mulu sering ping merahh, gak pernah tuh maen game ampe ping hijau dari dulu gini mulu cuman cocok buat maen youtube doank itupun otomatis resolusi nya jadi 360p an, kek nya emang harus maen sekitaran kota doank   \n",
       "\n",
       "                                                                                                                                                                                                                                                                                                                                                                                                                                                                                                     normalized  \n",
       "0                                                                       aku pengguna lama byu, tapi kok lama kelamaan aku ngerasa byu itu jaringannya agak kurang stabil ya? kalo buat sosmed an enak\" aja sih, enggak begitu kerasa jaringan kurang stabilnya,kalo dipake untuk nge-game baru agak berasa,kadang ngeganggu banget,waktu pertama kali pake byu itu jaringannya bener\" poll loh. jarang sekali yg namanya penurunan jaringan,tapi ya gitu,mohon maaf,sekarang jaringan byu agak kurang menurutku  \n",
       "1        untuk jaringan byu nya sih bagus cuman kalau untuk diaplikasi nya sudah mulai kendor untuk transaksinya, dulunya bisa melakukan transfer melalui akun virtual bank dan sekarang hanya bisa melalui ewallet doang itu kalau boleh kembalikan seperti dulu, dan tambahin untuk metode pembayarannya melalui qris. kedua, untuk android versi +12 susah menggunakan aplikasi byu, seperti saya baru unduh aplikasi byu di android 12, tidak dapat. terdapat tulisan \"perangkat keras aman tidak tersedia\"  \n",
       "2  makin kesini byu makin ga bagus,aplikasi sering ga bisa di buka,komplain respon lambat, proses lama kadang nunggu lama,giliran keluar aplikasi ada balesan,masuk aplikasi hilang lagi cs nya kayak sengaja gitu, tidak ada penyelesaian, di notif kendala sudah selesai tapi masalah nya masih terjadi, cs nya pun kadang ganti ganti di satu chat, parah, chat cs di aplikasi sinyal bagus paket ada mode data atau pake wifi juga susah, parah, jwbn anak sd dari cs&develover cmn nunjukin ketololan nya.  \n",
       "3                                                   aplikasinya sebenarnya bagus, banyak pilihan kuota yang menarik juga. tapi minusnya jaringannya, kadang suka hilang atau lambat banget, padahal gaada gangguan sama sekali, sudah coba ganti jenis jaringan pun tetap aja jaringannya lambat. mohon kedepannya ini lebih diperhatikan lagi karena jujur perkara jaringan ini sangat menggangu, apalagi kalau perlu ngerjain sesuatu yang penting tapi jaringannya malah lambat. mungkin itu aja, makasih ya  \n",
       "4                                                                                                      pake byu lumayan lama tapi sampe sekarang belum ada peningkatan jaringan aja, kalau di kota yahh bagus soalnya dapet 5g nya, tapi kalau di lingkungan rumah? maen game ping nya 108ms mulu sering ping merahh, gak pernah tuh maen game ampe ping hijau dari dulu gini mulu cuman cocok buat maen youtube doank itupun otomatis resolusi nya jadi 360p an, kek nya emang harus maen sekitaran kota doank  "
      ]
     },
     "execution_count": 105,
     "metadata": {},
     "output_type": "execute_result"
    }
   ],
   "source": [
    "import re\n",
    "def normalize_app_name(text):\n",
    "    if pd.isnull(text):\n",
    "        return \"\"\n",
    "    text = text.lower()\n",
    "    text = re.sub(r'\\bby\\.?u\\b', 'byu', text) \n",
    "    text = re.sub(r'\\bby u\\b', 'byu', text)\n",
    "    return text\n",
    "\n",
    "df['normalized'] = df['case_folding'].apply(normalize_app_name)\n",
    "# Tampilkan hasil case folding\n",
    "df[['case_folding', 'normalized']].head()"
   ]
  },
  {
   "cell_type": "markdown",
   "id": "af3119c8",
   "metadata": {},
   "source": [
    "<h3>FILTERING DATA SETELAH NORMALISASI</h3> "
   ]
  },
  {
   "cell_type": "code",
   "execution_count": 106,
   "id": "9ec37aad",
   "metadata": {},
   "outputs": [
    {
     "data": {
      "text/html": [
       "<div>\n",
       "<style scoped>\n",
       "    .dataframe tbody tr th:only-of-type {\n",
       "        vertical-align: middle;\n",
       "    }\n",
       "\n",
       "    .dataframe tbody tr th {\n",
       "        vertical-align: top;\n",
       "    }\n",
       "\n",
       "    .dataframe thead th {\n",
       "        text-align: right;\n",
       "    }\n",
       "</style>\n",
       "<table border=\"1\" class=\"dataframe\">\n",
       "  <thead>\n",
       "    <tr style=\"text-align: right;\">\n",
       "      <th></th>\n",
       "      <th>normalized</th>\n",
       "      <th>filtered_text</th>\n",
       "    </tr>\n",
       "  </thead>\n",
       "  <tbody>\n",
       "    <tr>\n",
       "      <th>0</th>\n",
       "      <td>aku pengguna lama byu, tapi kok lama kelamaan aku ngerasa byu itu jaringannya agak kurang stabil ya? kalo buat sosmed an enak\" aja sih, enggak begitu kerasa jaringan kurang stabilnya,kalo dipake untuk nge-game baru agak berasa,kadang ngeganggu banget,waktu pertama kali pake byu itu jaringannya bener\" poll loh. jarang sekali yg namanya penurunan jaringan,tapi ya gitu,mohon maaf,sekarang jaringan byu agak kurang menurutku</td>\n",
       "      <td>aku pengguna lama byu tapi kok lama kelamaan aku ngerasa byu itu jaringannya agak kurang stabil ya kalo buat sosmed an enak aja sih enggak begitu kerasa jaringan kurang stabilnya kalo dipake untuk ngegame baru agak berasa kadang ngeganggu banget waktu pertama kali pake byu itu jaringannya bener poll loh jarang sekali yg namanya penurunan jaringan tapi ya gitu mohon maaf sekarang jaringan byu agak kurang menurutku</td>\n",
       "    </tr>\n",
       "    <tr>\n",
       "      <th>1</th>\n",
       "      <td>untuk jaringan byu nya sih bagus cuman kalau untuk diaplikasi nya sudah mulai kendor untuk transaksinya, dulunya bisa melakukan transfer melalui akun virtual bank dan sekarang hanya bisa melalui ewallet doang itu kalau boleh kembalikan seperti dulu, dan tambahin untuk metode pembayarannya melalui qris. kedua, untuk android versi +12 susah menggunakan aplikasi byu, seperti saya baru unduh aplikasi byu di android 12, tidak dapat. terdapat tulisan \"perangkat keras aman tidak tersedia\"</td>\n",
       "      <td>untuk jaringan byu nya sih bagus cuman kalau untuk diaplikasi nya sudah mulai kendor untuk transaksinya dulunya bisa melakukan transfer melalui akun virtual bank dan sekarang hanya bisa melalui ewallet doang itu kalau boleh kembalikan seperti dulu dan tambahin untuk metode pembayarannya melalui qris kedua untuk android versi susah menggunakan aplikasi byu seperti saya baru unduh aplikasi byu di android tidak dapat terdapat tulisan perangkat keras aman tidak tersedia</td>\n",
       "    </tr>\n",
       "    <tr>\n",
       "      <th>2</th>\n",
       "      <td>makin kesini byu makin ga bagus,aplikasi sering ga bisa di buka,komplain respon lambat, proses lama kadang nunggu lama,giliran keluar aplikasi ada balesan,masuk aplikasi hilang lagi cs nya kayak sengaja gitu, tidak ada penyelesaian, di notif kendala sudah selesai tapi masalah nya masih terjadi, cs nya pun kadang ganti ganti di satu chat, parah, chat cs di aplikasi sinyal bagus paket ada mode data atau pake wifi juga susah, parah, jwbn anak sd dari cs&amp;develover cmn nunjukin ketololan nya.</td>\n",
       "      <td>makin kesini byu makin ga bagus aplikasi sering ga bisa di buka komplain respon lambat proses lama kadang nunggu lama giliran keluar aplikasi ada balesan masuk aplikasi hilang lagi cs nya kayak sengaja gitu tidak ada penyelesaian di notif kendala sudah selesai tapi masalah nya masih terjadi cs nya pun kadang ganti ganti di satu chat parah chat cs di aplikasi sinyal bagus paket ada mode data atau pake wifi juga susah parah jwbn anak sd dari csdevelover cmn nunjukin ketololan nya</td>\n",
       "    </tr>\n",
       "    <tr>\n",
       "      <th>3</th>\n",
       "      <td>aplikasinya sebenarnya bagus, banyak pilihan kuota yang menarik juga. tapi minusnya jaringannya, kadang suka hilang atau lambat banget, padahal gaada gangguan sama sekali, sudah coba ganti jenis jaringan pun tetap aja jaringannya lambat. mohon kedepannya ini lebih diperhatikan lagi karena jujur perkara jaringan ini sangat menggangu, apalagi kalau perlu ngerjain sesuatu yang penting tapi jaringannya malah lambat. mungkin itu aja, makasih ya</td>\n",
       "      <td>aplikasinya sebenarnya bagus banyak pilihan kuota yang menarik juga tapi minusnya jaringannya kadang suka hilang atau lambat banget padahal gaada gangguan sama sekali sudah coba ganti jenis jaringan pun tetap aja jaringannya lambat mohon kedepannya ini lebih diperhatikan lagi karena jujur perkara jaringan ini sangat menggangu apalagi kalau perlu ngerjain sesuatu yang penting tapi jaringannya malah lambat mungkin itu aja makasih ya</td>\n",
       "    </tr>\n",
       "    <tr>\n",
       "      <th>4</th>\n",
       "      <td>pake byu lumayan lama tapi sampe sekarang belum ada peningkatan jaringan aja, kalau di kota yahh bagus soalnya dapet 5g nya, tapi kalau di lingkungan rumah? maen game ping nya 108ms mulu sering ping merahh, gak pernah tuh maen game ampe ping hijau dari dulu gini mulu cuman cocok buat maen youtube doank itupun otomatis resolusi nya jadi 360p an, kek nya emang harus maen sekitaran kota doank</td>\n",
       "      <td>pake byu lumayan lama tapi sampe sekarang belum ada peningkatan jaringan aja kalau di kota yahh bagus soalnya dapet g nya tapi kalau di lingkungan rumah maen game ping nya ms mulu sering ping merahh gak pernah tuh maen game ampe ping hijau dari dulu gini mulu cuman cocok buat maen youtube doank itupun otomatis resolusi nya jadi p an kek nya emang harus maen sekitaran kota doank</td>\n",
       "    </tr>\n",
       "  </tbody>\n",
       "</table>\n",
       "</div>"
      ],
      "text/plain": [
       "                                                                                                                                                                                                                                                                                                                                                                                                                                                                                                     normalized  \\\n",
       "0                                                                       aku pengguna lama byu, tapi kok lama kelamaan aku ngerasa byu itu jaringannya agak kurang stabil ya? kalo buat sosmed an enak\" aja sih, enggak begitu kerasa jaringan kurang stabilnya,kalo dipake untuk nge-game baru agak berasa,kadang ngeganggu banget,waktu pertama kali pake byu itu jaringannya bener\" poll loh. jarang sekali yg namanya penurunan jaringan,tapi ya gitu,mohon maaf,sekarang jaringan byu agak kurang menurutku   \n",
       "1        untuk jaringan byu nya sih bagus cuman kalau untuk diaplikasi nya sudah mulai kendor untuk transaksinya, dulunya bisa melakukan transfer melalui akun virtual bank dan sekarang hanya bisa melalui ewallet doang itu kalau boleh kembalikan seperti dulu, dan tambahin untuk metode pembayarannya melalui qris. kedua, untuk android versi +12 susah menggunakan aplikasi byu, seperti saya baru unduh aplikasi byu di android 12, tidak dapat. terdapat tulisan \"perangkat keras aman tidak tersedia\"   \n",
       "2  makin kesini byu makin ga bagus,aplikasi sering ga bisa di buka,komplain respon lambat, proses lama kadang nunggu lama,giliran keluar aplikasi ada balesan,masuk aplikasi hilang lagi cs nya kayak sengaja gitu, tidak ada penyelesaian, di notif kendala sudah selesai tapi masalah nya masih terjadi, cs nya pun kadang ganti ganti di satu chat, parah, chat cs di aplikasi sinyal bagus paket ada mode data atau pake wifi juga susah, parah, jwbn anak sd dari cs&develover cmn nunjukin ketololan nya.   \n",
       "3                                                   aplikasinya sebenarnya bagus, banyak pilihan kuota yang menarik juga. tapi minusnya jaringannya, kadang suka hilang atau lambat banget, padahal gaada gangguan sama sekali, sudah coba ganti jenis jaringan pun tetap aja jaringannya lambat. mohon kedepannya ini lebih diperhatikan lagi karena jujur perkara jaringan ini sangat menggangu, apalagi kalau perlu ngerjain sesuatu yang penting tapi jaringannya malah lambat. mungkin itu aja, makasih ya   \n",
       "4                                                                                                      pake byu lumayan lama tapi sampe sekarang belum ada peningkatan jaringan aja, kalau di kota yahh bagus soalnya dapet 5g nya, tapi kalau di lingkungan rumah? maen game ping nya 108ms mulu sering ping merahh, gak pernah tuh maen game ampe ping hijau dari dulu gini mulu cuman cocok buat maen youtube doank itupun otomatis resolusi nya jadi 360p an, kek nya emang harus maen sekitaran kota doank   \n",
       "\n",
       "                                                                                                                                                                                                                                                                                                                                                                                                                                                                                        filtered_text  \n",
       "0                                                                    aku pengguna lama byu tapi kok lama kelamaan aku ngerasa byu itu jaringannya agak kurang stabil ya kalo buat sosmed an enak aja sih enggak begitu kerasa jaringan kurang stabilnya kalo dipake untuk ngegame baru agak berasa kadang ngeganggu banget waktu pertama kali pake byu itu jaringannya bener poll loh jarang sekali yg namanya penurunan jaringan tapi ya gitu mohon maaf sekarang jaringan byu agak kurang menurutku  \n",
       "1              untuk jaringan byu nya sih bagus cuman kalau untuk diaplikasi nya sudah mulai kendor untuk transaksinya dulunya bisa melakukan transfer melalui akun virtual bank dan sekarang hanya bisa melalui ewallet doang itu kalau boleh kembalikan seperti dulu dan tambahin untuk metode pembayarannya melalui qris kedua untuk android versi susah menggunakan aplikasi byu seperti saya baru unduh aplikasi byu di android tidak dapat terdapat tulisan perangkat keras aman tidak tersedia  \n",
       "2  makin kesini byu makin ga bagus aplikasi sering ga bisa di buka komplain respon lambat proses lama kadang nunggu lama giliran keluar aplikasi ada balesan masuk aplikasi hilang lagi cs nya kayak sengaja gitu tidak ada penyelesaian di notif kendala sudah selesai tapi masalah nya masih terjadi cs nya pun kadang ganti ganti di satu chat parah chat cs di aplikasi sinyal bagus paket ada mode data atau pake wifi juga susah parah jwbn anak sd dari csdevelover cmn nunjukin ketololan nya  \n",
       "3                                                  aplikasinya sebenarnya bagus banyak pilihan kuota yang menarik juga tapi minusnya jaringannya kadang suka hilang atau lambat banget padahal gaada gangguan sama sekali sudah coba ganti jenis jaringan pun tetap aja jaringannya lambat mohon kedepannya ini lebih diperhatikan lagi karena jujur perkara jaringan ini sangat menggangu apalagi kalau perlu ngerjain sesuatu yang penting tapi jaringannya malah lambat mungkin itu aja makasih ya  \n",
       "4                                                                                                        pake byu lumayan lama tapi sampe sekarang belum ada peningkatan jaringan aja kalau di kota yahh bagus soalnya dapet g nya tapi kalau di lingkungan rumah maen game ping nya ms mulu sering ping merahh gak pernah tuh maen game ampe ping hijau dari dulu gini mulu cuman cocok buat maen youtube doank itupun otomatis resolusi nya jadi p an kek nya emang harus maen sekitaran kota doank  "
      ]
     },
     "execution_count": 106,
     "metadata": {},
     "output_type": "execute_result"
    }
   ],
   "source": [
    "def filtering_combined(text):\n",
    "    if pd.isnull(text):\n",
    "        return \"\"\n",
    "\n",
    "    # Sisipkan spasi agar tanda baca tidak menempel ke kata (dari Filtering 2)\n",
    "    text = re.sub(r\"([.,;:!?()\\[\\]{}\\\"'/])(\\w)\", r\"\\1 \\2\", text)\n",
    "    text = re.sub(r\"(\\w)([.,;:!?()\\[\\]{}\\\"'/])\", r\"\\1 \\2\", text)\n",
    "\n",
    "    # Tambahkan spasi setelah koma jika tidak ada\n",
    "    text = re.sub(r\",(?=\\S)\", \", \", text)\n",
    "\n",
    "    # Hapus URL\n",
    "    text = re.sub(r\"http\\S+|www\\S+\", \"\", text)\n",
    "\n",
    "    # Hapus angka\n",
    "    text = re.sub(r\"\\d+\", \"\", text)\n",
    "\n",
    "    # Hapus simbol dan karakter non-alfabet (kecuali spasi)\n",
    "    text = re.sub(r\"[^a-zA-Z\\s]\", \"\", text)\n",
    "\n",
    "    # Rapikan spasi\n",
    "    text = re.sub(r\"\\s+\", \" \", text).strip()\n",
    "\n",
    "    return text\n",
    "\n",
    "# Terapkan ke data\n",
    "df['filtered_text'] = df['normalized'].apply(filtering_combined)\n",
    "\n",
    "# (Opsional) tampilkan\n",
    "df[['normalized', 'filtered_text']].head()\n"
   ]
  },
  {
   "cell_type": "markdown",
   "id": "2dc5cf1c",
   "metadata": {},
   "source": [
    "<h3>STOPWORD UNTUK MENGHAPUS KATA YANG TIDAK DIPERLUKAN</h3>"
   ]
  },
  {
   "cell_type": "code",
   "execution_count": 107,
   "id": "bc138d0b",
   "metadata": {},
   "outputs": [
    {
     "name": "stdout",
     "output_type": "stream",
     "text": [
      "Requirement already satisfied: nltk in c:\\users\\andi ragil\\.conda\\envs\\topikenv\\lib\\site-packages (3.9.1)\n",
      "Requirement already satisfied: click in c:\\users\\andi ragil\\.conda\\envs\\topikenv\\lib\\site-packages (from nltk) (8.2.1)\n",
      "Requirement already satisfied: joblib in c:\\users\\andi ragil\\.conda\\envs\\topikenv\\lib\\site-packages (from nltk) (1.5.1)\n",
      "Requirement already satisfied: regex>=2021.8.3 in c:\\users\\andi ragil\\.conda\\envs\\topikenv\\lib\\site-packages (from nltk) (2024.11.6)\n",
      "Requirement already satisfied: tqdm in c:\\users\\andi ragil\\.conda\\envs\\topikenv\\lib\\site-packages (from nltk) (4.67.1)\n",
      "Requirement already satisfied: colorama in c:\\users\\andi ragil\\.conda\\envs\\topikenv\\lib\\site-packages (from click->nltk) (0.4.6)\n",
      "Note: you may need to restart the kernel to use updated packages.\n"
     ]
    }
   ],
   "source": [
    "%pip install nltk"
   ]
  },
  {
   "cell_type": "code",
   "execution_count": 108,
   "id": "4285d227",
   "metadata": {},
   "outputs": [
    {
     "name": "stderr",
     "output_type": "stream",
     "text": [
      "[nltk_data] Downloading package stopwords to C:\\Users\\andi\n",
      "[nltk_data]     ragil\\AppData\\Roaming\\nltk_data...\n",
      "[nltk_data]   Package stopwords is already up-to-date!\n"
     ]
    },
    {
     "data": {
      "text/html": [
       "<div>\n",
       "<style scoped>\n",
       "    .dataframe tbody tr th:only-of-type {\n",
       "        vertical-align: middle;\n",
       "    }\n",
       "\n",
       "    .dataframe tbody tr th {\n",
       "        vertical-align: top;\n",
       "    }\n",
       "\n",
       "    .dataframe thead th {\n",
       "        text-align: right;\n",
       "    }\n",
       "</style>\n",
       "<table border=\"1\" class=\"dataframe\">\n",
       "  <thead>\n",
       "    <tr style=\"text-align: right;\">\n",
       "      <th></th>\n",
       "      <th>filtered_text</th>\n",
       "      <th>final_text</th>\n",
       "    </tr>\n",
       "  </thead>\n",
       "  <tbody>\n",
       "    <tr>\n",
       "      <th>0</th>\n",
       "      <td>aku pengguna lama byu tapi kok lama kelamaan aku ngerasa byu itu jaringannya agak kurang stabil ya kalo buat sosmed an enak aja sih enggak begitu kerasa jaringan kurang stabilnya kalo dipake untuk ngegame baru agak berasa kadang ngeganggu banget waktu pertama kali pake byu itu jaringannya bener poll loh jarang sekali yg namanya penurunan jaringan tapi ya gitu mohon maaf sekarang jaringan byu agak kurang menurutku</td>\n",
       "      <td>aku pengguna lama byu lama kelamaan aku ngerasa byu jaringannya kurang stabil kalo buat sosmed enak enggak kerasa jaringan kurang stabilnya kalo dipake ngegame baru berasa kadang ngeganggu waktu pertama kali pake byu jaringannya poll loh jarang sekali namanya penurunan jaringan mohon maaf sekarang jaringan byu kurang menurutku</td>\n",
       "    </tr>\n",
       "    <tr>\n",
       "      <th>1</th>\n",
       "      <td>untuk jaringan byu nya sih bagus cuman kalau untuk diaplikasi nya sudah mulai kendor untuk transaksinya dulunya bisa melakukan transfer melalui akun virtual bank dan sekarang hanya bisa melalui ewallet doang itu kalau boleh kembalikan seperti dulu dan tambahin untuk metode pembayarannya melalui qris kedua untuk android versi susah menggunakan aplikasi byu seperti saya baru unduh aplikasi byu di android tidak dapat terdapat tulisan perangkat keras aman tidak tersedia</td>\n",
       "      <td>jaringan byu bagus cuman kalau diaplikasi mulai kendor transaksinya melakukan transfer melalui akun virtual bank sekarang melalui ewallet kalau kembalikan dulu tambahin metode pembayarannya melalui qris kedua android versi susah menggunakan aplikasi byu baru unduh aplikasi byu android terdapat tulisan perangkat keras aman tersedia</td>\n",
       "    </tr>\n",
       "    <tr>\n",
       "      <th>2</th>\n",
       "      <td>makin kesini byu makin ga bagus aplikasi sering ga bisa di buka komplain respon lambat proses lama kadang nunggu lama giliran keluar aplikasi ada balesan masuk aplikasi hilang lagi cs nya kayak sengaja gitu tidak ada penyelesaian di notif kendala sudah selesai tapi masalah nya masih terjadi cs nya pun kadang ganti ganti di satu chat parah chat cs di aplikasi sinyal bagus paket ada mode data atau pake wifi juga susah parah jwbn anak sd dari csdevelover cmn nunjukin ketololan nya</td>\n",
       "      <td>makin kesini byu makin bagus aplikasi sering buka komplain respon lambat proses lama kadang nunggu lama giliran keluar aplikasi balesan masuk aplikasi hilang cs sengaja penyelesaian notif kendala selesai masalah terjadi cs kadang ganti ganti satu chat parah chat cs aplikasi sinyal bagus paket mode data pake wifi susah parah jwbn anak sd csdevelover cmn nunjukin ketololan</td>\n",
       "    </tr>\n",
       "    <tr>\n",
       "      <th>3</th>\n",
       "      <td>aplikasinya sebenarnya bagus banyak pilihan kuota yang menarik juga tapi minusnya jaringannya kadang suka hilang atau lambat banget padahal gaada gangguan sama sekali sudah coba ganti jenis jaringan pun tetap aja jaringannya lambat mohon kedepannya ini lebih diperhatikan lagi karena jujur perkara jaringan ini sangat menggangu apalagi kalau perlu ngerjain sesuatu yang penting tapi jaringannya malah lambat mungkin itu aja makasih ya</td>\n",
       "      <td>aplikasinya sebenarnya bagus banyak pilihan kuota menarik minusnya jaringannya kadang suka hilang lambat padahal gaada gangguan sama sekali coba ganti jenis jaringan tetap jaringannya lambat mohon kedepannya lebih diperhatikan jujur perkara jaringan sangat menggangu kalau perlu ngerjain penting jaringannya malah lambat mungkin makasih</td>\n",
       "    </tr>\n",
       "    <tr>\n",
       "      <th>4</th>\n",
       "      <td>pake byu lumayan lama tapi sampe sekarang belum ada peningkatan jaringan aja kalau di kota yahh bagus soalnya dapet g nya tapi kalau di lingkungan rumah maen game ping nya ms mulu sering ping merahh gak pernah tuh maen game ampe ping hijau dari dulu gini mulu cuman cocok buat maen youtube doank itupun otomatis resolusi nya jadi p an kek nya emang harus maen sekitaran kota doank</td>\n",
       "      <td>pake byu lumayan lama sampe sekarang peningkatan jaringan kalau kota yahh bagus soalnya dapet g kalau lingkungan rumah maen game ping ms mulu sering ping merahh pernah tuh maen game ampe ping hijau dulu gini mulu cuman cocok buat maen youtube doank itupun otomatis resolusi jadi p emang maen sekitaran kota doank</td>\n",
       "    </tr>\n",
       "  </tbody>\n",
       "</table>\n",
       "</div>"
      ],
      "text/plain": [
       "                                                                                                                                                                                                                                                                                                                                                                                                                                                                                        filtered_text  \\\n",
       "0                                                                    aku pengguna lama byu tapi kok lama kelamaan aku ngerasa byu itu jaringannya agak kurang stabil ya kalo buat sosmed an enak aja sih enggak begitu kerasa jaringan kurang stabilnya kalo dipake untuk ngegame baru agak berasa kadang ngeganggu banget waktu pertama kali pake byu itu jaringannya bener poll loh jarang sekali yg namanya penurunan jaringan tapi ya gitu mohon maaf sekarang jaringan byu agak kurang menurutku   \n",
       "1              untuk jaringan byu nya sih bagus cuman kalau untuk diaplikasi nya sudah mulai kendor untuk transaksinya dulunya bisa melakukan transfer melalui akun virtual bank dan sekarang hanya bisa melalui ewallet doang itu kalau boleh kembalikan seperti dulu dan tambahin untuk metode pembayarannya melalui qris kedua untuk android versi susah menggunakan aplikasi byu seperti saya baru unduh aplikasi byu di android tidak dapat terdapat tulisan perangkat keras aman tidak tersedia   \n",
       "2  makin kesini byu makin ga bagus aplikasi sering ga bisa di buka komplain respon lambat proses lama kadang nunggu lama giliran keluar aplikasi ada balesan masuk aplikasi hilang lagi cs nya kayak sengaja gitu tidak ada penyelesaian di notif kendala sudah selesai tapi masalah nya masih terjadi cs nya pun kadang ganti ganti di satu chat parah chat cs di aplikasi sinyal bagus paket ada mode data atau pake wifi juga susah parah jwbn anak sd dari csdevelover cmn nunjukin ketololan nya   \n",
       "3                                                  aplikasinya sebenarnya bagus banyak pilihan kuota yang menarik juga tapi minusnya jaringannya kadang suka hilang atau lambat banget padahal gaada gangguan sama sekali sudah coba ganti jenis jaringan pun tetap aja jaringannya lambat mohon kedepannya ini lebih diperhatikan lagi karena jujur perkara jaringan ini sangat menggangu apalagi kalau perlu ngerjain sesuatu yang penting tapi jaringannya malah lambat mungkin itu aja makasih ya   \n",
       "4                                                                                                        pake byu lumayan lama tapi sampe sekarang belum ada peningkatan jaringan aja kalau di kota yahh bagus soalnya dapet g nya tapi kalau di lingkungan rumah maen game ping nya ms mulu sering ping merahh gak pernah tuh maen game ampe ping hijau dari dulu gini mulu cuman cocok buat maen youtube doank itupun otomatis resolusi nya jadi p an kek nya emang harus maen sekitaran kota doank   \n",
       "\n",
       "                                                                                                                                                                                                                                                                                                                                                                              final_text  \n",
       "0                                               aku pengguna lama byu lama kelamaan aku ngerasa byu jaringannya kurang stabil kalo buat sosmed enak enggak kerasa jaringan kurang stabilnya kalo dipake ngegame baru berasa kadang ngeganggu waktu pertama kali pake byu jaringannya poll loh jarang sekali namanya penurunan jaringan mohon maaf sekarang jaringan byu kurang menurutku  \n",
       "1                                           jaringan byu bagus cuman kalau diaplikasi mulai kendor transaksinya melakukan transfer melalui akun virtual bank sekarang melalui ewallet kalau kembalikan dulu tambahin metode pembayarannya melalui qris kedua android versi susah menggunakan aplikasi byu baru unduh aplikasi byu android terdapat tulisan perangkat keras aman tersedia  \n",
       "2  makin kesini byu makin bagus aplikasi sering buka komplain respon lambat proses lama kadang nunggu lama giliran keluar aplikasi balesan masuk aplikasi hilang cs sengaja penyelesaian notif kendala selesai masalah terjadi cs kadang ganti ganti satu chat parah chat cs aplikasi sinyal bagus paket mode data pake wifi susah parah jwbn anak sd csdevelover cmn nunjukin ketololan  \n",
       "3                                       aplikasinya sebenarnya bagus banyak pilihan kuota menarik minusnya jaringannya kadang suka hilang lambat padahal gaada gangguan sama sekali coba ganti jenis jaringan tetap jaringannya lambat mohon kedepannya lebih diperhatikan jujur perkara jaringan sangat menggangu kalau perlu ngerjain penting jaringannya malah lambat mungkin makasih  \n",
       "4                                                               pake byu lumayan lama sampe sekarang peningkatan jaringan kalau kota yahh bagus soalnya dapet g kalau lingkungan rumah maen game ping ms mulu sering ping merahh pernah tuh maen game ampe ping hijau dulu gini mulu cuman cocok buat maen youtube doank itupun otomatis resolusi jadi p emang maen sekitaran kota doank  "
      ]
     },
     "execution_count": 108,
     "metadata": {},
     "output_type": "execute_result"
    }
   ],
   "source": [
    "import nltk\n",
    "from nltk.corpus import stopwords\n",
    "from Sastrawi.StopWordRemover.StopWordRemoverFactory import StopWordRemoverFactory\n",
    "\n",
    "# Unduh stopword dari NLTK jika belum\n",
    "nltk.download('stopwords')\n",
    "\n",
    "# Stopword dari Sastrawi\n",
    "stop_factory = StopWordRemoverFactory()\n",
    "stopword_sastrawi = set(stop_factory.get_stop_words())\n",
    "\n",
    "# Stopword dari NLTK Bahasa Inggris\n",
    "stopwords_nltk = set(stopwords.words('english'))\n",
    "\n",
    "\n",
    "more_stopword = {\n",
    "    'gw','gue','gua','lu','lo','elo','elu','ya','ye','lah','mah','nih',\n",
    "    'kok','dong','bgt','banget','kyk','kek','aja','udah','yg',\n",
    "    'gak','gk','ga','nggk','gausah','kayak','cuma','apk',\n",
    "    'doang','sih','lagi','lg','jd','jdi','trs','trus','sy','tetep',\n",
    "    'klo','gitu','terus','makanya','begitu','jg','skrng','pdhl',\n",
    "    'tpi','ny','udh','knp','gt','deh','lho','lhoh','nya','donk','bener','koq','sich'\n",
    "}\n",
    "\n",
    "# Gabungkan semua stopword\n",
    "stopword_combined = stopword_sastrawi.union(stopwords_nltk).union(more_stopword)\n",
    "\n",
    "# Fungsi untuk hapus stopword\n",
    "def remove_stopwords(text):\n",
    "    if isinstance(text, str):\n",
    "        words = text.lower().split() \n",
    "        filtered_words = [w for w in words if w not in stopword_combined]\n",
    "        return \" \".join(filtered_words)\n",
    "    else:\n",
    "        return \"\"\n",
    "\n",
    "# Terapkan ke hasil filtering sebelumnya\n",
    "df['final_text'] = df['filtered_text'].apply(remove_stopwords)\n",
    "\n",
    "# Cek hasil\n",
    "df[['filtered_text', 'final_text']].head()"
   ]
  },
  {
   "cell_type": "markdown",
   "id": "b4d806e5",
   "metadata": {},
   "source": [
    "<h3>DROP COLUMN YANG TIDAK DIPERLUKAN</h3>"
   ]
  },
  {
   "cell_type": "code",
   "execution_count": 109,
   "id": "532e6d81",
   "metadata": {},
   "outputs": [],
   "source": [
    "# df = df[df['final_text'].apply(lambda x: len(x.split()) >= 10)]\n",
    "# print(df.shape)"
   ]
  },
  {
   "cell_type": "code",
   "execution_count": 110,
   "id": "40464c08",
   "metadata": {},
   "outputs": [
    {
     "data": {
      "text/html": [
       "<div>\n",
       "<style scoped>\n",
       "    .dataframe tbody tr th:only-of-type {\n",
       "        vertical-align: middle;\n",
       "    }\n",
       "\n",
       "    .dataframe tbody tr th {\n",
       "        vertical-align: top;\n",
       "    }\n",
       "\n",
       "    .dataframe thead th {\n",
       "        text-align: right;\n",
       "    }\n",
       "</style>\n",
       "<table border=\"1\" class=\"dataframe\">\n",
       "  <thead>\n",
       "    <tr style=\"text-align: right;\">\n",
       "      <th></th>\n",
       "      <th>userName</th>\n",
       "      <th>score</th>\n",
       "      <th>final_text</th>\n",
       "    </tr>\n",
       "  </thead>\n",
       "  <tbody>\n",
       "    <tr>\n",
       "      <th>0</th>\n",
       "      <td>Pengguna Google</td>\n",
       "      <td>4</td>\n",
       "      <td>aku pengguna lama byu lama kelamaan aku ngerasa byu jaringannya kurang stabil kalo buat sosmed enak enggak kerasa jaringan kurang stabilnya kalo dipake ngegame baru berasa kadang ngeganggu waktu pertama kali pake byu jaringannya poll loh jarang sekali namanya penurunan jaringan mohon maaf sekarang jaringan byu kurang menurutku</td>\n",
       "    </tr>\n",
       "    <tr>\n",
       "      <th>1</th>\n",
       "      <td>Pengguna Google</td>\n",
       "      <td>3</td>\n",
       "      <td>jaringan byu bagus cuman kalau diaplikasi mulai kendor transaksinya melakukan transfer melalui akun virtual bank sekarang melalui ewallet kalau kembalikan dulu tambahin metode pembayarannya melalui qris kedua android versi susah menggunakan aplikasi byu baru unduh aplikasi byu android terdapat tulisan perangkat keras aman tersedia</td>\n",
       "    </tr>\n",
       "    <tr>\n",
       "      <th>2</th>\n",
       "      <td>Pengguna Google</td>\n",
       "      <td>1</td>\n",
       "      <td>makin kesini byu makin bagus aplikasi sering buka komplain respon lambat proses lama kadang nunggu lama giliran keluar aplikasi balesan masuk aplikasi hilang cs sengaja penyelesaian notif kendala selesai masalah terjadi cs kadang ganti ganti satu chat parah chat cs aplikasi sinyal bagus paket mode data pake wifi susah parah jwbn anak sd csdevelover cmn nunjukin ketololan</td>\n",
       "    </tr>\n",
       "    <tr>\n",
       "      <th>3</th>\n",
       "      <td>Pengguna Google</td>\n",
       "      <td>3</td>\n",
       "      <td>aplikasinya sebenarnya bagus banyak pilihan kuota menarik minusnya jaringannya kadang suka hilang lambat padahal gaada gangguan sama sekali coba ganti jenis jaringan tetap jaringannya lambat mohon kedepannya lebih diperhatikan jujur perkara jaringan sangat menggangu kalau perlu ngerjain penting jaringannya malah lambat mungkin makasih</td>\n",
       "    </tr>\n",
       "    <tr>\n",
       "      <th>4</th>\n",
       "      <td>Pengguna Google</td>\n",
       "      <td>3</td>\n",
       "      <td>pake byu lumayan lama sampe sekarang peningkatan jaringan kalau kota yahh bagus soalnya dapet g kalau lingkungan rumah maen game ping ms mulu sering ping merahh pernah tuh maen game ampe ping hijau dulu gini mulu cuman cocok buat maen youtube doank itupun otomatis resolusi jadi p emang maen sekitaran kota doank</td>\n",
       "    </tr>\n",
       "  </tbody>\n",
       "</table>\n",
       "</div>"
      ],
      "text/plain": [
       "          userName  score  \\\n",
       "0  Pengguna Google      4   \n",
       "1  Pengguna Google      3   \n",
       "2  Pengguna Google      1   \n",
       "3  Pengguna Google      3   \n",
       "4  Pengguna Google      3   \n",
       "\n",
       "                                                                                                                                                                                                                                                                                                                                                                              final_text  \n",
       "0                                               aku pengguna lama byu lama kelamaan aku ngerasa byu jaringannya kurang stabil kalo buat sosmed enak enggak kerasa jaringan kurang stabilnya kalo dipake ngegame baru berasa kadang ngeganggu waktu pertama kali pake byu jaringannya poll loh jarang sekali namanya penurunan jaringan mohon maaf sekarang jaringan byu kurang menurutku  \n",
       "1                                           jaringan byu bagus cuman kalau diaplikasi mulai kendor transaksinya melakukan transfer melalui akun virtual bank sekarang melalui ewallet kalau kembalikan dulu tambahin metode pembayarannya melalui qris kedua android versi susah menggunakan aplikasi byu baru unduh aplikasi byu android terdapat tulisan perangkat keras aman tersedia  \n",
       "2  makin kesini byu makin bagus aplikasi sering buka komplain respon lambat proses lama kadang nunggu lama giliran keluar aplikasi balesan masuk aplikasi hilang cs sengaja penyelesaian notif kendala selesai masalah terjadi cs kadang ganti ganti satu chat parah chat cs aplikasi sinyal bagus paket mode data pake wifi susah parah jwbn anak sd csdevelover cmn nunjukin ketololan  \n",
       "3                                       aplikasinya sebenarnya bagus banyak pilihan kuota menarik minusnya jaringannya kadang suka hilang lambat padahal gaada gangguan sama sekali coba ganti jenis jaringan tetap jaringannya lambat mohon kedepannya lebih diperhatikan jujur perkara jaringan sangat menggangu kalau perlu ngerjain penting jaringannya malah lambat mungkin makasih  \n",
       "4                                                               pake byu lumayan lama sampe sekarang peningkatan jaringan kalau kota yahh bagus soalnya dapet g kalau lingkungan rumah maen game ping ms mulu sering ping merahh pernah tuh maen game ampe ping hijau dulu gini mulu cuman cocok buat maen youtube doank itupun otomatis resolusi jadi p emang maen sekitaran kota doank  "
      ]
     },
     "execution_count": 110,
     "metadata": {},
     "output_type": "execute_result"
    }
   ],
   "source": [
    "df = df.drop(columns=['at', 'content', 'case_folding', 'normalized','filtered_text'])\n",
    "df.head()"
   ]
  },
  {
   "cell_type": "markdown",
   "id": "ce107c6d",
   "metadata": {},
   "source": [
    "<h3>INSTALL LIBRARY BERTOPIC</h3> "
   ]
  },
  {
   "cell_type": "code",
   "execution_count": 111,
   "id": "820a60db",
   "metadata": {},
   "outputs": [
    {
     "name": "stdout",
     "output_type": "stream",
     "text": [
      "Requirement already satisfied: bertopic in c:\\users\\andi ragil\\.conda\\envs\\topikenv\\lib\\site-packages (0.17.3)\n",
      "Requirement already satisfied: sentence-transformers in c:\\users\\andi ragil\\.conda\\envs\\topikenv\\lib\\site-packages (5.0.0)\n",
      "Requirement already satisfied: umap-learn in c:\\users\\andi ragil\\.conda\\envs\\topikenv\\lib\\site-packages (0.5.9.post2)\n",
      "Requirement already satisfied: hdbscan in c:\\users\\andi ragil\\.conda\\envs\\topikenv\\lib\\site-packages (0.8.40)\n",
      "Requirement already satisfied: numpy>=1.20.0 in c:\\users\\andi ragil\\.conda\\envs\\topikenv\\lib\\site-packages (from bertopic) (1.26.4)\n",
      "Requirement already satisfied: pandas>=1.1.5 in c:\\users\\andi ragil\\.conda\\envs\\topikenv\\lib\\site-packages (from bertopic) (2.3.1)\n",
      "Requirement already satisfied: plotly>=4.7.0 in c:\\users\\andi ragil\\.conda\\envs\\topikenv\\lib\\site-packages (from bertopic) (6.2.0)\n",
      "Requirement already satisfied: scikit-learn>=1.0 in c:\\users\\andi ragil\\.conda\\envs\\topikenv\\lib\\site-packages (from bertopic) (1.7.1)\n",
      "Requirement already satisfied: tqdm>=4.41.1 in c:\\users\\andi ragil\\.conda\\envs\\topikenv\\lib\\site-packages (from bertopic) (4.67.1)\n",
      "Requirement already satisfied: llvmlite>0.36.0 in c:\\users\\andi ragil\\.conda\\envs\\topikenv\\lib\\site-packages (from bertopic) (0.44.0)\n",
      "Requirement already satisfied: transformers<5.0.0,>=4.41.0 in c:\\users\\andi ragil\\.conda\\envs\\topikenv\\lib\\site-packages (from sentence-transformers) (4.53.3)\n",
      "Requirement already satisfied: torch>=1.11.0 in c:\\users\\andi ragil\\.conda\\envs\\topikenv\\lib\\site-packages (from sentence-transformers) (2.7.1)\n",
      "Requirement already satisfied: scipy in c:\\users\\andi ragil\\.conda\\envs\\topikenv\\lib\\site-packages (from sentence-transformers) (1.13.1)\n",
      "Requirement already satisfied: huggingface-hub>=0.20.0 in c:\\users\\andi ragil\\.conda\\envs\\topikenv\\lib\\site-packages (from sentence-transformers) (0.33.4)\n",
      "Requirement already satisfied: Pillow in c:\\users\\andi ragil\\.conda\\envs\\topikenv\\lib\\site-packages (from sentence-transformers) (11.3.0)\n",
      "Requirement already satisfied: typing_extensions>=4.5.0 in c:\\users\\andi ragil\\.conda\\envs\\topikenv\\lib\\site-packages (from sentence-transformers) (4.14.1)\n",
      "Requirement already satisfied: filelock in c:\\users\\andi ragil\\.conda\\envs\\topikenv\\lib\\site-packages (from transformers<5.0.0,>=4.41.0->sentence-transformers) (3.18.0)\n",
      "Requirement already satisfied: packaging>=20.0 in c:\\users\\andi ragil\\.conda\\envs\\topikenv\\lib\\site-packages (from transformers<5.0.0,>=4.41.0->sentence-transformers) (25.0)\n",
      "Requirement already satisfied: pyyaml>=5.1 in c:\\users\\andi ragil\\.conda\\envs\\topikenv\\lib\\site-packages (from transformers<5.0.0,>=4.41.0->sentence-transformers) (6.0.2)\n",
      "Requirement already satisfied: regex!=2019.12.17 in c:\\users\\andi ragil\\.conda\\envs\\topikenv\\lib\\site-packages (from transformers<5.0.0,>=4.41.0->sentence-transformers) (2024.11.6)\n",
      "Requirement already satisfied: requests in c:\\users\\andi ragil\\.conda\\envs\\topikenv\\lib\\site-packages (from transformers<5.0.0,>=4.41.0->sentence-transformers) (2.32.4)\n",
      "Requirement already satisfied: tokenizers<0.22,>=0.21 in c:\\users\\andi ragil\\.conda\\envs\\topikenv\\lib\\site-packages (from transformers<5.0.0,>=4.41.0->sentence-transformers) (0.21.2)\n",
      "Requirement already satisfied: safetensors>=0.4.3 in c:\\users\\andi ragil\\.conda\\envs\\topikenv\\lib\\site-packages (from transformers<5.0.0,>=4.41.0->sentence-transformers) (0.5.3)\n",
      "Requirement already satisfied: fsspec>=2023.5.0 in c:\\users\\andi ragil\\.conda\\envs\\topikenv\\lib\\site-packages (from huggingface-hub>=0.20.0->sentence-transformers) (2025.7.0)\n",
      "Requirement already satisfied: numba>=0.51.2 in c:\\users\\andi ragil\\.conda\\envs\\topikenv\\lib\\site-packages (from umap-learn) (0.61.2)\n",
      "Requirement already satisfied: pynndescent>=0.5 in c:\\users\\andi ragil\\.conda\\envs\\topikenv\\lib\\site-packages (from umap-learn) (0.5.13)\n",
      "Requirement already satisfied: joblib>=1.0 in c:\\users\\andi ragil\\.conda\\envs\\topikenv\\lib\\site-packages (from hdbscan) (1.5.1)\n",
      "Requirement already satisfied: python-dateutil>=2.8.2 in c:\\users\\andi ragil\\.conda\\envs\\topikenv\\lib\\site-packages (from pandas>=1.1.5->bertopic) (2.9.0.post0)\n",
      "Requirement already satisfied: pytz>=2020.1 in c:\\users\\andi ragil\\.conda\\envs\\topikenv\\lib\\site-packages (from pandas>=1.1.5->bertopic) (2025.2)\n",
      "Requirement already satisfied: tzdata>=2022.7 in c:\\users\\andi ragil\\.conda\\envs\\topikenv\\lib\\site-packages (from pandas>=1.1.5->bertopic) (2025.2)\n",
      "Requirement already satisfied: narwhals>=1.15.1 in c:\\users\\andi ragil\\.conda\\envs\\topikenv\\lib\\site-packages (from plotly>=4.7.0->bertopic) (1.48.0)\n",
      "Requirement already satisfied: six>=1.5 in c:\\users\\andi ragil\\.conda\\envs\\topikenv\\lib\\site-packages (from python-dateutil>=2.8.2->pandas>=1.1.5->bertopic) (1.17.0)\n",
      "Requirement already satisfied: threadpoolctl>=3.1.0 in c:\\users\\andi ragil\\.conda\\envs\\topikenv\\lib\\site-packages (from scikit-learn>=1.0->bertopic) (3.6.0)\n",
      "Requirement already satisfied: sympy>=1.13.3 in c:\\users\\andi ragil\\.conda\\envs\\topikenv\\lib\\site-packages (from torch>=1.11.0->sentence-transformers) (1.14.0)\n",
      "Requirement already satisfied: networkx in c:\\users\\andi ragil\\.conda\\envs\\topikenv\\lib\\site-packages (from torch>=1.11.0->sentence-transformers) (3.5)\n",
      "Requirement already satisfied: jinja2 in c:\\users\\andi ragil\\.conda\\envs\\topikenv\\lib\\site-packages (from torch>=1.11.0->sentence-transformers) (3.1.6)\n",
      "Requirement already satisfied: setuptools in c:\\users\\andi ragil\\.conda\\envs\\topikenv\\lib\\site-packages (from torch>=1.11.0->sentence-transformers) (78.1.1)\n",
      "Requirement already satisfied: mpmath<1.4,>=1.1.0 in c:\\users\\andi ragil\\.conda\\envs\\topikenv\\lib\\site-packages (from sympy>=1.13.3->torch>=1.11.0->sentence-transformers) (1.3.0)\n",
      "Requirement already satisfied: colorama in c:\\users\\andi ragil\\.conda\\envs\\topikenv\\lib\\site-packages (from tqdm>=4.41.1->bertopic) (0.4.6)\n",
      "Requirement already satisfied: MarkupSafe>=2.0 in c:\\users\\andi ragil\\.conda\\envs\\topikenv\\lib\\site-packages (from jinja2->torch>=1.11.0->sentence-transformers) (3.0.2)\n",
      "Requirement already satisfied: charset_normalizer<4,>=2 in c:\\users\\andi ragil\\.conda\\envs\\topikenv\\lib\\site-packages (from requests->transformers<5.0.0,>=4.41.0->sentence-transformers) (3.4.2)\n",
      "Requirement already satisfied: idna<4,>=2.5 in c:\\users\\andi ragil\\.conda\\envs\\topikenv\\lib\\site-packages (from requests->transformers<5.0.0,>=4.41.0->sentence-transformers) (3.10)\n",
      "Requirement already satisfied: urllib3<3,>=1.21.1 in c:\\users\\andi ragil\\.conda\\envs\\topikenv\\lib\\site-packages (from requests->transformers<5.0.0,>=4.41.0->sentence-transformers) (2.5.0)\n",
      "Requirement already satisfied: certifi>=2017.4.17 in c:\\users\\andi ragil\\.conda\\envs\\topikenv\\lib\\site-packages (from requests->transformers<5.0.0,>=4.41.0->sentence-transformers) (2025.7.14)\n",
      "Note: you may need to restart the kernel to use updated packages.\n"
     ]
    }
   ],
   "source": [
    "%pip install bertopic sentence-transformers umap-learn hdbscan"
   ]
  },
  {
   "cell_type": "markdown",
   "id": "dd9aac4d",
   "metadata": {},
   "source": [
    "<H3>IMPORT SEMUA LIBRARY YANG DIPERLUKAN</H3> "
   ]
  },
  {
   "cell_type": "code",
   "execution_count": 112,
   "id": "0079b616",
   "metadata": {},
   "outputs": [
    {
     "name": "stdout",
     "output_type": "stream",
     "text": [
      "3.12.9 | packaged by Anaconda, Inc. | (main, Feb  6 2025, 18:49:16) [MSC v.1929 64 bit (AMD64)]\n"
     ]
    }
   ],
   "source": [
    "import sys\n",
    "print(sys.version)"
   ]
  },
  {
   "cell_type": "code",
   "execution_count": 113,
   "id": "2127462a",
   "metadata": {},
   "outputs": [],
   "source": [
    "import umap\n",
    "import pandas as pd\n",
    "from hdbscan import HDBSCAN\n",
    "from bertopic import BERTopic\n",
    "from bertopic.vectorizers import ClassTfidfTransformer\n",
    "from sklearn.feature_extraction.text import CountVectorizer\n",
    "from sentence_transformers import SentenceTransformer\n"
   ]
  },
  {
   "cell_type": "markdown",
   "id": "f7628c4f",
   "metadata": {},
   "source": [
    "<h3>INISIALISASI KOMPONEN MODEL UNTUK BERTopic</h3>"
   ]
  },
  {
   "cell_type": "code",
   "execution_count": 121,
   "id": "77c4acc6",
   "metadata": {},
   "outputs": [],
   "source": [
    "embedding_model = SentenceTransformer('paraphrase-multilingual-MiniLM-L12-v2')\n",
    "umap_model = umap.UMAP(n_neighbors=15, n_components=5, min_dist=0.1, metric='cosine', random_state=12)\n",
    "hdbscan_model = HDBSCAN(min_cluster_size=15, metric='euclidean',cluster_selection_method='eom',prediction_data=True)\n",
    "vectorizer_model = CountVectorizer()\n",
    "ctfidf_model = ClassTfidfTransformer(bm25_weighting=True, reduce_frequent_words=True)"
   ]
  },
  {
   "cell_type": "markdown",
   "id": "eaab424d",
   "metadata": {},
   "source": [
    "<H3> PEMBANGUNAN MODEL BERTopic</H3>"
   ]
  },
  {
   "cell_type": "code",
   "execution_count": 122,
   "id": "19841e48",
   "metadata": {},
   "outputs": [],
   "source": [
    "topic_model = BERTopic(\n",
    "    embedding_model=embedding_model,\n",
    "    umap_model=umap_model,\n",
    "    hdbscan_model=hdbscan_model,\n",
    "    vectorizer_model=vectorizer_model,\n",
    "    ctfidf_model=ctfidf_model,\n",
    "    language=\"indonesian\",\n",
    "    top_n_words=10,\n",
    "    nr_topics=10,\n",
    "    min_topic_size=50, \n",
    "    calculate_probabilities=True,\n",
    "    verbose=True,\n",
    ")"
   ]
  },
  {
   "cell_type": "markdown",
   "id": "bcefc079",
   "metadata": {},
   "source": [
    "<h3>FIT TRANSFORM BERTopic</h3>"
   ]
  },
  {
   "cell_type": "code",
   "execution_count": 123,
   "id": "1e48619f",
   "metadata": {},
   "outputs": [
    {
     "name": "stderr",
     "output_type": "stream",
     "text": [
      "2025-07-23 08:55:59,011 - BERTopic - Embedding - Transforming documents to embeddings.\n",
      "Batches: 100%|██████████| 293/293 [01:17<00:00,  3.76it/s]\n",
      "2025-07-23 08:57:17,083 - BERTopic - Embedding - Completed ✓\n",
      "2025-07-23 08:57:17,084 - BERTopic - Dimensionality - Fitting the dimensionality reduction algorithm\n",
      "2025-07-23 08:57:28,888 - BERTopic - Dimensionality - Completed ✓\n",
      "2025-07-23 08:57:28,889 - BERTopic - Cluster - Start clustering the reduced embeddings\n",
      "2025-07-23 08:57:29,434 - BERTopic - Cluster - Completed ✓\n",
      "2025-07-23 08:57:29,435 - BERTopic - Representation - Extracting topics using c-TF-IDF for topic reduction.\n",
      "2025-07-23 08:57:29,576 - BERTopic - Representation - Completed ✓\n",
      "2025-07-23 08:57:29,577 - BERTopic - Topic reduction - Reducing number of topics\n",
      "2025-07-23 08:57:29,578 - BERTopic - Topic reduction - Number of topics (10) is equal or higher than the clustered topics(2).\n",
      "2025-07-23 08:57:29,578 - BERTopic - Representation - Fine-tuning topics using representation models.\n",
      "2025-07-23 08:57:29,747 - BERTopic - Representation - Completed ✓\n"
     ]
    }
   ],
   "source": [
    "topics, probs = topic_model.fit_transform(df['final_text'])"
   ]
  },
  {
   "cell_type": "markdown",
   "id": "901a1545",
   "metadata": {},
   "source": [
    "<H3>VISUALISASI PERSEBARAN TOPIK</H3>"
   ]
  },
  {
   "cell_type": "code",
   "execution_count": 117,
   "id": "998753c1",
   "metadata": {},
   "outputs": [
    {
     "ename": "ValueError",
     "evalue": "zero-size array to reduction operation maximum which has no identity",
     "output_type": "error",
     "traceback": [
      "\u001b[31m---------------------------------------------------------------------------\u001b[39m",
      "\u001b[31mValueError\u001b[39m                                Traceback (most recent call last)",
      "\u001b[36mCell\u001b[39m\u001b[36m \u001b[39m\u001b[32mIn[117]\u001b[39m\u001b[32m, line 1\u001b[39m\n\u001b[32m----> \u001b[39m\u001b[32m1\u001b[39m \u001b[43mtopic_model\u001b[49m\u001b[43m.\u001b[49m\u001b[43mvisualize_topics\u001b[49m\u001b[43m(\u001b[49m\u001b[43m)\u001b[49m\n",
      "\u001b[36mFile \u001b[39m\u001b[32mc:\\Users\\andi ragil\\.conda\\envs\\topikenv\\Lib\\site-packages\\bertopic\\_bertopic.py:2442\u001b[39m, in \u001b[36mBERTopic.visualize_topics\u001b[39m\u001b[34m(self, topics, top_n_topics, use_ctfidf, custom_labels, title, width, height)\u001b[39m\n\u001b[32m   2409\u001b[39m \u001b[38;5;250m\u001b[39m\u001b[33;03m\"\"\"Visualize topics, their sizes, and their corresponding words.\u001b[39;00m\n\u001b[32m   2410\u001b[39m \n\u001b[32m   2411\u001b[39m \u001b[33;03mThis visualization is highly inspired by LDAvis, a great visualization\u001b[39;00m\n\u001b[32m   (...)\u001b[39m\u001b[32m   2439\u001b[39m \u001b[33;03m```\u001b[39;00m\n\u001b[32m   2440\u001b[39m \u001b[33;03m\"\"\"\u001b[39;00m\n\u001b[32m   2441\u001b[39m check_is_fitted(\u001b[38;5;28mself\u001b[39m)\n\u001b[32m-> \u001b[39m\u001b[32m2442\u001b[39m \u001b[38;5;28;01mreturn\u001b[39;00m \u001b[43mplotting\u001b[49m\u001b[43m.\u001b[49m\u001b[43mvisualize_topics\u001b[49m\u001b[43m(\u001b[49m\n\u001b[32m   2443\u001b[39m \u001b[43m    \u001b[49m\u001b[38;5;28;43mself\u001b[39;49m\u001b[43m,\u001b[49m\n\u001b[32m   2444\u001b[39m \u001b[43m    \u001b[49m\u001b[43mtopics\u001b[49m\u001b[43m=\u001b[49m\u001b[43mtopics\u001b[49m\u001b[43m,\u001b[49m\n\u001b[32m   2445\u001b[39m \u001b[43m    \u001b[49m\u001b[43mtop_n_topics\u001b[49m\u001b[43m=\u001b[49m\u001b[43mtop_n_topics\u001b[49m\u001b[43m,\u001b[49m\n\u001b[32m   2446\u001b[39m \u001b[43m    \u001b[49m\u001b[43muse_ctfidf\u001b[49m\u001b[43m=\u001b[49m\u001b[43muse_ctfidf\u001b[49m\u001b[43m,\u001b[49m\n\u001b[32m   2447\u001b[39m \u001b[43m    \u001b[49m\u001b[43mcustom_labels\u001b[49m\u001b[43m=\u001b[49m\u001b[43mcustom_labels\u001b[49m\u001b[43m,\u001b[49m\n\u001b[32m   2448\u001b[39m \u001b[43m    \u001b[49m\u001b[43mtitle\u001b[49m\u001b[43m=\u001b[49m\u001b[43mtitle\u001b[49m\u001b[43m,\u001b[49m\n\u001b[32m   2449\u001b[39m \u001b[43m    \u001b[49m\u001b[43mwidth\u001b[49m\u001b[43m=\u001b[49m\u001b[43mwidth\u001b[49m\u001b[43m,\u001b[49m\n\u001b[32m   2450\u001b[39m \u001b[43m    \u001b[49m\u001b[43mheight\u001b[49m\u001b[43m=\u001b[49m\u001b[43mheight\u001b[49m\u001b[43m,\u001b[49m\n\u001b[32m   2451\u001b[39m \u001b[43m\u001b[49m\u001b[43m)\u001b[49m\n",
      "\u001b[36mFile \u001b[39m\u001b[32mc:\\Users\\andi ragil\\.conda\\envs\\topikenv\\Lib\\site-packages\\bertopic\\plotting\\_topics.py:102\u001b[39m, in \u001b[36mvisualize_topics\u001b[39m\u001b[34m(topic_model, topics, top_n_topics, use_ctfidf, custom_labels, title, width, height)\u001b[39m\n\u001b[32m     98\u001b[39m         embeddings = UMAP(n_neighbors=\u001b[32m2\u001b[39m, n_components=\u001b[32m2\u001b[39m, metric=\u001b[33m\"\u001b[39m\u001b[33mhellinger\u001b[39m\u001b[33m\"\u001b[39m, random_state=\u001b[32m42\u001b[39m).fit_transform(\n\u001b[32m     99\u001b[39m             embeddings\n\u001b[32m    100\u001b[39m         )\n\u001b[32m    101\u001b[39m     \u001b[38;5;28;01melse\u001b[39;00m:\n\u001b[32m--> \u001b[39m\u001b[32m102\u001b[39m         embeddings = \u001b[43mUMAP\u001b[49m\u001b[43m(\u001b[49m\u001b[43mn_neighbors\u001b[49m\u001b[43m=\u001b[49m\u001b[32;43m2\u001b[39;49m\u001b[43m,\u001b[49m\u001b[43m \u001b[49m\u001b[43mn_components\u001b[49m\u001b[43m=\u001b[49m\u001b[32;43m2\u001b[39;49m\u001b[43m,\u001b[49m\u001b[43m \u001b[49m\u001b[43mmetric\u001b[49m\u001b[43m=\u001b[49m\u001b[33;43m\"\u001b[39;49m\u001b[33;43mcosine\u001b[39;49m\u001b[33;43m\"\u001b[39;49m\u001b[43m,\u001b[49m\u001b[43m \u001b[49m\u001b[43mrandom_state\u001b[49m\u001b[43m=\u001b[49m\u001b[32;43m42\u001b[39;49m\u001b[43m)\u001b[49m\u001b[43m.\u001b[49m\u001b[43mfit_transform\u001b[49m\u001b[43m(\u001b[49m\u001b[43membeddings\u001b[49m\u001b[43m)\u001b[49m\n\u001b[32m    103\u001b[39m \u001b[38;5;28;01melse\u001b[39;00m:\n\u001b[32m    104\u001b[39m     \u001b[38;5;28;01mraise\u001b[39;00m \u001b[38;5;167;01mModuleNotFoundError\u001b[39;00m(\n\u001b[32m    105\u001b[39m         \u001b[33m\"\u001b[39m\u001b[33mUMAP is required to reduce the embeddings.. Please install it using `pip install umap-learn`.\u001b[39m\u001b[33m\"\u001b[39m\n\u001b[32m    106\u001b[39m     )\n",
      "\u001b[36mFile \u001b[39m\u001b[32mc:\\Users\\andi ragil\\.conda\\envs\\topikenv\\Lib\\site-packages\\umap\\umap_.py:2935\u001b[39m, in \u001b[36mUMAP.fit_transform\u001b[39m\u001b[34m(self, X, y, ensure_all_finite, **kwargs)\u001b[39m\n\u001b[32m   2897\u001b[39m \u001b[38;5;28;01mdef\u001b[39;00m\u001b[38;5;250m \u001b[39m\u001b[34mfit_transform\u001b[39m(\u001b[38;5;28mself\u001b[39m, X, y=\u001b[38;5;28;01mNone\u001b[39;00m, ensure_all_finite=\u001b[38;5;28;01mTrue\u001b[39;00m, **kwargs):\n\u001b[32m   2898\u001b[39m \u001b[38;5;250m    \u001b[39m\u001b[33;03m\"\"\"Fit X into an embedded space and return that transformed\u001b[39;00m\n\u001b[32m   2899\u001b[39m \u001b[33;03m    output.\u001b[39;00m\n\u001b[32m   2900\u001b[39m \n\u001b[32m   (...)\u001b[39m\u001b[32m   2933\u001b[39m \u001b[33;03m        Local radii of data points in the embedding (log-transformed).\u001b[39;00m\n\u001b[32m   2934\u001b[39m \u001b[33;03m    \"\"\"\u001b[39;00m\n\u001b[32m-> \u001b[39m\u001b[32m2935\u001b[39m     \u001b[38;5;28;43mself\u001b[39;49m\u001b[43m.\u001b[49m\u001b[43mfit\u001b[49m\u001b[43m(\u001b[49m\u001b[43mX\u001b[49m\u001b[43m,\u001b[49m\u001b[43m \u001b[49m\u001b[43my\u001b[49m\u001b[43m,\u001b[49m\u001b[43m \u001b[49m\u001b[43mensure_all_finite\u001b[49m\u001b[43m,\u001b[49m\u001b[43m \u001b[49m\u001b[43m*\u001b[49m\u001b[43m*\u001b[49m\u001b[43mkwargs\u001b[49m\u001b[43m)\u001b[49m\n\u001b[32m   2936\u001b[39m     \u001b[38;5;28;01mif\u001b[39;00m \u001b[38;5;28mself\u001b[39m.transform_mode == \u001b[33m\"\u001b[39m\u001b[33membedding\u001b[39m\u001b[33m\"\u001b[39m:\n\u001b[32m   2937\u001b[39m         \u001b[38;5;28;01mif\u001b[39;00m \u001b[38;5;28mself\u001b[39m.output_dens:\n",
      "\u001b[36mFile \u001b[39m\u001b[32mc:\\Users\\andi ragil\\.conda\\envs\\topikenv\\Lib\\site-packages\\umap\\umap_.py:2817\u001b[39m, in \u001b[36mUMAP.fit\u001b[39m\u001b[34m(self, X, y, ensure_all_finite, **kwargs)\u001b[39m\n\u001b[32m   2813\u001b[39m \u001b[38;5;28;01mif\u001b[39;00m \u001b[38;5;28mself\u001b[39m.transform_mode == \u001b[33m\"\u001b[39m\u001b[33membedding\u001b[39m\u001b[33m\"\u001b[39m:\n\u001b[32m   2814\u001b[39m     epochs = (\n\u001b[32m   2815\u001b[39m         \u001b[38;5;28mself\u001b[39m.n_epochs_list \u001b[38;5;28;01mif\u001b[39;00m \u001b[38;5;28mself\u001b[39m.n_epochs_list \u001b[38;5;129;01mis\u001b[39;00m \u001b[38;5;129;01mnot\u001b[39;00m \u001b[38;5;28;01mNone\u001b[39;00m \u001b[38;5;28;01melse\u001b[39;00m \u001b[38;5;28mself\u001b[39m.n_epochs\n\u001b[32m   2816\u001b[39m     )\n\u001b[32m-> \u001b[39m\u001b[32m2817\u001b[39m     \u001b[38;5;28mself\u001b[39m.embedding_, aux_data = \u001b[38;5;28;43mself\u001b[39;49m\u001b[43m.\u001b[49m\u001b[43m_fit_embed_data\u001b[49m\u001b[43m(\u001b[49m\n\u001b[32m   2818\u001b[39m \u001b[43m        \u001b[49m\u001b[38;5;28;43mself\u001b[39;49m\u001b[43m.\u001b[49m\u001b[43m_raw_data\u001b[49m\u001b[43m[\u001b[49m\u001b[43mindex\u001b[49m\u001b[43m]\u001b[49m\u001b[43m,\u001b[49m\n\u001b[32m   2819\u001b[39m \u001b[43m        \u001b[49m\u001b[43mepochs\u001b[49m\u001b[43m,\u001b[49m\n\u001b[32m   2820\u001b[39m \u001b[43m        \u001b[49m\u001b[43minit\u001b[49m\u001b[43m,\u001b[49m\n\u001b[32m   2821\u001b[39m \u001b[43m        \u001b[49m\u001b[43mrandom_state\u001b[49m\u001b[43m,\u001b[49m\u001b[43m  \u001b[49m\u001b[38;5;66;43;03m# JH why raw data?\u001b[39;49;00m\n\u001b[32m   2822\u001b[39m \u001b[43m        \u001b[49m\u001b[43m*\u001b[49m\u001b[43m*\u001b[49m\u001b[43mkwargs\u001b[49m\u001b[43m,\u001b[49m\n\u001b[32m   2823\u001b[39m \u001b[43m    \u001b[49m\u001b[43m)\u001b[49m\n\u001b[32m   2825\u001b[39m     \u001b[38;5;28;01mif\u001b[39;00m \u001b[38;5;28mself\u001b[39m.n_epochs_list \u001b[38;5;129;01mis\u001b[39;00m \u001b[38;5;129;01mnot\u001b[39;00m \u001b[38;5;28;01mNone\u001b[39;00m:\n\u001b[32m   2826\u001b[39m         \u001b[38;5;28;01mif\u001b[39;00m \u001b[33m\"\u001b[39m\u001b[33membedding_list\u001b[39m\u001b[33m\"\u001b[39m \u001b[38;5;129;01mnot\u001b[39;00m \u001b[38;5;129;01min\u001b[39;00m aux_data:\n",
      "\u001b[36mFile \u001b[39m\u001b[32mc:\\Users\\andi ragil\\.conda\\envs\\topikenv\\Lib\\site-packages\\umap\\umap_.py:2872\u001b[39m, in \u001b[36mUMAP._fit_embed_data\u001b[39m\u001b[34m(self, X, n_epochs, init, random_state, **kwargs)\u001b[39m\n\u001b[32m   2867\u001b[39m \u001b[38;5;28;01mdef\u001b[39;00m\u001b[38;5;250m \u001b[39m\u001b[34m_fit_embed_data\u001b[39m(\u001b[38;5;28mself\u001b[39m, X, n_epochs, init, random_state, **kwargs):\n\u001b[32m   2868\u001b[39m \u001b[38;5;250m    \u001b[39m\u001b[33;03m\"\"\"A method wrapper for simplicial_set_embedding that can be\u001b[39;00m\n\u001b[32m   2869\u001b[39m \u001b[33;03m    replaced by subclasses. Arbitrary keyword arguments can be passed\u001b[39;00m\n\u001b[32m   2870\u001b[39m \u001b[33;03m    through .fit() and .fit_transform().\u001b[39;00m\n\u001b[32m   2871\u001b[39m \u001b[33;03m    \"\"\"\u001b[39;00m\n\u001b[32m-> \u001b[39m\u001b[32m2872\u001b[39m     \u001b[38;5;28;01mreturn\u001b[39;00m \u001b[43msimplicial_set_embedding\u001b[49m\u001b[43m(\u001b[49m\n\u001b[32m   2873\u001b[39m \u001b[43m        \u001b[49m\u001b[43mX\u001b[49m\u001b[43m,\u001b[49m\n\u001b[32m   2874\u001b[39m \u001b[43m        \u001b[49m\u001b[38;5;28;43mself\u001b[39;49m\u001b[43m.\u001b[49m\u001b[43mgraph_\u001b[49m\u001b[43m,\u001b[49m\n\u001b[32m   2875\u001b[39m \u001b[43m        \u001b[49m\u001b[38;5;28;43mself\u001b[39;49m\u001b[43m.\u001b[49m\u001b[43mn_components\u001b[49m\u001b[43m,\u001b[49m\n\u001b[32m   2876\u001b[39m \u001b[43m        \u001b[49m\u001b[38;5;28;43mself\u001b[39;49m\u001b[43m.\u001b[49m\u001b[43m_initial_alpha\u001b[49m\u001b[43m,\u001b[49m\n\u001b[32m   2877\u001b[39m \u001b[43m        \u001b[49m\u001b[38;5;28;43mself\u001b[39;49m\u001b[43m.\u001b[49m\u001b[43m_a\u001b[49m\u001b[43m,\u001b[49m\n\u001b[32m   2878\u001b[39m \u001b[43m        \u001b[49m\u001b[38;5;28;43mself\u001b[39;49m\u001b[43m.\u001b[49m\u001b[43m_b\u001b[49m\u001b[43m,\u001b[49m\n\u001b[32m   2879\u001b[39m \u001b[43m        \u001b[49m\u001b[38;5;28;43mself\u001b[39;49m\u001b[43m.\u001b[49m\u001b[43mrepulsion_strength\u001b[49m\u001b[43m,\u001b[49m\n\u001b[32m   2880\u001b[39m \u001b[43m        \u001b[49m\u001b[38;5;28;43mself\u001b[39;49m\u001b[43m.\u001b[49m\u001b[43mnegative_sample_rate\u001b[49m\u001b[43m,\u001b[49m\n\u001b[32m   2881\u001b[39m \u001b[43m        \u001b[49m\u001b[43mn_epochs\u001b[49m\u001b[43m,\u001b[49m\n\u001b[32m   2882\u001b[39m \u001b[43m        \u001b[49m\u001b[43minit\u001b[49m\u001b[43m,\u001b[49m\n\u001b[32m   2883\u001b[39m \u001b[43m        \u001b[49m\u001b[43mrandom_state\u001b[49m\u001b[43m,\u001b[49m\n\u001b[32m   2884\u001b[39m \u001b[43m        \u001b[49m\u001b[38;5;28;43mself\u001b[39;49m\u001b[43m.\u001b[49m\u001b[43m_input_distance_func\u001b[49m\u001b[43m,\u001b[49m\n\u001b[32m   2885\u001b[39m \u001b[43m        \u001b[49m\u001b[38;5;28;43mself\u001b[39;49m\u001b[43m.\u001b[49m\u001b[43m_metric_kwds\u001b[49m\u001b[43m,\u001b[49m\n\u001b[32m   2886\u001b[39m \u001b[43m        \u001b[49m\u001b[38;5;28;43mself\u001b[39;49m\u001b[43m.\u001b[49m\u001b[43mdensmap\u001b[49m\u001b[43m,\u001b[49m\n\u001b[32m   2887\u001b[39m \u001b[43m        \u001b[49m\u001b[38;5;28;43mself\u001b[39;49m\u001b[43m.\u001b[49m\u001b[43m_densmap_kwds\u001b[49m\u001b[43m,\u001b[49m\n\u001b[32m   2888\u001b[39m \u001b[43m        \u001b[49m\u001b[38;5;28;43mself\u001b[39;49m\u001b[43m.\u001b[49m\u001b[43moutput_dens\u001b[49m\u001b[43m,\u001b[49m\n\u001b[32m   2889\u001b[39m \u001b[43m        \u001b[49m\u001b[38;5;28;43mself\u001b[39;49m\u001b[43m.\u001b[49m\u001b[43m_output_distance_func\u001b[49m\u001b[43m,\u001b[49m\n\u001b[32m   2890\u001b[39m \u001b[43m        \u001b[49m\u001b[38;5;28;43mself\u001b[39;49m\u001b[43m.\u001b[49m\u001b[43m_output_metric_kwds\u001b[49m\u001b[43m,\u001b[49m\n\u001b[32m   2891\u001b[39m \u001b[43m        \u001b[49m\u001b[38;5;28;43mself\u001b[39;49m\u001b[43m.\u001b[49m\u001b[43moutput_metric\u001b[49m\u001b[43m \u001b[49m\u001b[38;5;129;43;01min\u001b[39;49;00m\u001b[43m \u001b[49m\u001b[43m(\u001b[49m\u001b[33;43m\"\u001b[39;49m\u001b[33;43meuclidean\u001b[39;49m\u001b[33;43m\"\u001b[39;49m\u001b[43m,\u001b[49m\u001b[43m \u001b[49m\u001b[33;43m\"\u001b[39;49m\u001b[33;43ml2\u001b[39;49m\u001b[33;43m\"\u001b[39;49m\u001b[43m)\u001b[49m\u001b[43m,\u001b[49m\n\u001b[32m   2892\u001b[39m \u001b[43m        \u001b[49m\u001b[38;5;28;43mself\u001b[39;49m\u001b[43m.\u001b[49m\u001b[43mrandom_state\u001b[49m\u001b[43m \u001b[49m\u001b[38;5;129;43;01mis\u001b[39;49;00m\u001b[43m \u001b[49m\u001b[38;5;28;43;01mNone\u001b[39;49;00m\u001b[43m,\u001b[49m\n\u001b[32m   2893\u001b[39m \u001b[43m        \u001b[49m\u001b[38;5;28;43mself\u001b[39;49m\u001b[43m.\u001b[49m\u001b[43mverbose\u001b[49m\u001b[43m,\u001b[49m\n\u001b[32m   2894\u001b[39m \u001b[43m        \u001b[49m\u001b[43mtqdm_kwds\u001b[49m\u001b[43m=\u001b[49m\u001b[38;5;28;43mself\u001b[39;49m\u001b[43m.\u001b[49m\u001b[43mtqdm_kwds\u001b[49m\u001b[43m,\u001b[49m\n\u001b[32m   2895\u001b[39m \u001b[43m    \u001b[49m\u001b[43m)\u001b[49m\n",
      "\u001b[36mFile \u001b[39m\u001b[32mc:\\Users\\andi ragil\\.conda\\envs\\topikenv\\Lib\\site-packages\\umap\\umap_.py:1089\u001b[39m, in \u001b[36msimplicial_set_embedding\u001b[39m\u001b[34m(data, graph, n_components, initial_alpha, a, b, gamma, negative_sample_rate, n_epochs, init, random_state, metric, metric_kwds, densmap, densmap_kwds, output_dens, output_metric, output_metric_kwds, euclidean_output, parallel, verbose, tqdm_kwds)\u001b[39m\n\u001b[32m   1086\u001b[39m n_epochs_max = \u001b[38;5;28mmax\u001b[39m(n_epochs) \u001b[38;5;28;01mif\u001b[39;00m \u001b[38;5;28misinstance\u001b[39m(n_epochs, \u001b[38;5;28mlist\u001b[39m) \u001b[38;5;28;01melse\u001b[39;00m n_epochs\n\u001b[32m   1088\u001b[39m \u001b[38;5;28;01mif\u001b[39;00m n_epochs_max > \u001b[32m10\u001b[39m:\n\u001b[32m-> \u001b[39m\u001b[32m1089\u001b[39m     graph.data[graph.data < (\u001b[43mgraph\u001b[49m\u001b[43m.\u001b[49m\u001b[43mdata\u001b[49m\u001b[43m.\u001b[49m\u001b[43mmax\u001b[49m\u001b[43m(\u001b[49m\u001b[43m)\u001b[49m / \u001b[38;5;28mfloat\u001b[39m(n_epochs_max))] = \u001b[32m0.0\u001b[39m\n\u001b[32m   1090\u001b[39m \u001b[38;5;28;01melse\u001b[39;00m:\n\u001b[32m   1091\u001b[39m     graph.data[graph.data < (graph.data.max() / \u001b[38;5;28mfloat\u001b[39m(default_epochs))] = \u001b[32m0.0\u001b[39m\n",
      "\u001b[36mFile \u001b[39m\u001b[32mc:\\Users\\andi ragil\\.conda\\envs\\topikenv\\Lib\\site-packages\\numpy\\core\\_methods.py:41\u001b[39m, in \u001b[36m_amax\u001b[39m\u001b[34m(a, axis, out, keepdims, initial, where)\u001b[39m\n\u001b[32m     39\u001b[39m \u001b[38;5;28;01mdef\u001b[39;00m\u001b[38;5;250m \u001b[39m\u001b[34m_amax\u001b[39m(a, axis=\u001b[38;5;28;01mNone\u001b[39;00m, out=\u001b[38;5;28;01mNone\u001b[39;00m, keepdims=\u001b[38;5;28;01mFalse\u001b[39;00m,\n\u001b[32m     40\u001b[39m           initial=_NoValue, where=\u001b[38;5;28;01mTrue\u001b[39;00m):\n\u001b[32m---> \u001b[39m\u001b[32m41\u001b[39m     \u001b[38;5;28;01mreturn\u001b[39;00m \u001b[43mumr_maximum\u001b[49m\u001b[43m(\u001b[49m\u001b[43ma\u001b[49m\u001b[43m,\u001b[49m\u001b[43m \u001b[49m\u001b[43maxis\u001b[49m\u001b[43m,\u001b[49m\u001b[43m \u001b[49m\u001b[38;5;28;43;01mNone\u001b[39;49;00m\u001b[43m,\u001b[49m\u001b[43m \u001b[49m\u001b[43mout\u001b[49m\u001b[43m,\u001b[49m\u001b[43m \u001b[49m\u001b[43mkeepdims\u001b[49m\u001b[43m,\u001b[49m\u001b[43m \u001b[49m\u001b[43minitial\u001b[49m\u001b[43m,\u001b[49m\u001b[43m \u001b[49m\u001b[43mwhere\u001b[49m\u001b[43m)\u001b[49m\n",
      "\u001b[31mValueError\u001b[39m: zero-size array to reduction operation maximum which has no identity"
     ]
    }
   ],
   "source": [
    "topic_model.visualize_topics()"
   ]
  },
  {
   "cell_type": "markdown",
   "id": "8edf736a",
   "metadata": {},
   "source": [
    "<h3>VISUALISASI BARCHART</h3>"
   ]
  },
  {
   "cell_type": "code",
   "execution_count": null,
   "id": "3c97fcf7",
   "metadata": {},
   "outputs": [
    {
     "data": {
      "application/vnd.plotly.v1+json": {
       "config": {
        "plotlyServerURL": "https://plot.ly"
       },
       "data": [
        {
         "marker": {
          "color": "#D55E00"
         },
         "orientation": "h",
         "type": "bar",
         "x": [
          0.3047655583183877,
          0.31502767641786517,
          0.3154874941472702,
          0.3209512331273097,
          0.35263215344823623
         ],
         "xaxis": "x",
         "y": [
          "ping  ",
          "jaringan  ",
          "game  ",
          "unlimited  ",
          "mbps  "
         ],
         "yaxis": "y"
        },
        {
         "marker": {
          "color": "#0072B2"
         },
         "orientation": "h",
         "type": "bar",
         "x": [
          0.3285830522773604,
          0.3490391907272815,
          0.36647369686657266,
          0.36853474473755504,
          0.4207531596928894
         ],
         "xaxis": "x2",
         "y": [
          "dibuka  ",
          "update  ",
          "aplikasinya  ",
          "buka  ",
          "aplikasi  "
         ],
         "yaxis": "y2"
        },
        {
         "marker": {
          "color": "#CC79A7"
         },
         "orientation": "h",
         "type": "bar",
         "x": [
          0.33724471004168916,
          0.3388885399511775,
          0.3479150009941391,
          0.35391027334144926,
          0.3945757868659469
         ],
         "xaxis": "x3",
         "y": [
          "bayar  ",
          "gb  ",
          "transaksi  ",
          "beli  ",
          "pembayaran  "
         ],
         "yaxis": "y3"
        },
        {
         "marker": {
          "color": "#E69F00"
         },
         "orientation": "h",
         "type": "bar",
         "x": [
          0.3084366579911387,
          0.31786327892526933,
          0.33728972835688814,
          0.4051629442727836,
          0.45922365295836143
         ],
         "xaxis": "x4",
         "y": [
          "jelek  ",
          "hilang  ",
          "ilang  ",
          "sinyalnya  ",
          "sinyal  "
         ],
         "yaxis": "y4"
        },
        {
         "marker": {
          "color": "#56B4E9"
         },
         "orientation": "h",
         "type": "bar",
         "x": [
          0.3505030461584165,
          0.35727868748870584,
          0.3794283094011609,
          0.3859108233141204,
          0.7169324674550179
         ],
         "xaxis": "x5",
         "y": [
          "lancar  ",
          "topping  ",
          "instagram  ",
          "nonton  ",
          "youtube  "
         ],
         "yaxis": "y5"
        },
        {
         "marker": {
          "color": "#009E73"
         },
         "orientation": "h",
         "type": "bar",
         "x": [
          0.28755511000266787,
          0.30674918980604754,
          0.30701256930916776,
          0.3300836824800056,
          0.354942508855299
         ],
         "xaxis": "x6",
         "y": [
          "pake  ",
          "bener  ",
          "gabisa  ",
          "tetep  ",
          "udh  "
         ],
         "yaxis": "y6"
        },
        {
         "marker": {
          "color": "#F0E442"
         },
         "orientation": "h",
         "type": "bar",
         "x": [
          0.45332567920033956,
          0.45801904463454,
          0.4759246356670251,
          0.4868381299619949,
          0.554589540566875
         ],
         "xaxis": "x7",
         "y": [
          "lengkap  ",
          "gampang  ",
          "flash  ",
          "sale  ",
          "mudah  "
         ],
         "yaxis": "y7"
        },
        {
         "marker": {
          "color": "#D55E00"
         },
         "orientation": "h",
         "type": "bar",
         "x": [
          0.4115925132107217,
          0.4146081488355335,
          0.42472334678364904,
          0.4291381550617059,
          1.0899905729330355
         ],
         "xaxis": "x8",
         "y": [
          "pesan  ",
          "tak  ",
          "gambar  ",
          "ngirim  ",
          "whatsapp  "
         ],
         "yaxis": "y8"
        },
        {
         "marker": {
          "color": "#0072B2"
         },
         "orientation": "h",
         "type": "bar",
         "x": [
          0.5505920277196136,
          0.5718065619651178,
          0.599590170074595,
          1.0975025590870002,
          1.1538156058280704
         ],
         "xaxis": "x9",
         "y": [
          "berhasil  ",
          "pembayaran  ",
          "bca  ",
          "account  ",
          "virtual  "
         ],
         "yaxis": "y9"
        }
       ],
       "layout": {
        "annotations": [
         {
          "font": {
           "size": 16
          },
          "showarrow": false,
          "text": "Topic 0",
          "x": 0.0875,
          "xanchor": "center",
          "xref": "paper",
          "y": 1,
          "yanchor": "bottom",
          "yref": "paper"
         },
         {
          "font": {
           "size": 16
          },
          "showarrow": false,
          "text": "Topic 1",
          "x": 0.36250000000000004,
          "xanchor": "center",
          "xref": "paper",
          "y": 1,
          "yanchor": "bottom",
          "yref": "paper"
         },
         {
          "font": {
           "size": 16
          },
          "showarrow": false,
          "text": "Topic 2",
          "x": 0.6375000000000001,
          "xanchor": "center",
          "xref": "paper",
          "y": 1,
          "yanchor": "bottom",
          "yref": "paper"
         },
         {
          "font": {
           "size": 16
          },
          "showarrow": false,
          "text": "Topic 3",
          "x": 0.9125,
          "xanchor": "center",
          "xref": "paper",
          "y": 1,
          "yanchor": "bottom",
          "yref": "paper"
         },
         {
          "font": {
           "size": 16
          },
          "showarrow": false,
          "text": "Topic 4",
          "x": 0.0875,
          "xanchor": "center",
          "xref": "paper",
          "y": 0.6222222222222222,
          "yanchor": "bottom",
          "yref": "paper"
         },
         {
          "font": {
           "size": 16
          },
          "showarrow": false,
          "text": "Topic 5",
          "x": 0.36250000000000004,
          "xanchor": "center",
          "xref": "paper",
          "y": 0.6222222222222222,
          "yanchor": "bottom",
          "yref": "paper"
         },
         {
          "font": {
           "size": 16
          },
          "showarrow": false,
          "text": "Topic 6",
          "x": 0.6375000000000001,
          "xanchor": "center",
          "xref": "paper",
          "y": 0.6222222222222222,
          "yanchor": "bottom",
          "yref": "paper"
         },
         {
          "font": {
           "size": 16
          },
          "showarrow": false,
          "text": "Topic 7",
          "x": 0.9125,
          "xanchor": "center",
          "xref": "paper",
          "y": 0.6222222222222222,
          "yanchor": "bottom",
          "yref": "paper"
         },
         {
          "font": {
           "size": 16
          },
          "showarrow": false,
          "text": "Topic 8",
          "x": 0.0875,
          "xanchor": "center",
          "xref": "paper",
          "y": 0.24444444444444446,
          "yanchor": "bottom",
          "yref": "paper"
         }
        ],
        "height": 750,
        "hoverlabel": {
         "bgcolor": "white",
         "font": {
          "family": "Rockwell",
          "size": 16
         }
        },
        "showlegend": false,
        "template": {
         "data": {
          "bar": [
           {
            "error_x": {
             "color": "#2a3f5f"
            },
            "error_y": {
             "color": "#2a3f5f"
            },
            "marker": {
             "line": {
              "color": "white",
              "width": 0.5
             },
             "pattern": {
              "fillmode": "overlay",
              "size": 10,
              "solidity": 0.2
             }
            },
            "type": "bar"
           }
          ],
          "barpolar": [
           {
            "marker": {
             "line": {
              "color": "white",
              "width": 0.5
             },
             "pattern": {
              "fillmode": "overlay",
              "size": 10,
              "solidity": 0.2
             }
            },
            "type": "barpolar"
           }
          ],
          "carpet": [
           {
            "aaxis": {
             "endlinecolor": "#2a3f5f",
             "gridcolor": "#C8D4E3",
             "linecolor": "#C8D4E3",
             "minorgridcolor": "#C8D4E3",
             "startlinecolor": "#2a3f5f"
            },
            "baxis": {
             "endlinecolor": "#2a3f5f",
             "gridcolor": "#C8D4E3",
             "linecolor": "#C8D4E3",
             "minorgridcolor": "#C8D4E3",
             "startlinecolor": "#2a3f5f"
            },
            "type": "carpet"
           }
          ],
          "choropleth": [
           {
            "colorbar": {
             "outlinewidth": 0,
             "ticks": ""
            },
            "type": "choropleth"
           }
          ],
          "contour": [
           {
            "colorbar": {
             "outlinewidth": 0,
             "ticks": ""
            },
            "colorscale": [
             [
              0,
              "#0d0887"
             ],
             [
              0.1111111111111111,
              "#46039f"
             ],
             [
              0.2222222222222222,
              "#7201a8"
             ],
             [
              0.3333333333333333,
              "#9c179e"
             ],
             [
              0.4444444444444444,
              "#bd3786"
             ],
             [
              0.5555555555555556,
              "#d8576b"
             ],
             [
              0.6666666666666666,
              "#ed7953"
             ],
             [
              0.7777777777777778,
              "#fb9f3a"
             ],
             [
              0.8888888888888888,
              "#fdca26"
             ],
             [
              1,
              "#f0f921"
             ]
            ],
            "type": "contour"
           }
          ],
          "contourcarpet": [
           {
            "colorbar": {
             "outlinewidth": 0,
             "ticks": ""
            },
            "type": "contourcarpet"
           }
          ],
          "heatmap": [
           {
            "colorbar": {
             "outlinewidth": 0,
             "ticks": ""
            },
            "colorscale": [
             [
              0,
              "#0d0887"
             ],
             [
              0.1111111111111111,
              "#46039f"
             ],
             [
              0.2222222222222222,
              "#7201a8"
             ],
             [
              0.3333333333333333,
              "#9c179e"
             ],
             [
              0.4444444444444444,
              "#bd3786"
             ],
             [
              0.5555555555555556,
              "#d8576b"
             ],
             [
              0.6666666666666666,
              "#ed7953"
             ],
             [
              0.7777777777777778,
              "#fb9f3a"
             ],
             [
              0.8888888888888888,
              "#fdca26"
             ],
             [
              1,
              "#f0f921"
             ]
            ],
            "type": "heatmap"
           }
          ],
          "histogram": [
           {
            "marker": {
             "pattern": {
              "fillmode": "overlay",
              "size": 10,
              "solidity": 0.2
             }
            },
            "type": "histogram"
           }
          ],
          "histogram2d": [
           {
            "colorbar": {
             "outlinewidth": 0,
             "ticks": ""
            },
            "colorscale": [
             [
              0,
              "#0d0887"
             ],
             [
              0.1111111111111111,
              "#46039f"
             ],
             [
              0.2222222222222222,
              "#7201a8"
             ],
             [
              0.3333333333333333,
              "#9c179e"
             ],
             [
              0.4444444444444444,
              "#bd3786"
             ],
             [
              0.5555555555555556,
              "#d8576b"
             ],
             [
              0.6666666666666666,
              "#ed7953"
             ],
             [
              0.7777777777777778,
              "#fb9f3a"
             ],
             [
              0.8888888888888888,
              "#fdca26"
             ],
             [
              1,
              "#f0f921"
             ]
            ],
            "type": "histogram2d"
           }
          ],
          "histogram2dcontour": [
           {
            "colorbar": {
             "outlinewidth": 0,
             "ticks": ""
            },
            "colorscale": [
             [
              0,
              "#0d0887"
             ],
             [
              0.1111111111111111,
              "#46039f"
             ],
             [
              0.2222222222222222,
              "#7201a8"
             ],
             [
              0.3333333333333333,
              "#9c179e"
             ],
             [
              0.4444444444444444,
              "#bd3786"
             ],
             [
              0.5555555555555556,
              "#d8576b"
             ],
             [
              0.6666666666666666,
              "#ed7953"
             ],
             [
              0.7777777777777778,
              "#fb9f3a"
             ],
             [
              0.8888888888888888,
              "#fdca26"
             ],
             [
              1,
              "#f0f921"
             ]
            ],
            "type": "histogram2dcontour"
           }
          ],
          "mesh3d": [
           {
            "colorbar": {
             "outlinewidth": 0,
             "ticks": ""
            },
            "type": "mesh3d"
           }
          ],
          "parcoords": [
           {
            "line": {
             "colorbar": {
              "outlinewidth": 0,
              "ticks": ""
             }
            },
            "type": "parcoords"
           }
          ],
          "pie": [
           {
            "automargin": true,
            "type": "pie"
           }
          ],
          "scatter": [
           {
            "fillpattern": {
             "fillmode": "overlay",
             "size": 10,
             "solidity": 0.2
            },
            "type": "scatter"
           }
          ],
          "scatter3d": [
           {
            "line": {
             "colorbar": {
              "outlinewidth": 0,
              "ticks": ""
             }
            },
            "marker": {
             "colorbar": {
              "outlinewidth": 0,
              "ticks": ""
             }
            },
            "type": "scatter3d"
           }
          ],
          "scattercarpet": [
           {
            "marker": {
             "colorbar": {
              "outlinewidth": 0,
              "ticks": ""
             }
            },
            "type": "scattercarpet"
           }
          ],
          "scattergeo": [
           {
            "marker": {
             "colorbar": {
              "outlinewidth": 0,
              "ticks": ""
             }
            },
            "type": "scattergeo"
           }
          ],
          "scattergl": [
           {
            "marker": {
             "colorbar": {
              "outlinewidth": 0,
              "ticks": ""
             }
            },
            "type": "scattergl"
           }
          ],
          "scattermap": [
           {
            "marker": {
             "colorbar": {
              "outlinewidth": 0,
              "ticks": ""
             }
            },
            "type": "scattermap"
           }
          ],
          "scattermapbox": [
           {
            "marker": {
             "colorbar": {
              "outlinewidth": 0,
              "ticks": ""
             }
            },
            "type": "scattermapbox"
           }
          ],
          "scatterpolar": [
           {
            "marker": {
             "colorbar": {
              "outlinewidth": 0,
              "ticks": ""
             }
            },
            "type": "scatterpolar"
           }
          ],
          "scatterpolargl": [
           {
            "marker": {
             "colorbar": {
              "outlinewidth": 0,
              "ticks": ""
             }
            },
            "type": "scatterpolargl"
           }
          ],
          "scatterternary": [
           {
            "marker": {
             "colorbar": {
              "outlinewidth": 0,
              "ticks": ""
             }
            },
            "type": "scatterternary"
           }
          ],
          "surface": [
           {
            "colorbar": {
             "outlinewidth": 0,
             "ticks": ""
            },
            "colorscale": [
             [
              0,
              "#0d0887"
             ],
             [
              0.1111111111111111,
              "#46039f"
             ],
             [
              0.2222222222222222,
              "#7201a8"
             ],
             [
              0.3333333333333333,
              "#9c179e"
             ],
             [
              0.4444444444444444,
              "#bd3786"
             ],
             [
              0.5555555555555556,
              "#d8576b"
             ],
             [
              0.6666666666666666,
              "#ed7953"
             ],
             [
              0.7777777777777778,
              "#fb9f3a"
             ],
             [
              0.8888888888888888,
              "#fdca26"
             ],
             [
              1,
              "#f0f921"
             ]
            ],
            "type": "surface"
           }
          ],
          "table": [
           {
            "cells": {
             "fill": {
              "color": "#EBF0F8"
             },
             "line": {
              "color": "white"
             }
            },
            "header": {
             "fill": {
              "color": "#C8D4E3"
             },
             "line": {
              "color": "white"
             }
            },
            "type": "table"
           }
          ]
         },
         "layout": {
          "annotationdefaults": {
           "arrowcolor": "#2a3f5f",
           "arrowhead": 0,
           "arrowwidth": 1
          },
          "autotypenumbers": "strict",
          "coloraxis": {
           "colorbar": {
            "outlinewidth": 0,
            "ticks": ""
           }
          },
          "colorscale": {
           "diverging": [
            [
             0,
             "#8e0152"
            ],
            [
             0.1,
             "#c51b7d"
            ],
            [
             0.2,
             "#de77ae"
            ],
            [
             0.3,
             "#f1b6da"
            ],
            [
             0.4,
             "#fde0ef"
            ],
            [
             0.5,
             "#f7f7f7"
            ],
            [
             0.6,
             "#e6f5d0"
            ],
            [
             0.7,
             "#b8e186"
            ],
            [
             0.8,
             "#7fbc41"
            ],
            [
             0.9,
             "#4d9221"
            ],
            [
             1,
             "#276419"
            ]
           ],
           "sequential": [
            [
             0,
             "#0d0887"
            ],
            [
             0.1111111111111111,
             "#46039f"
            ],
            [
             0.2222222222222222,
             "#7201a8"
            ],
            [
             0.3333333333333333,
             "#9c179e"
            ],
            [
             0.4444444444444444,
             "#bd3786"
            ],
            [
             0.5555555555555556,
             "#d8576b"
            ],
            [
             0.6666666666666666,
             "#ed7953"
            ],
            [
             0.7777777777777778,
             "#fb9f3a"
            ],
            [
             0.8888888888888888,
             "#fdca26"
            ],
            [
             1,
             "#f0f921"
            ]
           ],
           "sequentialminus": [
            [
             0,
             "#0d0887"
            ],
            [
             0.1111111111111111,
             "#46039f"
            ],
            [
             0.2222222222222222,
             "#7201a8"
            ],
            [
             0.3333333333333333,
             "#9c179e"
            ],
            [
             0.4444444444444444,
             "#bd3786"
            ],
            [
             0.5555555555555556,
             "#d8576b"
            ],
            [
             0.6666666666666666,
             "#ed7953"
            ],
            [
             0.7777777777777778,
             "#fb9f3a"
            ],
            [
             0.8888888888888888,
             "#fdca26"
            ],
            [
             1,
             "#f0f921"
            ]
           ]
          },
          "colorway": [
           "#636efa",
           "#EF553B",
           "#00cc96",
           "#ab63fa",
           "#FFA15A",
           "#19d3f3",
           "#FF6692",
           "#B6E880",
           "#FF97FF",
           "#FECB52"
          ],
          "font": {
           "color": "#2a3f5f"
          },
          "geo": {
           "bgcolor": "white",
           "lakecolor": "white",
           "landcolor": "white",
           "showlakes": true,
           "showland": true,
           "subunitcolor": "#C8D4E3"
          },
          "hoverlabel": {
           "align": "left"
          },
          "hovermode": "closest",
          "mapbox": {
           "style": "light"
          },
          "paper_bgcolor": "white",
          "plot_bgcolor": "white",
          "polar": {
           "angularaxis": {
            "gridcolor": "#EBF0F8",
            "linecolor": "#EBF0F8",
            "ticks": ""
           },
           "bgcolor": "white",
           "radialaxis": {
            "gridcolor": "#EBF0F8",
            "linecolor": "#EBF0F8",
            "ticks": ""
           }
          },
          "scene": {
           "xaxis": {
            "backgroundcolor": "white",
            "gridcolor": "#DFE8F3",
            "gridwidth": 2,
            "linecolor": "#EBF0F8",
            "showbackground": true,
            "ticks": "",
            "zerolinecolor": "#EBF0F8"
           },
           "yaxis": {
            "backgroundcolor": "white",
            "gridcolor": "#DFE8F3",
            "gridwidth": 2,
            "linecolor": "#EBF0F8",
            "showbackground": true,
            "ticks": "",
            "zerolinecolor": "#EBF0F8"
           },
           "zaxis": {
            "backgroundcolor": "white",
            "gridcolor": "#DFE8F3",
            "gridwidth": 2,
            "linecolor": "#EBF0F8",
            "showbackground": true,
            "ticks": "",
            "zerolinecolor": "#EBF0F8"
           }
          },
          "shapedefaults": {
           "line": {
            "color": "#2a3f5f"
           }
          },
          "ternary": {
           "aaxis": {
            "gridcolor": "#DFE8F3",
            "linecolor": "#A2B1C6",
            "ticks": ""
           },
           "baxis": {
            "gridcolor": "#DFE8F3",
            "linecolor": "#A2B1C6",
            "ticks": ""
           },
           "bgcolor": "white",
           "caxis": {
            "gridcolor": "#DFE8F3",
            "linecolor": "#A2B1C6",
            "ticks": ""
           }
          },
          "title": {
           "x": 0.05
          },
          "xaxis": {
           "automargin": true,
           "gridcolor": "#EBF0F8",
           "linecolor": "#EBF0F8",
           "ticks": "",
           "title": {
            "standoff": 15
           },
           "zerolinecolor": "#EBF0F8",
           "zerolinewidth": 2
          },
          "yaxis": {
           "automargin": true,
           "gridcolor": "#EBF0F8",
           "linecolor": "#EBF0F8",
           "ticks": "",
           "title": {
            "standoff": 15
           },
           "zerolinecolor": "#EBF0F8",
           "zerolinewidth": 2
          }
         }
        },
        "title": {
         "font": {
          "color": "Black",
          "size": 22
         },
         "text": "Topic Word Scores",
         "x": 0.5,
         "xanchor": "center",
         "yanchor": "top"
        },
        "width": 1000,
        "xaxis": {
         "anchor": "y",
         "domain": [
          0,
          0.175
         ],
         "showgrid": true
        },
        "xaxis10": {
         "anchor": "y10",
         "domain": [
          0.275,
          0.45
         ],
         "showgrid": true
        },
        "xaxis11": {
         "anchor": "y11",
         "domain": [
          0.55,
          0.7250000000000001
         ],
         "showgrid": true
        },
        "xaxis12": {
         "anchor": "y12",
         "domain": [
          0.825,
          1
         ],
         "showgrid": true
        },
        "xaxis2": {
         "anchor": "y2",
         "domain": [
          0.275,
          0.45
         ],
         "showgrid": true
        },
        "xaxis3": {
         "anchor": "y3",
         "domain": [
          0.55,
          0.7250000000000001
         ],
         "showgrid": true
        },
        "xaxis4": {
         "anchor": "y4",
         "domain": [
          0.825,
          1
         ],
         "showgrid": true
        },
        "xaxis5": {
         "anchor": "y5",
         "domain": [
          0,
          0.175
         ],
         "showgrid": true
        },
        "xaxis6": {
         "anchor": "y6",
         "domain": [
          0.275,
          0.45
         ],
         "showgrid": true
        },
        "xaxis7": {
         "anchor": "y7",
         "domain": [
          0.55,
          0.7250000000000001
         ],
         "showgrid": true
        },
        "xaxis8": {
         "anchor": "y8",
         "domain": [
          0.825,
          1
         ],
         "showgrid": true
        },
        "xaxis9": {
         "anchor": "y9",
         "domain": [
          0,
          0.175
         ],
         "showgrid": true
        },
        "yaxis": {
         "anchor": "x",
         "domain": [
          0.7555555555555555,
          1
         ],
         "showgrid": true
        },
        "yaxis10": {
         "anchor": "x10",
         "domain": [
          0,
          0.24444444444444446
         ],
         "showgrid": true
        },
        "yaxis11": {
         "anchor": "x11",
         "domain": [
          0,
          0.24444444444444446
         ],
         "showgrid": true
        },
        "yaxis12": {
         "anchor": "x12",
         "domain": [
          0,
          0.24444444444444446
         ],
         "showgrid": true
        },
        "yaxis2": {
         "anchor": "x2",
         "domain": [
          0.7555555555555555,
          1
         ],
         "showgrid": true
        },
        "yaxis3": {
         "anchor": "x3",
         "domain": [
          0.7555555555555555,
          1
         ],
         "showgrid": true
        },
        "yaxis4": {
         "anchor": "x4",
         "domain": [
          0.7555555555555555,
          1
         ],
         "showgrid": true
        },
        "yaxis5": {
         "anchor": "x5",
         "domain": [
          0.37777777777777777,
          0.6222222222222222
         ],
         "showgrid": true
        },
        "yaxis6": {
         "anchor": "x6",
         "domain": [
          0.37777777777777777,
          0.6222222222222222
         ],
         "showgrid": true
        },
        "yaxis7": {
         "anchor": "x7",
         "domain": [
          0.37777777777777777,
          0.6222222222222222
         ],
         "showgrid": true
        },
        "yaxis8": {
         "anchor": "x8",
         "domain": [
          0.37777777777777777,
          0.6222222222222222
         ],
         "showgrid": true
        },
        "yaxis9": {
         "anchor": "x9",
         "domain": [
          0,
          0.24444444444444446
         ],
         "showgrid": true
        }
       }
      }
     },
     "metadata": {},
     "output_type": "display_data"
    }
   ],
   "source": [
    "topic_model.visualize_barchart(top_n_topics=10)"
   ]
  },
  {
   "cell_type": "code",
   "execution_count": null,
   "id": "d41bb184",
   "metadata": {},
   "outputs": [
    {
     "data": {
      "text/plain": [
       "([5, 2, 4, 3, 7],\n",
       " [0.240261778174641,\n",
       "  0.14154916391490824,\n",
       "  0.12056455087506576,\n",
       "  0.11725534069405912,\n",
       "  0.09801569026391993])"
      ]
     },
     "execution_count": 80,
     "metadata": {},
     "output_type": "execute_result"
    }
   ],
   "source": [
    "topic_model.find_topics(\"respon cs\", top_n=5)"
   ]
  },
  {
   "cell_type": "markdown",
   "id": "2ccea80c",
   "metadata": {},
   "source": [
    "<h3>CEK COHERENCE SCORE</h3>"
   ]
  },
  {
   "cell_type": "code",
   "execution_count": null,
   "id": "50b1ee78",
   "metadata": {},
   "outputs": [
    {
     "name": "stdout",
     "output_type": "stream",
     "text": [
      "Requirement already satisfied: gensim in c:\\users\\andi ragil\\.conda\\envs\\topikenv\\lib\\site-packages (4.3.3)\n",
      "Requirement already satisfied: numpy<2.0,>=1.18.5 in c:\\users\\andi ragil\\.conda\\envs\\topikenv\\lib\\site-packages (from gensim) (1.26.4)\n",
      "Requirement already satisfied: scipy<1.14.0,>=1.7.0 in c:\\users\\andi ragil\\.conda\\envs\\topikenv\\lib\\site-packages (from gensim) (1.13.1)\n",
      "Requirement already satisfied: smart-open>=1.8.1 in c:\\users\\andi ragil\\.conda\\envs\\topikenv\\lib\\site-packages (from gensim) (7.3.0.post1)\n",
      "Requirement already satisfied: wrapt in c:\\users\\andi ragil\\.conda\\envs\\topikenv\\lib\\site-packages (from smart-open>=1.8.1->gensim) (1.17.2)\n",
      "Note: you may need to restart the kernel to use updated packages.\n"
     ]
    }
   ],
   "source": [
    "%pip install gensim"
   ]
  },
  {
   "cell_type": "code",
   "execution_count": null,
   "id": "1e602cfc",
   "metadata": {},
   "outputs": [],
   "source": [
    "from gensim.models.coherencemodel import CoherenceModel\n",
    "from gensim.corpora import Dictionary\n",
    "\n",
    "# Tokenisasi teks ulasan\n",
    "tokens = [text.split() for text in df['final_text']]\n",
    "\n",
    "# Buat dictionary dan corpus\n",
    "dictionary = Dictionary(tokens)\n",
    "corpus = [dictionary.doc2bow(text) for text in tokens]\n",
    "\n",
    "# Ambil kata-kata representatif dari setiap topik\n",
    "topics = topic_model.get_topics()\n",
    "topic_words = []\n",
    "for topic_id, word_probs in topics.items():\n",
    "    words = [word for word, _ in word_probs]\n",
    "    topic_words.append(words)\n",
    "\n",
    "# Hitung coherence per topik\n",
    "coherence_model = CoherenceModel(\n",
    "    topics=topic_words,\n",
    "    texts=tokens,\n",
    "    corpus=corpus,\n",
    "    dictionary=dictionary,\n",
    "    coherence='c_v'\n",
    ")\n",
    "\n",
    "# Dapatkan daftar coherence per topik\n",
    "coherence_per_topic = coherence_model.get_coherence_per_topic()\n",
    "\n",
    "# Cetak hasilnya\n",
    "for idx, score in enumerate(coherence_per_topic):\n",
    "    print(f\"Topik {idx}: Coherence = {score:.4f}\")\n"
   ]
  },
  {
   "cell_type": "code",
   "execution_count": null,
   "id": "67128168",
   "metadata": {},
   "outputs": [
    {
     "name": "stdout",
     "output_type": "stream",
     "text": [
      "Coherence Score: 0.5600\n"
     ]
    }
   ],
   "source": [
    "from gensim.models.coherencemodel import CoherenceModel\n",
    "from gensim.corpora import Dictionary\n",
    "\n",
    "tokens = [text.split() for text in df['final_text']] \n",
    "\n",
    "\n",
    "dictionary = Dictionary(tokens)\n",
    "corpus = [dictionary.doc2bow(text) for text in tokens]\n",
    "\n",
    "topics = topic_model.get_topics()\n",
    "topic_words = []\n",
    "for topic_id, word_probs in topics.items():\n",
    "    words = [word for word, _ in word_probs] \n",
    "    topic_words.append(words)\n",
    "\n",
    "\n",
    "coherence_model = CoherenceModel(\n",
    "    topics=topic_words,\n",
    "    texts=tokens,\n",
    "    corpus=corpus,\n",
    "    dictionary=dictionary,\n",
    "    coherence='c_v'\n",
    ")\n",
    "\n",
    "coherence = coherence_model.get_coherence()\n",
    "print(f\"Coherence Score: {coherence:.4f}\")"
   ]
  },
  {
   "cell_type": "markdown",
   "id": "cef96708",
   "metadata": {},
   "source": [
    "<H4>OPSIONAL CODE</H4>"
   ]
  },
  {
   "cell_type": "code",
   "execution_count": null,
   "id": "6387dece",
   "metadata": {},
   "outputs": [],
   "source": [
    "# Simpan model topik ke file\n",
    "# docs = df['final_text'].tolist()\n",
    "# topics, probs = topic_model.fit_transform(docs)\n",
    "\n",
    "\n",
    "# import numpy as np\n",
    "\n",
    "# # Konversi ke list of float dengan ambil nilai tertinggi per dokumen\n",
    "# max_probs = [float(np.max(p)) for p in probs]\n",
    "\n",
    "# doc_topics = pd.DataFrame({\n",
    "#     \"text\": docs,\n",
    "#     \"topic\": topics,\n",
    "#     \"probability\": max_probs\n",
    "# })\n",
    "\n",
    "# doc_topics.to_csv(\"topik_per_dokumen.csv\", index=False)\n",
    "\n",
    "\n",
    "# # Dapatkan label topik dari BERTopic\n",
    "# topic_labels = topic_model.get_topic_info().set_index('Topic')['Name'].to_dict()\n",
    "\n",
    "# doc_topics['topic_label'] = doc_topics['topic'].map(topic_labels)\n",
    "# doc_topics.to_csv(\"topik_per_dokumen2.csv\", index=False)\n",
    "\n",
    "# topic_model.get_topic_info().to_csv(\"topik_info.csv\", index=False)\n"
   ]
  },
  {
   "cell_type": "code",
   "execution_count": null,
   "id": "040ecfc2",
   "metadata": {},
   "outputs": [],
   "source": [
    "# # cek bentuk topics dan probs\n",
    "# print(type(topics), type(topics[0]))\n",
    "# print(type(probs), type(probs[0]))"
   ]
  },
  {
   "cell_type": "code",
   "execution_count": null,
   "id": "578eab4a",
   "metadata": {},
   "outputs": [],
   "source": [
    "# # Ambil teks final untuk analisis topik\n",
    "# docs = df['final_text'].tolist()"
   ]
  },
  {
   "cell_type": "code",
   "execution_count": null,
   "id": "a716b32f",
   "metadata": {},
   "outputs": [],
   "source": [
    "# # Cek panjang\n",
    "# print(len(docs), len(topics), len(probs))"
   ]
  },
  {
   "cell_type": "code",
   "execution_count": null,
   "id": "6736f513",
   "metadata": {},
   "outputs": [
    {
     "data": {
      "text/plain": [
       "['cuma mau menyampaikan pesan dulu sering beli kuota bikin tenang yg unlimited mbps kecepatannya stabil terutama streaming film ngeyoutube sekarang beli yg mbps yg lama mbps kog malah sinyal gk stabil buat streaming ig youtube malah jadi ngelag bahkan buat download kecepatan maks cuma kbps mohon segera perbaiki harga paketan mahal kog kecepatanya kayak pakai indosat',\n",
       " 'jaringannya aneh daerah kemaren kemaren pake telkom aman aman malah lancar banget sekali pakai byu jaringan selalu naik turun sinyal gak stabil terkadang jga kouta habis walaupun isi gb tetep buka aplikasi apapun lag kouta isinya buat kalian pikirpikir dulu kalo mau pakai byu nyesel kayak kalo main game selalu ngelag aneh banget',\n",
       " 'dulu byu cukup stabil sekarang sering lag terutama main game online aneh banget kalau direkam malah lancar kalau justru makin ngelag padahal sinyal penuh speedtest normal coba berbagai cara restart hp reset jaringan ubah apn bahkan pakai hp hasilnya tetap sama byu bermasalah cs memberi solusi cek sinyal tunggu perbaiki kalau terpaksa pindah provider lebih stabil']"
      ]
     },
     "execution_count": 87,
     "metadata": {},
     "output_type": "execute_result"
    }
   ],
   "source": [
    "topic_model.get_representative_docs(0)"
   ]
  },
  {
   "cell_type": "code",
   "execution_count": null,
   "id": "83392dc6",
   "metadata": {},
   "outputs": [
    {
     "data": {
      "text/plain": [
       "['buka app selalu bugs muncul tulisan terjadi kesalahan jaringan mksdnya gmn mau beli paketan liat pulsa sisa paket yaa jd gak mosok terjadi error page tiap hari gk beres kesel bgt padahal signal g beli paket jg yg gb dipake lancar gmn nih pelayanannya sangat buruk susah mau cek beli paketnya buat perpanjang',\n",
       " 'aku dah lama pakai byu akhir sering error aplikasinya mau cek kuota jadi susah ntar tiba kuota habis tgl kelewat baru diakses update coba clear cache ah nyebelin update kemaren dah sekarang error apps dah terbaru dah logout login uninstal instal restart hp clear cache dah semua hari error edit update terbaru semua',\n",
       " 'suka jelas aplikasi sering eror terjadi kesalahan lag loading screen yg lama kuota udah masuk data lama digunakan padahal udh restart ponsel sama notif bilang menyelesaikan pembayaran padahal sebelumnya udah berhasil kalo buka aplikasi jangan disuruh login ulang terus keadaan aku gak kuota benerbener nyusahin banget kedepannya diperbaiki masalah']"
      ]
     },
     "execution_count": 88,
     "metadata": {},
     "output_type": "execute_result"
    }
   ],
   "source": [
    "topic_model.get_representative_docs(1)"
   ]
  },
  {
   "cell_type": "code",
   "execution_count": null,
   "id": "3ac4b783",
   "metadata": {},
   "outputs": [
    {
     "data": {
      "text/plain": [
       "['kecewa pembelian simcard kedua kuota gb pembayaran via shopee pay berhasil kepotong saldonya aplikasi u muncul resi pengiriman kartunya malah disuruh beli paket kan konyol udah email chatt ig sampe mau live chatt slow respon kalau penanganan atas masalah bakal youtube sama akun sosmed udah setia selama setahun pas pembelian kedua kalinya malah kaya gini kecewa',\n",
       " 'baru beli kuota pulsa awalnya katanya gangguan terus pembayaran gagal saldo gopay berkurang cek aplikasi ternyata masuk kuotanya x isi paket kuota x isi pulsa masuk sama sekali cek gopay transaksi berhasil donk perbaiki',\n",
       " 'mau coba pake byu kata temen bagus baru transaksi beli kartu awalnya pembayaran berhasil trs akhirnya indomaret tempat pengambilan pas proses petugasnya katanya suruh coba refresh aplikasi malah status pembayaran jd pending alhasil pulang bawa apa apa byu ambil uangnya saldo shopee terpotong bukti pembayaran jelas mau lapor bingung']"
      ]
     },
     "execution_count": 89,
     "metadata": {},
     "output_type": "execute_result"
    }
   ],
   "source": [
    "topic_model.get_representative_docs(2)"
   ]
  },
  {
   "cell_type": "code",
   "execution_count": null,
   "id": "362a7304",
   "metadata": {},
   "outputs": [
    {
     "data": {
      "text/plain": [
       "['kartu digital kaga jelas suka bug beli paket berbeda kekuatan sinyal beda kan aneh pernah beli kuota gb lancar banget buat game kuota abis lalu beli gb tau malah sinyal atas bawah ilang padahal sinyal lancar sangat mengganggu sekali katanya kartu digital digunakan digital game malah stabil sinyal sering hilang sekali sering hilang bukan kadang kadang bukan kartu digital namanya kartu hilang sinyal',\n",
       " 'byu kok makin lama makin jelek sinyal padahal pas pertama beli sinyal lancar sekarang sinyal jadi makin jelek sekarang malah sinyal suka ilang sendiri g balik balik udah dicoba restart mode pesawat dimode g g tetep g diperbaiki segera padahal posisi jateng sinyal ilang terus mohon segera diperbaiki',\n",
       " 'ampun dah byu sinyalnya tambah gak jelas lebih sering stuck sinyal sekarang n buat buka internet lemotnya minta ampun bar g kaya g trus gak sinyal komplain via dm percuma gak perubahan sinyal tetap jelek banget n malah sering gak dapet sinyal masa mau gunain internet selalu pake mode pesawat buat cari sinyal buka aplikasi byu jg banyak bug sering log tibal udah gak rekomen pake byu']"
      ]
     },
     "execution_count": 90,
     "metadata": {},
     "output_type": "execute_result"
    }
   ],
   "source": [
    "topic_model.get_representative_docs(3)"
   ]
  },
  {
   "cell_type": "code",
   "execution_count": null,
   "id": "2fa0c9da",
   "metadata": {},
   "outputs": [
    {
     "data": {
      "text/plain": [
       "['bukan permasalahan jaringan emg dasarnya jaringan stabil stabil byu makin lama kualitasnya makin buruk awal awal rilis doang harga kuota murah jaringan bagus udh tahunan make byu makin kesini malah ancur jaringan makin stabil ping dlu kelar kelar masalahnya jadi buat maen game jumping terus lgi sekarang masalah lgi yg dlu buat youtube lancar skrng malah setting vidio p buffering terus dah lah semoga perkembangan',\n",
       " 'jaringan cukup bagus rumahku terpencil harga tergolong murah signalnya naik turunnya ngeri tp masalah harga terjangkau download streaming lancar kalau buat main game kurang bagus cuma satu aku notice kuotanya gatau lebih boros banget cepat habis aku coba provider utk pemakaian yg sama nonton youtube video yg sama kualitas video yg sama hasilnya kuota byu lebih boros cepat habis sayang banget kan',\n",
       " 'giliran pake jaringan byu speednya asli parah kuota gede sih tp buffering terus buka aplikasi ringan lemot ig youtube sama buffering katanya sinyal g yg teruji kenceng nyatanya lelet lbh parah dr g klo kaya gini malah bikin boros baterai hp padahal pagi full siang udah lowbat kayaknya lebih mending pake kartu tri walaupun pake kuota bonus tetepi internetnya tetep stabil']"
      ]
     },
     "execution_count": 91,
     "metadata": {},
     "output_type": "execute_result"
    }
   ],
   "source": [
    "topic_model.get_representative_docs(4)"
   ]
  },
  {
   "cell_type": "code",
   "execution_count": null,
   "id": "cdc2ae84",
   "metadata": {},
   "outputs": [
    {
     "data": {
      "text/plain": [
       "['sih byu kalo mau buka aplikasi susah terkadang update dulu udah restart hp kaga solusi tuh perbaiki aplikasinya bukan suruh restart hp mode pesawat terlebih mau cek kuota isi kuota terus gimana dah lama pake byu permasalahanya sama sering susah masuk aplikasinya update kadang jg susah provider baik kureng banget ngatasin keluhan customernya mohon perhatikan masukan kritikan customer thanks',\n",
       " 'halo min aku mau buka mau aktifin kuotanya suka loading trs lama abis tu keluar tulisan kaya terjadi kesalahan jangan panik mohon tunggu sebentar kamu menikmati pengalaman telekomunikasi terbaik padahal sebelumnya aman aman tp makin kesini sering muncul tulisan bgitu jaringanku g lancar full tp relog refresh tetep begituuu dimohon kerjasamanya ka diperbaiki terimakasih',\n",
       " 'nyaman bgt sebenernya pake byu aku cm pernah beli kuota mbps mbps sih pernah yg biar aman lebih hemat kendalanya beli paket baru pas baru dibayar ni kadang lgsg pake kaya beberapa jam jaringannya ilang jaringan h kadang g jg cuma wa ig yg bs akses kaya twitter telegram yt gabisa pas baru beberapa jam kemudian udh balik normal sih kalau diperbaiki kalau abis payment lgsg aktif pake gitu']"
      ]
     },
     "execution_count": 92,
     "metadata": {},
     "output_type": "execute_result"
    }
   ],
   "source": [
    "topic_model.get_representative_docs(5)"
   ]
  },
  {
   "cell_type": "code",
   "execution_count": null,
   "id": "276afe22",
   "metadata": {},
   "outputs": [
    {
     "data": {
      "text/plain": [
       "['aplikasi bagus bgtt gampang bgt buat beli kuota banyak diskon plus bonus yg sedikit aku jg rekomendasiin kluarga aku pke byu soalnya murahgampang makenya jaringannya enak banyak hiburan pilihan kuotanya banyak bgt mulai dri yg murah smpe yg mahal worth bgt byu asiknya pilih sendiri suka bgt gampang beli kuota sm pulsaa banyak jga diskon flash sale nyaa rekomended bgt',\n",
       " 'aplikasi yg sangat mudah digunakan keren sih pilih nomor sendiri beli kuota gampang banyak pilihannya lengkapp paling mantep byu tuh sering ngadain promo flash sale mantep banget pokonyaa',\n",
       " 'aplikasi byu nyaman bgt dipakai gampang gak lemot sering promo flash sale jadi enak banget digunain aplikasi beli nomor beli pulsa beli kuota internet keren deh pokoknya lengkap banget']"
      ]
     },
     "execution_count": 93,
     "metadata": {},
     "output_type": "execute_result"
    }
   ],
   "source": [
    "topic_model.get_representative_docs(6)"
   ]
  },
  {
   "cell_type": "code",
   "execution_count": null,
   "id": "21ab4ebf",
   "metadata": {},
   "outputs": [
    {
     "data": {
      "text/plain": [
       "['ekspektasiku terlalu tinggi turunan telkomsel banyak yg review bagus aku coba malah kecewa siang sinyal lumbayan bagus pas malem rumah ngirim pesan whatsapp susah udah nyoba hubungun cs nyoba cara yg saranin ternyata berhasil sinyalnya stabil semoga kedepannya perbaiki krna kuotaku jd boros sinyalnya lemot kalo download ulang beberapa kali',\n",
       " 'terpaksa kasih bintang bulan daftar paket byu yg unlimited jaringan lemot banget nyoba disaranin sama nindy tetap gak cuma dipakai ngirim pesan teks whatsapp download foto video gak bahkan buka status whatsapp gak',\n",
       " 'dear byu setahunan pakai byu inii awalnya kecepatannya bagus nyaman sekali aku pakai byu pas dipakai buat nyelesain skripsi ku kemarinn beberapa bulan belakangan kualitas sinyalnya menurun buruk sekali kecepatan internetnya memasuki waktu maghrib hingga malam kecepatan internetnya mulai menurun dipakai untu whatsapp pendingpending terus padahal chat tak upload unduh gambar video mohon segera diperbaiki lokasi kab sukoharjo']"
      ]
     },
     "execution_count": 94,
     "metadata": {},
     "output_type": "execute_result"
    }
   ],
   "source": [
    "topic_model.get_representative_docs(7)"
   ]
  },
  {
   "cell_type": "code",
   "execution_count": null,
   "id": "acf41758",
   "metadata": {},
   "outputs": [
    {
     "data": {
      "text/plain": [
       "['bintang lebih cukup byu provider yg sangat jelek buat yg pakai gak usah pakek biar menyesal beli paket melalui virtual account pembelian sukses tp paket masuk lapor cs dn bukti transfert kirim pertama langsung respon tp cs gak bs ngatasin masalah yg cuman sepele tiba langsung gak respon gak ahklah uang jadi korban provider gak bertanggung jawab auto langsung guting kartu simcartnya',\n",
       " 'udh beli paket kuota pembayaran via virtual account bca berhasil bukti pembayaran saldo rekening udh terpotong status msh pending aplikasinya komplain suruh nunggu hari gk mikir apa hari kira sebentar kali jgn pake byu ribet bli kuota gk masuk masuk gk pake ribet gk',\n",
       " 'kecewa beli paket internet yg rb gb pembayarannya via bni virtual account udah transfer tpi paketnya masuk udh jam nunggu padahal pembayaran pake virtual account bakal salah udah kirim bukti transfer sama nomor order email si nindi tpi bales kecewa']"
      ]
     },
     "execution_count": 95,
     "metadata": {},
     "output_type": "execute_result"
    }
   ],
   "source": [
    "topic_model.get_representative_docs(8)"
   ]
  },
  {
   "cell_type": "code",
   "execution_count": null,
   "id": "29136cbd",
   "metadata": {},
   "outputs": [
    {
     "data": {
      "text/html": [
       "<div>\n",
       "<style scoped>\n",
       "    .dataframe tbody tr th:only-of-type {\n",
       "        vertical-align: middle;\n",
       "    }\n",
       "\n",
       "    .dataframe tbody tr th {\n",
       "        vertical-align: top;\n",
       "    }\n",
       "\n",
       "    .dataframe thead th {\n",
       "        text-align: right;\n",
       "    }\n",
       "</style>\n",
       "<table border=\"1\" class=\"dataframe\">\n",
       "  <thead>\n",
       "    <tr style=\"text-align: right;\">\n",
       "      <th></th>\n",
       "      <th>Topic</th>\n",
       "      <th>Count</th>\n",
       "      <th>Name</th>\n",
       "      <th>Representation</th>\n",
       "      <th>Representative_Docs</th>\n",
       "    </tr>\n",
       "  </thead>\n",
       "  <tbody>\n",
       "    <tr>\n",
       "      <th>0</th>\n",
       "      <td>-1</td>\n",
       "      <td>4896</td>\n",
       "      <td>-1_sinyal_kartu_udah_yg</td>\n",
       "      <td>[sinyal, kartu, udah, yg, gak, pake, mau, kuota, byu, jaringan]</td>\n",
       "      <td>[ampe sekarang sinyal lemot terus niat ngebenerin gak sih udah chat nindy gak balesan udah chat officer katanya sinyal bagus bagus padahal mah gue make pusing banget nonton video malah lag sinyal main game lag sinyal udah sering buat laporan malah gak tanggepin kalau ajukan laporan selalu selesai sih gak pernah bener sinyal bener dong benerin sinyal kecewa berat sumpah sama byu udah coba semua saran tetep jelek, dulu jaringannya bagus sekarang sinyal jelek terus udah isi ulang yg mbps lemot udah pake mode pesawat ganti hp lemot sayang banget kan kalau beli kuota yg mbps kalau lemot perbaiki lah lama lama pake kartu laen, sekarang kasih segini dulu kecewa parah udah makai byu sinyal bagus awal pas tahun tibatiba jaringan jelek suka ilang gak stabil mau kirim gambar lama banget turnament tiba tiba hilang sinyalnya bahkan sekarang mau nonton youtube lemot banget ngelag gila udah mode tetap sama bahkan pas ganti jaringan g terus balik otomatis sama kalau gini lama lama pindah jaringan yg deh]</td>\n",
       "    </tr>\n",
       "    <tr>\n",
       "      <th>1</th>\n",
       "      <td>0</td>\n",
       "      <td>1695</td>\n",
       "      <td>0_mbps_unlimited_game_jaringan</td>\n",
       "      <td>[mbps, unlimited, game, jaringan, ping, stabil, wifi, paket, main, jaringannya]</td>\n",
       "      <td>[cuma mau menyampaikan pesan dulu sering beli kuota bikin tenang yg unlimited mbps kecepatannya stabil terutama streaming film ngeyoutube sekarang beli yg mbps yg lama mbps kog malah sinyal gk stabil buat streaming ig youtube malah jadi ngelag bahkan buat download kecepatan maks cuma kbps mohon segera perbaiki harga paketan mahal kog kecepatanya kayak pakai indosat, jaringannya aneh daerah kemaren kemaren pake telkom aman aman malah lancar banget sekali pakai byu jaringan selalu naik turun sinyal gak stabil terkadang jga kouta habis walaupun isi gb tetep buka aplikasi apapun lag kouta isinya buat kalian pikirpikir dulu kalo mau pakai byu nyesel kayak kalo main game selalu ngelag aneh banget, dulu byu cukup stabil sekarang sering lag terutama main game online aneh banget kalau direkam malah lancar kalau justru makin ngelag padahal sinyal penuh speedtest normal coba berbagai cara restart hp reset jaringan ubah apn bahkan pakai hp hasilnya tetap sama byu bermasalah cs memberi solusi cek sinyal tunggu perbaiki kalau terpaksa pindah provider lebih stabil]</td>\n",
       "    </tr>\n",
       "    <tr>\n",
       "      <th>2</th>\n",
       "      <td>1</td>\n",
       "      <td>1070</td>\n",
       "      <td>1_aplikasi_buka_aplikasinya_update</td>\n",
       "      <td>[aplikasi, buka, aplikasinya, update, dibuka, mau, error, app, login, kesalahan]</td>\n",
       "      <td>[buka app selalu bugs muncul tulisan terjadi kesalahan jaringan mksdnya gmn mau beli paketan liat pulsa sisa paket yaa jd gak mosok terjadi error page tiap hari gk beres kesel bgt padahal signal g beli paket jg yg gb dipake lancar gmn nih pelayanannya sangat buruk susah mau cek beli paketnya buat perpanjang, aku dah lama pakai byu akhir sering error aplikasinya mau cek kuota jadi susah ntar tiba kuota habis tgl kelewat baru diakses update coba clear cache ah nyebelin update kemaren dah sekarang error apps dah terbaru dah logout login uninstal instal restart hp clear cache dah semua hari error edit update terbaru semua, suka jelas aplikasi sering eror terjadi kesalahan lag loading screen yg lama kuota udah masuk data lama digunakan padahal udh restart ponsel sama notif bilang menyelesaikan pembayaran padahal sebelumnya udah berhasil kalo buka aplikasi jangan disuruh login ulang terus keadaan aku gak kuota benerbener nyusahin banget kedepannya diperbaiki masalah]</td>\n",
       "    </tr>\n",
       "    <tr>\n",
       "      <th>3</th>\n",
       "      <td>2</td>\n",
       "      <td>667</td>\n",
       "      <td>2_pembayaran_beli_transaksi_gb</td>\n",
       "      <td>[pembayaran, beli, transaksi, gb, bayar, masuk, saldo, kartu, berhasil, paket]</td>\n",
       "      <td>[kecewa pembelian simcard kedua kuota gb pembayaran via shopee pay berhasil kepotong saldonya aplikasi u muncul resi pengiriman kartunya malah disuruh beli paket kan konyol udah email chatt ig sampe mau live chatt slow respon kalau penanganan atas masalah bakal youtube sama akun sosmed udah setia selama setahun pas pembelian kedua kalinya malah kaya gini kecewa, baru beli kuota pulsa awalnya katanya gangguan terus pembayaran gagal saldo gopay berkurang cek aplikasi ternyata masuk kuotanya x isi paket kuota x isi pulsa masuk sama sekali cek gopay transaksi berhasil donk perbaiki, mau coba pake byu kata temen bagus baru transaksi beli kartu awalnya pembayaran berhasil trs akhirnya indomaret tempat pengambilan pas proses petugasnya katanya suruh coba refresh aplikasi malah status pembayaran jd pending alhasil pulang bawa apa apa byu ambil uangnya saldo shopee terpotong bukti pembayaran jelas mau lapor bingung]</td>\n",
       "    </tr>\n",
       "    <tr>\n",
       "      <th>4</th>\n",
       "      <td>3</td>\n",
       "      <td>530</td>\n",
       "      <td>3_sinyal_sinyalnya_ilang_hilang</td>\n",
       "      <td>[sinyal, sinyalnya, ilang, hilang, jelek, tiba, makin, pesawat, mode, pulsa]</td>\n",
       "      <td>[kartu digital kaga jelas suka bug beli paket berbeda kekuatan sinyal beda kan aneh pernah beli kuota gb lancar banget buat game kuota abis lalu beli gb tau malah sinyal atas bawah ilang padahal sinyal lancar sangat mengganggu sekali katanya kartu digital digunakan digital game malah stabil sinyal sering hilang sekali sering hilang bukan kadang kadang bukan kartu digital namanya kartu hilang sinyal, byu kok makin lama makin jelek sinyal padahal pas pertama beli sinyal lancar sekarang sinyal jadi makin jelek sekarang malah sinyal suka ilang sendiri g balik balik udah dicoba restart mode pesawat dimode g g tetep g diperbaiki segera padahal posisi jateng sinyal ilang terus mohon segera diperbaiki, ampun dah byu sinyalnya tambah gak jelas lebih sering stuck sinyal sekarang n buat buka internet lemotnya minta ampun bar g kaya g trus gak sinyal komplain via dm percuma gak perubahan sinyal tetap jelek banget n malah sering gak dapet sinyal masa mau gunain internet selalu pake mode pesawat buat cari sinyal buka aplikasi byu jg banyak bug sering log tibal udah gak rekomen pake byu]</td>\n",
       "    </tr>\n",
       "    <tr>\n",
       "      <th>5</th>\n",
       "      <td>4</td>\n",
       "      <td>169</td>\n",
       "      <td>4_youtube_nonton_instagram_topping</td>\n",
       "      <td>[youtube, nonton, instagram, topping, lancar, video, buat, streaming, buffering, main]</td>\n",
       "      <td>[bukan permasalahan jaringan emg dasarnya jaringan stabil stabil byu makin lama kualitasnya makin buruk awal awal rilis doang harga kuota murah jaringan bagus udh tahunan make byu makin kesini malah ancur jaringan makin stabil ping dlu kelar kelar masalahnya jadi buat maen game jumping terus lgi sekarang masalah lgi yg dlu buat youtube lancar skrng malah setting vidio p buffering terus dah lah semoga perkembangan, jaringan cukup bagus rumahku terpencil harga tergolong murah signalnya naik turunnya ngeri tp masalah harga terjangkau download streaming lancar kalau buat main game kurang bagus cuma satu aku notice kuotanya gatau lebih boros banget cepat habis aku coba provider utk pemakaian yg sama nonton youtube video yg sama kualitas video yg sama hasilnya kuota byu lebih boros cepat habis sayang banget kan, giliran pake jaringan byu speednya asli parah kuota gede sih tp buffering terus buka aplikasi ringan lemot ig youtube sama buffering katanya sinyal g yg teruji kenceng nyatanya lelet lbh parah dr g klo kaya gini malah bikin boros baterai hp padahal pagi full siang udah lowbat kayaknya lebih mending pake kartu tri walaupun pake kuota bonus tetepi internetnya tetep stabil]</td>\n",
       "    </tr>\n",
       "    <tr>\n",
       "      <th>6</th>\n",
       "      <td>5</td>\n",
       "      <td>154</td>\n",
       "      <td>5_udh_tetep_gabisa_bener</td>\n",
       "      <td>[udh, tetep, gabisa, bener, pake, provider, kamu, ganti, mau, telekomunikasi]</td>\n",
       "      <td>[sih byu kalo mau buka aplikasi susah terkadang update dulu udah restart hp kaga solusi tuh perbaiki aplikasinya bukan suruh restart hp mode pesawat terlebih mau cek kuota isi kuota terus gimana dah lama pake byu permasalahanya sama sering susah masuk aplikasinya update kadang jg susah provider baik kureng banget ngatasin keluhan customernya mohon perhatikan masukan kritikan customer thanks, halo min aku mau buka mau aktifin kuotanya suka loading trs lama abis tu keluar tulisan kaya terjadi kesalahan jangan panik mohon tunggu sebentar kamu menikmati pengalaman telekomunikasi terbaik padahal sebelumnya aman aman tp makin kesini sering muncul tulisan bgitu jaringanku g lancar full tp relog refresh tetep begituuu dimohon kerjasamanya ka diperbaiki terimakasih, nyaman bgt sebenernya pake byu aku cm pernah beli kuota mbps mbps sih pernah yg biar aman lebih hemat kendalanya beli paket baru pas baru dibayar ni kadang lgsg pake kaya beberapa jam jaringannya ilang jaringan h kadang g jg cuma wa ig yg bs akses kaya twitter telegram yt gabisa pas baru beberapa jam kemudian udh balik normal sih kalau diperbaiki kalau abis payment lgsg aktif pake gitu]</td>\n",
       "    </tr>\n",
       "    <tr>\n",
       "      <th>7</th>\n",
       "      <td>6</td>\n",
       "      <td>132</td>\n",
       "      <td>6_mudah_sale_flash_gampang</td>\n",
       "      <td>[mudah, sale, flash, gampang, lengkap, pilihan, keren, bagus, pilih, aplikasi]</td>\n",
       "      <td>[aplikasi bagus bgtt gampang bgt buat beli kuota banyak diskon plus bonus yg sedikit aku jg rekomendasiin kluarga aku pke byu soalnya murahgampang makenya jaringannya enak banyak hiburan pilihan kuotanya banyak bgt mulai dri yg murah smpe yg mahal worth bgt byu asiknya pilih sendiri suka bgt gampang beli kuota sm pulsaa banyak jga diskon flash sale nyaa rekomended bgt, aplikasi yg sangat mudah digunakan keren sih pilih nomor sendiri beli kuota gampang banyak pilihannya lengkapp paling mantep byu tuh sering ngadain promo flash sale mantep banget pokonyaa, aplikasi byu nyaman bgt dipakai gampang gak lemot sering promo flash sale jadi enak banget digunain aplikasi beli nomor beli pulsa beli kuota internet keren deh pokoknya lengkap banget]</td>\n",
       "    </tr>\n",
       "    <tr>\n",
       "      <th>8</th>\n",
       "      <td>7</td>\n",
       "      <td>34</td>\n",
       "      <td>7_whatsapp_ngirim_gambar_tak</td>\n",
       "      <td>[whatsapp, ngirim, gambar, tak, pesan, dipakai, wa, teks, topping, seriusan]</td>\n",
       "      <td>[ekspektasiku terlalu tinggi turunan telkomsel banyak yg review bagus aku coba malah kecewa siang sinyal lumbayan bagus pas malem rumah ngirim pesan whatsapp susah udah nyoba hubungun cs nyoba cara yg saranin ternyata berhasil sinyalnya stabil semoga kedepannya perbaiki krna kuotaku jd boros sinyalnya lemot kalo download ulang beberapa kali, terpaksa kasih bintang bulan daftar paket byu yg unlimited jaringan lemot banget nyoba disaranin sama nindy tetap gak cuma dipakai ngirim pesan teks whatsapp download foto video gak bahkan buka status whatsapp gak, dear byu setahunan pakai byu inii awalnya kecepatannya bagus nyaman sekali aku pakai byu pas dipakai buat nyelesain skripsi ku kemarinn beberapa bulan belakangan kualitas sinyalnya menurun buruk sekali kecepatan internetnya memasuki waktu maghrib hingga malam kecepatan internetnya mulai menurun dipakai untu whatsapp pendingpending terus padahal chat tak upload unduh gambar video mohon segera diperbaiki lokasi kab sukoharjo]</td>\n",
       "    </tr>\n",
       "    <tr>\n",
       "      <th>9</th>\n",
       "      <td>8</td>\n",
       "      <td>29</td>\n",
       "      <td>8_virtual_account_bca_pembayaran</td>\n",
       "      <td>[virtual, account, bca, pembayaran, berhasil, masuk, bni, bank, transaksi, pembayarannya]</td>\n",
       "      <td>[bintang lebih cukup byu provider yg sangat jelek buat yg pakai gak usah pakek biar menyesal beli paket melalui virtual account pembelian sukses tp paket masuk lapor cs dn bukti transfert kirim pertama langsung respon tp cs gak bs ngatasin masalah yg cuman sepele tiba langsung gak respon gak ahklah uang jadi korban provider gak bertanggung jawab auto langsung guting kartu simcartnya, udh beli paket kuota pembayaran via virtual account bca berhasil bukti pembayaran saldo rekening udh terpotong status msh pending aplikasinya komplain suruh nunggu hari gk mikir apa hari kira sebentar kali jgn pake byu ribet bli kuota gk masuk masuk gk pake ribet gk, kecewa beli paket internet yg rb gb pembayarannya via bni virtual account udah transfer tpi paketnya masuk udh jam nunggu padahal pembayaran pake virtual account bakal salah udah kirim bukti transfer sama nomor order email si nindi tpi bales kecewa]</td>\n",
       "    </tr>\n",
       "  </tbody>\n",
       "</table>\n",
       "</div>"
      ],
      "text/plain": [
       "   Topic  Count                                Name  \\\n",
       "0     -1   4896             -1_sinyal_kartu_udah_yg   \n",
       "1      0   1695      0_mbps_unlimited_game_jaringan   \n",
       "2      1   1070  1_aplikasi_buka_aplikasinya_update   \n",
       "3      2    667      2_pembayaran_beli_transaksi_gb   \n",
       "4      3    530     3_sinyal_sinyalnya_ilang_hilang   \n",
       "5      4    169  4_youtube_nonton_instagram_topping   \n",
       "6      5    154            5_udh_tetep_gabisa_bener   \n",
       "7      6    132          6_mudah_sale_flash_gampang   \n",
       "8      7     34        7_whatsapp_ngirim_gambar_tak   \n",
       "9      8     29    8_virtual_account_bca_pembayaran   \n",
       "\n",
       "                                                                              Representation  \\\n",
       "0                            [sinyal, kartu, udah, yg, gak, pake, mau, kuota, byu, jaringan]   \n",
       "1            [mbps, unlimited, game, jaringan, ping, stabil, wifi, paket, main, jaringannya]   \n",
       "2           [aplikasi, buka, aplikasinya, update, dibuka, mau, error, app, login, kesalahan]   \n",
       "3             [pembayaran, beli, transaksi, gb, bayar, masuk, saldo, kartu, berhasil, paket]   \n",
       "4               [sinyal, sinyalnya, ilang, hilang, jelek, tiba, makin, pesawat, mode, pulsa]   \n",
       "5     [youtube, nonton, instagram, topping, lancar, video, buat, streaming, buffering, main]   \n",
       "6              [udh, tetep, gabisa, bener, pake, provider, kamu, ganti, mau, telekomunikasi]   \n",
       "7             [mudah, sale, flash, gampang, lengkap, pilihan, keren, bagus, pilih, aplikasi]   \n",
       "8               [whatsapp, ngirim, gambar, tak, pesan, dipakai, wa, teks, topping, seriusan]   \n",
       "9  [virtual, account, bca, pembayaran, berhasil, masuk, bni, bank, transaksi, pembayarannya]   \n",
       "\n",
       "                                                                                                                                                                                                                                                                                                                                                                                                                                                                                                                                                                                                                                                                                                                                                                                                                                                                                                                                                                                                                                                                                                                                                                                                                       Representative_Docs  \n",
       "0                                                                                                                                                                                              [ampe sekarang sinyal lemot terus niat ngebenerin gak sih udah chat nindy gak balesan udah chat officer katanya sinyal bagus bagus padahal mah gue make pusing banget nonton video malah lag sinyal main game lag sinyal udah sering buat laporan malah gak tanggepin kalau ajukan laporan selalu selesai sih gak pernah bener sinyal bener dong benerin sinyal kecewa berat sumpah sama byu udah coba semua saran tetep jelek, dulu jaringannya bagus sekarang sinyal jelek terus udah isi ulang yg mbps lemot udah pake mode pesawat ganti hp lemot sayang banget kan kalau beli kuota yg mbps kalau lemot perbaiki lah lama lama pake kartu laen, sekarang kasih segini dulu kecewa parah udah makai byu sinyal bagus awal pas tahun tibatiba jaringan jelek suka ilang gak stabil mau kirim gambar lama banget turnament tiba tiba hilang sinyalnya bahkan sekarang mau nonton youtube lemot banget ngelag gila udah mode tetap sama bahkan pas ganti jaringan g terus balik otomatis sama kalau gini lama lama pindah jaringan yg deh]  \n",
       "1                                                                                                                               [cuma mau menyampaikan pesan dulu sering beli kuota bikin tenang yg unlimited mbps kecepatannya stabil terutama streaming film ngeyoutube sekarang beli yg mbps yg lama mbps kog malah sinyal gk stabil buat streaming ig youtube malah jadi ngelag bahkan buat download kecepatan maks cuma kbps mohon segera perbaiki harga paketan mahal kog kecepatanya kayak pakai indosat, jaringannya aneh daerah kemaren kemaren pake telkom aman aman malah lancar banget sekali pakai byu jaringan selalu naik turun sinyal gak stabil terkadang jga kouta habis walaupun isi gb tetep buka aplikasi apapun lag kouta isinya buat kalian pikirpikir dulu kalo mau pakai byu nyesel kayak kalo main game selalu ngelag aneh banget, dulu byu cukup stabil sekarang sering lag terutama main game online aneh banget kalau direkam malah lancar kalau justru makin ngelag padahal sinyal penuh speedtest normal coba berbagai cara restart hp reset jaringan ubah apn bahkan pakai hp hasilnya tetap sama byu bermasalah cs memberi solusi cek sinyal tunggu perbaiki kalau terpaksa pindah provider lebih stabil]  \n",
       "2                                                                                                                                                                                                                          [buka app selalu bugs muncul tulisan terjadi kesalahan jaringan mksdnya gmn mau beli paketan liat pulsa sisa paket yaa jd gak mosok terjadi error page tiap hari gk beres kesel bgt padahal signal g beli paket jg yg gb dipake lancar gmn nih pelayanannya sangat buruk susah mau cek beli paketnya buat perpanjang, aku dah lama pakai byu akhir sering error aplikasinya mau cek kuota jadi susah ntar tiba kuota habis tgl kelewat baru diakses update coba clear cache ah nyebelin update kemaren dah sekarang error apps dah terbaru dah logout login uninstal instal restart hp clear cache dah semua hari error edit update terbaru semua, suka jelas aplikasi sering eror terjadi kesalahan lag loading screen yg lama kuota udah masuk data lama digunakan padahal udh restart ponsel sama notif bilang menyelesaikan pembayaran padahal sebelumnya udah berhasil kalo buka aplikasi jangan disuruh login ulang terus keadaan aku gak kuota benerbener nyusahin banget kedepannya diperbaiki masalah]  \n",
       "3                                                                                                                                                                                                                                                                                 [kecewa pembelian simcard kedua kuota gb pembayaran via shopee pay berhasil kepotong saldonya aplikasi u muncul resi pengiriman kartunya malah disuruh beli paket kan konyol udah email chatt ig sampe mau live chatt slow respon kalau penanganan atas masalah bakal youtube sama akun sosmed udah setia selama setahun pas pembelian kedua kalinya malah kaya gini kecewa, baru beli kuota pulsa awalnya katanya gangguan terus pembayaran gagal saldo gopay berkurang cek aplikasi ternyata masuk kuotanya x isi paket kuota x isi pulsa masuk sama sekali cek gopay transaksi berhasil donk perbaiki, mau coba pake byu kata temen bagus baru transaksi beli kartu awalnya pembayaran berhasil trs akhirnya indomaret tempat pengambilan pas proses petugasnya katanya suruh coba refresh aplikasi malah status pembayaran jd pending alhasil pulang bawa apa apa byu ambil uangnya saldo shopee terpotong bukti pembayaran jelas mau lapor bingung]  \n",
       "4                                                                                                        [kartu digital kaga jelas suka bug beli paket berbeda kekuatan sinyal beda kan aneh pernah beli kuota gb lancar banget buat game kuota abis lalu beli gb tau malah sinyal atas bawah ilang padahal sinyal lancar sangat mengganggu sekali katanya kartu digital digunakan digital game malah stabil sinyal sering hilang sekali sering hilang bukan kadang kadang bukan kartu digital namanya kartu hilang sinyal, byu kok makin lama makin jelek sinyal padahal pas pertama beli sinyal lancar sekarang sinyal jadi makin jelek sekarang malah sinyal suka ilang sendiri g balik balik udah dicoba restart mode pesawat dimode g g tetep g diperbaiki segera padahal posisi jateng sinyal ilang terus mohon segera diperbaiki, ampun dah byu sinyalnya tambah gak jelas lebih sering stuck sinyal sekarang n buat buka internet lemotnya minta ampun bar g kaya g trus gak sinyal komplain via dm percuma gak perubahan sinyal tetap jelek banget n malah sering gak dapet sinyal masa mau gunain internet selalu pake mode pesawat buat cari sinyal buka aplikasi byu jg banyak bug sering log tibal udah gak rekomen pake byu]  \n",
       "5  [bukan permasalahan jaringan emg dasarnya jaringan stabil stabil byu makin lama kualitasnya makin buruk awal awal rilis doang harga kuota murah jaringan bagus udh tahunan make byu makin kesini malah ancur jaringan makin stabil ping dlu kelar kelar masalahnya jadi buat maen game jumping terus lgi sekarang masalah lgi yg dlu buat youtube lancar skrng malah setting vidio p buffering terus dah lah semoga perkembangan, jaringan cukup bagus rumahku terpencil harga tergolong murah signalnya naik turunnya ngeri tp masalah harga terjangkau download streaming lancar kalau buat main game kurang bagus cuma satu aku notice kuotanya gatau lebih boros banget cepat habis aku coba provider utk pemakaian yg sama nonton youtube video yg sama kualitas video yg sama hasilnya kuota byu lebih boros cepat habis sayang banget kan, giliran pake jaringan byu speednya asli parah kuota gede sih tp buffering terus buka aplikasi ringan lemot ig youtube sama buffering katanya sinyal g yg teruji kenceng nyatanya lelet lbh parah dr g klo kaya gini malah bikin boros baterai hp padahal pagi full siang udah lowbat kayaknya lebih mending pake kartu tri walaupun pake kuota bonus tetepi internetnya tetep stabil]  \n",
       "6                                    [sih byu kalo mau buka aplikasi susah terkadang update dulu udah restart hp kaga solusi tuh perbaiki aplikasinya bukan suruh restart hp mode pesawat terlebih mau cek kuota isi kuota terus gimana dah lama pake byu permasalahanya sama sering susah masuk aplikasinya update kadang jg susah provider baik kureng banget ngatasin keluhan customernya mohon perhatikan masukan kritikan customer thanks, halo min aku mau buka mau aktifin kuotanya suka loading trs lama abis tu keluar tulisan kaya terjadi kesalahan jangan panik mohon tunggu sebentar kamu menikmati pengalaman telekomunikasi terbaik padahal sebelumnya aman aman tp makin kesini sering muncul tulisan bgitu jaringanku g lancar full tp relog refresh tetep begituuu dimohon kerjasamanya ka diperbaiki terimakasih, nyaman bgt sebenernya pake byu aku cm pernah beli kuota mbps mbps sih pernah yg biar aman lebih hemat kendalanya beli paket baru pas baru dibayar ni kadang lgsg pake kaya beberapa jam jaringannya ilang jaringan h kadang g jg cuma wa ig yg bs akses kaya twitter telegram yt gabisa pas baru beberapa jam kemudian udh balik normal sih kalau diperbaiki kalau abis payment lgsg aktif pake gitu]  \n",
       "7                                                                                                                                                                                                                                                                                                                                                                                                                                                               [aplikasi bagus bgtt gampang bgt buat beli kuota banyak diskon plus bonus yg sedikit aku jg rekomendasiin kluarga aku pke byu soalnya murahgampang makenya jaringannya enak banyak hiburan pilihan kuotanya banyak bgt mulai dri yg murah smpe yg mahal worth bgt byu asiknya pilih sendiri suka bgt gampang beli kuota sm pulsaa banyak jga diskon flash sale nyaa rekomended bgt, aplikasi yg sangat mudah digunakan keren sih pilih nomor sendiri beli kuota gampang banyak pilihannya lengkapp paling mantep byu tuh sering ngadain promo flash sale mantep banget pokonyaa, aplikasi byu nyaman bgt dipakai gampang gak lemot sering promo flash sale jadi enak banget digunain aplikasi beli nomor beli pulsa beli kuota internet keren deh pokoknya lengkap banget]  \n",
       "8                                                                                                                                                                                                               [ekspektasiku terlalu tinggi turunan telkomsel banyak yg review bagus aku coba malah kecewa siang sinyal lumbayan bagus pas malem rumah ngirim pesan whatsapp susah udah nyoba hubungun cs nyoba cara yg saranin ternyata berhasil sinyalnya stabil semoga kedepannya perbaiki krna kuotaku jd boros sinyalnya lemot kalo download ulang beberapa kali, terpaksa kasih bintang bulan daftar paket byu yg unlimited jaringan lemot banget nyoba disaranin sama nindy tetap gak cuma dipakai ngirim pesan teks whatsapp download foto video gak bahkan buka status whatsapp gak, dear byu setahunan pakai byu inii awalnya kecepatannya bagus nyaman sekali aku pakai byu pas dipakai buat nyelesain skripsi ku kemarinn beberapa bulan belakangan kualitas sinyalnya menurun buruk sekali kecepatan internetnya memasuki waktu maghrib hingga malam kecepatan internetnya mulai menurun dipakai untu whatsapp pendingpending terus padahal chat tak upload unduh gambar video mohon segera diperbaiki lokasi kab sukoharjo]  \n",
       "9                                                                                                                                                                                                                                                                                                 [bintang lebih cukup byu provider yg sangat jelek buat yg pakai gak usah pakek biar menyesal beli paket melalui virtual account pembelian sukses tp paket masuk lapor cs dn bukti transfert kirim pertama langsung respon tp cs gak bs ngatasin masalah yg cuman sepele tiba langsung gak respon gak ahklah uang jadi korban provider gak bertanggung jawab auto langsung guting kartu simcartnya, udh beli paket kuota pembayaran via virtual account bca berhasil bukti pembayaran saldo rekening udh terpotong status msh pending aplikasinya komplain suruh nunggu hari gk mikir apa hari kira sebentar kali jgn pake byu ribet bli kuota gk masuk masuk gk pake ribet gk, kecewa beli paket internet yg rb gb pembayarannya via bni virtual account udah transfer tpi paketnya masuk udh jam nunggu padahal pembayaran pake virtual account bakal salah udah kirim bukti transfer sama nomor order email si nindi tpi bales kecewa]  "
      ]
     },
     "execution_count": 96,
     "metadata": {},
     "output_type": "execute_result"
    }
   ],
   "source": [
    "# Tampilkan topik yang dihasilkan\n",
    "topic_model.get_topic_info()"
   ]
  },
  {
   "cell_type": "code",
   "execution_count": null,
   "id": "1f036c27",
   "metadata": {},
   "outputs": [
    {
     "data": {
      "text/plain": [
       "[('whatsapp', 1.0899905729330355),\n",
       " ('ngirim', 0.4291381550617059),\n",
       " ('gambar', 0.42472334678364904),\n",
       " ('tak', 0.4146081488355335),\n",
       " ('pesan', 0.4115925132107217),\n",
       " ('dipakai', 0.3758787157912651),\n",
       " ('wa', 0.3614924284806969),\n",
       " ('teks', 0.35799236041946575),\n",
       " ('topping', 0.35483489213483904),\n",
       " ('seriusan', 0.35099830169093993)]"
      ]
     },
     "execution_count": 97,
     "metadata": {},
     "output_type": "execute_result"
    }
   ],
   "source": [
    "topic_model.get_topic(7)"
   ]
  },
  {
   "cell_type": "code",
   "execution_count": null,
   "id": "b9f24b1c",
   "metadata": {},
   "outputs": [],
   "source": [
    "# topic_model.save(\"bertopic_model_byu\")"
   ]
  },
  {
   "cell_type": "code",
   "execution_count": null,
   "id": "73e8329d",
   "metadata": {},
   "outputs": [],
   "source": [
    "# #cek kata-kata yang paling sering muncul\n",
    "\n",
    "# from sklearn.feature_extraction.text import CountVectorizer\n",
    "\n",
    "# vec = CountVectorizer()\n",
    "# X = vec.fit_transform(df['final_text'])\n",
    "# word_freq = zip(vec.get_feature_names_out(), X.toarray().sum(axis=0))\n",
    "# sorted(word_freq, key=lambda x: -x[1])[:30]\n",
    "\n",
    "# # Cek panjang teks final\n",
    "# df['final_text'].str.split().apply(len).describe()"
   ]
  },
  {
   "cell_type": "code",
   "execution_count": null,
   "id": "410a8861",
   "metadata": {},
   "outputs": [],
   "source": [
    "#Simpan csv untuk visualisasi\n",
    "\n",
    "# import numpy as np\n",
    "\n",
    "# # Ambil probabilitas tertinggi untuk tiap dokumen\n",
    "# max_probs = [float(np.max(p)) for p in probs]\n",
    "\n",
    "# # Buat DataFrame topik per dokumen\n",
    "# doc_topics = pd.DataFrame({\n",
    "#     \"text\": df['final_text'],  # Atau ganti dengan docs jika kamu punya list asli dokumen\n",
    "#     \"topic\": topics,\n",
    "#     \"probability\": max_probs\n",
    "# })\n",
    "\n",
    "# # Ambil label topik dari BERTopic\n",
    "# topic_labels = topic_model.get_topic_info().set_index('Topic')['Name'].to_dict()\n",
    "\n",
    "# # Tambahkan label ke DataFrame\n",
    "# doc_topics['topic_label'] = doc_topics['topic'].map(topic_labels)\n",
    "\n",
    "# # Simpan sebagai CSV\n",
    "# doc_topics.to_csv(\"topik_per_dokumen.csv\", index=False)\n",
    "\n",
    "# # Simpan ringkasan topik ke CSV\n",
    "# topic_model.get_topic_info().to_csv(\"topik_summary.csv\", index=False)"
   ]
  }
 ],
 "metadata": {
  "kernelspec": {
   "display_name": "topikenv",
   "language": "python",
   "name": "python3"
  },
  "language_info": {
   "codemirror_mode": {
    "name": "ipython",
    "version": 3
   },
   "file_extension": ".py",
   "mimetype": "text/x-python",
   "name": "python",
   "nbconvert_exporter": "python",
   "pygments_lexer": "ipython3",
   "version": "3.12.9"
  }
 },
 "nbformat": 4,
 "nbformat_minor": 5
}
