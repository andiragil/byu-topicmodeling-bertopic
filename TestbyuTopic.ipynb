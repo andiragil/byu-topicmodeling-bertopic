{
 "cells": [
  {
   "cell_type": "markdown",
   "id": "00347854",
   "metadata": {},
   "source": [
    "<h3>LOAD DAN TAMPILKAN DATA</h3> "
   ]
  },
  {
   "cell_type": "code",
   "execution_count": 3,
   "id": "e83e6ff3",
   "metadata": {},
   "outputs": [
    {
     "data": {
      "text/html": [
       "<div>\n",
       "<style scoped>\n",
       "    .dataframe tbody tr th:only-of-type {\n",
       "        vertical-align: middle;\n",
       "    }\n",
       "\n",
       "    .dataframe tbody tr th {\n",
       "        vertical-align: top;\n",
       "    }\n",
       "\n",
       "    .dataframe thead th {\n",
       "        text-align: right;\n",
       "    }\n",
       "</style>\n",
       "<table border=\"1\" class=\"dataframe\">\n",
       "  <thead>\n",
       "    <tr style=\"text-align: right;\">\n",
       "      <th></th>\n",
       "      <th>userName</th>\n",
       "      <th>content</th>\n",
       "      <th>score</th>\n",
       "      <th>at</th>\n",
       "    </tr>\n",
       "  </thead>\n",
       "  <tbody>\n",
       "    <tr>\n",
       "      <th>0</th>\n",
       "      <td>Pengguna Google</td>\n",
       "      <td>aku pengguna lama by.u, tapi kok lama kelamaan aku ngerasa by.u itu jaringannya AGAK kurang stabil ya? kalo buat sosmed an enak\" aja sih, enggak begitu kerasa jaringan kurang stabilnya,kalo dipake untuk nge-game baru agak berasa,kadang ngeganggu banget,waktu pertama kali pake by.u itu jaringannya bener\" poll loh. jarang sekali yg namanya penurunan jaringan,tapi ya gitu,mohon maaf,sekarang jaringan by.u agak kurang menurutku</td>\n",
       "      <td>4</td>\n",
       "      <td>2025-05-01 14:10:47</td>\n",
       "    </tr>\n",
       "    <tr>\n",
       "      <th>1</th>\n",
       "      <td>Pengguna Google</td>\n",
       "      <td>untuk jaringan by.u nya sih bagus cuman kalau untuk diaplikasi nya sudah mulai kendor untuk transaksinya, dulunya bisa melakukan transfer melalui akun virtual bank dan sekarang hanya bisa melalui ewallet doang itu kalau boleh kembalikan seperti dulu, dan tambahin untuk metode pembayarannya melalui QRIS. kedua, untuk android versi +12 susah menggunakan aplikasi by.u, seperti saya baru unduh aplikasi by.u di android 12, tidak dapat. terdapat tulisan \"Perangkat keras aman tidak tersedia\"</td>\n",
       "      <td>3</td>\n",
       "      <td>2025-05-12 19:38:54</td>\n",
       "    </tr>\n",
       "    <tr>\n",
       "      <th>2</th>\n",
       "      <td>Pengguna Google</td>\n",
       "      <td>Makin kesini byu makin ga bagus,aplikasi sering ga bisa di buka,komplain respon lambat, proses lama kadang nunggu lama,giliran keluar aplikasi ada balesan,masuk aplikasi hilang lagi cs nya kayak sengaja gitu, tidak ada penyelesaian, di notif kendala sudah selesai tapi masalah nya masih terjadi, cs nya pun kadang ganti ganti di satu chat, parah, chat cs di aplikasi sinyal bagus paket ada mode data atau pake wifi juga susah, parah, jwbn anak SD dari cs&amp;develover cmn nunjukin ketololan nya.</td>\n",
       "      <td>1</td>\n",
       "      <td>2025-04-23 11:17:48</td>\n",
       "    </tr>\n",
       "    <tr>\n",
       "      <th>3</th>\n",
       "      <td>Pengguna Google</td>\n",
       "      <td>Aplikasinya sebenarnya bagus, banyak pilihan kuota yang menarik juga. Tapi minusnya jaringannya, kadang suka hilang atau lambat banget, padahal gaada gangguan sama sekali, sudah coba ganti jenis jaringan pun tetap aja jaringannya lambat. Mohon kedepannya ini lebih diperhatikan lagi karena jujur perkara jaringan ini sangat menggangu, apalagi kalau perlu ngerjain sesuatu yang penting tapi jaringannya malah lambat. Mungkin itu aja, makasih ya</td>\n",
       "      <td>3</td>\n",
       "      <td>2025-05-16 14:15:18</td>\n",
       "    </tr>\n",
       "    <tr>\n",
       "      <th>4</th>\n",
       "      <td>Pengguna Google</td>\n",
       "      <td>pake by u lumayan lama tapi sampe sekarang belum ada peningkatan jaringan aja, kalau di kota yahh bagus soalnya dapet 5G nya, tapi kalau di lingkungan rumah? maen game ping nya 108ms mulu sering ping merahh, gak pernah tuh maen game ampe ping hijau dari dulu gini mulu cuman cocok buat maen youtube doank itupun otomatis resolusi nya jadi 360p an, kek nya emang harus maen sekitaran kota doank</td>\n",
       "      <td>3</td>\n",
       "      <td>2025-05-03 16:20:23</td>\n",
       "    </tr>\n",
       "  </tbody>\n",
       "</table>\n",
       "</div>"
      ],
      "text/plain": [
       "          userName  \\\n",
       "0  Pengguna Google   \n",
       "1  Pengguna Google   \n",
       "2  Pengguna Google   \n",
       "3  Pengguna Google   \n",
       "4  Pengguna Google   \n",
       "\n",
       "                                                                                                                                                                                                                                                                                                                                                                                                                                                                                                        content  \\\n",
       "0                                                                   aku pengguna lama by.u, tapi kok lama kelamaan aku ngerasa by.u itu jaringannya AGAK kurang stabil ya? kalo buat sosmed an enak\" aja sih, enggak begitu kerasa jaringan kurang stabilnya,kalo dipake untuk nge-game baru agak berasa,kadang ngeganggu banget,waktu pertama kali pake by.u itu jaringannya bener\" poll loh. jarang sekali yg namanya penurunan jaringan,tapi ya gitu,mohon maaf,sekarang jaringan by.u agak kurang menurutku   \n",
       "1     untuk jaringan by.u nya sih bagus cuman kalau untuk diaplikasi nya sudah mulai kendor untuk transaksinya, dulunya bisa melakukan transfer melalui akun virtual bank dan sekarang hanya bisa melalui ewallet doang itu kalau boleh kembalikan seperti dulu, dan tambahin untuk metode pembayarannya melalui QRIS. kedua, untuk android versi +12 susah menggunakan aplikasi by.u, seperti saya baru unduh aplikasi by.u di android 12, tidak dapat. terdapat tulisan \"Perangkat keras aman tidak tersedia\"   \n",
       "2  Makin kesini byu makin ga bagus,aplikasi sering ga bisa di buka,komplain respon lambat, proses lama kadang nunggu lama,giliran keluar aplikasi ada balesan,masuk aplikasi hilang lagi cs nya kayak sengaja gitu, tidak ada penyelesaian, di notif kendala sudah selesai tapi masalah nya masih terjadi, cs nya pun kadang ganti ganti di satu chat, parah, chat cs di aplikasi sinyal bagus paket ada mode data atau pake wifi juga susah, parah, jwbn anak SD dari cs&develover cmn nunjukin ketololan nya.   \n",
       "3                                                   Aplikasinya sebenarnya bagus, banyak pilihan kuota yang menarik juga. Tapi minusnya jaringannya, kadang suka hilang atau lambat banget, padahal gaada gangguan sama sekali, sudah coba ganti jenis jaringan pun tetap aja jaringannya lambat. Mohon kedepannya ini lebih diperhatikan lagi karena jujur perkara jaringan ini sangat menggangu, apalagi kalau perlu ngerjain sesuatu yang penting tapi jaringannya malah lambat. Mungkin itu aja, makasih ya   \n",
       "4                                                                                                     pake by u lumayan lama tapi sampe sekarang belum ada peningkatan jaringan aja, kalau di kota yahh bagus soalnya dapet 5G nya, tapi kalau di lingkungan rumah? maen game ping nya 108ms mulu sering ping merahh, gak pernah tuh maen game ampe ping hijau dari dulu gini mulu cuman cocok buat maen youtube doank itupun otomatis resolusi nya jadi 360p an, kek nya emang harus maen sekitaran kota doank   \n",
       "\n",
       "   score                   at  \n",
       "0      4  2025-05-01 14:10:47  \n",
       "1      3  2025-05-12 19:38:54  \n",
       "2      1  2025-04-23 11:17:48  \n",
       "3      3  2025-05-16 14:15:18  \n",
       "4      3  2025-05-03 16:20:23  "
      ]
     },
     "execution_count": 3,
     "metadata": {},
     "output_type": "execute_result"
    }
   ],
   "source": [
    "# Import library\n",
    "import pandas as pd\n",
    "\n",
    "# Setting agar kolom panjang tampil semua\n",
    "pd.set_option('display.max_colwidth', None)\n",
    "\n",
    "# Load file CSV ulasan\n",
    "df = pd.read_csv('Testbyu_reviews.csv')\n",
    "\n",
    "# Lihat 5 baris pertama\n",
    "df.head()"
   ]
  },
  {
   "cell_type": "markdown",
   "id": "51e70890",
   "metadata": {},
   "source": [
    "<h3>HAPUS DATA KURANG DARI 10</h3> "
   ]
  },
  {
   "cell_type": "code",
   "execution_count": 4,
   "id": "39935924",
   "metadata": {},
   "outputs": [],
   "source": [
    "df = df[df['content'].apply(lambda x: len(x.split()) >= 10)]"
   ]
  },
  {
   "cell_type": "markdown",
   "id": "484cbee1",
   "metadata": {},
   "source": [
    "<h3>CEK JUMLAH ULASAN SETELAH DIHAPUS</h3>"
   ]
  },
  {
   "cell_type": "code",
   "execution_count": 5,
   "id": "dd5bbb37",
   "metadata": {},
   "outputs": [
    {
     "name": "stdout",
     "output_type": "stream",
     "text": [
      "(9376, 4)\n"
     ]
    }
   ],
   "source": [
    "print(df.shape)"
   ]
  },
  {
   "cell_type": "markdown",
   "id": "3d3a035a",
   "metadata": {},
   "source": [
    "<h3>CASE FOLDING</h3>"
   ]
  },
  {
   "cell_type": "code",
   "execution_count": 6,
   "id": "da841396",
   "metadata": {},
   "outputs": [
    {
     "data": {
      "text/html": [
       "<div>\n",
       "<style scoped>\n",
       "    .dataframe tbody tr th:only-of-type {\n",
       "        vertical-align: middle;\n",
       "    }\n",
       "\n",
       "    .dataframe tbody tr th {\n",
       "        vertical-align: top;\n",
       "    }\n",
       "\n",
       "    .dataframe thead th {\n",
       "        text-align: right;\n",
       "    }\n",
       "</style>\n",
       "<table border=\"1\" class=\"dataframe\">\n",
       "  <thead>\n",
       "    <tr style=\"text-align: right;\">\n",
       "      <th></th>\n",
       "      <th>content</th>\n",
       "      <th>case_folding</th>\n",
       "    </tr>\n",
       "  </thead>\n",
       "  <tbody>\n",
       "    <tr>\n",
       "      <th>0</th>\n",
       "      <td>aku pengguna lama by.u, tapi kok lama kelamaan aku ngerasa by.u itu jaringannya AGAK kurang stabil ya? kalo buat sosmed an enak\" aja sih, enggak begitu kerasa jaringan kurang stabilnya,kalo dipake untuk nge-game baru agak berasa,kadang ngeganggu banget,waktu pertama kali pake by.u itu jaringannya bener\" poll loh. jarang sekali yg namanya penurunan jaringan,tapi ya gitu,mohon maaf,sekarang jaringan by.u agak kurang menurutku</td>\n",
       "      <td>aku pengguna lama by.u, tapi kok lama kelamaan aku ngerasa by.u itu jaringannya agak kurang stabil ya? kalo buat sosmed an enak\" aja sih, enggak begitu kerasa jaringan kurang stabilnya,kalo dipake untuk nge-game baru agak berasa,kadang ngeganggu banget,waktu pertama kali pake by.u itu jaringannya bener\" poll loh. jarang sekali yg namanya penurunan jaringan,tapi ya gitu,mohon maaf,sekarang jaringan by.u agak kurang menurutku</td>\n",
       "    </tr>\n",
       "    <tr>\n",
       "      <th>1</th>\n",
       "      <td>untuk jaringan by.u nya sih bagus cuman kalau untuk diaplikasi nya sudah mulai kendor untuk transaksinya, dulunya bisa melakukan transfer melalui akun virtual bank dan sekarang hanya bisa melalui ewallet doang itu kalau boleh kembalikan seperti dulu, dan tambahin untuk metode pembayarannya melalui QRIS. kedua, untuk android versi +12 susah menggunakan aplikasi by.u, seperti saya baru unduh aplikasi by.u di android 12, tidak dapat. terdapat tulisan \"Perangkat keras aman tidak tersedia\"</td>\n",
       "      <td>untuk jaringan by.u nya sih bagus cuman kalau untuk diaplikasi nya sudah mulai kendor untuk transaksinya, dulunya bisa melakukan transfer melalui akun virtual bank dan sekarang hanya bisa melalui ewallet doang itu kalau boleh kembalikan seperti dulu, dan tambahin untuk metode pembayarannya melalui qris. kedua, untuk android versi +12 susah menggunakan aplikasi by.u, seperti saya baru unduh aplikasi by.u di android 12, tidak dapat. terdapat tulisan \"perangkat keras aman tidak tersedia\"</td>\n",
       "    </tr>\n",
       "    <tr>\n",
       "      <th>2</th>\n",
       "      <td>Makin kesini byu makin ga bagus,aplikasi sering ga bisa di buka,komplain respon lambat, proses lama kadang nunggu lama,giliran keluar aplikasi ada balesan,masuk aplikasi hilang lagi cs nya kayak sengaja gitu, tidak ada penyelesaian, di notif kendala sudah selesai tapi masalah nya masih terjadi, cs nya pun kadang ganti ganti di satu chat, parah, chat cs di aplikasi sinyal bagus paket ada mode data atau pake wifi juga susah, parah, jwbn anak SD dari cs&amp;develover cmn nunjukin ketololan nya.</td>\n",
       "      <td>makin kesini byu makin ga bagus,aplikasi sering ga bisa di buka,komplain respon lambat, proses lama kadang nunggu lama,giliran keluar aplikasi ada balesan,masuk aplikasi hilang lagi cs nya kayak sengaja gitu, tidak ada penyelesaian, di notif kendala sudah selesai tapi masalah nya masih terjadi, cs nya pun kadang ganti ganti di satu chat, parah, chat cs di aplikasi sinyal bagus paket ada mode data atau pake wifi juga susah, parah, jwbn anak sd dari cs&amp;develover cmn nunjukin ketololan nya.</td>\n",
       "    </tr>\n",
       "    <tr>\n",
       "      <th>3</th>\n",
       "      <td>Aplikasinya sebenarnya bagus, banyak pilihan kuota yang menarik juga. Tapi minusnya jaringannya, kadang suka hilang atau lambat banget, padahal gaada gangguan sama sekali, sudah coba ganti jenis jaringan pun tetap aja jaringannya lambat. Mohon kedepannya ini lebih diperhatikan lagi karena jujur perkara jaringan ini sangat menggangu, apalagi kalau perlu ngerjain sesuatu yang penting tapi jaringannya malah lambat. Mungkin itu aja, makasih ya</td>\n",
       "      <td>aplikasinya sebenarnya bagus, banyak pilihan kuota yang menarik juga. tapi minusnya jaringannya, kadang suka hilang atau lambat banget, padahal gaada gangguan sama sekali, sudah coba ganti jenis jaringan pun tetap aja jaringannya lambat. mohon kedepannya ini lebih diperhatikan lagi karena jujur perkara jaringan ini sangat menggangu, apalagi kalau perlu ngerjain sesuatu yang penting tapi jaringannya malah lambat. mungkin itu aja, makasih ya</td>\n",
       "    </tr>\n",
       "    <tr>\n",
       "      <th>4</th>\n",
       "      <td>pake by u lumayan lama tapi sampe sekarang belum ada peningkatan jaringan aja, kalau di kota yahh bagus soalnya dapet 5G nya, tapi kalau di lingkungan rumah? maen game ping nya 108ms mulu sering ping merahh, gak pernah tuh maen game ampe ping hijau dari dulu gini mulu cuman cocok buat maen youtube doank itupun otomatis resolusi nya jadi 360p an, kek nya emang harus maen sekitaran kota doank</td>\n",
       "      <td>pake by u lumayan lama tapi sampe sekarang belum ada peningkatan jaringan aja, kalau di kota yahh bagus soalnya dapet 5g nya, tapi kalau di lingkungan rumah? maen game ping nya 108ms mulu sering ping merahh, gak pernah tuh maen game ampe ping hijau dari dulu gini mulu cuman cocok buat maen youtube doank itupun otomatis resolusi nya jadi 360p an, kek nya emang harus maen sekitaran kota doank</td>\n",
       "    </tr>\n",
       "  </tbody>\n",
       "</table>\n",
       "</div>"
      ],
      "text/plain": [
       "                                                                                                                                                                                                                                                                                                                                                                                                                                                                                                        content  \\\n",
       "0                                                                   aku pengguna lama by.u, tapi kok lama kelamaan aku ngerasa by.u itu jaringannya AGAK kurang stabil ya? kalo buat sosmed an enak\" aja sih, enggak begitu kerasa jaringan kurang stabilnya,kalo dipake untuk nge-game baru agak berasa,kadang ngeganggu banget,waktu pertama kali pake by.u itu jaringannya bener\" poll loh. jarang sekali yg namanya penurunan jaringan,tapi ya gitu,mohon maaf,sekarang jaringan by.u agak kurang menurutku   \n",
       "1     untuk jaringan by.u nya sih bagus cuman kalau untuk diaplikasi nya sudah mulai kendor untuk transaksinya, dulunya bisa melakukan transfer melalui akun virtual bank dan sekarang hanya bisa melalui ewallet doang itu kalau boleh kembalikan seperti dulu, dan tambahin untuk metode pembayarannya melalui QRIS. kedua, untuk android versi +12 susah menggunakan aplikasi by.u, seperti saya baru unduh aplikasi by.u di android 12, tidak dapat. terdapat tulisan \"Perangkat keras aman tidak tersedia\"   \n",
       "2  Makin kesini byu makin ga bagus,aplikasi sering ga bisa di buka,komplain respon lambat, proses lama kadang nunggu lama,giliran keluar aplikasi ada balesan,masuk aplikasi hilang lagi cs nya kayak sengaja gitu, tidak ada penyelesaian, di notif kendala sudah selesai tapi masalah nya masih terjadi, cs nya pun kadang ganti ganti di satu chat, parah, chat cs di aplikasi sinyal bagus paket ada mode data atau pake wifi juga susah, parah, jwbn anak SD dari cs&develover cmn nunjukin ketololan nya.   \n",
       "3                                                   Aplikasinya sebenarnya bagus, banyak pilihan kuota yang menarik juga. Tapi minusnya jaringannya, kadang suka hilang atau lambat banget, padahal gaada gangguan sama sekali, sudah coba ganti jenis jaringan pun tetap aja jaringannya lambat. Mohon kedepannya ini lebih diperhatikan lagi karena jujur perkara jaringan ini sangat menggangu, apalagi kalau perlu ngerjain sesuatu yang penting tapi jaringannya malah lambat. Mungkin itu aja, makasih ya   \n",
       "4                                                                                                     pake by u lumayan lama tapi sampe sekarang belum ada peningkatan jaringan aja, kalau di kota yahh bagus soalnya dapet 5G nya, tapi kalau di lingkungan rumah? maen game ping nya 108ms mulu sering ping merahh, gak pernah tuh maen game ampe ping hijau dari dulu gini mulu cuman cocok buat maen youtube doank itupun otomatis resolusi nya jadi 360p an, kek nya emang harus maen sekitaran kota doank   \n",
       "\n",
       "                                                                                                                                                                                                                                                                                                                                                                                                                                                                                                   case_folding  \n",
       "0                                                                   aku pengguna lama by.u, tapi kok lama kelamaan aku ngerasa by.u itu jaringannya agak kurang stabil ya? kalo buat sosmed an enak\" aja sih, enggak begitu kerasa jaringan kurang stabilnya,kalo dipake untuk nge-game baru agak berasa,kadang ngeganggu banget,waktu pertama kali pake by.u itu jaringannya bener\" poll loh. jarang sekali yg namanya penurunan jaringan,tapi ya gitu,mohon maaf,sekarang jaringan by.u agak kurang menurutku  \n",
       "1     untuk jaringan by.u nya sih bagus cuman kalau untuk diaplikasi nya sudah mulai kendor untuk transaksinya, dulunya bisa melakukan transfer melalui akun virtual bank dan sekarang hanya bisa melalui ewallet doang itu kalau boleh kembalikan seperti dulu, dan tambahin untuk metode pembayarannya melalui qris. kedua, untuk android versi +12 susah menggunakan aplikasi by.u, seperti saya baru unduh aplikasi by.u di android 12, tidak dapat. terdapat tulisan \"perangkat keras aman tidak tersedia\"  \n",
       "2  makin kesini byu makin ga bagus,aplikasi sering ga bisa di buka,komplain respon lambat, proses lama kadang nunggu lama,giliran keluar aplikasi ada balesan,masuk aplikasi hilang lagi cs nya kayak sengaja gitu, tidak ada penyelesaian, di notif kendala sudah selesai tapi masalah nya masih terjadi, cs nya pun kadang ganti ganti di satu chat, parah, chat cs di aplikasi sinyal bagus paket ada mode data atau pake wifi juga susah, parah, jwbn anak sd dari cs&develover cmn nunjukin ketololan nya.  \n",
       "3                                                   aplikasinya sebenarnya bagus, banyak pilihan kuota yang menarik juga. tapi minusnya jaringannya, kadang suka hilang atau lambat banget, padahal gaada gangguan sama sekali, sudah coba ganti jenis jaringan pun tetap aja jaringannya lambat. mohon kedepannya ini lebih diperhatikan lagi karena jujur perkara jaringan ini sangat menggangu, apalagi kalau perlu ngerjain sesuatu yang penting tapi jaringannya malah lambat. mungkin itu aja, makasih ya  \n",
       "4                                                                                                     pake by u lumayan lama tapi sampe sekarang belum ada peningkatan jaringan aja, kalau di kota yahh bagus soalnya dapet 5g nya, tapi kalau di lingkungan rumah? maen game ping nya 108ms mulu sering ping merahh, gak pernah tuh maen game ampe ping hijau dari dulu gini mulu cuman cocok buat maen youtube doank itupun otomatis resolusi nya jadi 360p an, kek nya emang harus maen sekitaran kota doank  "
      ]
     },
     "execution_count": 6,
     "metadata": {},
     "output_type": "execute_result"
    }
   ],
   "source": [
    "# Ubah semua teks di kolom 'content' menjadi huruf kecil\n",
    "df['case_folding'] = df['content'].str.lower()\n",
    "\n",
    "# Tampilkan hasil case folding\n",
    "df[['content', 'case_folding']].head()"
   ]
  },
  {
   "cell_type": "markdown",
   "id": "af3119c8",
   "metadata": {},
   "source": [
    "<h3>FILTERING DATA SETELAH CASE FOLDING</h3> "
   ]
  },
  {
   "cell_type": "code",
   "execution_count": 7,
   "id": "9ec37aad",
   "metadata": {},
   "outputs": [
    {
     "data": {
      "text/html": [
       "<div>\n",
       "<style scoped>\n",
       "    .dataframe tbody tr th:only-of-type {\n",
       "        vertical-align: middle;\n",
       "    }\n",
       "\n",
       "    .dataframe tbody tr th {\n",
       "        vertical-align: top;\n",
       "    }\n",
       "\n",
       "    .dataframe thead th {\n",
       "        text-align: right;\n",
       "    }\n",
       "</style>\n",
       "<table border=\"1\" class=\"dataframe\">\n",
       "  <thead>\n",
       "    <tr style=\"text-align: right;\">\n",
       "      <th></th>\n",
       "      <th>case_folding</th>\n",
       "      <th>filtered_text</th>\n",
       "    </tr>\n",
       "  </thead>\n",
       "  <tbody>\n",
       "    <tr>\n",
       "      <th>0</th>\n",
       "      <td>aku pengguna lama by.u, tapi kok lama kelamaan aku ngerasa by.u itu jaringannya agak kurang stabil ya? kalo buat sosmed an enak\" aja sih, enggak begitu kerasa jaringan kurang stabilnya,kalo dipake untuk nge-game baru agak berasa,kadang ngeganggu banget,waktu pertama kali pake by.u itu jaringannya bener\" poll loh. jarang sekali yg namanya penurunan jaringan,tapi ya gitu,mohon maaf,sekarang jaringan by.u agak kurang menurutku</td>\n",
       "      <td>aku pengguna lama by u tapi kok lama kelamaan aku ngerasa by u itu jaringannya agak kurang stabil ya kalo buat sosmed an enak aja sih enggak begitu kerasa jaringan kurang stabilnya kalo dipake untuk ngegame baru agak berasa kadang ngeganggu banget waktu pertama kali pake by u itu jaringannya bener poll loh jarang sekali yg namanya penurunan jaringan tapi ya gitu mohon maaf sekarang jaringan by u agak kurang menurutku</td>\n",
       "    </tr>\n",
       "    <tr>\n",
       "      <th>1</th>\n",
       "      <td>untuk jaringan by.u nya sih bagus cuman kalau untuk diaplikasi nya sudah mulai kendor untuk transaksinya, dulunya bisa melakukan transfer melalui akun virtual bank dan sekarang hanya bisa melalui ewallet doang itu kalau boleh kembalikan seperti dulu, dan tambahin untuk metode pembayarannya melalui qris. kedua, untuk android versi +12 susah menggunakan aplikasi by.u, seperti saya baru unduh aplikasi by.u di android 12, tidak dapat. terdapat tulisan \"perangkat keras aman tidak tersedia\"</td>\n",
       "      <td>untuk jaringan by u nya sih bagus cuman kalau untuk diaplikasi nya sudah mulai kendor untuk transaksinya dulunya bisa melakukan transfer melalui akun virtual bank dan sekarang hanya bisa melalui ewallet doang itu kalau boleh kembalikan seperti dulu dan tambahin untuk metode pembayarannya melalui qris kedua untuk android versi susah menggunakan aplikasi by u seperti saya baru unduh aplikasi by u di android tidak dapat terdapat tulisan perangkat keras aman tidak tersedia</td>\n",
       "    </tr>\n",
       "    <tr>\n",
       "      <th>2</th>\n",
       "      <td>makin kesini byu makin ga bagus,aplikasi sering ga bisa di buka,komplain respon lambat, proses lama kadang nunggu lama,giliran keluar aplikasi ada balesan,masuk aplikasi hilang lagi cs nya kayak sengaja gitu, tidak ada penyelesaian, di notif kendala sudah selesai tapi masalah nya masih terjadi, cs nya pun kadang ganti ganti di satu chat, parah, chat cs di aplikasi sinyal bagus paket ada mode data atau pake wifi juga susah, parah, jwbn anak sd dari cs&amp;develover cmn nunjukin ketololan nya.</td>\n",
       "      <td>makin kesini byu makin ga bagus aplikasi sering ga bisa di buka komplain respon lambat proses lama kadang nunggu lama giliran keluar aplikasi ada balesan masuk aplikasi hilang lagi cs nya kayak sengaja gitu tidak ada penyelesaian di notif kendala sudah selesai tapi masalah nya masih terjadi cs nya pun kadang ganti ganti di satu chat parah chat cs di aplikasi sinyal bagus paket ada mode data atau pake wifi juga susah parah jwbn anak sd dari csdevelover cmn nunjukin ketololan nya</td>\n",
       "    </tr>\n",
       "    <tr>\n",
       "      <th>3</th>\n",
       "      <td>aplikasinya sebenarnya bagus, banyak pilihan kuota yang menarik juga. tapi minusnya jaringannya, kadang suka hilang atau lambat banget, padahal gaada gangguan sama sekali, sudah coba ganti jenis jaringan pun tetap aja jaringannya lambat. mohon kedepannya ini lebih diperhatikan lagi karena jujur perkara jaringan ini sangat menggangu, apalagi kalau perlu ngerjain sesuatu yang penting tapi jaringannya malah lambat. mungkin itu aja, makasih ya</td>\n",
       "      <td>aplikasinya sebenarnya bagus banyak pilihan kuota yang menarik juga tapi minusnya jaringannya kadang suka hilang atau lambat banget padahal gaada gangguan sama sekali sudah coba ganti jenis jaringan pun tetap aja jaringannya lambat mohon kedepannya ini lebih diperhatikan lagi karena jujur perkara jaringan ini sangat menggangu apalagi kalau perlu ngerjain sesuatu yang penting tapi jaringannya malah lambat mungkin itu aja makasih ya</td>\n",
       "    </tr>\n",
       "    <tr>\n",
       "      <th>4</th>\n",
       "      <td>pake by u lumayan lama tapi sampe sekarang belum ada peningkatan jaringan aja, kalau di kota yahh bagus soalnya dapet 5g nya, tapi kalau di lingkungan rumah? maen game ping nya 108ms mulu sering ping merahh, gak pernah tuh maen game ampe ping hijau dari dulu gini mulu cuman cocok buat maen youtube doank itupun otomatis resolusi nya jadi 360p an, kek nya emang harus maen sekitaran kota doank</td>\n",
       "      <td>pake by u lumayan lama tapi sampe sekarang belum ada peningkatan jaringan aja kalau di kota yahh bagus soalnya dapet g nya tapi kalau di lingkungan rumah maen game ping nya ms mulu sering ping merahh gak pernah tuh maen game ampe ping hijau dari dulu gini mulu cuman cocok buat maen youtube doank itupun otomatis resolusi nya jadi p an kek nya emang harus maen sekitaran kota doank</td>\n",
       "    </tr>\n",
       "  </tbody>\n",
       "</table>\n",
       "</div>"
      ],
      "text/plain": [
       "                                                                                                                                                                                                                                                                                                                                                                                                                                                                                                   case_folding  \\\n",
       "0                                                                   aku pengguna lama by.u, tapi kok lama kelamaan aku ngerasa by.u itu jaringannya agak kurang stabil ya? kalo buat sosmed an enak\" aja sih, enggak begitu kerasa jaringan kurang stabilnya,kalo dipake untuk nge-game baru agak berasa,kadang ngeganggu banget,waktu pertama kali pake by.u itu jaringannya bener\" poll loh. jarang sekali yg namanya penurunan jaringan,tapi ya gitu,mohon maaf,sekarang jaringan by.u agak kurang menurutku   \n",
       "1     untuk jaringan by.u nya sih bagus cuman kalau untuk diaplikasi nya sudah mulai kendor untuk transaksinya, dulunya bisa melakukan transfer melalui akun virtual bank dan sekarang hanya bisa melalui ewallet doang itu kalau boleh kembalikan seperti dulu, dan tambahin untuk metode pembayarannya melalui qris. kedua, untuk android versi +12 susah menggunakan aplikasi by.u, seperti saya baru unduh aplikasi by.u di android 12, tidak dapat. terdapat tulisan \"perangkat keras aman tidak tersedia\"   \n",
       "2  makin kesini byu makin ga bagus,aplikasi sering ga bisa di buka,komplain respon lambat, proses lama kadang nunggu lama,giliran keluar aplikasi ada balesan,masuk aplikasi hilang lagi cs nya kayak sengaja gitu, tidak ada penyelesaian, di notif kendala sudah selesai tapi masalah nya masih terjadi, cs nya pun kadang ganti ganti di satu chat, parah, chat cs di aplikasi sinyal bagus paket ada mode data atau pake wifi juga susah, parah, jwbn anak sd dari cs&develover cmn nunjukin ketololan nya.   \n",
       "3                                                   aplikasinya sebenarnya bagus, banyak pilihan kuota yang menarik juga. tapi minusnya jaringannya, kadang suka hilang atau lambat banget, padahal gaada gangguan sama sekali, sudah coba ganti jenis jaringan pun tetap aja jaringannya lambat. mohon kedepannya ini lebih diperhatikan lagi karena jujur perkara jaringan ini sangat menggangu, apalagi kalau perlu ngerjain sesuatu yang penting tapi jaringannya malah lambat. mungkin itu aja, makasih ya   \n",
       "4                                                                                                     pake by u lumayan lama tapi sampe sekarang belum ada peningkatan jaringan aja, kalau di kota yahh bagus soalnya dapet 5g nya, tapi kalau di lingkungan rumah? maen game ping nya 108ms mulu sering ping merahh, gak pernah tuh maen game ampe ping hijau dari dulu gini mulu cuman cocok buat maen youtube doank itupun otomatis resolusi nya jadi 360p an, kek nya emang harus maen sekitaran kota doank   \n",
       "\n",
       "                                                                                                                                                                                                                                                                                                                                                                                                                                                                                        filtered_text  \n",
       "0                                                                aku pengguna lama by u tapi kok lama kelamaan aku ngerasa by u itu jaringannya agak kurang stabil ya kalo buat sosmed an enak aja sih enggak begitu kerasa jaringan kurang stabilnya kalo dipake untuk ngegame baru agak berasa kadang ngeganggu banget waktu pertama kali pake by u itu jaringannya bener poll loh jarang sekali yg namanya penurunan jaringan tapi ya gitu mohon maaf sekarang jaringan by u agak kurang menurutku  \n",
       "1           untuk jaringan by u nya sih bagus cuman kalau untuk diaplikasi nya sudah mulai kendor untuk transaksinya dulunya bisa melakukan transfer melalui akun virtual bank dan sekarang hanya bisa melalui ewallet doang itu kalau boleh kembalikan seperti dulu dan tambahin untuk metode pembayarannya melalui qris kedua untuk android versi susah menggunakan aplikasi by u seperti saya baru unduh aplikasi by u di android tidak dapat terdapat tulisan perangkat keras aman tidak tersedia  \n",
       "2  makin kesini byu makin ga bagus aplikasi sering ga bisa di buka komplain respon lambat proses lama kadang nunggu lama giliran keluar aplikasi ada balesan masuk aplikasi hilang lagi cs nya kayak sengaja gitu tidak ada penyelesaian di notif kendala sudah selesai tapi masalah nya masih terjadi cs nya pun kadang ganti ganti di satu chat parah chat cs di aplikasi sinyal bagus paket ada mode data atau pake wifi juga susah parah jwbn anak sd dari csdevelover cmn nunjukin ketololan nya  \n",
       "3                                                  aplikasinya sebenarnya bagus banyak pilihan kuota yang menarik juga tapi minusnya jaringannya kadang suka hilang atau lambat banget padahal gaada gangguan sama sekali sudah coba ganti jenis jaringan pun tetap aja jaringannya lambat mohon kedepannya ini lebih diperhatikan lagi karena jujur perkara jaringan ini sangat menggangu apalagi kalau perlu ngerjain sesuatu yang penting tapi jaringannya malah lambat mungkin itu aja makasih ya  \n",
       "4                                                                                                       pake by u lumayan lama tapi sampe sekarang belum ada peningkatan jaringan aja kalau di kota yahh bagus soalnya dapet g nya tapi kalau di lingkungan rumah maen game ping nya ms mulu sering ping merahh gak pernah tuh maen game ampe ping hijau dari dulu gini mulu cuman cocok buat maen youtube doank itupun otomatis resolusi nya jadi p an kek nya emang harus maen sekitaran kota doank  "
      ]
     },
     "execution_count": 7,
     "metadata": {},
     "output_type": "execute_result"
    }
   ],
   "source": [
    "import re\n",
    "\n",
    "def filtering_combined(text):\n",
    "    if pd.isnull(text):\n",
    "        return \"\"\n",
    "\n",
    "    # Sisipkan spasi agar tanda baca tidak menempel ke kata (dari Filtering 2)\n",
    "    text = re.sub(r\"([.,;:!?()\\[\\]{}\\\"'/])(\\w)\", r\"\\1 \\2\", text)\n",
    "    text = re.sub(r\"(\\w)([.,;:!?()\\[\\]{}\\\"'/])\", r\"\\1 \\2\", text)\n",
    "\n",
    "    # Tambahkan spasi setelah koma jika tidak ada\n",
    "    text = re.sub(r\",(?=\\S)\", \", \", text)\n",
    "\n",
    "    # Hapus URL\n",
    "    text = re.sub(r\"http\\S+|www\\S+\", \"\", text)\n",
    "\n",
    "    # Hapus angka\n",
    "    text = re.sub(r\"\\d+\", \"\", text)\n",
    "\n",
    "    # Hapus simbol dan karakter non-alfabet (kecuali spasi)\n",
    "    text = re.sub(r\"[^a-zA-Z\\s]\", \"\", text)\n",
    "\n",
    "    # Rapikan spasi\n",
    "    text = re.sub(r\"\\s+\", \" \", text).strip()\n",
    "\n",
    "    return text\n",
    "\n",
    "# Terapkan ke data\n",
    "df['filtered_text'] = df['case_folding'].apply(filtering_combined)\n",
    "\n",
    "# (Opsional) tampilkan\n",
    "df[['case_folding', 'filtered_text']].head()\n"
   ]
  },
  {
   "cell_type": "markdown",
   "id": "2dc5cf1c",
   "metadata": {},
   "source": [
    "<h3>STOPWORD UNTUK MENGHAPUS KATA YANG TIDAK DIPERLUKAN</h3>"
   ]
  },
  {
   "cell_type": "code",
   "execution_count": 8,
   "id": "bc138d0b",
   "metadata": {},
   "outputs": [
    {
     "name": "stdout",
     "output_type": "stream",
     "text": [
      "Requirement already satisfied: Sastrawi in c:\\users\\andi ragil\\anaconda3\\lib\\site-packages (1.0.1)\n",
      "Note: you may need to restart the kernel to use updated packages.\n"
     ]
    }
   ],
   "source": [
    "%pip install Sastrawi"
   ]
  },
  {
   "cell_type": "markdown",
   "id": "48358a9c",
   "metadata": {},
   "source": [
    "<h3>COBA FILTERING</h3>"
   ]
  },
  {
   "cell_type": "code",
   "execution_count": 9,
   "id": "b8d3def9",
   "metadata": {},
   "outputs": [],
   "source": [
    "def normalize_app_name(text):\n",
    "    if pd.isnull(text):\n",
    "        return \"\"\n",
    "    text = text.lower()\n",
    "    text = re.sub(r'\\bby\\.?u\\b', 'byu', text) \n",
    "    text = re.sub(r'\\bby u\\b', 'byu', text)\n",
    "    return text"
   ]
  },
  {
   "cell_type": "code",
   "execution_count": 10,
   "id": "4285d227",
   "metadata": {},
   "outputs": [
    {
     "name": "stderr",
     "output_type": "stream",
     "text": [
      "[nltk_data] Downloading package stopwords to C:\\Users\\andi\n",
      "[nltk_data]     ragil\\AppData\\Roaming\\nltk_data...\n",
      "[nltk_data]   Package stopwords is already up-to-date!\n"
     ]
    }
   ],
   "source": [
    "import nltk\n",
    "from nltk.corpus import stopwords\n",
    "from Sastrawi.StopWordRemover.StopWordRemoverFactory import StopWordRemoverFactory\n",
    "\n",
    "# Unduh stopword dari NLTK jika belum\n",
    "nltk.download('stopwords')\n",
    "\n",
    "# Stopword dari Sastrawi\n",
    "stop_factory = StopWordRemoverFactory()\n",
    "stopword_sastrawi = set(stop_factory.get_stop_words())\n",
    "\n",
    "# Stopword dari NLTK Bahasa Inggris\n",
    "stopwords_nltk = set(stopwords.words('english'))\n",
    "\n",
    "# Custom stopword tambahan\n",
    "# more_stopword = {\n",
    "#     'gw', 'gue', 'gua', 'lu', 'lo', 'elo', 'elu', 'ya', 'ye', 'lah',\n",
    "#     'mah', 'nih', 'kok', 'dong', 'bgt', 'banget', 'kyk', 'kek', 'aja', 'udah', 'padahal', 'yg', 'gak', 'mau', 'masih',\n",
    "#     'bisa', 'kayak', 'cuma', 'doang', 'sih', 'lagi','udah', 'dulu', 'pas', 'lagi', 'kalau', 'kayak', 'kaya', 'tau', 'aja', 'itu',\n",
    "#     'gitu', 'terus', 'malah', 'padahal', 'kenapa', 'makanya', 'begitu', 'gimana', 'biar', 'jadi','jg', 'skrng', 'pdhl', 'tpi', 'ny', 'udh'\n",
    "    \n",
    "# }\n",
    "\n",
    "more_stopword = {\n",
    "    'gw','gue','gua','lu','lo','elo','elu','ya','ye','lah','mah','nih',\n",
    "    'kok','dong','bgt','banget','kyk','kek','aja','udah','yg',\n",
    "    'gak','gk','ga','nggak','gausah','kayak','cuma',\n",
    "    'doang','sih','lagi','lg','jd','jdi','trs','trus','sy','tetep',\n",
    "    'klo','gitu','terus','makanya','begitu','jg','skrng','pdhl',\n",
    "    'tpi','ny','udh','knp','gt','deh','lho','lhoh','nya','donk','bener','koq','sich'\n",
    "}\n",
    "\n",
    "\n",
    "\n",
    "# Gabungkan semua stopword\n",
    "stopword_combined = stopword_sastrawi.union(stopwords_nltk).union(more_stopword)\n",
    "\n",
    "# Fungsi untuk hapus stopword\n",
    "def remove_stopwords(text):\n",
    "    if isinstance(text, str):\n",
    "        words = text.lower().split() \n",
    "        filtered_words = [w for w in words if w not in stopword_combined]\n",
    "        return \" \".join(filtered_words)\n",
    "    else:\n",
    "        return \"\"\n",
    "\n",
    "# Terapkan ke hasil filtering sebelumnya\n",
    "df['final_text'] = df['filtered_text'].apply(remove_stopwords)\n",
    "\n",
    "# Cek hasil\n",
    "df[['filtered_text', 'final_text']].head()\n",
    "\n",
    "\n",
    "df['normalized_text'] = df['case_folding'].apply(normalize_app_name)\n",
    "df['filtered_text'] = df['normalized_text'].apply(filtering_combined)\n",
    "df['final_text'] = df['filtered_text'].apply(remove_stopwords)\n"
   ]
  },
  {
   "cell_type": "code",
   "execution_count": 11,
   "id": "e7f4e428",
   "metadata": {},
   "outputs": [
    {
     "data": {
      "text/html": [
       "<div>\n",
       "<style scoped>\n",
       "    .dataframe tbody tr th:only-of-type {\n",
       "        vertical-align: middle;\n",
       "    }\n",
       "\n",
       "    .dataframe tbody tr th {\n",
       "        vertical-align: top;\n",
       "    }\n",
       "\n",
       "    .dataframe thead th {\n",
       "        text-align: right;\n",
       "    }\n",
       "</style>\n",
       "<table border=\"1\" class=\"dataframe\">\n",
       "  <thead>\n",
       "    <tr style=\"text-align: right;\">\n",
       "      <th></th>\n",
       "      <th>filtered_text</th>\n",
       "      <th>final_text</th>\n",
       "    </tr>\n",
       "  </thead>\n",
       "  <tbody>\n",
       "    <tr>\n",
       "      <th>0</th>\n",
       "      <td>aku pengguna lama byu tapi kok lama kelamaan aku ngerasa byu itu jaringannya agak kurang stabil ya kalo buat sosmed an enak aja sih enggak begitu kerasa jaringan kurang stabilnya kalo dipake untuk ngegame baru agak berasa kadang ngeganggu banget waktu pertama kali pake byu itu jaringannya bener poll loh jarang sekali yg namanya penurunan jaringan tapi ya gitu mohon maaf sekarang jaringan byu agak kurang menurutku</td>\n",
       "      <td>aku pengguna lama byu lama kelamaan aku ngerasa byu jaringannya kurang stabil kalo buat sosmed enak enggak kerasa jaringan kurang stabilnya kalo dipake ngegame baru berasa kadang ngeganggu waktu pertama kali pake byu jaringannya poll loh jarang sekali namanya penurunan jaringan mohon maaf sekarang jaringan byu kurang menurutku</td>\n",
       "    </tr>\n",
       "    <tr>\n",
       "      <th>1</th>\n",
       "      <td>untuk jaringan byu nya sih bagus cuman kalau untuk diaplikasi nya sudah mulai kendor untuk transaksinya dulunya bisa melakukan transfer melalui akun virtual bank dan sekarang hanya bisa melalui ewallet doang itu kalau boleh kembalikan seperti dulu dan tambahin untuk metode pembayarannya melalui qris kedua untuk android versi susah menggunakan aplikasi byu seperti saya baru unduh aplikasi byu di android tidak dapat terdapat tulisan perangkat keras aman tidak tersedia</td>\n",
       "      <td>jaringan byu bagus cuman kalau diaplikasi mulai kendor transaksinya melakukan transfer melalui akun virtual bank sekarang melalui ewallet kalau kembalikan dulu tambahin metode pembayarannya melalui qris kedua android versi susah menggunakan aplikasi byu baru unduh aplikasi byu android terdapat tulisan perangkat keras aman tersedia</td>\n",
       "    </tr>\n",
       "    <tr>\n",
       "      <th>2</th>\n",
       "      <td>makin kesini byu makin ga bagus aplikasi sering ga bisa di buka komplain respon lambat proses lama kadang nunggu lama giliran keluar aplikasi ada balesan masuk aplikasi hilang lagi cs nya kayak sengaja gitu tidak ada penyelesaian di notif kendala sudah selesai tapi masalah nya masih terjadi cs nya pun kadang ganti ganti di satu chat parah chat cs di aplikasi sinyal bagus paket ada mode data atau pake wifi juga susah parah jwbn anak sd dari csdevelover cmn nunjukin ketololan nya</td>\n",
       "      <td>makin kesini byu makin bagus aplikasi sering buka komplain respon lambat proses lama kadang nunggu lama giliran keluar aplikasi balesan masuk aplikasi hilang cs sengaja penyelesaian notif kendala selesai masalah terjadi cs kadang ganti ganti satu chat parah chat cs aplikasi sinyal bagus paket mode data pake wifi susah parah jwbn anak sd csdevelover cmn nunjukin ketololan</td>\n",
       "    </tr>\n",
       "    <tr>\n",
       "      <th>3</th>\n",
       "      <td>aplikasinya sebenarnya bagus banyak pilihan kuota yang menarik juga tapi minusnya jaringannya kadang suka hilang atau lambat banget padahal gaada gangguan sama sekali sudah coba ganti jenis jaringan pun tetap aja jaringannya lambat mohon kedepannya ini lebih diperhatikan lagi karena jujur perkara jaringan ini sangat menggangu apalagi kalau perlu ngerjain sesuatu yang penting tapi jaringannya malah lambat mungkin itu aja makasih ya</td>\n",
       "      <td>aplikasinya sebenarnya bagus banyak pilihan kuota menarik minusnya jaringannya kadang suka hilang lambat padahal gaada gangguan sama sekali coba ganti jenis jaringan tetap jaringannya lambat mohon kedepannya lebih diperhatikan jujur perkara jaringan sangat menggangu kalau perlu ngerjain penting jaringannya malah lambat mungkin makasih</td>\n",
       "    </tr>\n",
       "    <tr>\n",
       "      <th>4</th>\n",
       "      <td>pake byu lumayan lama tapi sampe sekarang belum ada peningkatan jaringan aja kalau di kota yahh bagus soalnya dapet g nya tapi kalau di lingkungan rumah maen game ping nya ms mulu sering ping merahh gak pernah tuh maen game ampe ping hijau dari dulu gini mulu cuman cocok buat maen youtube doank itupun otomatis resolusi nya jadi p an kek nya emang harus maen sekitaran kota doank</td>\n",
       "      <td>pake byu lumayan lama sampe sekarang peningkatan jaringan kalau kota yahh bagus soalnya dapet g kalau lingkungan rumah maen game ping ms mulu sering ping merahh pernah tuh maen game ampe ping hijau dulu gini mulu cuman cocok buat maen youtube doank itupun otomatis resolusi jadi p emang maen sekitaran kota doank</td>\n",
       "    </tr>\n",
       "  </tbody>\n",
       "</table>\n",
       "</div>"
      ],
      "text/plain": [
       "                                                                                                                                                                                                                                                                                                                                                                                                                                                                                        filtered_text  \\\n",
       "0                                                                    aku pengguna lama byu tapi kok lama kelamaan aku ngerasa byu itu jaringannya agak kurang stabil ya kalo buat sosmed an enak aja sih enggak begitu kerasa jaringan kurang stabilnya kalo dipake untuk ngegame baru agak berasa kadang ngeganggu banget waktu pertama kali pake byu itu jaringannya bener poll loh jarang sekali yg namanya penurunan jaringan tapi ya gitu mohon maaf sekarang jaringan byu agak kurang menurutku   \n",
       "1              untuk jaringan byu nya sih bagus cuman kalau untuk diaplikasi nya sudah mulai kendor untuk transaksinya dulunya bisa melakukan transfer melalui akun virtual bank dan sekarang hanya bisa melalui ewallet doang itu kalau boleh kembalikan seperti dulu dan tambahin untuk metode pembayarannya melalui qris kedua untuk android versi susah menggunakan aplikasi byu seperti saya baru unduh aplikasi byu di android tidak dapat terdapat tulisan perangkat keras aman tidak tersedia   \n",
       "2  makin kesini byu makin ga bagus aplikasi sering ga bisa di buka komplain respon lambat proses lama kadang nunggu lama giliran keluar aplikasi ada balesan masuk aplikasi hilang lagi cs nya kayak sengaja gitu tidak ada penyelesaian di notif kendala sudah selesai tapi masalah nya masih terjadi cs nya pun kadang ganti ganti di satu chat parah chat cs di aplikasi sinyal bagus paket ada mode data atau pake wifi juga susah parah jwbn anak sd dari csdevelover cmn nunjukin ketololan nya   \n",
       "3                                                  aplikasinya sebenarnya bagus banyak pilihan kuota yang menarik juga tapi minusnya jaringannya kadang suka hilang atau lambat banget padahal gaada gangguan sama sekali sudah coba ganti jenis jaringan pun tetap aja jaringannya lambat mohon kedepannya ini lebih diperhatikan lagi karena jujur perkara jaringan ini sangat menggangu apalagi kalau perlu ngerjain sesuatu yang penting tapi jaringannya malah lambat mungkin itu aja makasih ya   \n",
       "4                                                                                                        pake byu lumayan lama tapi sampe sekarang belum ada peningkatan jaringan aja kalau di kota yahh bagus soalnya dapet g nya tapi kalau di lingkungan rumah maen game ping nya ms mulu sering ping merahh gak pernah tuh maen game ampe ping hijau dari dulu gini mulu cuman cocok buat maen youtube doank itupun otomatis resolusi nya jadi p an kek nya emang harus maen sekitaran kota doank   \n",
       "\n",
       "                                                                                                                                                                                                                                                                                                                                                                              final_text  \n",
       "0                                               aku pengguna lama byu lama kelamaan aku ngerasa byu jaringannya kurang stabil kalo buat sosmed enak enggak kerasa jaringan kurang stabilnya kalo dipake ngegame baru berasa kadang ngeganggu waktu pertama kali pake byu jaringannya poll loh jarang sekali namanya penurunan jaringan mohon maaf sekarang jaringan byu kurang menurutku  \n",
       "1                                           jaringan byu bagus cuman kalau diaplikasi mulai kendor transaksinya melakukan transfer melalui akun virtual bank sekarang melalui ewallet kalau kembalikan dulu tambahin metode pembayarannya melalui qris kedua android versi susah menggunakan aplikasi byu baru unduh aplikasi byu android terdapat tulisan perangkat keras aman tersedia  \n",
       "2  makin kesini byu makin bagus aplikasi sering buka komplain respon lambat proses lama kadang nunggu lama giliran keluar aplikasi balesan masuk aplikasi hilang cs sengaja penyelesaian notif kendala selesai masalah terjadi cs kadang ganti ganti satu chat parah chat cs aplikasi sinyal bagus paket mode data pake wifi susah parah jwbn anak sd csdevelover cmn nunjukin ketololan  \n",
       "3                                       aplikasinya sebenarnya bagus banyak pilihan kuota menarik minusnya jaringannya kadang suka hilang lambat padahal gaada gangguan sama sekali coba ganti jenis jaringan tetap jaringannya lambat mohon kedepannya lebih diperhatikan jujur perkara jaringan sangat menggangu kalau perlu ngerjain penting jaringannya malah lambat mungkin makasih  \n",
       "4                                                               pake byu lumayan lama sampe sekarang peningkatan jaringan kalau kota yahh bagus soalnya dapet g kalau lingkungan rumah maen game ping ms mulu sering ping merahh pernah tuh maen game ampe ping hijau dulu gini mulu cuman cocok buat maen youtube doank itupun otomatis resolusi jadi p emang maen sekitaran kota doank  "
      ]
     },
     "execution_count": 11,
     "metadata": {},
     "output_type": "execute_result"
    }
   ],
   "source": [
    "df[['filtered_text', 'final_text']].head()"
   ]
  },
  {
   "cell_type": "code",
   "execution_count": 12,
   "id": "16105f3b",
   "metadata": {},
   "outputs": [
    {
     "data": {
      "text/plain": [
       "count    9376.000000\n",
       "mean       28.090764\n",
       "std        12.536095\n",
       "min         0.000000\n",
       "25%        19.000000\n",
       "50%        27.000000\n",
       "75%        36.000000\n",
       "max        75.000000\n",
       "Name: final_text, dtype: float64"
      ]
     },
     "execution_count": 12,
     "metadata": {},
     "output_type": "execute_result"
    }
   ],
   "source": [
    "df['final_text'].str.split().apply(len).describe()"
   ]
  },
  {
   "cell_type": "markdown",
   "id": "ede9c616",
   "metadata": {},
   "source": [
    "<H3>CEK KATA YANG PALING SERING KELUAR</H3>"
   ]
  },
  {
   "cell_type": "code",
   "execution_count": 13,
   "id": "194e9920",
   "metadata": {},
   "outputs": [
    {
     "data": {
      "text/plain": [
       "[('byu', 6502),\n",
       " ('jaringan', 4112),\n",
       " ('aplikasi', 3588),\n",
       " ('sinyal', 3554),\n",
       " ('kuota', 2897),\n",
       " ('paket', 2829),\n",
       " ('beli', 2685),\n",
       " ('mau', 2476),\n",
       " ('buat', 2316),\n",
       " ('padahal', 2269),\n",
       " ('sama', 2135),\n",
       " ('kartu', 2035),\n",
       " ('pake', 1999),\n",
       " ('bagus', 1961),\n",
       " ('sering', 1848),\n",
       " ('makin', 1812),\n",
       " ('buka', 1698),\n",
       " ('masuk', 1616),\n",
       " ('sangat', 1614),\n",
       " ('jadi', 1580),\n",
       " ('malah', 1516),\n",
       " ('kalo', 1512),\n",
       " ('lama', 1487),\n",
       " ('data', 1420),\n",
       " ('game', 1339),\n",
       " ('lebih', 1324),\n",
       " ('baru', 1252),\n",
       " ('sekarang', 1252),\n",
       " ('pulsa', 1237),\n",
       " ('pas', 1159)]"
      ]
     },
     "execution_count": 13,
     "metadata": {},
     "output_type": "execute_result"
    }
   ],
   "source": [
    "from sklearn.feature_extraction.text import CountVectorizer\n",
    "\n",
    "vec = CountVectorizer()\n",
    "X = vec.fit_transform(df['final_text'])\n",
    "word_freq = zip(vec.get_feature_names_out(), X.toarray().sum(axis=0))\n",
    "sorted(word_freq, key=lambda x: -x[1])[:30] \n"
   ]
  },
  {
   "cell_type": "markdown",
   "id": "b4d806e5",
   "metadata": {},
   "source": [
    "<h3>DROP COLUMN YANG TIDAK DIPERLUKAN</h3>"
   ]
  },
  {
   "cell_type": "code",
   "execution_count": 14,
   "id": "40464c08",
   "metadata": {},
   "outputs": [
    {
     "data": {
      "text/html": [
       "<div>\n",
       "<style scoped>\n",
       "    .dataframe tbody tr th:only-of-type {\n",
       "        vertical-align: middle;\n",
       "    }\n",
       "\n",
       "    .dataframe tbody tr th {\n",
       "        vertical-align: top;\n",
       "    }\n",
       "\n",
       "    .dataframe thead th {\n",
       "        text-align: right;\n",
       "    }\n",
       "</style>\n",
       "<table border=\"1\" class=\"dataframe\">\n",
       "  <thead>\n",
       "    <tr style=\"text-align: right;\">\n",
       "      <th></th>\n",
       "      <th>final_text</th>\n",
       "      <th>normalized_text</th>\n",
       "    </tr>\n",
       "  </thead>\n",
       "  <tbody>\n",
       "    <tr>\n",
       "      <th>0</th>\n",
       "      <td>aku pengguna lama byu lama kelamaan aku ngerasa byu jaringannya kurang stabil kalo buat sosmed enak enggak kerasa jaringan kurang stabilnya kalo dipake ngegame baru berasa kadang ngeganggu waktu pertama kali pake byu jaringannya poll loh jarang sekali namanya penurunan jaringan mohon maaf sekarang jaringan byu kurang menurutku</td>\n",
       "      <td>aku pengguna lama byu, tapi kok lama kelamaan aku ngerasa byu itu jaringannya agak kurang stabil ya? kalo buat sosmed an enak\" aja sih, enggak begitu kerasa jaringan kurang stabilnya,kalo dipake untuk nge-game baru agak berasa,kadang ngeganggu banget,waktu pertama kali pake byu itu jaringannya bener\" poll loh. jarang sekali yg namanya penurunan jaringan,tapi ya gitu,mohon maaf,sekarang jaringan byu agak kurang menurutku</td>\n",
       "    </tr>\n",
       "    <tr>\n",
       "      <th>1</th>\n",
       "      <td>jaringan byu bagus cuman kalau diaplikasi mulai kendor transaksinya melakukan transfer melalui akun virtual bank sekarang melalui ewallet kalau kembalikan dulu tambahin metode pembayarannya melalui qris kedua android versi susah menggunakan aplikasi byu baru unduh aplikasi byu android terdapat tulisan perangkat keras aman tersedia</td>\n",
       "      <td>untuk jaringan byu nya sih bagus cuman kalau untuk diaplikasi nya sudah mulai kendor untuk transaksinya, dulunya bisa melakukan transfer melalui akun virtual bank dan sekarang hanya bisa melalui ewallet doang itu kalau boleh kembalikan seperti dulu, dan tambahin untuk metode pembayarannya melalui qris. kedua, untuk android versi +12 susah menggunakan aplikasi byu, seperti saya baru unduh aplikasi byu di android 12, tidak dapat. terdapat tulisan \"perangkat keras aman tidak tersedia\"</td>\n",
       "    </tr>\n",
       "    <tr>\n",
       "      <th>2</th>\n",
       "      <td>makin kesini byu makin bagus aplikasi sering buka komplain respon lambat proses lama kadang nunggu lama giliran keluar aplikasi balesan masuk aplikasi hilang cs sengaja penyelesaian notif kendala selesai masalah terjadi cs kadang ganti ganti satu chat parah chat cs aplikasi sinyal bagus paket mode data pake wifi susah parah jwbn anak sd csdevelover cmn nunjukin ketololan</td>\n",
       "      <td>makin kesini byu makin ga bagus,aplikasi sering ga bisa di buka,komplain respon lambat, proses lama kadang nunggu lama,giliran keluar aplikasi ada balesan,masuk aplikasi hilang lagi cs nya kayak sengaja gitu, tidak ada penyelesaian, di notif kendala sudah selesai tapi masalah nya masih terjadi, cs nya pun kadang ganti ganti di satu chat, parah, chat cs di aplikasi sinyal bagus paket ada mode data atau pake wifi juga susah, parah, jwbn anak sd dari cs&amp;develover cmn nunjukin ketololan nya.</td>\n",
       "    </tr>\n",
       "    <tr>\n",
       "      <th>3</th>\n",
       "      <td>aplikasinya sebenarnya bagus banyak pilihan kuota menarik minusnya jaringannya kadang suka hilang lambat padahal gaada gangguan sama sekali coba ganti jenis jaringan tetap jaringannya lambat mohon kedepannya lebih diperhatikan jujur perkara jaringan sangat menggangu kalau perlu ngerjain penting jaringannya malah lambat mungkin makasih</td>\n",
       "      <td>aplikasinya sebenarnya bagus, banyak pilihan kuota yang menarik juga. tapi minusnya jaringannya, kadang suka hilang atau lambat banget, padahal gaada gangguan sama sekali, sudah coba ganti jenis jaringan pun tetap aja jaringannya lambat. mohon kedepannya ini lebih diperhatikan lagi karena jujur perkara jaringan ini sangat menggangu, apalagi kalau perlu ngerjain sesuatu yang penting tapi jaringannya malah lambat. mungkin itu aja, makasih ya</td>\n",
       "    </tr>\n",
       "    <tr>\n",
       "      <th>4</th>\n",
       "      <td>pake byu lumayan lama sampe sekarang peningkatan jaringan kalau kota yahh bagus soalnya dapet g kalau lingkungan rumah maen game ping ms mulu sering ping merahh pernah tuh maen game ampe ping hijau dulu gini mulu cuman cocok buat maen youtube doank itupun otomatis resolusi jadi p emang maen sekitaran kota doank</td>\n",
       "      <td>pake byu lumayan lama tapi sampe sekarang belum ada peningkatan jaringan aja, kalau di kota yahh bagus soalnya dapet 5g nya, tapi kalau di lingkungan rumah? maen game ping nya 108ms mulu sering ping merahh, gak pernah tuh maen game ampe ping hijau dari dulu gini mulu cuman cocok buat maen youtube doank itupun otomatis resolusi nya jadi 360p an, kek nya emang harus maen sekitaran kota doank</td>\n",
       "    </tr>\n",
       "  </tbody>\n",
       "</table>\n",
       "</div>"
      ],
      "text/plain": [
       "                                                                                                                                                                                                                                                                                                                                                                              final_text  \\\n",
       "0                                               aku pengguna lama byu lama kelamaan aku ngerasa byu jaringannya kurang stabil kalo buat sosmed enak enggak kerasa jaringan kurang stabilnya kalo dipake ngegame baru berasa kadang ngeganggu waktu pertama kali pake byu jaringannya poll loh jarang sekali namanya penurunan jaringan mohon maaf sekarang jaringan byu kurang menurutku   \n",
       "1                                           jaringan byu bagus cuman kalau diaplikasi mulai kendor transaksinya melakukan transfer melalui akun virtual bank sekarang melalui ewallet kalau kembalikan dulu tambahin metode pembayarannya melalui qris kedua android versi susah menggunakan aplikasi byu baru unduh aplikasi byu android terdapat tulisan perangkat keras aman tersedia   \n",
       "2  makin kesini byu makin bagus aplikasi sering buka komplain respon lambat proses lama kadang nunggu lama giliran keluar aplikasi balesan masuk aplikasi hilang cs sengaja penyelesaian notif kendala selesai masalah terjadi cs kadang ganti ganti satu chat parah chat cs aplikasi sinyal bagus paket mode data pake wifi susah parah jwbn anak sd csdevelover cmn nunjukin ketololan   \n",
       "3                                       aplikasinya sebenarnya bagus banyak pilihan kuota menarik minusnya jaringannya kadang suka hilang lambat padahal gaada gangguan sama sekali coba ganti jenis jaringan tetap jaringannya lambat mohon kedepannya lebih diperhatikan jujur perkara jaringan sangat menggangu kalau perlu ngerjain penting jaringannya malah lambat mungkin makasih   \n",
       "4                                                               pake byu lumayan lama sampe sekarang peningkatan jaringan kalau kota yahh bagus soalnya dapet g kalau lingkungan rumah maen game ping ms mulu sering ping merahh pernah tuh maen game ampe ping hijau dulu gini mulu cuman cocok buat maen youtube doank itupun otomatis resolusi jadi p emang maen sekitaran kota doank   \n",
       "\n",
       "                                                                                                                                                                                                                                                                                                                                                                                                                                                                                                normalized_text  \n",
       "0                                                                       aku pengguna lama byu, tapi kok lama kelamaan aku ngerasa byu itu jaringannya agak kurang stabil ya? kalo buat sosmed an enak\" aja sih, enggak begitu kerasa jaringan kurang stabilnya,kalo dipake untuk nge-game baru agak berasa,kadang ngeganggu banget,waktu pertama kali pake byu itu jaringannya bener\" poll loh. jarang sekali yg namanya penurunan jaringan,tapi ya gitu,mohon maaf,sekarang jaringan byu agak kurang menurutku  \n",
       "1        untuk jaringan byu nya sih bagus cuman kalau untuk diaplikasi nya sudah mulai kendor untuk transaksinya, dulunya bisa melakukan transfer melalui akun virtual bank dan sekarang hanya bisa melalui ewallet doang itu kalau boleh kembalikan seperti dulu, dan tambahin untuk metode pembayarannya melalui qris. kedua, untuk android versi +12 susah menggunakan aplikasi byu, seperti saya baru unduh aplikasi byu di android 12, tidak dapat. terdapat tulisan \"perangkat keras aman tidak tersedia\"  \n",
       "2  makin kesini byu makin ga bagus,aplikasi sering ga bisa di buka,komplain respon lambat, proses lama kadang nunggu lama,giliran keluar aplikasi ada balesan,masuk aplikasi hilang lagi cs nya kayak sengaja gitu, tidak ada penyelesaian, di notif kendala sudah selesai tapi masalah nya masih terjadi, cs nya pun kadang ganti ganti di satu chat, parah, chat cs di aplikasi sinyal bagus paket ada mode data atau pake wifi juga susah, parah, jwbn anak sd dari cs&develover cmn nunjukin ketololan nya.  \n",
       "3                                                   aplikasinya sebenarnya bagus, banyak pilihan kuota yang menarik juga. tapi minusnya jaringannya, kadang suka hilang atau lambat banget, padahal gaada gangguan sama sekali, sudah coba ganti jenis jaringan pun tetap aja jaringannya lambat. mohon kedepannya ini lebih diperhatikan lagi karena jujur perkara jaringan ini sangat menggangu, apalagi kalau perlu ngerjain sesuatu yang penting tapi jaringannya malah lambat. mungkin itu aja, makasih ya  \n",
       "4                                                                                                      pake byu lumayan lama tapi sampe sekarang belum ada peningkatan jaringan aja, kalau di kota yahh bagus soalnya dapet 5g nya, tapi kalau di lingkungan rumah? maen game ping nya 108ms mulu sering ping merahh, gak pernah tuh maen game ampe ping hijau dari dulu gini mulu cuman cocok buat maen youtube doank itupun otomatis resolusi nya jadi 360p an, kek nya emang harus maen sekitaran kota doank  "
      ]
     },
     "execution_count": 14,
     "metadata": {},
     "output_type": "execute_result"
    }
   ],
   "source": [
    "df = df.drop(columns=['userName', 'score', 'at', 'content','case_folding', 'filtered_text'])\n",
    "# df.head()\n",
    "# df = df.drop(columns=['userName', 'score', 'at', 'content'])\n",
    "df.head()"
   ]
  },
  {
   "cell_type": "code",
   "execution_count": 15,
   "id": "2dc90d4e",
   "metadata": {},
   "outputs": [],
   "source": [
    "# df.to_csv(\"byu_reviews_final.csv\", index=False)"
   ]
  },
  {
   "cell_type": "code",
   "execution_count": 16,
   "id": "3f2299aa",
   "metadata": {},
   "outputs": [],
   "source": [
    "# df = pd.read_csv(\"byu_reviews_final.csv\")"
   ]
  },
  {
   "cell_type": "code",
   "execution_count": 17,
   "id": "31846fe9",
   "metadata": {},
   "outputs": [],
   "source": [
    "# print(df.dtypes)"
   ]
  },
  {
   "cell_type": "markdown",
   "id": "ce107c6d",
   "metadata": {},
   "source": [
    "<h3>INSTALL LIBRARY BERTOPIC</h3> "
   ]
  },
  {
   "cell_type": "code",
   "execution_count": 18,
   "id": "820a60db",
   "metadata": {},
   "outputs": [
    {
     "name": "stdout",
     "output_type": "stream",
     "text": [
      "Requirement already satisfied: bertopic in c:\\users\\andi ragil\\anaconda3\\lib\\site-packages (0.17.0)\n",
      "Requirement already satisfied: sentence-transformers in c:\\users\\andi ragil\\anaconda3\\lib\\site-packages (4.1.0)\n",
      "Requirement already satisfied: umap-learn in c:\\users\\andi ragil\\anaconda3\\lib\\site-packages (0.5.7)\n",
      "Requirement already satisfied: hdbscan in c:\\users\\andi ragil\\anaconda3\\lib\\site-packages (0.8.40)\n",
      "Requirement already satisfied: numpy>=1.20.0 in c:\\users\\andi ragil\\anaconda3\\lib\\site-packages (from bertopic) (1.26.4)\n",
      "Requirement already satisfied: pandas>=1.1.5 in c:\\users\\andi ragil\\anaconda3\\lib\\site-packages (from bertopic) (2.2.2)\n",
      "Requirement already satisfied: plotly>=4.7.0 in c:\\users\\andi ragil\\anaconda3\\lib\\site-packages (from bertopic) (5.24.1)\n",
      "Requirement already satisfied: scikit-learn>=1.0 in c:\\users\\andi ragil\\anaconda3\\lib\\site-packages (from bertopic) (1.5.1)\n",
      "Requirement already satisfied: tqdm>=4.41.1 in c:\\users\\andi ragil\\anaconda3\\lib\\site-packages (from bertopic) (4.66.5)\n",
      "Requirement already satisfied: transformers<5.0.0,>=4.41.0 in c:\\users\\andi ragil\\anaconda3\\lib\\site-packages (from sentence-transformers) (4.51.3)\n",
      "Requirement already satisfied: torch>=1.11.0 in c:\\users\\andi ragil\\anaconda3\\lib\\site-packages (from sentence-transformers) (2.7.0+cu118)\n",
      "Requirement already satisfied: scipy in c:\\users\\andi ragil\\anaconda3\\lib\\site-packages (from sentence-transformers) (1.13.1)\n",
      "Requirement already satisfied: huggingface-hub>=0.20.0 in c:\\users\\andi ragil\\anaconda3\\lib\\site-packages (from sentence-transformers) (0.30.2)\n",
      "Requirement already satisfied: Pillow in c:\\users\\andi ragil\\anaconda3\\lib\\site-packages (from sentence-transformers) (10.4.0)\n",
      "Requirement already satisfied: typing_extensions>=4.5.0 in c:\\users\\andi ragil\\anaconda3\\lib\\site-packages (from sentence-transformers) (4.11.0)\n",
      "Requirement already satisfied: filelock in c:\\users\\andi ragil\\anaconda3\\lib\\site-packages (from transformers<5.0.0,>=4.41.0->sentence-transformers) (3.13.1)\n",
      "Requirement already satisfied: packaging>=20.0 in c:\\users\\andi ragil\\anaconda3\\lib\\site-packages (from transformers<5.0.0,>=4.41.0->sentence-transformers) (24.1)\n",
      "Requirement already satisfied: pyyaml>=5.1 in c:\\users\\andi ragil\\anaconda3\\lib\\site-packages (from transformers<5.0.0,>=4.41.0->sentence-transformers) (6.0.1)\n",
      "Requirement already satisfied: regex!=2019.12.17 in c:\\users\\andi ragil\\anaconda3\\lib\\site-packages (from transformers<5.0.0,>=4.41.0->sentence-transformers) (2024.9.11)\n",
      "Requirement already satisfied: requests in c:\\users\\andi ragil\\anaconda3\\lib\\site-packages (from transformers<5.0.0,>=4.41.0->sentence-transformers) (2.32.3)\n",
      "Requirement already satisfied: tokenizers<0.22,>=0.21 in c:\\users\\andi ragil\\anaconda3\\lib\\site-packages (from transformers<5.0.0,>=4.41.0->sentence-transformers) (0.21.1)\n",
      "Requirement already satisfied: safetensors>=0.4.3 in c:\\users\\andi ragil\\anaconda3\\lib\\site-packages (from transformers<5.0.0,>=4.41.0->sentence-transformers) (0.5.3)\n",
      "Requirement already satisfied: fsspec>=2023.5.0 in c:\\users\\andi ragil\\anaconda3\\lib\\site-packages (from huggingface-hub>=0.20.0->sentence-transformers) (2024.6.1)\n",
      "Requirement already satisfied: numba>=0.51.2 in c:\\users\\andi ragil\\anaconda3\\lib\\site-packages (from umap-learn) (0.60.0)\n",
      "Requirement already satisfied: pynndescent>=0.5 in c:\\users\\andi ragil\\anaconda3\\lib\\site-packages (from umap-learn) (0.5.13)\n",
      "Requirement already satisfied: joblib>=1.0 in c:\\users\\andi ragil\\anaconda3\\lib\\site-packages (from hdbscan) (1.4.2)\n",
      "Requirement already satisfied: llvmlite<0.44,>=0.43.0dev0 in c:\\users\\andi ragil\\anaconda3\\lib\\site-packages (from numba>=0.51.2->umap-learn) (0.43.0)\n",
      "Requirement already satisfied: python-dateutil>=2.8.2 in c:\\users\\andi ragil\\anaconda3\\lib\\site-packages (from pandas>=1.1.5->bertopic) (2.9.0.post0)\n",
      "Requirement already satisfied: pytz>=2020.1 in c:\\users\\andi ragil\\anaconda3\\lib\\site-packages (from pandas>=1.1.5->bertopic) (2024.1)\n",
      "Requirement already satisfied: tzdata>=2022.7 in c:\\users\\andi ragil\\anaconda3\\lib\\site-packages (from pandas>=1.1.5->bertopic) (2023.3)\n",
      "Requirement already satisfied: tenacity>=6.2.0 in c:\\users\\andi ragil\\anaconda3\\lib\\site-packages (from plotly>=4.7.0->bertopic) (8.2.3)\n",
      "Requirement already satisfied: six>=1.5 in c:\\users\\andi ragil\\anaconda3\\lib\\site-packages (from python-dateutil>=2.8.2->pandas>=1.1.5->bertopic) (1.16.0)\n",
      "Requirement already satisfied: threadpoolctl>=3.1.0 in c:\\users\\andi ragil\\anaconda3\\lib\\site-packages (from scikit-learn>=1.0->bertopic) (3.5.0)\n",
      "Requirement already satisfied: sympy>=1.13.3 in c:\\users\\andi ragil\\anaconda3\\lib\\site-packages (from torch>=1.11.0->sentence-transformers) (1.14.0)\n",
      "Requirement already satisfied: networkx in c:\\users\\andi ragil\\anaconda3\\lib\\site-packages (from torch>=1.11.0->sentence-transformers) (3.3)\n",
      "Requirement already satisfied: jinja2 in c:\\users\\andi ragil\\anaconda3\\lib\\site-packages (from torch>=1.11.0->sentence-transformers) (3.1.4)\n",
      "Requirement already satisfied: setuptools in c:\\users\\andi ragil\\anaconda3\\lib\\site-packages (from torch>=1.11.0->sentence-transformers) (75.1.0)\n",
      "Requirement already satisfied: mpmath<1.4,>=1.1.0 in c:\\users\\andi ragil\\anaconda3\\lib\\site-packages (from sympy>=1.13.3->torch>=1.11.0->sentence-transformers) (1.3.0)\n",
      "Requirement already satisfied: colorama in c:\\users\\andi ragil\\anaconda3\\lib\\site-packages (from tqdm>=4.41.1->bertopic) (0.4.6)\n",
      "Requirement already satisfied: MarkupSafe>=2.0 in c:\\users\\andi ragil\\anaconda3\\lib\\site-packages (from jinja2->torch>=1.11.0->sentence-transformers) (2.1.3)\n",
      "Requirement already satisfied: charset-normalizer<4,>=2 in c:\\users\\andi ragil\\anaconda3\\lib\\site-packages (from requests->transformers<5.0.0,>=4.41.0->sentence-transformers) (3.3.2)\n",
      "Requirement already satisfied: idna<4,>=2.5 in c:\\users\\andi ragil\\anaconda3\\lib\\site-packages (from requests->transformers<5.0.0,>=4.41.0->sentence-transformers) (3.7)\n",
      "Requirement already satisfied: urllib3<3,>=1.21.1 in c:\\users\\andi ragil\\anaconda3\\lib\\site-packages (from requests->transformers<5.0.0,>=4.41.0->sentence-transformers) (2.2.3)\n",
      "Requirement already satisfied: certifi>=2017.4.17 in c:\\users\\andi ragil\\anaconda3\\lib\\site-packages (from requests->transformers<5.0.0,>=4.41.0->sentence-transformers) (2025.1.31)\n",
      "Note: you may need to restart the kernel to use updated packages.\n"
     ]
    }
   ],
   "source": [
    "%pip install bertopic sentence-transformers umap-learn hdbscan"
   ]
  },
  {
   "cell_type": "markdown",
   "id": "dd9aac4d",
   "metadata": {},
   "source": [
    "<H3>IMPORT SEMUA LIBRARY YANG DIPERLUKAN</H3> "
   ]
  },
  {
   "cell_type": "code",
   "execution_count": 2,
   "id": "2127462a",
   "metadata": {},
   "outputs": [],
   "source": [
    "import umap\n",
    "import pandas as pd\n",
    "from hdbscan import HDBSCAN\n",
    "from bertopic import BERTopic\n",
    "from bertopic.vectorizers import ClassTfidfTransformer\n",
    "from sklearn.feature_extraction.text import CountVectorizer\n",
    "# from sklearn.cluster import KMeans\n",
    "from sentence_transformers import SentenceTransformer\n"
   ]
  },
  {
   "cell_type": "markdown",
   "id": "f7628c4f",
   "metadata": {},
   "source": [
    "<h3>INISIALISASI KOMPONEN MODEL UNTUK BERTopic</h3>"
   ]
  },
  {
   "cell_type": "code",
   "execution_count": 19,
   "id": "cd76574e",
   "metadata": {},
   "outputs": [],
   "source": [
    "# seed_topics = [\n",
    "#     [\"jaringan\",\"sinyal\",\"putus\",\"hilang\",\"lambat\"],\n",
    "#     [\"pembayaran\",\"saldo\",\"transaksi\",\"masuk\",\"bukti\"],\n",
    "#     [\"cs\",\"call_center\",\"komplain\",\"telepon\",\"chat\"],\n",
    "#     [\"aplikasi\",\"error\",\"dibuka\",\"tidak bisa\",\"force close\",\"loading\",\"close\"],\n",
    "#     [\"game\",\"lag\",\"streaming\",\"ping\",\"fps\"],\n",
    "#     [\"promo\",\"topping\",\"murah\",\"flash sale\",\"harga\",\"diskon\"],\n",
    "#     # [\"aktivasi\",\"registrasi\",\"nik\",\"otp\",\"kode\"],  \n",
    "# ]"
   ]
  },
  {
   "cell_type": "code",
   "execution_count": 20,
   "id": "77c4acc6",
   "metadata": {},
   "outputs": [],
   "source": [
    "embedding_model = SentenceTransformer('paraphrase-multilingual-MiniLM-L12-v2')\n",
    "umap_model = umap.UMAP(n_neighbors=10, n_components=10, min_dist=0.05, metric='cosine', random_state=12)\n",
    "hdbscan_model = HDBSCAN(min_cluster_size=30, min_samples=10, metric='euclidean',cluster_selection_method='eom',prediction_data=True)\n",
    "vectorizer_model = CountVectorizer()\n",
    "ctfidf_model = ClassTfidfTransformer(bm25_weighting=True, reduce_frequent_words=True)"
   ]
  },
  {
   "cell_type": "code",
   "execution_count": null,
   "id": "32501bb8",
   "metadata": {},
   "outputs": [],
   "source": []
  },
  {
   "cell_type": "markdown",
   "id": "eaab424d",
   "metadata": {},
   "source": [
    "<H3> PEMBANGUNAN MODEL BERTopic</H3>"
   ]
  },
  {
   "cell_type": "code",
   "execution_count": 21,
   "id": "19841e48",
   "metadata": {},
   "outputs": [],
   "source": [
    "topic_model = BERTopic(\n",
    "    embedding_model=embedding_model,\n",
    "    umap_model=umap_model,\n",
    "    hdbscan_model=hdbscan_model,\n",
    "    vectorizer_model=vectorizer_model,\n",
    "    ctfidf_model=ctfidf_model,\n",
    "    # seed_topic_list=seed_topicss,\n",
    "    language=\"indonesian\",\n",
    "    top_n_words=10,\n",
    "    nr_topics=10,\n",
    "    min_topic_size=20, \n",
    "    calculate_probabilities=True,\n",
    "    verbose=True,\n",
    ")"
   ]
  },
  {
   "cell_type": "markdown",
   "id": "ae6d4011",
   "metadata": {},
   "source": [
    "<h4>Model kmeans</h4>"
   ]
  },
  {
   "cell_type": "code",
   "execution_count": 22,
   "id": "c11fae2e",
   "metadata": {},
   "outputs": [],
   "source": [
    "# embedding_model = SentenceTransformer('paraphrase-multilingual-MiniLM-L12-v2')\n",
    "# umap_model = umap.UMAP(n_neighbors=15, n_components=5, min_dist=0.0, metric='cosine')\n",
    "# cluster_model = KMeans(n_clusters=10, random_state=42)\n",
    "# vectorizer_model = CountVectorizer(stop_words='english')\n",
    "# ctfidf_model = ClassTfidfTransformer(bm25_weighting=True, reduce_frequent_words=True)\n",
    "\n",
    "# topic_model = BERTopic(\n",
    "#     embedding_model=embedding_model,\n",
    "#     umap_model=umap_model,\n",
    "#     hdbscan_model=cluster_model,  \n",
    "#     vectorizer_model=vectorizer_model,\n",
    "#     ctfidf_model=ctfidf_model,\n",
    "#     language=\"multilingual\",\n",
    "#     top_n_words=10,\n",
    "#     nr_topics=10,\n",
    "#     min_topic_size=50,\n",
    "#     calculate_probabilities=True,\n",
    "#     verbose=True\n",
    "# ) "
   ]
  },
  {
   "cell_type": "markdown",
   "id": "bcefc079",
   "metadata": {},
   "source": [
    "<h3>FIT TRANSFORM BERTopic</h3>"
   ]
  },
  {
   "cell_type": "code",
   "execution_count": 23,
   "id": "1e48619f",
   "metadata": {},
   "outputs": [
    {
     "name": "stderr",
     "output_type": "stream",
     "text": [
      "2025-06-24 15:04:30,417 - BERTopic - Embedding - Transforming documents to embeddings.\n"
     ]
    },
    {
     "data": {
      "application/vnd.jupyter.widget-view+json": {
       "model_id": "3fc1f710a1654bf99c8faeed164190ed",
       "version_major": 2,
       "version_minor": 0
      },
      "text/plain": [
       "Batches:   0%|          | 0/293 [00:00<?, ?it/s]"
      ]
     },
     "metadata": {},
     "output_type": "display_data"
    },
    {
     "name": "stderr",
     "output_type": "stream",
     "text": [
      "2025-06-24 15:04:40,519 - BERTopic - Embedding - Completed ✓\n",
      "2025-06-24 15:04:40,520 - BERTopic - Dimensionality - Fitting the dimensionality reduction algorithm\n",
      "2025-06-24 15:05:05,344 - BERTopic - Dimensionality - Completed ✓\n",
      "2025-06-24 15:05:05,346 - BERTopic - Cluster - Start clustering the reduced embeddings\n",
      "2025-06-24 15:05:06,339 - BERTopic - Cluster - Completed ✓\n",
      "2025-06-24 15:05:06,340 - BERTopic - Representation - Extracting topics using c-TF-IDF for topic reduction.\n",
      "2025-06-24 15:05:06,511 - BERTopic - Representation - Completed ✓\n",
      "2025-06-24 15:05:06,513 - BERTopic - Topic reduction - Reducing number of topics\n",
      "2025-06-24 15:05:06,533 - BERTopic - Representation - Fine-tuning topics using representation models.\n",
      "2025-06-24 15:05:06,667 - BERTopic - Representation - Completed ✓\n",
      "2025-06-24 15:05:06,668 - BERTopic - Topic reduction - Reduced number of topics from 32 to 10\n"
     ]
    }
   ],
   "source": [
    "topics, probs = topic_model.fit_transform(df['final_text'])"
   ]
  },
  {
   "cell_type": "markdown",
   "id": "69b78a6d",
   "metadata": {},
   "source": [
    "<h3>Simpan csv untuk visualisasi</h3>"
   ]
  },
  {
   "cell_type": "code",
   "execution_count": 24,
   "id": "d4bf6c3f",
   "metadata": {},
   "outputs": [],
   "source": [
    "# import numpy as np\n",
    "\n",
    "# # Ambil probabilitas tertinggi untuk tiap dokumen\n",
    "# max_probs = [float(np.max(p)) for p in probs]\n",
    "\n",
    "# # Buat DataFrame topik per dokumen\n",
    "# doc_topics = pd.DataFrame({\n",
    "#     \"text\": df['final_text'],  # Atau ganti dengan docs jika kamu punya list asli dokumen\n",
    "#     \"topic\": topics,\n",
    "#     \"probability\": max_probs\n",
    "# })\n",
    "\n",
    "# # Ambil label topik dari BERTopic\n",
    "# topic_labels = topic_model.get_topic_info().set_index('Topic')['Name'].to_dict()\n",
    "\n",
    "# # Tambahkan label ke DataFrame\n",
    "# doc_topics['topic_label'] = doc_topics['topic'].map(topic_labels)\n",
    "\n",
    "# # Simpan sebagai CSV\n",
    "# doc_topics.to_csv(\"topik_per_dokumen.csv\", index=False)\n",
    "\n",
    "# # Simpan ringkasan topik ke CSV\n",
    "# topic_model.get_topic_info().to_csv(\"topik_summary.csv\", index=False)"
   ]
  },
  {
   "cell_type": "markdown",
   "id": "901a1545",
   "metadata": {},
   "source": [
    "<H3>VISUALISASI PERSEBARAN TOPIK</H3>"
   ]
  },
  {
   "cell_type": "code",
   "execution_count": 41,
   "id": "998753c1",
   "metadata": {},
   "outputs": [
    {
     "data": {
      "application/vnd.plotly.v1+json": {
       "config": {
        "plotlyServerURL": "https://plot.ly"
       },
       "data": [
        {
         "customdata": [
          [
           0,
           "aplikasi | login | buka | aplikasinya | update",
           1963
          ],
          [
           1,
           "game | ping | main | youtube | stabil",
           829
          ],
          [
           2,
           "mode | sinyal | pesawat | sinyalnya | ilang",
           618
          ],
          [
           3,
           "kartu | pembayaran | sim | transaksi | bayar",
           531
          ],
          [
           4,
           "mbps | unlimited | gb | fup | kecepatan",
           453
          ],
          [
           5,
           "murah | harga | promo | mudah | bagus",
           411
          ],
          [
           6,
           "cs | email | chat | respon | sms",
           128
          ],
          [
           7,
           "pulsa | pulsanya | konter | kesedot | isi",
           99
          ],
          [
           8,
           "apk | susah | ngelag | buka | dana",
           95
          ]
         ],
         "hovertemplate": "<b>Topic %{customdata[0]}</b><br>%{customdata[1]}<br>Size: %{customdata[2]}",
         "legendgroup": "",
         "marker": {
          "color": "#B0BEC5",
          "line": {
           "color": "DarkSlateGrey",
           "width": 2
          },
          "size": [
           1963,
           829,
           618,
           531,
           453,
           411,
           128,
           99,
           95
          ],
          "sizemode": "area",
          "sizeref": 1.226875,
          "symbol": "circle"
         },
         "mode": "markers",
         "name": "",
         "orientation": "v",
         "showlegend": false,
         "type": "scatter",
         "x": [
          22.40968132019043,
          1.772533893585205,
          2.3759846687316895,
          21.673912048339844,
          2.1597225666046143,
          21.201520919799805,
          22.038135528564453,
          2.877431631088257,
          1.3239493370056152
         ],
         "xaxis": "x",
         "y": [
          -6.8293561935424805,
          13.576946258544922,
          14.032289505004883,
          -7.561336040496826,
          13.06563663482666,
          -8.029569625854492,
          -7.203019142150879,
          14.007173538208008,
          13.120168685913086
         ],
         "yaxis": "y"
        }
       ],
       "layout": {
        "annotations": [
         {
          "showarrow": false,
          "text": "D1",
          "x": 1.1253569364547729,
          "y": 3.451563930511475,
          "yshift": 10
         },
         {
          "showarrow": false,
          "text": "D2",
          "x": 13.448245227336884,
          "xshift": 10,
          "y": 16.137132930755616
         }
        ],
        "height": 650,
        "hoverlabel": {
         "bgcolor": "white",
         "font": {
          "family": "Rockwell",
          "size": 16
         }
        },
        "legend": {
         "itemsizing": "constant",
         "tracegroupgap": 0
        },
        "margin": {
         "t": 60
        },
        "shapes": [
         {
          "line": {
           "color": "#CFD8DC",
           "width": 2
          },
          "type": "line",
          "x0": 13.448245227336884,
          "x1": 13.448245227336884,
          "y0": -9.234005069732666,
          "y1": 16.137132930755616
         },
         {
          "line": {
           "color": "#9E9E9E",
           "width": 2
          },
          "type": "line",
          "x0": 1.1253569364547729,
          "x1": 25.771133518218996,
          "y0": 3.451563930511475,
          "y1": 3.451563930511475
         }
        ],
        "sliders": [
         {
          "active": 0,
          "pad": {
           "t": 50
          },
          "steps": [
           {
            "args": [
             {
              "marker.color": [
               [
                "red",
                "#B0BEC5",
                "#B0BEC5",
                "#B0BEC5",
                "#B0BEC5",
                "#B0BEC5",
                "#B0BEC5",
                "#B0BEC5",
                "#B0BEC5"
               ]
              ]
             }
            ],
            "label": "Topic 0",
            "method": "update"
           },
           {
            "args": [
             {
              "marker.color": [
               [
                "#B0BEC5",
                "red",
                "#B0BEC5",
                "#B0BEC5",
                "#B0BEC5",
                "#B0BEC5",
                "#B0BEC5",
                "#B0BEC5",
                "#B0BEC5"
               ]
              ]
             }
            ],
            "label": "Topic 1",
            "method": "update"
           },
           {
            "args": [
             {
              "marker.color": [
               [
                "#B0BEC5",
                "#B0BEC5",
                "red",
                "#B0BEC5",
                "#B0BEC5",
                "#B0BEC5",
                "#B0BEC5",
                "#B0BEC5",
                "#B0BEC5"
               ]
              ]
             }
            ],
            "label": "Topic 2",
            "method": "update"
           },
           {
            "args": [
             {
              "marker.color": [
               [
                "#B0BEC5",
                "#B0BEC5",
                "#B0BEC5",
                "red",
                "#B0BEC5",
                "#B0BEC5",
                "#B0BEC5",
                "#B0BEC5",
                "#B0BEC5"
               ]
              ]
             }
            ],
            "label": "Topic 3",
            "method": "update"
           },
           {
            "args": [
             {
              "marker.color": [
               [
                "#B0BEC5",
                "#B0BEC5",
                "#B0BEC5",
                "#B0BEC5",
                "red",
                "#B0BEC5",
                "#B0BEC5",
                "#B0BEC5",
                "#B0BEC5"
               ]
              ]
             }
            ],
            "label": "Topic 4",
            "method": "update"
           },
           {
            "args": [
             {
              "marker.color": [
               [
                "#B0BEC5",
                "#B0BEC5",
                "#B0BEC5",
                "#B0BEC5",
                "#B0BEC5",
                "red",
                "#B0BEC5",
                "#B0BEC5",
                "#B0BEC5"
               ]
              ]
             }
            ],
            "label": "Topic 5",
            "method": "update"
           },
           {
            "args": [
             {
              "marker.color": [
               [
                "#B0BEC5",
                "#B0BEC5",
                "#B0BEC5",
                "#B0BEC5",
                "#B0BEC5",
                "#B0BEC5",
                "red",
                "#B0BEC5",
                "#B0BEC5"
               ]
              ]
             }
            ],
            "label": "Topic 6",
            "method": "update"
           },
           {
            "args": [
             {
              "marker.color": [
               [
                "#B0BEC5",
                "#B0BEC5",
                "#B0BEC5",
                "#B0BEC5",
                "#B0BEC5",
                "#B0BEC5",
                "#B0BEC5",
                "red",
                "#B0BEC5"
               ]
              ]
             }
            ],
            "label": "Topic 7",
            "method": "update"
           },
           {
            "args": [
             {
              "marker.color": [
               [
                "#B0BEC5",
                "#B0BEC5",
                "#B0BEC5",
                "#B0BEC5",
                "#B0BEC5",
                "#B0BEC5",
                "#B0BEC5",
                "#B0BEC5",
                "red"
               ]
              ]
             }
            ],
            "label": "Topic 8",
            "method": "update"
           }
          ]
         }
        ],
        "template": {
         "data": {
          "bar": [
           {
            "error_x": {
             "color": "rgb(36,36,36)"
            },
            "error_y": {
             "color": "rgb(36,36,36)"
            },
            "marker": {
             "line": {
              "color": "white",
              "width": 0.5
             },
             "pattern": {
              "fillmode": "overlay",
              "size": 10,
              "solidity": 0.2
             }
            },
            "type": "bar"
           }
          ],
          "barpolar": [
           {
            "marker": {
             "line": {
              "color": "white",
              "width": 0.5
             },
             "pattern": {
              "fillmode": "overlay",
              "size": 10,
              "solidity": 0.2
             }
            },
            "type": "barpolar"
           }
          ],
          "carpet": [
           {
            "aaxis": {
             "endlinecolor": "rgb(36,36,36)",
             "gridcolor": "white",
             "linecolor": "white",
             "minorgridcolor": "white",
             "startlinecolor": "rgb(36,36,36)"
            },
            "baxis": {
             "endlinecolor": "rgb(36,36,36)",
             "gridcolor": "white",
             "linecolor": "white",
             "minorgridcolor": "white",
             "startlinecolor": "rgb(36,36,36)"
            },
            "type": "carpet"
           }
          ],
          "choropleth": [
           {
            "colorbar": {
             "outlinewidth": 1,
             "tickcolor": "rgb(36,36,36)",
             "ticks": "outside"
            },
            "type": "choropleth"
           }
          ],
          "contour": [
           {
            "colorbar": {
             "outlinewidth": 1,
             "tickcolor": "rgb(36,36,36)",
             "ticks": "outside"
            },
            "colorscale": [
             [
              0,
              "#440154"
             ],
             [
              0.1111111111111111,
              "#482878"
             ],
             [
              0.2222222222222222,
              "#3e4989"
             ],
             [
              0.3333333333333333,
              "#31688e"
             ],
             [
              0.4444444444444444,
              "#26828e"
             ],
             [
              0.5555555555555556,
              "#1f9e89"
             ],
             [
              0.6666666666666666,
              "#35b779"
             ],
             [
              0.7777777777777778,
              "#6ece58"
             ],
             [
              0.8888888888888888,
              "#b5de2b"
             ],
             [
              1,
              "#fde725"
             ]
            ],
            "type": "contour"
           }
          ],
          "contourcarpet": [
           {
            "colorbar": {
             "outlinewidth": 1,
             "tickcolor": "rgb(36,36,36)",
             "ticks": "outside"
            },
            "type": "contourcarpet"
           }
          ],
          "heatmap": [
           {
            "colorbar": {
             "outlinewidth": 1,
             "tickcolor": "rgb(36,36,36)",
             "ticks": "outside"
            },
            "colorscale": [
             [
              0,
              "#440154"
             ],
             [
              0.1111111111111111,
              "#482878"
             ],
             [
              0.2222222222222222,
              "#3e4989"
             ],
             [
              0.3333333333333333,
              "#31688e"
             ],
             [
              0.4444444444444444,
              "#26828e"
             ],
             [
              0.5555555555555556,
              "#1f9e89"
             ],
             [
              0.6666666666666666,
              "#35b779"
             ],
             [
              0.7777777777777778,
              "#6ece58"
             ],
             [
              0.8888888888888888,
              "#b5de2b"
             ],
             [
              1,
              "#fde725"
             ]
            ],
            "type": "heatmap"
           }
          ],
          "heatmapgl": [
           {
            "colorbar": {
             "outlinewidth": 1,
             "tickcolor": "rgb(36,36,36)",
             "ticks": "outside"
            },
            "colorscale": [
             [
              0,
              "#440154"
             ],
             [
              0.1111111111111111,
              "#482878"
             ],
             [
              0.2222222222222222,
              "#3e4989"
             ],
             [
              0.3333333333333333,
              "#31688e"
             ],
             [
              0.4444444444444444,
              "#26828e"
             ],
             [
              0.5555555555555556,
              "#1f9e89"
             ],
             [
              0.6666666666666666,
              "#35b779"
             ],
             [
              0.7777777777777778,
              "#6ece58"
             ],
             [
              0.8888888888888888,
              "#b5de2b"
             ],
             [
              1,
              "#fde725"
             ]
            ],
            "type": "heatmapgl"
           }
          ],
          "histogram": [
           {
            "marker": {
             "line": {
              "color": "white",
              "width": 0.6
             }
            },
            "type": "histogram"
           }
          ],
          "histogram2d": [
           {
            "colorbar": {
             "outlinewidth": 1,
             "tickcolor": "rgb(36,36,36)",
             "ticks": "outside"
            },
            "colorscale": [
             [
              0,
              "#440154"
             ],
             [
              0.1111111111111111,
              "#482878"
             ],
             [
              0.2222222222222222,
              "#3e4989"
             ],
             [
              0.3333333333333333,
              "#31688e"
             ],
             [
              0.4444444444444444,
              "#26828e"
             ],
             [
              0.5555555555555556,
              "#1f9e89"
             ],
             [
              0.6666666666666666,
              "#35b779"
             ],
             [
              0.7777777777777778,
              "#6ece58"
             ],
             [
              0.8888888888888888,
              "#b5de2b"
             ],
             [
              1,
              "#fde725"
             ]
            ],
            "type": "histogram2d"
           }
          ],
          "histogram2dcontour": [
           {
            "colorbar": {
             "outlinewidth": 1,
             "tickcolor": "rgb(36,36,36)",
             "ticks": "outside"
            },
            "colorscale": [
             [
              0,
              "#440154"
             ],
             [
              0.1111111111111111,
              "#482878"
             ],
             [
              0.2222222222222222,
              "#3e4989"
             ],
             [
              0.3333333333333333,
              "#31688e"
             ],
             [
              0.4444444444444444,
              "#26828e"
             ],
             [
              0.5555555555555556,
              "#1f9e89"
             ],
             [
              0.6666666666666666,
              "#35b779"
             ],
             [
              0.7777777777777778,
              "#6ece58"
             ],
             [
              0.8888888888888888,
              "#b5de2b"
             ],
             [
              1,
              "#fde725"
             ]
            ],
            "type": "histogram2dcontour"
           }
          ],
          "mesh3d": [
           {
            "colorbar": {
             "outlinewidth": 1,
             "tickcolor": "rgb(36,36,36)",
             "ticks": "outside"
            },
            "type": "mesh3d"
           }
          ],
          "parcoords": [
           {
            "line": {
             "colorbar": {
              "outlinewidth": 1,
              "tickcolor": "rgb(36,36,36)",
              "ticks": "outside"
             }
            },
            "type": "parcoords"
           }
          ],
          "pie": [
           {
            "automargin": true,
            "type": "pie"
           }
          ],
          "scatter": [
           {
            "fillpattern": {
             "fillmode": "overlay",
             "size": 10,
             "solidity": 0.2
            },
            "type": "scatter"
           }
          ],
          "scatter3d": [
           {
            "line": {
             "colorbar": {
              "outlinewidth": 1,
              "tickcolor": "rgb(36,36,36)",
              "ticks": "outside"
             }
            },
            "marker": {
             "colorbar": {
              "outlinewidth": 1,
              "tickcolor": "rgb(36,36,36)",
              "ticks": "outside"
             }
            },
            "type": "scatter3d"
           }
          ],
          "scattercarpet": [
           {
            "marker": {
             "colorbar": {
              "outlinewidth": 1,
              "tickcolor": "rgb(36,36,36)",
              "ticks": "outside"
             }
            },
            "type": "scattercarpet"
           }
          ],
          "scattergeo": [
           {
            "marker": {
             "colorbar": {
              "outlinewidth": 1,
              "tickcolor": "rgb(36,36,36)",
              "ticks": "outside"
             }
            },
            "type": "scattergeo"
           }
          ],
          "scattergl": [
           {
            "marker": {
             "colorbar": {
              "outlinewidth": 1,
              "tickcolor": "rgb(36,36,36)",
              "ticks": "outside"
             }
            },
            "type": "scattergl"
           }
          ],
          "scattermapbox": [
           {
            "marker": {
             "colorbar": {
              "outlinewidth": 1,
              "tickcolor": "rgb(36,36,36)",
              "ticks": "outside"
             }
            },
            "type": "scattermapbox"
           }
          ],
          "scatterpolar": [
           {
            "marker": {
             "colorbar": {
              "outlinewidth": 1,
              "tickcolor": "rgb(36,36,36)",
              "ticks": "outside"
             }
            },
            "type": "scatterpolar"
           }
          ],
          "scatterpolargl": [
           {
            "marker": {
             "colorbar": {
              "outlinewidth": 1,
              "tickcolor": "rgb(36,36,36)",
              "ticks": "outside"
             }
            },
            "type": "scatterpolargl"
           }
          ],
          "scatterternary": [
           {
            "marker": {
             "colorbar": {
              "outlinewidth": 1,
              "tickcolor": "rgb(36,36,36)",
              "ticks": "outside"
             }
            },
            "type": "scatterternary"
           }
          ],
          "surface": [
           {
            "colorbar": {
             "outlinewidth": 1,
             "tickcolor": "rgb(36,36,36)",
             "ticks": "outside"
            },
            "colorscale": [
             [
              0,
              "#440154"
             ],
             [
              0.1111111111111111,
              "#482878"
             ],
             [
              0.2222222222222222,
              "#3e4989"
             ],
             [
              0.3333333333333333,
              "#31688e"
             ],
             [
              0.4444444444444444,
              "#26828e"
             ],
             [
              0.5555555555555556,
              "#1f9e89"
             ],
             [
              0.6666666666666666,
              "#35b779"
             ],
             [
              0.7777777777777778,
              "#6ece58"
             ],
             [
              0.8888888888888888,
              "#b5de2b"
             ],
             [
              1,
              "#fde725"
             ]
            ],
            "type": "surface"
           }
          ],
          "table": [
           {
            "cells": {
             "fill": {
              "color": "rgb(237,237,237)"
             },
             "line": {
              "color": "white"
             }
            },
            "header": {
             "fill": {
              "color": "rgb(217,217,217)"
             },
             "line": {
              "color": "white"
             }
            },
            "type": "table"
           }
          ]
         },
         "layout": {
          "annotationdefaults": {
           "arrowhead": 0,
           "arrowwidth": 1
          },
          "autotypenumbers": "strict",
          "coloraxis": {
           "colorbar": {
            "outlinewidth": 1,
            "tickcolor": "rgb(36,36,36)",
            "ticks": "outside"
           }
          },
          "colorscale": {
           "diverging": [
            [
             0,
             "rgb(103,0,31)"
            ],
            [
             0.1,
             "rgb(178,24,43)"
            ],
            [
             0.2,
             "rgb(214,96,77)"
            ],
            [
             0.3,
             "rgb(244,165,130)"
            ],
            [
             0.4,
             "rgb(253,219,199)"
            ],
            [
             0.5,
             "rgb(247,247,247)"
            ],
            [
             0.6,
             "rgb(209,229,240)"
            ],
            [
             0.7,
             "rgb(146,197,222)"
            ],
            [
             0.8,
             "rgb(67,147,195)"
            ],
            [
             0.9,
             "rgb(33,102,172)"
            ],
            [
             1,
             "rgb(5,48,97)"
            ]
           ],
           "sequential": [
            [
             0,
             "#440154"
            ],
            [
             0.1111111111111111,
             "#482878"
            ],
            [
             0.2222222222222222,
             "#3e4989"
            ],
            [
             0.3333333333333333,
             "#31688e"
            ],
            [
             0.4444444444444444,
             "#26828e"
            ],
            [
             0.5555555555555556,
             "#1f9e89"
            ],
            [
             0.6666666666666666,
             "#35b779"
            ],
            [
             0.7777777777777778,
             "#6ece58"
            ],
            [
             0.8888888888888888,
             "#b5de2b"
            ],
            [
             1,
             "#fde725"
            ]
           ],
           "sequentialminus": [
            [
             0,
             "#440154"
            ],
            [
             0.1111111111111111,
             "#482878"
            ],
            [
             0.2222222222222222,
             "#3e4989"
            ],
            [
             0.3333333333333333,
             "#31688e"
            ],
            [
             0.4444444444444444,
             "#26828e"
            ],
            [
             0.5555555555555556,
             "#1f9e89"
            ],
            [
             0.6666666666666666,
             "#35b779"
            ],
            [
             0.7777777777777778,
             "#6ece58"
            ],
            [
             0.8888888888888888,
             "#b5de2b"
            ],
            [
             1,
             "#fde725"
            ]
           ]
          },
          "colorway": [
           "#1F77B4",
           "#FF7F0E",
           "#2CA02C",
           "#D62728",
           "#9467BD",
           "#8C564B",
           "#E377C2",
           "#7F7F7F",
           "#BCBD22",
           "#17BECF"
          ],
          "font": {
           "color": "rgb(36,36,36)"
          },
          "geo": {
           "bgcolor": "white",
           "lakecolor": "white",
           "landcolor": "white",
           "showlakes": true,
           "showland": true,
           "subunitcolor": "white"
          },
          "hoverlabel": {
           "align": "left"
          },
          "hovermode": "closest",
          "mapbox": {
           "style": "light"
          },
          "paper_bgcolor": "white",
          "plot_bgcolor": "white",
          "polar": {
           "angularaxis": {
            "gridcolor": "rgb(232,232,232)",
            "linecolor": "rgb(36,36,36)",
            "showgrid": false,
            "showline": true,
            "ticks": "outside"
           },
           "bgcolor": "white",
           "radialaxis": {
            "gridcolor": "rgb(232,232,232)",
            "linecolor": "rgb(36,36,36)",
            "showgrid": false,
            "showline": true,
            "ticks": "outside"
           }
          },
          "scene": {
           "xaxis": {
            "backgroundcolor": "white",
            "gridcolor": "rgb(232,232,232)",
            "gridwidth": 2,
            "linecolor": "rgb(36,36,36)",
            "showbackground": true,
            "showgrid": false,
            "showline": true,
            "ticks": "outside",
            "zeroline": false,
            "zerolinecolor": "rgb(36,36,36)"
           },
           "yaxis": {
            "backgroundcolor": "white",
            "gridcolor": "rgb(232,232,232)",
            "gridwidth": 2,
            "linecolor": "rgb(36,36,36)",
            "showbackground": true,
            "showgrid": false,
            "showline": true,
            "ticks": "outside",
            "zeroline": false,
            "zerolinecolor": "rgb(36,36,36)"
           },
           "zaxis": {
            "backgroundcolor": "white",
            "gridcolor": "rgb(232,232,232)",
            "gridwidth": 2,
            "linecolor": "rgb(36,36,36)",
            "showbackground": true,
            "showgrid": false,
            "showline": true,
            "ticks": "outside",
            "zeroline": false,
            "zerolinecolor": "rgb(36,36,36)"
           }
          },
          "shapedefaults": {
           "fillcolor": "black",
           "line": {
            "width": 0
           },
           "opacity": 0.3
          },
          "ternary": {
           "aaxis": {
            "gridcolor": "rgb(232,232,232)",
            "linecolor": "rgb(36,36,36)",
            "showgrid": false,
            "showline": true,
            "ticks": "outside"
           },
           "baxis": {
            "gridcolor": "rgb(232,232,232)",
            "linecolor": "rgb(36,36,36)",
            "showgrid": false,
            "showline": true,
            "ticks": "outside"
           },
           "bgcolor": "white",
           "caxis": {
            "gridcolor": "rgb(232,232,232)",
            "linecolor": "rgb(36,36,36)",
            "showgrid": false,
            "showline": true,
            "ticks": "outside"
           }
          },
          "title": {
           "x": 0.05
          },
          "xaxis": {
           "automargin": true,
           "gridcolor": "rgb(232,232,232)",
           "linecolor": "rgb(36,36,36)",
           "showgrid": false,
           "showline": true,
           "ticks": "outside",
           "title": {
            "standoff": 15
           },
           "zeroline": false,
           "zerolinecolor": "rgb(36,36,36)"
          },
          "yaxis": {
           "automargin": true,
           "gridcolor": "rgb(232,232,232)",
           "linecolor": "rgb(36,36,36)",
           "showgrid": false,
           "showline": true,
           "ticks": "outside",
           "title": {
            "standoff": 15
           },
           "zeroline": false,
           "zerolinecolor": "rgb(36,36,36)"
          }
         }
        },
        "title": {
         "font": {
          "color": "Black",
          "size": 22
         },
         "text": "<b>Intertopic Distance Map</b>",
         "x": 0.5,
         "xanchor": "center",
         "y": 0.95,
         "yanchor": "top"
        },
        "width": 650,
        "xaxis": {
         "anchor": "y",
         "domain": [
          0,
          1
         ],
         "range": [
          1.1253569364547729,
          25.771133518218996
         ],
         "title": {
          "text": ""
         },
         "visible": false
        },
        "yaxis": {
         "anchor": "x",
         "domain": [
          0,
          1
         ],
         "range": [
          -9.234005069732666,
          16.137132930755616
         ],
         "title": {
          "text": ""
         },
         "visible": false
        }
       }
      }
     },
     "metadata": {},
     "output_type": "display_data"
    }
   ],
   "source": [
    "topic_model.visualize_topics()"
   ]
  },
  {
   "cell_type": "markdown",
   "id": "8edf736a",
   "metadata": {},
   "source": [
    "<h3>VISUALISASI BARCHART</h3>"
   ]
  },
  {
   "cell_type": "code",
   "execution_count": 26,
   "id": "3c97fcf7",
   "metadata": {},
   "outputs": [
    {
     "data": {
      "application/vnd.plotly.v1+json": {
       "config": {
        "plotlyServerURL": "https://plot.ly"
       },
       "data": [
        {
         "marker": {
          "color": "#D55E00"
         },
         "orientation": "h",
         "type": "bar",
         "x": [
          0.3305715860672563,
          0.3426102492672707,
          0.3451595775464023,
          0.35725292556267035,
          0.38071212311864727
         ],
         "xaxis": "x",
         "y": [
          "update  ",
          "aplikasinya  ",
          "buka  ",
          "login  ",
          "aplikasi  "
         ],
         "yaxis": "y"
        },
        {
         "marker": {
          "color": "#0072B2"
         },
         "orientation": "h",
         "type": "bar",
         "x": [
          0.33173533655084897,
          0.39520059693074555,
          0.40610666193220407,
          0.44954165928263845,
          0.45261912846096614
         ],
         "xaxis": "x2",
         "y": [
          "stabil  ",
          "youtube  ",
          "main  ",
          "ping  ",
          "game  "
         ],
         "yaxis": "y2"
        },
        {
         "marker": {
          "color": "#CC79A7"
         },
         "orientation": "h",
         "type": "bar",
         "x": [
          0.31880083601087905,
          0.3685299796086663,
          0.3963065075677706,
          0.42159847524621236,
          0.42541169850934846
         ],
         "xaxis": "x3",
         "y": [
          "ilang  ",
          "sinyalnya  ",
          "pesawat  ",
          "sinyal  ",
          "mode  "
         ],
         "yaxis": "y3"
        },
        {
         "marker": {
          "color": "#E69F00"
         },
         "orientation": "h",
         "type": "bar",
         "x": [
          0.33446868827430476,
          0.3421548685305329,
          0.39397789170069886,
          0.4230259907061886,
          0.43971209562178265
         ],
         "xaxis": "x4",
         "y": [
          "bayar  ",
          "transaksi  ",
          "sim  ",
          "pembayaran  ",
          "kartu  "
         ],
         "yaxis": "y4"
        },
        {
         "marker": {
          "color": "#56B4E9"
         },
         "orientation": "h",
         "type": "bar",
         "x": [
          0.41550836593251605,
          0.4664432956731131,
          0.4728617123852882,
          0.5262487891204659,
          0.6000616805920254
         ],
         "xaxis": "x5",
         "y": [
          "kecepatan  ",
          "fup  ",
          "gb  ",
          "unlimited  ",
          "mbps  "
         ],
         "yaxis": "y5"
        },
        {
         "marker": {
          "color": "#009E73"
         },
         "orientation": "h",
         "type": "bar",
         "x": [
          0.38332460049954287,
          0.41510812609607345,
          0.4177271449266941,
          0.4326656049360124,
          0.4960889556364649
         ],
         "xaxis": "x6",
         "y": [
          "bagus  ",
          "mudah  ",
          "promo  ",
          "harga  ",
          "murah  "
         ],
         "yaxis": "y6"
        },
        {
         "marker": {
          "color": "#F0E442"
         },
         "orientation": "h",
         "type": "bar",
         "x": [
          0.41765116608034525,
          0.4484287222490071,
          0.5240253490538744,
          0.5918636756802601,
          0.6934944346676544
         ],
         "xaxis": "x7",
         "y": [
          "sms  ",
          "respon  ",
          "chat  ",
          "email  ",
          "cs  "
         ],
         "yaxis": "y7"
        },
        {
         "marker": {
          "color": "#D55E00"
         },
         "orientation": "h",
         "type": "bar",
         "x": [
          0.44231207294519626,
          0.4725141857757204,
          0.49302458756079,
          0.529300797507472,
          0.9083214809742454
         ],
         "xaxis": "x8",
         "y": [
          "isi  ",
          "kesedot  ",
          "konter  ",
          "pulsanya  ",
          "pulsa  "
         ],
         "yaxis": "y8"
        },
        {
         "marker": {
          "color": "#0072B2"
         },
         "orientation": "h",
         "type": "bar",
         "x": [
          0.305673933857756,
          0.30576559451328167,
          0.3118408535960649,
          0.31679946402475,
          0.38830490628121783
         ],
         "xaxis": "x9",
         "y": [
          "dana  ",
          "buka  ",
          "ngelag  ",
          "susah  ",
          "apk  "
         ],
         "yaxis": "y9"
        }
       ],
       "layout": {
        "annotations": [
         {
          "font": {
           "size": 16
          },
          "showarrow": false,
          "text": "Topic 0",
          "x": 0.0875,
          "xanchor": "center",
          "xref": "paper",
          "y": 1,
          "yanchor": "bottom",
          "yref": "paper"
         },
         {
          "font": {
           "size": 16
          },
          "showarrow": false,
          "text": "Topic 1",
          "x": 0.36250000000000004,
          "xanchor": "center",
          "xref": "paper",
          "y": 1,
          "yanchor": "bottom",
          "yref": "paper"
         },
         {
          "font": {
           "size": 16
          },
          "showarrow": false,
          "text": "Topic 2",
          "x": 0.6375000000000001,
          "xanchor": "center",
          "xref": "paper",
          "y": 1,
          "yanchor": "bottom",
          "yref": "paper"
         },
         {
          "font": {
           "size": 16
          },
          "showarrow": false,
          "text": "Topic 3",
          "x": 0.9125,
          "xanchor": "center",
          "xref": "paper",
          "y": 1,
          "yanchor": "bottom",
          "yref": "paper"
         },
         {
          "font": {
           "size": 16
          },
          "showarrow": false,
          "text": "Topic 4",
          "x": 0.0875,
          "xanchor": "center",
          "xref": "paper",
          "y": 0.6222222222222222,
          "yanchor": "bottom",
          "yref": "paper"
         },
         {
          "font": {
           "size": 16
          },
          "showarrow": false,
          "text": "Topic 5",
          "x": 0.36250000000000004,
          "xanchor": "center",
          "xref": "paper",
          "y": 0.6222222222222222,
          "yanchor": "bottom",
          "yref": "paper"
         },
         {
          "font": {
           "size": 16
          },
          "showarrow": false,
          "text": "Topic 6",
          "x": 0.6375000000000001,
          "xanchor": "center",
          "xref": "paper",
          "y": 0.6222222222222222,
          "yanchor": "bottom",
          "yref": "paper"
         },
         {
          "font": {
           "size": 16
          },
          "showarrow": false,
          "text": "Topic 7",
          "x": 0.9125,
          "xanchor": "center",
          "xref": "paper",
          "y": 0.6222222222222222,
          "yanchor": "bottom",
          "yref": "paper"
         },
         {
          "font": {
           "size": 16
          },
          "showarrow": false,
          "text": "Topic 8",
          "x": 0.0875,
          "xanchor": "center",
          "xref": "paper",
          "y": 0.24444444444444446,
          "yanchor": "bottom",
          "yref": "paper"
         }
        ],
        "height": 750,
        "hoverlabel": {
         "bgcolor": "white",
         "font": {
          "family": "Rockwell",
          "size": 16
         }
        },
        "showlegend": false,
        "template": {
         "data": {
          "bar": [
           {
            "error_x": {
             "color": "#2a3f5f"
            },
            "error_y": {
             "color": "#2a3f5f"
            },
            "marker": {
             "line": {
              "color": "white",
              "width": 0.5
             },
             "pattern": {
              "fillmode": "overlay",
              "size": 10,
              "solidity": 0.2
             }
            },
            "type": "bar"
           }
          ],
          "barpolar": [
           {
            "marker": {
             "line": {
              "color": "white",
              "width": 0.5
             },
             "pattern": {
              "fillmode": "overlay",
              "size": 10,
              "solidity": 0.2
             }
            },
            "type": "barpolar"
           }
          ],
          "carpet": [
           {
            "aaxis": {
             "endlinecolor": "#2a3f5f",
             "gridcolor": "#C8D4E3",
             "linecolor": "#C8D4E3",
             "minorgridcolor": "#C8D4E3",
             "startlinecolor": "#2a3f5f"
            },
            "baxis": {
             "endlinecolor": "#2a3f5f",
             "gridcolor": "#C8D4E3",
             "linecolor": "#C8D4E3",
             "minorgridcolor": "#C8D4E3",
             "startlinecolor": "#2a3f5f"
            },
            "type": "carpet"
           }
          ],
          "choropleth": [
           {
            "colorbar": {
             "outlinewidth": 0,
             "ticks": ""
            },
            "type": "choropleth"
           }
          ],
          "contour": [
           {
            "colorbar": {
             "outlinewidth": 0,
             "ticks": ""
            },
            "colorscale": [
             [
              0,
              "#0d0887"
             ],
             [
              0.1111111111111111,
              "#46039f"
             ],
             [
              0.2222222222222222,
              "#7201a8"
             ],
             [
              0.3333333333333333,
              "#9c179e"
             ],
             [
              0.4444444444444444,
              "#bd3786"
             ],
             [
              0.5555555555555556,
              "#d8576b"
             ],
             [
              0.6666666666666666,
              "#ed7953"
             ],
             [
              0.7777777777777778,
              "#fb9f3a"
             ],
             [
              0.8888888888888888,
              "#fdca26"
             ],
             [
              1,
              "#f0f921"
             ]
            ],
            "type": "contour"
           }
          ],
          "contourcarpet": [
           {
            "colorbar": {
             "outlinewidth": 0,
             "ticks": ""
            },
            "type": "contourcarpet"
           }
          ],
          "heatmap": [
           {
            "colorbar": {
             "outlinewidth": 0,
             "ticks": ""
            },
            "colorscale": [
             [
              0,
              "#0d0887"
             ],
             [
              0.1111111111111111,
              "#46039f"
             ],
             [
              0.2222222222222222,
              "#7201a8"
             ],
             [
              0.3333333333333333,
              "#9c179e"
             ],
             [
              0.4444444444444444,
              "#bd3786"
             ],
             [
              0.5555555555555556,
              "#d8576b"
             ],
             [
              0.6666666666666666,
              "#ed7953"
             ],
             [
              0.7777777777777778,
              "#fb9f3a"
             ],
             [
              0.8888888888888888,
              "#fdca26"
             ],
             [
              1,
              "#f0f921"
             ]
            ],
            "type": "heatmap"
           }
          ],
          "heatmapgl": [
           {
            "colorbar": {
             "outlinewidth": 0,
             "ticks": ""
            },
            "colorscale": [
             [
              0,
              "#0d0887"
             ],
             [
              0.1111111111111111,
              "#46039f"
             ],
             [
              0.2222222222222222,
              "#7201a8"
             ],
             [
              0.3333333333333333,
              "#9c179e"
             ],
             [
              0.4444444444444444,
              "#bd3786"
             ],
             [
              0.5555555555555556,
              "#d8576b"
             ],
             [
              0.6666666666666666,
              "#ed7953"
             ],
             [
              0.7777777777777778,
              "#fb9f3a"
             ],
             [
              0.8888888888888888,
              "#fdca26"
             ],
             [
              1,
              "#f0f921"
             ]
            ],
            "type": "heatmapgl"
           }
          ],
          "histogram": [
           {
            "marker": {
             "pattern": {
              "fillmode": "overlay",
              "size": 10,
              "solidity": 0.2
             }
            },
            "type": "histogram"
           }
          ],
          "histogram2d": [
           {
            "colorbar": {
             "outlinewidth": 0,
             "ticks": ""
            },
            "colorscale": [
             [
              0,
              "#0d0887"
             ],
             [
              0.1111111111111111,
              "#46039f"
             ],
             [
              0.2222222222222222,
              "#7201a8"
             ],
             [
              0.3333333333333333,
              "#9c179e"
             ],
             [
              0.4444444444444444,
              "#bd3786"
             ],
             [
              0.5555555555555556,
              "#d8576b"
             ],
             [
              0.6666666666666666,
              "#ed7953"
             ],
             [
              0.7777777777777778,
              "#fb9f3a"
             ],
             [
              0.8888888888888888,
              "#fdca26"
             ],
             [
              1,
              "#f0f921"
             ]
            ],
            "type": "histogram2d"
           }
          ],
          "histogram2dcontour": [
           {
            "colorbar": {
             "outlinewidth": 0,
             "ticks": ""
            },
            "colorscale": [
             [
              0,
              "#0d0887"
             ],
             [
              0.1111111111111111,
              "#46039f"
             ],
             [
              0.2222222222222222,
              "#7201a8"
             ],
             [
              0.3333333333333333,
              "#9c179e"
             ],
             [
              0.4444444444444444,
              "#bd3786"
             ],
             [
              0.5555555555555556,
              "#d8576b"
             ],
             [
              0.6666666666666666,
              "#ed7953"
             ],
             [
              0.7777777777777778,
              "#fb9f3a"
             ],
             [
              0.8888888888888888,
              "#fdca26"
             ],
             [
              1,
              "#f0f921"
             ]
            ],
            "type": "histogram2dcontour"
           }
          ],
          "mesh3d": [
           {
            "colorbar": {
             "outlinewidth": 0,
             "ticks": ""
            },
            "type": "mesh3d"
           }
          ],
          "parcoords": [
           {
            "line": {
             "colorbar": {
              "outlinewidth": 0,
              "ticks": ""
             }
            },
            "type": "parcoords"
           }
          ],
          "pie": [
           {
            "automargin": true,
            "type": "pie"
           }
          ],
          "scatter": [
           {
            "fillpattern": {
             "fillmode": "overlay",
             "size": 10,
             "solidity": 0.2
            },
            "type": "scatter"
           }
          ],
          "scatter3d": [
           {
            "line": {
             "colorbar": {
              "outlinewidth": 0,
              "ticks": ""
             }
            },
            "marker": {
             "colorbar": {
              "outlinewidth": 0,
              "ticks": ""
             }
            },
            "type": "scatter3d"
           }
          ],
          "scattercarpet": [
           {
            "marker": {
             "colorbar": {
              "outlinewidth": 0,
              "ticks": ""
             }
            },
            "type": "scattercarpet"
           }
          ],
          "scattergeo": [
           {
            "marker": {
             "colorbar": {
              "outlinewidth": 0,
              "ticks": ""
             }
            },
            "type": "scattergeo"
           }
          ],
          "scattergl": [
           {
            "marker": {
             "colorbar": {
              "outlinewidth": 0,
              "ticks": ""
             }
            },
            "type": "scattergl"
           }
          ],
          "scattermapbox": [
           {
            "marker": {
             "colorbar": {
              "outlinewidth": 0,
              "ticks": ""
             }
            },
            "type": "scattermapbox"
           }
          ],
          "scatterpolar": [
           {
            "marker": {
             "colorbar": {
              "outlinewidth": 0,
              "ticks": ""
             }
            },
            "type": "scatterpolar"
           }
          ],
          "scatterpolargl": [
           {
            "marker": {
             "colorbar": {
              "outlinewidth": 0,
              "ticks": ""
             }
            },
            "type": "scatterpolargl"
           }
          ],
          "scatterternary": [
           {
            "marker": {
             "colorbar": {
              "outlinewidth": 0,
              "ticks": ""
             }
            },
            "type": "scatterternary"
           }
          ],
          "surface": [
           {
            "colorbar": {
             "outlinewidth": 0,
             "ticks": ""
            },
            "colorscale": [
             [
              0,
              "#0d0887"
             ],
             [
              0.1111111111111111,
              "#46039f"
             ],
             [
              0.2222222222222222,
              "#7201a8"
             ],
             [
              0.3333333333333333,
              "#9c179e"
             ],
             [
              0.4444444444444444,
              "#bd3786"
             ],
             [
              0.5555555555555556,
              "#d8576b"
             ],
             [
              0.6666666666666666,
              "#ed7953"
             ],
             [
              0.7777777777777778,
              "#fb9f3a"
             ],
             [
              0.8888888888888888,
              "#fdca26"
             ],
             [
              1,
              "#f0f921"
             ]
            ],
            "type": "surface"
           }
          ],
          "table": [
           {
            "cells": {
             "fill": {
              "color": "#EBF0F8"
             },
             "line": {
              "color": "white"
             }
            },
            "header": {
             "fill": {
              "color": "#C8D4E3"
             },
             "line": {
              "color": "white"
             }
            },
            "type": "table"
           }
          ]
         },
         "layout": {
          "annotationdefaults": {
           "arrowcolor": "#2a3f5f",
           "arrowhead": 0,
           "arrowwidth": 1
          },
          "autotypenumbers": "strict",
          "coloraxis": {
           "colorbar": {
            "outlinewidth": 0,
            "ticks": ""
           }
          },
          "colorscale": {
           "diverging": [
            [
             0,
             "#8e0152"
            ],
            [
             0.1,
             "#c51b7d"
            ],
            [
             0.2,
             "#de77ae"
            ],
            [
             0.3,
             "#f1b6da"
            ],
            [
             0.4,
             "#fde0ef"
            ],
            [
             0.5,
             "#f7f7f7"
            ],
            [
             0.6,
             "#e6f5d0"
            ],
            [
             0.7,
             "#b8e186"
            ],
            [
             0.8,
             "#7fbc41"
            ],
            [
             0.9,
             "#4d9221"
            ],
            [
             1,
             "#276419"
            ]
           ],
           "sequential": [
            [
             0,
             "#0d0887"
            ],
            [
             0.1111111111111111,
             "#46039f"
            ],
            [
             0.2222222222222222,
             "#7201a8"
            ],
            [
             0.3333333333333333,
             "#9c179e"
            ],
            [
             0.4444444444444444,
             "#bd3786"
            ],
            [
             0.5555555555555556,
             "#d8576b"
            ],
            [
             0.6666666666666666,
             "#ed7953"
            ],
            [
             0.7777777777777778,
             "#fb9f3a"
            ],
            [
             0.8888888888888888,
             "#fdca26"
            ],
            [
             1,
             "#f0f921"
            ]
           ],
           "sequentialminus": [
            [
             0,
             "#0d0887"
            ],
            [
             0.1111111111111111,
             "#46039f"
            ],
            [
             0.2222222222222222,
             "#7201a8"
            ],
            [
             0.3333333333333333,
             "#9c179e"
            ],
            [
             0.4444444444444444,
             "#bd3786"
            ],
            [
             0.5555555555555556,
             "#d8576b"
            ],
            [
             0.6666666666666666,
             "#ed7953"
            ],
            [
             0.7777777777777778,
             "#fb9f3a"
            ],
            [
             0.8888888888888888,
             "#fdca26"
            ],
            [
             1,
             "#f0f921"
            ]
           ]
          },
          "colorway": [
           "#636efa",
           "#EF553B",
           "#00cc96",
           "#ab63fa",
           "#FFA15A",
           "#19d3f3",
           "#FF6692",
           "#B6E880",
           "#FF97FF",
           "#FECB52"
          ],
          "font": {
           "color": "#2a3f5f"
          },
          "geo": {
           "bgcolor": "white",
           "lakecolor": "white",
           "landcolor": "white",
           "showlakes": true,
           "showland": true,
           "subunitcolor": "#C8D4E3"
          },
          "hoverlabel": {
           "align": "left"
          },
          "hovermode": "closest",
          "mapbox": {
           "style": "light"
          },
          "paper_bgcolor": "white",
          "plot_bgcolor": "white",
          "polar": {
           "angularaxis": {
            "gridcolor": "#EBF0F8",
            "linecolor": "#EBF0F8",
            "ticks": ""
           },
           "bgcolor": "white",
           "radialaxis": {
            "gridcolor": "#EBF0F8",
            "linecolor": "#EBF0F8",
            "ticks": ""
           }
          },
          "scene": {
           "xaxis": {
            "backgroundcolor": "white",
            "gridcolor": "#DFE8F3",
            "gridwidth": 2,
            "linecolor": "#EBF0F8",
            "showbackground": true,
            "ticks": "",
            "zerolinecolor": "#EBF0F8"
           },
           "yaxis": {
            "backgroundcolor": "white",
            "gridcolor": "#DFE8F3",
            "gridwidth": 2,
            "linecolor": "#EBF0F8",
            "showbackground": true,
            "ticks": "",
            "zerolinecolor": "#EBF0F8"
           },
           "zaxis": {
            "backgroundcolor": "white",
            "gridcolor": "#DFE8F3",
            "gridwidth": 2,
            "linecolor": "#EBF0F8",
            "showbackground": true,
            "ticks": "",
            "zerolinecolor": "#EBF0F8"
           }
          },
          "shapedefaults": {
           "line": {
            "color": "#2a3f5f"
           }
          },
          "ternary": {
           "aaxis": {
            "gridcolor": "#DFE8F3",
            "linecolor": "#A2B1C6",
            "ticks": ""
           },
           "baxis": {
            "gridcolor": "#DFE8F3",
            "linecolor": "#A2B1C6",
            "ticks": ""
           },
           "bgcolor": "white",
           "caxis": {
            "gridcolor": "#DFE8F3",
            "linecolor": "#A2B1C6",
            "ticks": ""
           }
          },
          "title": {
           "x": 0.05
          },
          "xaxis": {
           "automargin": true,
           "gridcolor": "#EBF0F8",
           "linecolor": "#EBF0F8",
           "ticks": "",
           "title": {
            "standoff": 15
           },
           "zerolinecolor": "#EBF0F8",
           "zerolinewidth": 2
          },
          "yaxis": {
           "automargin": true,
           "gridcolor": "#EBF0F8",
           "linecolor": "#EBF0F8",
           "ticks": "",
           "title": {
            "standoff": 15
           },
           "zerolinecolor": "#EBF0F8",
           "zerolinewidth": 2
          }
         }
        },
        "title": {
         "font": {
          "color": "Black",
          "size": 22
         },
         "text": "Topic Word Scores",
         "x": 0.5,
         "xanchor": "center",
         "yanchor": "top"
        },
        "width": 1000,
        "xaxis": {
         "anchor": "y",
         "domain": [
          0,
          0.175
         ],
         "showgrid": true
        },
        "xaxis10": {
         "anchor": "y10",
         "domain": [
          0.275,
          0.45
         ],
         "showgrid": true
        },
        "xaxis11": {
         "anchor": "y11",
         "domain": [
          0.55,
          0.7250000000000001
         ],
         "showgrid": true
        },
        "xaxis12": {
         "anchor": "y12",
         "domain": [
          0.825,
          1
         ],
         "showgrid": true
        },
        "xaxis2": {
         "anchor": "y2",
         "domain": [
          0.275,
          0.45
         ],
         "showgrid": true
        },
        "xaxis3": {
         "anchor": "y3",
         "domain": [
          0.55,
          0.7250000000000001
         ],
         "showgrid": true
        },
        "xaxis4": {
         "anchor": "y4",
         "domain": [
          0.825,
          1
         ],
         "showgrid": true
        },
        "xaxis5": {
         "anchor": "y5",
         "domain": [
          0,
          0.175
         ],
         "showgrid": true
        },
        "xaxis6": {
         "anchor": "y6",
         "domain": [
          0.275,
          0.45
         ],
         "showgrid": true
        },
        "xaxis7": {
         "anchor": "y7",
         "domain": [
          0.55,
          0.7250000000000001
         ],
         "showgrid": true
        },
        "xaxis8": {
         "anchor": "y8",
         "domain": [
          0.825,
          1
         ],
         "showgrid": true
        },
        "xaxis9": {
         "anchor": "y9",
         "domain": [
          0,
          0.175
         ],
         "showgrid": true
        },
        "yaxis": {
         "anchor": "x",
         "domain": [
          0.7555555555555555,
          1
         ],
         "showgrid": true
        },
        "yaxis10": {
         "anchor": "x10",
         "domain": [
          0,
          0.24444444444444446
         ],
         "showgrid": true
        },
        "yaxis11": {
         "anchor": "x11",
         "domain": [
          0,
          0.24444444444444446
         ],
         "showgrid": true
        },
        "yaxis12": {
         "anchor": "x12",
         "domain": [
          0,
          0.24444444444444446
         ],
         "showgrid": true
        },
        "yaxis2": {
         "anchor": "x2",
         "domain": [
          0.7555555555555555,
          1
         ],
         "showgrid": true
        },
        "yaxis3": {
         "anchor": "x3",
         "domain": [
          0.7555555555555555,
          1
         ],
         "showgrid": true
        },
        "yaxis4": {
         "anchor": "x4",
         "domain": [
          0.7555555555555555,
          1
         ],
         "showgrid": true
        },
        "yaxis5": {
         "anchor": "x5",
         "domain": [
          0.37777777777777777,
          0.6222222222222222
         ],
         "showgrid": true
        },
        "yaxis6": {
         "anchor": "x6",
         "domain": [
          0.37777777777777777,
          0.6222222222222222
         ],
         "showgrid": true
        },
        "yaxis7": {
         "anchor": "x7",
         "domain": [
          0.37777777777777777,
          0.6222222222222222
         ],
         "showgrid": true
        },
        "yaxis8": {
         "anchor": "x8",
         "domain": [
          0.37777777777777777,
          0.6222222222222222
         ],
         "showgrid": true
        },
        "yaxis9": {
         "anchor": "x9",
         "domain": [
          0,
          0.24444444444444446
         ],
         "showgrid": true
        }
       }
      }
     },
     "metadata": {},
     "output_type": "display_data"
    }
   ],
   "source": [
    "topic_model.visualize_barchart(top_n_topics=10)"
   ]
  },
  {
   "cell_type": "code",
   "execution_count": 27,
   "id": "d41bb184",
   "metadata": {},
   "outputs": [
    {
     "data": {
      "text/plain": [
       "([6, 8, 7, 3, 2],\n",
       " [0.38711573191479826,\n",
       "  0.2542392578156661,\n",
       "  0.18237281106749936,\n",
       "  0.12936718036707623,\n",
       "  0.101461423510376])"
      ]
     },
     "execution_count": 27,
     "metadata": {},
     "output_type": "execute_result"
    }
   ],
   "source": [
    "topic_model.find_topics(\"respon cs\", top_n=5)"
   ]
  },
  {
   "cell_type": "markdown",
   "id": "2ccea80c",
   "metadata": {},
   "source": [
    "<h3>CEK COHERENCE SCORE</h3>"
   ]
  },
  {
   "cell_type": "code",
   "execution_count": 28,
   "id": "67128168",
   "metadata": {},
   "outputs": [
    {
     "name": "stdout",
     "output_type": "stream",
     "text": [
      "Coherence Score: 0.5617\n"
     ]
    }
   ],
   "source": [
    "from gensim.models.coherencemodel import CoherenceModel\n",
    "from gensim.corpora import Dictionary\n",
    "\n",
    "tokens = [text.split() for text in df['final_text']] \n",
    "\n",
    "\n",
    "dictionary = Dictionary(tokens)\n",
    "corpus = [dictionary.doc2bow(text) for text in tokens]\n",
    "\n",
    "topics = topic_model.get_topics()\n",
    "topic_words = []\n",
    "for topic_id, word_probs in topics.items():\n",
    "    words = [word for word, _ in word_probs] \n",
    "    topic_words.append(words)\n",
    "\n",
    "\n",
    "coherence_model = CoherenceModel(\n",
    "    topics=topic_words,\n",
    "    texts=tokens,\n",
    "    corpus=corpus,\n",
    "    dictionary=dictionary,\n",
    "    coherence='c_v'\n",
    ")\n",
    "\n",
    "coherence = coherence_model.get_coherence()\n",
    "print(f\"Coherence Score: {coherence:.4f}\")"
   ]
  },
  {
   "cell_type": "markdown",
   "id": "cef96708",
   "metadata": {},
   "source": [
    "<H4>OPSIONAL CODE</H4>"
   ]
  },
  {
   "cell_type": "code",
   "execution_count": 29,
   "id": "6387dece",
   "metadata": {},
   "outputs": [],
   "source": [
    "# Simpan model topik ke file\n",
    "# docs = df['final_text'].tolist()\n",
    "# topics, probs = topic_model.fit_transform(docs)\n",
    "\n",
    "\n",
    "# import numpy as np\n",
    "\n",
    "# # Konversi ke list of float dengan ambil nilai tertinggi per dokumen\n",
    "# max_probs = [float(np.max(p)) for p in probs]\n",
    "\n",
    "# doc_topics = pd.DataFrame({\n",
    "#     \"text\": docs,\n",
    "#     \"topic\": topics,\n",
    "#     \"probability\": max_probs\n",
    "# })\n",
    "\n",
    "# doc_topics.to_csv(\"topik_per_dokumen.csv\", index=False)\n",
    "\n",
    "\n",
    "# # Dapatkan label topik dari BERTopic\n",
    "# topic_labels = topic_model.get_topic_info().set_index('Topic')['Name'].to_dict()\n",
    "\n",
    "# doc_topics['topic_label'] = doc_topics['topic'].map(topic_labels)\n",
    "# doc_topics.to_csv(\"topik_per_dokumen2.csv\", index=False)\n",
    "\n",
    "# topic_model.get_topic_info().to_csv(\"topik_info.csv\", index=False)\n"
   ]
  },
  {
   "cell_type": "code",
   "execution_count": 30,
   "id": "040ecfc2",
   "metadata": {},
   "outputs": [],
   "source": [
    "# # cek bentuk topics dan probs\n",
    "# print(type(topics), type(topics[0]))\n",
    "# print(type(probs), type(probs[0]))"
   ]
  },
  {
   "cell_type": "code",
   "execution_count": 31,
   "id": "578eab4a",
   "metadata": {},
   "outputs": [],
   "source": [
    "# # Ambil teks final untuk analisis topik\n",
    "# docs = df['final_text'].tolist()"
   ]
  },
  {
   "cell_type": "code",
   "execution_count": 32,
   "id": "a716b32f",
   "metadata": {},
   "outputs": [],
   "source": [
    "# # Cek panjang\n",
    "# print(len(docs), len(topics), len(probs))"
   ]
  },
  {
   "cell_type": "code",
   "execution_count": 33,
   "id": "6736f513",
   "metadata": {},
   "outputs": [
    {
     "data": {
      "text/plain": [
       "['heran sama byu beli paketan unlimited mbps hari pagi sore lancar eh malam besoknya ngadat mau jalan internetnya tau kalo unlimited kena fub gb masa iya baru sehari make kena fub awal make speed normal lag main game lancar jam siang jam sore eh malam turun malah dapet kbps naek naek tuh coba solusinya gimana sama update aplikasinyan masa mau beli paket notice apa',\n",
       " 'kalau kata orang harga kualitas malah harga mahal kualitas rendah awalnya masalah kuota mbps speed sampe kbps walaupun sesuai sama nama kuota mbps eh ternyata diam diam mengaktifkan fup paket mbps limit gb internet langsung turun kbps parah tau mending beli gb sekalian speed tembus mbps',\n",
       " 'parah ni jaringan tiba tiba lambat bikin males isi data aturan fup baru paket unlimited mbps sangat meresahkan meski isi ulang kalau batas waktu sebelumnya habis terpaksa menikmati paket limit fup sebelumnya speed parah ngak buat apaapa bagus aku puas makin sini makin pengen ganti kartu mohon perbaiki']"
      ]
     },
     "execution_count": 33,
     "metadata": {},
     "output_type": "execute_result"
    }
   ],
   "source": [
    "topic_model.get_representative_docs(4)"
   ]
  },
  {
   "cell_type": "code",
   "execution_count": 34,
   "id": "29136cbd",
   "metadata": {},
   "outputs": [
    {
     "data": {
      "text/html": [
       "<div>\n",
       "<style scoped>\n",
       "    .dataframe tbody tr th:only-of-type {\n",
       "        vertical-align: middle;\n",
       "    }\n",
       "\n",
       "    .dataframe tbody tr th {\n",
       "        vertical-align: top;\n",
       "    }\n",
       "\n",
       "    .dataframe thead th {\n",
       "        text-align: right;\n",
       "    }\n",
       "</style>\n",
       "<table border=\"1\" class=\"dataframe\">\n",
       "  <thead>\n",
       "    <tr style=\"text-align: right;\">\n",
       "      <th></th>\n",
       "      <th>Topic</th>\n",
       "      <th>Count</th>\n",
       "      <th>Name</th>\n",
       "      <th>Representation</th>\n",
       "      <th>Representative_Docs</th>\n",
       "    </tr>\n",
       "  </thead>\n",
       "  <tbody>\n",
       "    <tr>\n",
       "      <th>0</th>\n",
       "      <td>-1</td>\n",
       "      <td>4249</td>\n",
       "      <td>-1_sinyal_kartu_jaringan_bagus</td>\n",
       "      <td>[sinyal, kartu, jaringan, bagus, pake, sama, provider, sinyalnya, padahal, beli]</td>\n",
       "      <td>[byu makin kesini makin jelas aku pengguna awal tahun byu baru rilis jadi aku tau gimana rasanya pas awal sekarang sekarang tuh makin sering dapet sinyal aku sebel produk paketan mbps unlimited bulan diilangin paling parah bikin sebel buka aplikasi susah pas buka aplikasi sekarang eror padahal buka aplikasi niat beli paket jadi males rasanya pake byu pengen ganti perbaikan, pengguna baru kartu byu jaringan full tempat sama telkomsel bagus mungkin banyak orang bilang jaringan sering hilang mungkin berbeda beda tempat lokasi jadi jaringannya merata sini memberikan ulasan sesuai pengalaman cs fast respon email buka aplikasi sangat kenceng sekali internet data mungkin boros kuota kalau buka aplikasi normal tembus mbps, sekarang kasih segini dulu kecewa parah makai byu sinyal bagus awal pas tahun tibatiba jaringan jelek suka ilang stabil mau kirim gambar lama turnament tiba tiba hilang sinyalnya bahkan sekarang mau nonton youtube lemot ngelag gila mode tetap sama bahkan pas ganti jaringan g balik otomatis sama kalau gini lama lama pindah jaringan]</td>\n",
       "    </tr>\n",
       "    <tr>\n",
       "      <th>1</th>\n",
       "      <td>0</td>\n",
       "      <td>1963</td>\n",
       "      <td>0_aplikasi_login_buka_aplikasinya</td>\n",
       "      <td>[aplikasi, login, buka, aplikasinya, update, mau, wifi, error, dibuka, kesalahan]</td>\n",
       "      <td>[apps trouble pas dibuka bolak balik terjadi kesalahan bolak balik instal ulang gabisa kali bolak balik restard hp nyaman sinyalnya artinya gada kendala koneksi buat buka nyatanya apps jalan baik buat buka byu susah sama pinterest susah buka kadang logout sendiri benahi jadi susah mau cek kuota beli kuota sinyal jadi stabil kadang sinyal ilang pas jam kerja, tahun lebih pake byu aplikasinya makin update makin sering error mau cek kuota error suruh cek jaringan apalah padahal jaringan g pas mau beli kuota beli pulsa sering kendala error perbaiki masalah aplikasi terima kasih, bingung sama aplikasi kadang dibuka padahal paketan habis mau beli paket kadang koneksi stabil kadang suka crash tiba tiba hilang perasaan edit gimana yah makin kacau mau isi paket karna habis biasanya pakai koneksi wifi dulu utk buka aplikasi lalu beli kuota malah sama sekali]</td>\n",
       "    </tr>\n",
       "    <tr>\n",
       "      <th>2</th>\n",
       "      <td>1</td>\n",
       "      <td>829</td>\n",
       "      <td>1_game_ping_main_youtube</td>\n",
       "      <td>[game, ping, main, youtube, stabil, jaringan, buat, jaringannya, online, bermain]</td>\n",
       "      <td>[harga kuota iya murah bermain game ping naik kalau nonton youtube koneksi benar benar cepat download lambat sering eror padahal hp bagus jaringan bagus pembelian pulsa mohon beli counter intinya jangan pakai kartu byu sedang bermain game sering putus putus internet rank kalian turun, apaan dah masa jaringan full giliran dipake buat akses sosmed game malah lemot parah kadang apk byu nge bug isi kuota mohon diperbaiki yaa masa pake lemot mulu kadang kalau mau bagus signal mati data mode pesawat dulu biar refresh jadi ribet buat penggunanya maaf ku kasih bintang dlu, jaringan cukup bagus rumahku terpencil harga tergolong murah signalnya naik turunnya ngeri tp masalah harga terjangkau download streaming lancar kalau buat main game kurang bagus satu aku notice kuotanya gatau lebih boros cepat habis aku coba provider utk pemakaian sama nonton youtube video sama kualitas video sama hasilnya kuota byu lebih boros cepat habis sayang kan]</td>\n",
       "    </tr>\n",
       "    <tr>\n",
       "      <th>3</th>\n",
       "      <td>2</td>\n",
       "      <td>618</td>\n",
       "      <td>2_mode_sinyal_pesawat_sinyalnya</td>\n",
       "      <td>[mode, sinyal, pesawat, sinyalnya, ilang, bintang, hilang, makin, jelek, tiba]</td>\n",
       "      <td>[byu makin lama makin jelek sinyal padahal pas pertama beli sinyal lancar sekarang sinyal jadi makin jelek sekarang malah sinyal suka ilang sendiri g balik balik dicoba restart mode pesawat dimode g g g diperbaiki segera padahal posisi jateng sinyal ilang mohon segera diperbaiki, lama kelamaan byu makin baik kualitas sinyal tiba berubah jadi h kdg keluar sama sekali sinyalnya terkadang g malahan lemot dipake apapun gabisa wa pending mulu buka internet kebuka dicoba mode pesawat coba mode hidup kan ulang hp tetap lemot pake buat apapun makin kesini kualitas makin berkurang, entah akhir akhir kartu byu banyak bug sinyal tiba tiba hilang pake mode pesawat ganti jaringan g tetap muncul sinyal kuota pakai padahal banyak sinyal full lelet mohon segera perbaiki]</td>\n",
       "    </tr>\n",
       "    <tr>\n",
       "      <th>4</th>\n",
       "      <td>3</td>\n",
       "      <td>531</td>\n",
       "      <td>3_kartu_pembayaran_sim_transaksi</td>\n",
       "      <td>[kartu, pembayaran, sim, transaksi, bayar, card, saldo, beli, masuk, indomaret]</td>\n",
       "      <td>[beli kuota pembayaran via dana dana bukti pembayaran byu kuota sama sekali masuk bukti transaksi byu padal saldo dana dah berkurang buktinya chat admin via ig solusi sama sekali kirim semua bukti kurang ditindaklanjuti untung belinya selalu rb tiap beli rugi kecewa yaudah, baru beli kuota pulsa awalnya katanya gangguan pembayaran gagal saldo gopay berkurang cek aplikasi ternyata masuk kuotanya x isi paket kuota x isi pulsa masuk sama sekali cek gopay transaksi berhasil perbaiki, mau coba pake byu kata temen bagus baru transaksi beli kartu awalnya pembayaran berhasil akhirnya indomaret tempat pengambilan pas proses petugasnya katanya suruh coba refresh aplikasi malah status pembayaran pending alhasil pulang bawa apa apa byu ambil uangnya saldo shopee terpotong bukti pembayaran jelas mau lapor bingung]</td>\n",
       "    </tr>\n",
       "    <tr>\n",
       "      <th>5</th>\n",
       "      <td>4</td>\n",
       "      <td>453</td>\n",
       "      <td>4_mbps_unlimited_gb_fup</td>\n",
       "      <td>[mbps, unlimited, gb, fup, kecepatan, kbps, paket, speed, mb, bulan]</td>\n",
       "      <td>[heran sama byu beli paketan unlimited mbps hari pagi sore lancar eh malam besoknya ngadat mau jalan internetnya tau kalo unlimited kena fub gb masa iya baru sehari make kena fub awal make speed normal lag main game lancar jam siang jam sore eh malam turun malah dapet kbps naek naek tuh coba solusinya gimana sama update aplikasinyan masa mau beli paket notice apa, kalau kata orang harga kualitas malah harga mahal kualitas rendah awalnya masalah kuota mbps speed sampe kbps walaupun sesuai sama nama kuota mbps eh ternyata diam diam mengaktifkan fup paket mbps limit gb internet langsung turun kbps parah tau mending beli gb sekalian speed tembus mbps, parah ni jaringan tiba tiba lambat bikin males isi data aturan fup baru paket unlimited mbps sangat meresahkan meski isi ulang kalau batas waktu sebelumnya habis terpaksa menikmati paket limit fup sebelumnya speed parah ngak buat apaapa bagus aku puas makin sini makin pengen ganti kartu mohon perbaiki]</td>\n",
       "    </tr>\n",
       "    <tr>\n",
       "      <th>6</th>\n",
       "      <td>5</td>\n",
       "      <td>411</td>\n",
       "      <td>5_murah_harga_promo_mudah</td>\n",
       "      <td>[murah, harga, promo, mudah, bagus, terjangkau, pilihan, sangat, harganya, banyak]</td>\n",
       "      <td>[cara penggunaan diawal aktivasi gampang mudah harga kuota sangat terjangkau memberikan saran manajemen byu memperbanyak pilihan paket khususnya kuota data byu memiliki pilihan kuota data terbilang sedikit yakin byu mendapatkan pengguna lebih banyak bersaing provider terimakasih sukses selalu byu, aplikasi bagus bgtt gampang buat beli kuota banyak diskon plus bonus sedikit aku rekomendasiin kluarga aku pke byu soalnya murahgampang makenya jaringannya enak banyak hiburan pilihan kuotanya banyak mulai dri murah smpe mahal worth byu asiknya pilih sendiri suka gampang beli kuota sm pulsaa banyak jga diskon flash sale nyaa rekomended, byu praktis aplikasi sangat bagus mudah diakses promo paket ditawarkan banyak harga ditawarkan terjangkau banyak pilihan paket sesuai kebutuhan sangat direkomendasikan buat kamu suka streaming ngegame download pokok byu best cuman perlu byu perbaiki kestabilan jaringan kadang cepat kadang lemot selebihnya love u byu]</td>\n",
       "    </tr>\n",
       "    <tr>\n",
       "      <th>7</th>\n",
       "      <td>6</td>\n",
       "      <td>128</td>\n",
       "      <td>6_cs_email_chat_respon</td>\n",
       "      <td>[cs, email, chat, respon, sms, slow, otp, permasalahan, jawaban, menghubungi]</td>\n",
       "      <td>[terimakasih terhubung dengn g masalah selesai semoga kedepannya layanan tingkatkan terutama fitur chat aplikasi byu teramat lambat nunggu balasan chat cs jam baru dapet balasan komunikatif tanya apa jawaban relevan tingkatkan fitur chat entah jawab bot costumer servis paham penting perbaiki bagian keluhan pelanggan mudah terselesaikan, waktu awal pesan masalah cepat datang waktu pesan kedua kali adik seminggu lebih dianter jugaa chat cs dimintain bukti pembayaran chat cs eror lampirkan file kirim berkali email katanya masuk cs slow respon sangat membantu padahal diapk sistem jelas pembayaran berhasil dikirim proses sekarang jujur kecewa bgttttttttttt, komplain pernah beres berhari komplain dibawa muter minta capture sana sini pas kirim slow respon chat malah ngulang awal kirim email disuruh lwat apps apps disuruh lewat email komplain satu cs nunggu berjam selesai tidur buat nunggu cs slow respon eh pas paginya malah ganti cs ngulang awal benarbenar pelayanan buruk pake byu]</td>\n",
       "    </tr>\n",
       "    <tr>\n",
       "      <th>8</th>\n",
       "      <td>7</td>\n",
       "      <td>99</td>\n",
       "      <td>7_pulsa_pulsanya_konter_kesedot</td>\n",
       "      <td>[pulsa, pulsanya, konter, kesedot, isi, tiba, hilang, kepotong, masuk, nyedot]</td>\n",
       "      <td>[fix beneran kecewa sama byu beli pulsa via konter konter terkonfirmasi pulsa masuk nomor byu entah sampe sekarang ngga masuk pulsa plisss ngeluarin duit buat bayar pulsa mending kalo saldo refund konter tempat beli duit ambil kalo ngga refund kan susah pliss buat byu kasih cara biar pulsa beli konter masuk, makin kesini makin aneh baru membeli pulsa pas mau daftar paket tiba pulsa terpotong padahal sisah pulsa sebelm rp sisah kuota mb tiba pulsa terpotong merasa rugikan kalau bgni soal daftar paket karna pulsa terpotong masa beli tambahan pulsa kartu pernah pake pernah seprti tiba pulsa terpotong apa kartu byu merasa rugikan aneehhh, gajelas pulsa kesedot mulu kocag awal awal bagus makin kesini makin bapuk pulsa kesedot jaringan lag aneh manis awal dulu perasaan pernah namanya nyedot pulsa kouta emng abis gush se enaknya jadiin topping lgian maksud mau paketonnya besok harinya mana kasus pernah tangain kapan tau gada tindak lanjut gada ganti rugi sama sekali ngomong si bakal follow nyatanya sampah omong kosong]</td>\n",
       "    </tr>\n",
       "    <tr>\n",
       "      <th>9</th>\n",
       "      <td>8</td>\n",
       "      <td>95</td>\n",
       "      <td>8_apk_susah_ngelag_buka</td>\n",
       "      <td>[apk, susah, ngelag, buka, dana, hancur, nggk, please, superrr, byu]</td>\n",
       "      <td>[byu kalo mau buka aplikasi susah terkadang update dulu restart hp kaga solusi tuh perbaiki aplikasinya bukan suruh restart hp mode pesawat terlebih mau cek kuota isi kuota gimana dah lama pake byu permasalahanya sama sering susah masuk aplikasinya update kadang susah provider baik kureng ngatasin keluhan customernya mohon perhatikan masukan kritikan customer thanks, internet lamban update story video wa susahnya setengah mampus gacuma sekali kali gini awal pake byu selalu koneksi internetnya gastabil aku miskin pake byu kuota utama gakepake pas nonton tiktok ah satu jangan harap buka spotify kalo pake apnnya kadang buka twitter gabisa kalo lemot sarannya gajauh mode pesawat lalu ganti apn byu padahal komplain lemotnya pake apn byu lemot, paaaaraaaahhhhh beli gb k sebulan kartu sampe langsung coba registrasi bermasalah pas registrasi jaringannya ilang mulu padahal baru semalem itupun jam malem jaringan duuuhhhhh ampuuun sorean langshoooong abissss kecewa paraah siih first impresion pake kartu byu malah gini katanya murah hemat huhu padahal buat buka whatsapp youtube sebentar ama buka instagram sebentar langshooong abiiisss mohon maap jujur]</td>\n",
       "    </tr>\n",
       "  </tbody>\n",
       "</table>\n",
       "</div>"
      ],
      "text/plain": [
       "   Topic  Count                               Name  \\\n",
       "0     -1   4249     -1_sinyal_kartu_jaringan_bagus   \n",
       "1      0   1963  0_aplikasi_login_buka_aplikasinya   \n",
       "2      1    829           1_game_ping_main_youtube   \n",
       "3      2    618    2_mode_sinyal_pesawat_sinyalnya   \n",
       "4      3    531   3_kartu_pembayaran_sim_transaksi   \n",
       "5      4    453            4_mbps_unlimited_gb_fup   \n",
       "6      5    411          5_murah_harga_promo_mudah   \n",
       "7      6    128             6_cs_email_chat_respon   \n",
       "8      7     99    7_pulsa_pulsanya_konter_kesedot   \n",
       "9      8     95            8_apk_susah_ngelag_buka   \n",
       "\n",
       "                                                                       Representation  \\\n",
       "0    [sinyal, kartu, jaringan, bagus, pake, sama, provider, sinyalnya, padahal, beli]   \n",
       "1   [aplikasi, login, buka, aplikasinya, update, mau, wifi, error, dibuka, kesalahan]   \n",
       "2   [game, ping, main, youtube, stabil, jaringan, buat, jaringannya, online, bermain]   \n",
       "3      [mode, sinyal, pesawat, sinyalnya, ilang, bintang, hilang, makin, jelek, tiba]   \n",
       "4     [kartu, pembayaran, sim, transaksi, bayar, card, saldo, beli, masuk, indomaret]   \n",
       "5                [mbps, unlimited, gb, fup, kecepatan, kbps, paket, speed, mb, bulan]   \n",
       "6  [murah, harga, promo, mudah, bagus, terjangkau, pilihan, sangat, harganya, banyak]   \n",
       "7       [cs, email, chat, respon, sms, slow, otp, permasalahan, jawaban, menghubungi]   \n",
       "8      [pulsa, pulsanya, konter, kesedot, isi, tiba, hilang, kepotong, masuk, nyedot]   \n",
       "9                [apk, susah, ngelag, buka, dana, hancur, nggk, please, superrr, byu]   \n",
       "\n",
       "                                                                                                                                                                                                                                                                                                                                                                                                                                                                                                                                                                                                                                                                                                                                                                                                                                                                                                                                                                                                                                                                                                                                                                                      Representative_Docs  \n",
       "0                                                                                                      [byu makin kesini makin jelas aku pengguna awal tahun byu baru rilis jadi aku tau gimana rasanya pas awal sekarang sekarang tuh makin sering dapet sinyal aku sebel produk paketan mbps unlimited bulan diilangin paling parah bikin sebel buka aplikasi susah pas buka aplikasi sekarang eror padahal buka aplikasi niat beli paket jadi males rasanya pake byu pengen ganti perbaikan, pengguna baru kartu byu jaringan full tempat sama telkomsel bagus mungkin banyak orang bilang jaringan sering hilang mungkin berbeda beda tempat lokasi jadi jaringannya merata sini memberikan ulasan sesuai pengalaman cs fast respon email buka aplikasi sangat kenceng sekali internet data mungkin boros kuota kalau buka aplikasi normal tembus mbps, sekarang kasih segini dulu kecewa parah makai byu sinyal bagus awal pas tahun tibatiba jaringan jelek suka ilang stabil mau kirim gambar lama turnament tiba tiba hilang sinyalnya bahkan sekarang mau nonton youtube lemot ngelag gila mode tetap sama bahkan pas ganti jaringan g balik otomatis sama kalau gini lama lama pindah jaringan]  \n",
       "1                                                                                                                                                                                                                                                                                                            [apps trouble pas dibuka bolak balik terjadi kesalahan bolak balik instal ulang gabisa kali bolak balik restard hp nyaman sinyalnya artinya gada kendala koneksi buat buka nyatanya apps jalan baik buat buka byu susah sama pinterest susah buka kadang logout sendiri benahi jadi susah mau cek kuota beli kuota sinyal jadi stabil kadang sinyal ilang pas jam kerja, tahun lebih pake byu aplikasinya makin update makin sering error mau cek kuota error suruh cek jaringan apalah padahal jaringan g pas mau beli kuota beli pulsa sering kendala error perbaiki masalah aplikasi terima kasih, bingung sama aplikasi kadang dibuka padahal paketan habis mau beli paket kadang koneksi stabil kadang suka crash tiba tiba hilang perasaan edit gimana yah makin kacau mau isi paket karna habis biasanya pakai koneksi wifi dulu utk buka aplikasi lalu beli kuota malah sama sekali]  \n",
       "2                                                                                                                                                                                                                         [harga kuota iya murah bermain game ping naik kalau nonton youtube koneksi benar benar cepat download lambat sering eror padahal hp bagus jaringan bagus pembelian pulsa mohon beli counter intinya jangan pakai kartu byu sedang bermain game sering putus putus internet rank kalian turun, apaan dah masa jaringan full giliran dipake buat akses sosmed game malah lemot parah kadang apk byu nge bug isi kuota mohon diperbaiki yaa masa pake lemot mulu kadang kalau mau bagus signal mati data mode pesawat dulu biar refresh jadi ribet buat penggunanya maaf ku kasih bintang dlu, jaringan cukup bagus rumahku terpencil harga tergolong murah signalnya naik turunnya ngeri tp masalah harga terjangkau download streaming lancar kalau buat main game kurang bagus satu aku notice kuotanya gatau lebih boros cepat habis aku coba provider utk pemakaian sama nonton youtube video sama kualitas video sama hasilnya kuota byu lebih boros cepat habis sayang kan]  \n",
       "3                                                                                                                                                                                                                                                                                                                                                                                                           [byu makin lama makin jelek sinyal padahal pas pertama beli sinyal lancar sekarang sinyal jadi makin jelek sekarang malah sinyal suka ilang sendiri g balik balik dicoba restart mode pesawat dimode g g g diperbaiki segera padahal posisi jateng sinyal ilang mohon segera diperbaiki, lama kelamaan byu makin baik kualitas sinyal tiba berubah jadi h kdg keluar sama sekali sinyalnya terkadang g malahan lemot dipake apapun gabisa wa pending mulu buka internet kebuka dicoba mode pesawat coba mode hidup kan ulang hp tetap lemot pake buat apapun makin kesini kualitas makin berkurang, entah akhir akhir kartu byu banyak bug sinyal tiba tiba hilang pake mode pesawat ganti jaringan g tetap muncul sinyal kuota pakai padahal banyak sinyal full lelet mohon segera perbaiki]  \n",
       "4                                                                                                                                                                                                                                                                                                                                                            [beli kuota pembayaran via dana dana bukti pembayaran byu kuota sama sekali masuk bukti transaksi byu padal saldo dana dah berkurang buktinya chat admin via ig solusi sama sekali kirim semua bukti kurang ditindaklanjuti untung belinya selalu rb tiap beli rugi kecewa yaudah, baru beli kuota pulsa awalnya katanya gangguan pembayaran gagal saldo gopay berkurang cek aplikasi ternyata masuk kuotanya x isi paket kuota x isi pulsa masuk sama sekali cek gopay transaksi berhasil perbaiki, mau coba pake byu kata temen bagus baru transaksi beli kartu awalnya pembayaran berhasil akhirnya indomaret tempat pengambilan pas proses petugasnya katanya suruh coba refresh aplikasi malah status pembayaran pending alhasil pulang bawa apa apa byu ambil uangnya saldo shopee terpotong bukti pembayaran jelas mau lapor bingung]  \n",
       "5                                                                                                                                                                                                         [heran sama byu beli paketan unlimited mbps hari pagi sore lancar eh malam besoknya ngadat mau jalan internetnya tau kalo unlimited kena fub gb masa iya baru sehari make kena fub awal make speed normal lag main game lancar jam siang jam sore eh malam turun malah dapet kbps naek naek tuh coba solusinya gimana sama update aplikasinyan masa mau beli paket notice apa, kalau kata orang harga kualitas malah harga mahal kualitas rendah awalnya masalah kuota mbps speed sampe kbps walaupun sesuai sama nama kuota mbps eh ternyata diam diam mengaktifkan fup paket mbps limit gb internet langsung turun kbps parah tau mending beli gb sekalian speed tembus mbps, parah ni jaringan tiba tiba lambat bikin males isi data aturan fup baru paket unlimited mbps sangat meresahkan meski isi ulang kalau batas waktu sebelumnya habis terpaksa menikmati paket limit fup sebelumnya speed parah ngak buat apaapa bagus aku puas makin sini makin pengen ganti kartu mohon perbaiki]  \n",
       "6                                                                                                                                                                                                            [cara penggunaan diawal aktivasi gampang mudah harga kuota sangat terjangkau memberikan saran manajemen byu memperbanyak pilihan paket khususnya kuota data byu memiliki pilihan kuota data terbilang sedikit yakin byu mendapatkan pengguna lebih banyak bersaing provider terimakasih sukses selalu byu, aplikasi bagus bgtt gampang buat beli kuota banyak diskon plus bonus sedikit aku rekomendasiin kluarga aku pke byu soalnya murahgampang makenya jaringannya enak banyak hiburan pilihan kuotanya banyak mulai dri murah smpe mahal worth byu asiknya pilih sendiri suka gampang beli kuota sm pulsaa banyak jga diskon flash sale nyaa rekomended, byu praktis aplikasi sangat bagus mudah diakses promo paket ditawarkan banyak harga ditawarkan terjangkau banyak pilihan paket sesuai kebutuhan sangat direkomendasikan buat kamu suka streaming ngegame download pokok byu best cuman perlu byu perbaiki kestabilan jaringan kadang cepat kadang lemot selebihnya love u byu]  \n",
       "7                                                                                                                                                                           [terimakasih terhubung dengn g masalah selesai semoga kedepannya layanan tingkatkan terutama fitur chat aplikasi byu teramat lambat nunggu balasan chat cs jam baru dapet balasan komunikatif tanya apa jawaban relevan tingkatkan fitur chat entah jawab bot costumer servis paham penting perbaiki bagian keluhan pelanggan mudah terselesaikan, waktu awal pesan masalah cepat datang waktu pesan kedua kali adik seminggu lebih dianter jugaa chat cs dimintain bukti pembayaran chat cs eror lampirkan file kirim berkali email katanya masuk cs slow respon sangat membantu padahal diapk sistem jelas pembayaran berhasil dikirim proses sekarang jujur kecewa bgttttttttttt, komplain pernah beres berhari komplain dibawa muter minta capture sana sini pas kirim slow respon chat malah ngulang awal kirim email disuruh lwat apps apps disuruh lewat email komplain satu cs nunggu berjam selesai tidur buat nunggu cs slow respon eh pas paginya malah ganti cs ngulang awal benarbenar pelayanan buruk pake byu]  \n",
       "8                                                                                                                                     [fix beneran kecewa sama byu beli pulsa via konter konter terkonfirmasi pulsa masuk nomor byu entah sampe sekarang ngga masuk pulsa plisss ngeluarin duit buat bayar pulsa mending kalo saldo refund konter tempat beli duit ambil kalo ngga refund kan susah pliss buat byu kasih cara biar pulsa beli konter masuk, makin kesini makin aneh baru membeli pulsa pas mau daftar paket tiba pulsa terpotong padahal sisah pulsa sebelm rp sisah kuota mb tiba pulsa terpotong merasa rugikan kalau bgni soal daftar paket karna pulsa terpotong masa beli tambahan pulsa kartu pernah pake pernah seprti tiba pulsa terpotong apa kartu byu merasa rugikan aneehhh, gajelas pulsa kesedot mulu kocag awal awal bagus makin kesini makin bapuk pulsa kesedot jaringan lag aneh manis awal dulu perasaan pernah namanya nyedot pulsa kouta emng abis gush se enaknya jadiin topping lgian maksud mau paketonnya besok harinya mana kasus pernah tangain kapan tau gada tindak lanjut gada ganti rugi sama sekali ngomong si bakal follow nyatanya sampah omong kosong]  \n",
       "9  [byu kalo mau buka aplikasi susah terkadang update dulu restart hp kaga solusi tuh perbaiki aplikasinya bukan suruh restart hp mode pesawat terlebih mau cek kuota isi kuota gimana dah lama pake byu permasalahanya sama sering susah masuk aplikasinya update kadang susah provider baik kureng ngatasin keluhan customernya mohon perhatikan masukan kritikan customer thanks, internet lamban update story video wa susahnya setengah mampus gacuma sekali kali gini awal pake byu selalu koneksi internetnya gastabil aku miskin pake byu kuota utama gakepake pas nonton tiktok ah satu jangan harap buka spotify kalo pake apnnya kadang buka twitter gabisa kalo lemot sarannya gajauh mode pesawat lalu ganti apn byu padahal komplain lemotnya pake apn byu lemot, paaaaraaaahhhhh beli gb k sebulan kartu sampe langsung coba registrasi bermasalah pas registrasi jaringannya ilang mulu padahal baru semalem itupun jam malem jaringan duuuhhhhh ampuuun sorean langshoooong abissss kecewa paraah siih first impresion pake kartu byu malah gini katanya murah hemat huhu padahal buat buka whatsapp youtube sebentar ama buka instagram sebentar langshooong abiiisss mohon maap jujur]  "
      ]
     },
     "execution_count": 34,
     "metadata": {},
     "output_type": "execute_result"
    }
   ],
   "source": [
    "# Tampilkan topik yang dihasilkan\n",
    "topic_model.get_topic_info()"
   ]
  },
  {
   "cell_type": "code",
   "execution_count": 35,
   "id": "b9f24b1c",
   "metadata": {},
   "outputs": [],
   "source": [
    "# topic_model.save(\"bertopic_model_byu\")"
   ]
  }
 ],
 "metadata": {
  "kernelspec": {
   "display_name": "base",
   "language": "python",
   "name": "python3"
  },
  "language_info": {
   "codemirror_mode": {
    "name": "ipython",
    "version": 3
   },
   "file_extension": ".py",
   "mimetype": "text/x-python",
   "name": "python",
   "nbconvert_exporter": "python",
   "pygments_lexer": "ipython3",
   "version": "3.12.7"
  }
 },
 "nbformat": 4,
 "nbformat_minor": 5
}
