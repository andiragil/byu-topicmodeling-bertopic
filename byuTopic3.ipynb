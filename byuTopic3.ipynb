{
 "cells": [
  {
   "cell_type": "markdown",
   "id": "00347854",
   "metadata": {},
   "source": [
    "<h3>LOAD DAN TAMPILKAN DATA</h3> "
   ]
  },
  {
   "cell_type": "code",
   "execution_count": 1,
   "id": "e83e6ff3",
   "metadata": {},
   "outputs": [
    {
     "data": {
      "text/html": [
       "<div>\n",
       "<style scoped>\n",
       "    .dataframe tbody tr th:only-of-type {\n",
       "        vertical-align: middle;\n",
       "    }\n",
       "\n",
       "    .dataframe tbody tr th {\n",
       "        vertical-align: top;\n",
       "    }\n",
       "\n",
       "    .dataframe thead th {\n",
       "        text-align: right;\n",
       "    }\n",
       "</style>\n",
       "<table border=\"1\" class=\"dataframe\">\n",
       "  <thead>\n",
       "    <tr style=\"text-align: right;\">\n",
       "      <th></th>\n",
       "      <th>userName</th>\n",
       "      <th>content</th>\n",
       "      <th>score</th>\n",
       "      <th>at</th>\n",
       "    </tr>\n",
       "  </thead>\n",
       "  <tbody>\n",
       "    <tr>\n",
       "      <th>0</th>\n",
       "      <td>Pengguna Google</td>\n",
       "      <td>aku pengguna lama by.u, tapi kok lama kelamaan aku ngerasa by.u itu jaringannya AGAK kurang stabil ya? kalo buat sosmed an enak\" aja sih, enggak begitu kerasa jaringan kurang stabilnya,kalo dipake untuk nge-game baru agak berasa,kadang ngeganggu banget,waktu pertama kali pake by.u itu jaringannya bener\" poll loh. jarang sekali yg namanya penurunan jaringan,tapi ya gitu,mohon maaf,sekarang jaringan by.u agak kurang menurutku</td>\n",
       "      <td>4</td>\n",
       "      <td>2025-05-01 14:10:47</td>\n",
       "    </tr>\n",
       "    <tr>\n",
       "      <th>1</th>\n",
       "      <td>Pengguna Google</td>\n",
       "      <td>untuk jaringan by.u nya sih bagus cuman kalau untuk diaplikasi nya sudah mulai kendor untuk transaksinya, dulunya bisa melakukan transfer melalui akun virtual bank dan sekarang hanya bisa melalui ewallet doang itu kalau boleh kembalikan seperti dulu, dan tambahin untuk metode pembayarannya melalui QRIS. kedua, untuk android versi +12 susah menggunakan aplikasi by.u, seperti saya baru unduh aplikasi by.u di android 12, tidak dapat. terdapat tulisan \"Perangkat keras aman tidak tersedia\"</td>\n",
       "      <td>3</td>\n",
       "      <td>2025-05-12 19:38:54</td>\n",
       "    </tr>\n",
       "    <tr>\n",
       "      <th>2</th>\n",
       "      <td>Pengguna Google</td>\n",
       "      <td>Makin kesini byu makin ga bagus,aplikasi sering ga bisa di buka,komplain respon lambat, proses lama kadang nunggu lama,giliran keluar aplikasi ada balesan,masuk aplikasi hilang lagi cs nya kayak sengaja gitu, tidak ada penyelesaian, di notif kendala sudah selesai tapi masalah nya masih terjadi, cs nya pun kadang ganti ganti di satu chat, parah, chat cs di aplikasi sinyal bagus paket ada mode data atau pake wifi juga susah, parah, jwbn anak SD dari cs&amp;develover cmn nunjukin ketololan nya.</td>\n",
       "      <td>1</td>\n",
       "      <td>2025-04-23 11:17:48</td>\n",
       "    </tr>\n",
       "    <tr>\n",
       "      <th>3</th>\n",
       "      <td>Pengguna Google</td>\n",
       "      <td>Aplikasinya sebenarnya bagus, banyak pilihan kuota yang menarik juga. Tapi minusnya jaringannya, kadang suka hilang atau lambat banget, padahal gaada gangguan sama sekali, sudah coba ganti jenis jaringan pun tetap aja jaringannya lambat. Mohon kedepannya ini lebih diperhatikan lagi karena jujur perkara jaringan ini sangat menggangu, apalagi kalau perlu ngerjain sesuatu yang penting tapi jaringannya malah lambat. Mungkin itu aja, makasih ya</td>\n",
       "      <td>3</td>\n",
       "      <td>2025-05-16 14:15:18</td>\n",
       "    </tr>\n",
       "    <tr>\n",
       "      <th>4</th>\n",
       "      <td>Pengguna Google</td>\n",
       "      <td>pake by u lumayan lama tapi sampe sekarang belum ada peningkatan jaringan aja, kalau di kota yahh bagus soalnya dapet 5G nya, tapi kalau di lingkungan rumah? maen game ping nya 108ms mulu sering ping merahh, gak pernah tuh maen game ampe ping hijau dari dulu gini mulu cuman cocok buat maen youtube doank itupun otomatis resolusi nya jadi 360p an, kek nya emang harus maen sekitaran kota doank</td>\n",
       "      <td>3</td>\n",
       "      <td>2025-05-03 16:20:23</td>\n",
       "    </tr>\n",
       "  </tbody>\n",
       "</table>\n",
       "</div>"
      ],
      "text/plain": [
       "          userName  \\\n",
       "0  Pengguna Google   \n",
       "1  Pengguna Google   \n",
       "2  Pengguna Google   \n",
       "3  Pengguna Google   \n",
       "4  Pengguna Google   \n",
       "\n",
       "                                                                                                                                                                                                                                                                                                                                                                                                                                                                                                        content  \\\n",
       "0                                                                   aku pengguna lama by.u, tapi kok lama kelamaan aku ngerasa by.u itu jaringannya AGAK kurang stabil ya? kalo buat sosmed an enak\" aja sih, enggak begitu kerasa jaringan kurang stabilnya,kalo dipake untuk nge-game baru agak berasa,kadang ngeganggu banget,waktu pertama kali pake by.u itu jaringannya bener\" poll loh. jarang sekali yg namanya penurunan jaringan,tapi ya gitu,mohon maaf,sekarang jaringan by.u agak kurang menurutku   \n",
       "1     untuk jaringan by.u nya sih bagus cuman kalau untuk diaplikasi nya sudah mulai kendor untuk transaksinya, dulunya bisa melakukan transfer melalui akun virtual bank dan sekarang hanya bisa melalui ewallet doang itu kalau boleh kembalikan seperti dulu, dan tambahin untuk metode pembayarannya melalui QRIS. kedua, untuk android versi +12 susah menggunakan aplikasi by.u, seperti saya baru unduh aplikasi by.u di android 12, tidak dapat. terdapat tulisan \"Perangkat keras aman tidak tersedia\"   \n",
       "2  Makin kesini byu makin ga bagus,aplikasi sering ga bisa di buka,komplain respon lambat, proses lama kadang nunggu lama,giliran keluar aplikasi ada balesan,masuk aplikasi hilang lagi cs nya kayak sengaja gitu, tidak ada penyelesaian, di notif kendala sudah selesai tapi masalah nya masih terjadi, cs nya pun kadang ganti ganti di satu chat, parah, chat cs di aplikasi sinyal bagus paket ada mode data atau pake wifi juga susah, parah, jwbn anak SD dari cs&develover cmn nunjukin ketololan nya.   \n",
       "3                                                   Aplikasinya sebenarnya bagus, banyak pilihan kuota yang menarik juga. Tapi minusnya jaringannya, kadang suka hilang atau lambat banget, padahal gaada gangguan sama sekali, sudah coba ganti jenis jaringan pun tetap aja jaringannya lambat. Mohon kedepannya ini lebih diperhatikan lagi karena jujur perkara jaringan ini sangat menggangu, apalagi kalau perlu ngerjain sesuatu yang penting tapi jaringannya malah lambat. Mungkin itu aja, makasih ya   \n",
       "4                                                                                                     pake by u lumayan lama tapi sampe sekarang belum ada peningkatan jaringan aja, kalau di kota yahh bagus soalnya dapet 5G nya, tapi kalau di lingkungan rumah? maen game ping nya 108ms mulu sering ping merahh, gak pernah tuh maen game ampe ping hijau dari dulu gini mulu cuman cocok buat maen youtube doank itupun otomatis resolusi nya jadi 360p an, kek nya emang harus maen sekitaran kota doank   \n",
       "\n",
       "   score                   at  \n",
       "0      4  2025-05-01 14:10:47  \n",
       "1      3  2025-05-12 19:38:54  \n",
       "2      1  2025-04-23 11:17:48  \n",
       "3      3  2025-05-16 14:15:18  \n",
       "4      3  2025-05-03 16:20:23  "
      ]
     },
     "execution_count": 1,
     "metadata": {},
     "output_type": "execute_result"
    }
   ],
   "source": [
    "# Import library\n",
    "import pandas as pd\n",
    "\n",
    "# Setting agar kolom panjang tampil semua\n",
    "pd.set_option('display.max_colwidth', None)\n",
    "\n",
    "# Load file CSV ulasan\n",
    "df = pd.read_csv('byu_reviews3.csv')\n",
    "\n",
    "# Lihat 5 baris pertama\n",
    "df.head()"
   ]
  },
  {
   "cell_type": "markdown",
   "id": "51e70890",
   "metadata": {},
   "source": [
    "<h3>HAPUS DATA KURANG DARI 10</h3> "
   ]
  },
  {
   "cell_type": "code",
   "execution_count": 98,
   "id": "39935924",
   "metadata": {},
   "outputs": [],
   "source": [
    "df = df[df['content'].apply(lambda x: len(x.split()) >= 10)]"
   ]
  },
  {
   "cell_type": "markdown",
   "id": "484cbee1",
   "metadata": {},
   "source": [
    "<h3>CEK JUMLAH ULASAN SETELAH DIHAPUS</h3>"
   ]
  },
  {
   "cell_type": "code",
   "execution_count": 99,
   "id": "dd5bbb37",
   "metadata": {},
   "outputs": [
    {
     "name": "stdout",
     "output_type": "stream",
     "text": [
      "(9376, 4)\n"
     ]
    }
   ],
   "source": [
    "print(df.shape)"
   ]
  },
  {
   "cell_type": "markdown",
   "id": "3d3a035a",
   "metadata": {},
   "source": [
    "<h3>CASE FOLDING</h3>"
   ]
  },
  {
   "cell_type": "code",
   "execution_count": 100,
   "id": "da841396",
   "metadata": {},
   "outputs": [
    {
     "data": {
      "text/html": [
       "<div>\n",
       "<style scoped>\n",
       "    .dataframe tbody tr th:only-of-type {\n",
       "        vertical-align: middle;\n",
       "    }\n",
       "\n",
       "    .dataframe tbody tr th {\n",
       "        vertical-align: top;\n",
       "    }\n",
       "\n",
       "    .dataframe thead th {\n",
       "        text-align: right;\n",
       "    }\n",
       "</style>\n",
       "<table border=\"1\" class=\"dataframe\">\n",
       "  <thead>\n",
       "    <tr style=\"text-align: right;\">\n",
       "      <th></th>\n",
       "      <th>content</th>\n",
       "      <th>case_folding</th>\n",
       "    </tr>\n",
       "  </thead>\n",
       "  <tbody>\n",
       "    <tr>\n",
       "      <th>0</th>\n",
       "      <td>aku pengguna lama by.u, tapi kok lama kelamaan aku ngerasa by.u itu jaringannya AGAK kurang stabil ya? kalo buat sosmed an enak\" aja sih, enggak begitu kerasa jaringan kurang stabilnya,kalo dipake untuk nge-game baru agak berasa,kadang ngeganggu banget,waktu pertama kali pake by.u itu jaringannya bener\" poll loh. jarang sekali yg namanya penurunan jaringan,tapi ya gitu,mohon maaf,sekarang jaringan by.u agak kurang menurutku</td>\n",
       "      <td>aku pengguna lama by.u, tapi kok lama kelamaan aku ngerasa by.u itu jaringannya agak kurang stabil ya? kalo buat sosmed an enak\" aja sih, enggak begitu kerasa jaringan kurang stabilnya,kalo dipake untuk nge-game baru agak berasa,kadang ngeganggu banget,waktu pertama kali pake by.u itu jaringannya bener\" poll loh. jarang sekali yg namanya penurunan jaringan,tapi ya gitu,mohon maaf,sekarang jaringan by.u agak kurang menurutku</td>\n",
       "    </tr>\n",
       "    <tr>\n",
       "      <th>1</th>\n",
       "      <td>untuk jaringan by.u nya sih bagus cuman kalau untuk diaplikasi nya sudah mulai kendor untuk transaksinya, dulunya bisa melakukan transfer melalui akun virtual bank dan sekarang hanya bisa melalui ewallet doang itu kalau boleh kembalikan seperti dulu, dan tambahin untuk metode pembayarannya melalui QRIS. kedua, untuk android versi +12 susah menggunakan aplikasi by.u, seperti saya baru unduh aplikasi by.u di android 12, tidak dapat. terdapat tulisan \"Perangkat keras aman tidak tersedia\"</td>\n",
       "      <td>untuk jaringan by.u nya sih bagus cuman kalau untuk diaplikasi nya sudah mulai kendor untuk transaksinya, dulunya bisa melakukan transfer melalui akun virtual bank dan sekarang hanya bisa melalui ewallet doang itu kalau boleh kembalikan seperti dulu, dan tambahin untuk metode pembayarannya melalui qris. kedua, untuk android versi +12 susah menggunakan aplikasi by.u, seperti saya baru unduh aplikasi by.u di android 12, tidak dapat. terdapat tulisan \"perangkat keras aman tidak tersedia\"</td>\n",
       "    </tr>\n",
       "    <tr>\n",
       "      <th>2</th>\n",
       "      <td>Makin kesini byu makin ga bagus,aplikasi sering ga bisa di buka,komplain respon lambat, proses lama kadang nunggu lama,giliran keluar aplikasi ada balesan,masuk aplikasi hilang lagi cs nya kayak sengaja gitu, tidak ada penyelesaian, di notif kendala sudah selesai tapi masalah nya masih terjadi, cs nya pun kadang ganti ganti di satu chat, parah, chat cs di aplikasi sinyal bagus paket ada mode data atau pake wifi juga susah, parah, jwbn anak SD dari cs&amp;develover cmn nunjukin ketololan nya.</td>\n",
       "      <td>makin kesini byu makin ga bagus,aplikasi sering ga bisa di buka,komplain respon lambat, proses lama kadang nunggu lama,giliran keluar aplikasi ada balesan,masuk aplikasi hilang lagi cs nya kayak sengaja gitu, tidak ada penyelesaian, di notif kendala sudah selesai tapi masalah nya masih terjadi, cs nya pun kadang ganti ganti di satu chat, parah, chat cs di aplikasi sinyal bagus paket ada mode data atau pake wifi juga susah, parah, jwbn anak sd dari cs&amp;develover cmn nunjukin ketololan nya.</td>\n",
       "    </tr>\n",
       "    <tr>\n",
       "      <th>3</th>\n",
       "      <td>Aplikasinya sebenarnya bagus, banyak pilihan kuota yang menarik juga. Tapi minusnya jaringannya, kadang suka hilang atau lambat banget, padahal gaada gangguan sama sekali, sudah coba ganti jenis jaringan pun tetap aja jaringannya lambat. Mohon kedepannya ini lebih diperhatikan lagi karena jujur perkara jaringan ini sangat menggangu, apalagi kalau perlu ngerjain sesuatu yang penting tapi jaringannya malah lambat. Mungkin itu aja, makasih ya</td>\n",
       "      <td>aplikasinya sebenarnya bagus, banyak pilihan kuota yang menarik juga. tapi minusnya jaringannya, kadang suka hilang atau lambat banget, padahal gaada gangguan sama sekali, sudah coba ganti jenis jaringan pun tetap aja jaringannya lambat. mohon kedepannya ini lebih diperhatikan lagi karena jujur perkara jaringan ini sangat menggangu, apalagi kalau perlu ngerjain sesuatu yang penting tapi jaringannya malah lambat. mungkin itu aja, makasih ya</td>\n",
       "    </tr>\n",
       "    <tr>\n",
       "      <th>4</th>\n",
       "      <td>pake by u lumayan lama tapi sampe sekarang belum ada peningkatan jaringan aja, kalau di kota yahh bagus soalnya dapet 5G nya, tapi kalau di lingkungan rumah? maen game ping nya 108ms mulu sering ping merahh, gak pernah tuh maen game ampe ping hijau dari dulu gini mulu cuman cocok buat maen youtube doank itupun otomatis resolusi nya jadi 360p an, kek nya emang harus maen sekitaran kota doank</td>\n",
       "      <td>pake by u lumayan lama tapi sampe sekarang belum ada peningkatan jaringan aja, kalau di kota yahh bagus soalnya dapet 5g nya, tapi kalau di lingkungan rumah? maen game ping nya 108ms mulu sering ping merahh, gak pernah tuh maen game ampe ping hijau dari dulu gini mulu cuman cocok buat maen youtube doank itupun otomatis resolusi nya jadi 360p an, kek nya emang harus maen sekitaran kota doank</td>\n",
       "    </tr>\n",
       "  </tbody>\n",
       "</table>\n",
       "</div>"
      ],
      "text/plain": [
       "                                                                                                                                                                                                                                                                                                                                                                                                                                                                                                        content  \\\n",
       "0                                                                   aku pengguna lama by.u, tapi kok lama kelamaan aku ngerasa by.u itu jaringannya AGAK kurang stabil ya? kalo buat sosmed an enak\" aja sih, enggak begitu kerasa jaringan kurang stabilnya,kalo dipake untuk nge-game baru agak berasa,kadang ngeganggu banget,waktu pertama kali pake by.u itu jaringannya bener\" poll loh. jarang sekali yg namanya penurunan jaringan,tapi ya gitu,mohon maaf,sekarang jaringan by.u agak kurang menurutku   \n",
       "1     untuk jaringan by.u nya sih bagus cuman kalau untuk diaplikasi nya sudah mulai kendor untuk transaksinya, dulunya bisa melakukan transfer melalui akun virtual bank dan sekarang hanya bisa melalui ewallet doang itu kalau boleh kembalikan seperti dulu, dan tambahin untuk metode pembayarannya melalui QRIS. kedua, untuk android versi +12 susah menggunakan aplikasi by.u, seperti saya baru unduh aplikasi by.u di android 12, tidak dapat. terdapat tulisan \"Perangkat keras aman tidak tersedia\"   \n",
       "2  Makin kesini byu makin ga bagus,aplikasi sering ga bisa di buka,komplain respon lambat, proses lama kadang nunggu lama,giliran keluar aplikasi ada balesan,masuk aplikasi hilang lagi cs nya kayak sengaja gitu, tidak ada penyelesaian, di notif kendala sudah selesai tapi masalah nya masih terjadi, cs nya pun kadang ganti ganti di satu chat, parah, chat cs di aplikasi sinyal bagus paket ada mode data atau pake wifi juga susah, parah, jwbn anak SD dari cs&develover cmn nunjukin ketololan nya.   \n",
       "3                                                   Aplikasinya sebenarnya bagus, banyak pilihan kuota yang menarik juga. Tapi minusnya jaringannya, kadang suka hilang atau lambat banget, padahal gaada gangguan sama sekali, sudah coba ganti jenis jaringan pun tetap aja jaringannya lambat. Mohon kedepannya ini lebih diperhatikan lagi karena jujur perkara jaringan ini sangat menggangu, apalagi kalau perlu ngerjain sesuatu yang penting tapi jaringannya malah lambat. Mungkin itu aja, makasih ya   \n",
       "4                                                                                                     pake by u lumayan lama tapi sampe sekarang belum ada peningkatan jaringan aja, kalau di kota yahh bagus soalnya dapet 5G nya, tapi kalau di lingkungan rumah? maen game ping nya 108ms mulu sering ping merahh, gak pernah tuh maen game ampe ping hijau dari dulu gini mulu cuman cocok buat maen youtube doank itupun otomatis resolusi nya jadi 360p an, kek nya emang harus maen sekitaran kota doank   \n",
       "\n",
       "                                                                                                                                                                                                                                                                                                                                                                                                                                                                                                   case_folding  \n",
       "0                                                                   aku pengguna lama by.u, tapi kok lama kelamaan aku ngerasa by.u itu jaringannya agak kurang stabil ya? kalo buat sosmed an enak\" aja sih, enggak begitu kerasa jaringan kurang stabilnya,kalo dipake untuk nge-game baru agak berasa,kadang ngeganggu banget,waktu pertama kali pake by.u itu jaringannya bener\" poll loh. jarang sekali yg namanya penurunan jaringan,tapi ya gitu,mohon maaf,sekarang jaringan by.u agak kurang menurutku  \n",
       "1     untuk jaringan by.u nya sih bagus cuman kalau untuk diaplikasi nya sudah mulai kendor untuk transaksinya, dulunya bisa melakukan transfer melalui akun virtual bank dan sekarang hanya bisa melalui ewallet doang itu kalau boleh kembalikan seperti dulu, dan tambahin untuk metode pembayarannya melalui qris. kedua, untuk android versi +12 susah menggunakan aplikasi by.u, seperti saya baru unduh aplikasi by.u di android 12, tidak dapat. terdapat tulisan \"perangkat keras aman tidak tersedia\"  \n",
       "2  makin kesini byu makin ga bagus,aplikasi sering ga bisa di buka,komplain respon lambat, proses lama kadang nunggu lama,giliran keluar aplikasi ada balesan,masuk aplikasi hilang lagi cs nya kayak sengaja gitu, tidak ada penyelesaian, di notif kendala sudah selesai tapi masalah nya masih terjadi, cs nya pun kadang ganti ganti di satu chat, parah, chat cs di aplikasi sinyal bagus paket ada mode data atau pake wifi juga susah, parah, jwbn anak sd dari cs&develover cmn nunjukin ketololan nya.  \n",
       "3                                                   aplikasinya sebenarnya bagus, banyak pilihan kuota yang menarik juga. tapi minusnya jaringannya, kadang suka hilang atau lambat banget, padahal gaada gangguan sama sekali, sudah coba ganti jenis jaringan pun tetap aja jaringannya lambat. mohon kedepannya ini lebih diperhatikan lagi karena jujur perkara jaringan ini sangat menggangu, apalagi kalau perlu ngerjain sesuatu yang penting tapi jaringannya malah lambat. mungkin itu aja, makasih ya  \n",
       "4                                                                                                     pake by u lumayan lama tapi sampe sekarang belum ada peningkatan jaringan aja, kalau di kota yahh bagus soalnya dapet 5g nya, tapi kalau di lingkungan rumah? maen game ping nya 108ms mulu sering ping merahh, gak pernah tuh maen game ampe ping hijau dari dulu gini mulu cuman cocok buat maen youtube doank itupun otomatis resolusi nya jadi 360p an, kek nya emang harus maen sekitaran kota doank  "
      ]
     },
     "execution_count": 100,
     "metadata": {},
     "output_type": "execute_result"
    }
   ],
   "source": [
    "# Ubah semua teks di kolom 'content' menjadi huruf kecil\n",
    "df['case_folding'] = df['content'].str.lower()\n",
    "\n",
    "# Tampilkan hasil case folding\n",
    "df[['content', 'case_folding']].head()"
   ]
  },
  {
   "cell_type": "markdown",
   "id": "ced06efb",
   "metadata": {},
   "source": [
    "<h3>Normalisasi Kata byu</h3>"
   ]
  },
  {
   "cell_type": "code",
   "execution_count": 101,
   "id": "046acf0c",
   "metadata": {},
   "outputs": [
    {
     "data": {
      "text/html": [
       "<div>\n",
       "<style scoped>\n",
       "    .dataframe tbody tr th:only-of-type {\n",
       "        vertical-align: middle;\n",
       "    }\n",
       "\n",
       "    .dataframe tbody tr th {\n",
       "        vertical-align: top;\n",
       "    }\n",
       "\n",
       "    .dataframe thead th {\n",
       "        text-align: right;\n",
       "    }\n",
       "</style>\n",
       "<table border=\"1\" class=\"dataframe\">\n",
       "  <thead>\n",
       "    <tr style=\"text-align: right;\">\n",
       "      <th></th>\n",
       "      <th>case_folding</th>\n",
       "      <th>normalized</th>\n",
       "    </tr>\n",
       "  </thead>\n",
       "  <tbody>\n",
       "    <tr>\n",
       "      <th>0</th>\n",
       "      <td>aku pengguna lama by.u, tapi kok lama kelamaan aku ngerasa by.u itu jaringannya agak kurang stabil ya? kalo buat sosmed an enak\" aja sih, enggak begitu kerasa jaringan kurang stabilnya,kalo dipake untuk nge-game baru agak berasa,kadang ngeganggu banget,waktu pertama kali pake by.u itu jaringannya bener\" poll loh. jarang sekali yg namanya penurunan jaringan,tapi ya gitu,mohon maaf,sekarang jaringan by.u agak kurang menurutku</td>\n",
       "      <td>aku pengguna lama byu, tapi kok lama kelamaan aku ngerasa byu itu jaringannya agak kurang stabil ya? kalo buat sosmed an enak\" aja sih, enggak begitu kerasa jaringan kurang stabilnya,kalo dipake untuk nge-game baru agak berasa,kadang ngeganggu banget,waktu pertama kali pake byu itu jaringannya bener\" poll loh. jarang sekali yg namanya penurunan jaringan,tapi ya gitu,mohon maaf,sekarang jaringan byu agak kurang menurutku</td>\n",
       "    </tr>\n",
       "    <tr>\n",
       "      <th>1</th>\n",
       "      <td>untuk jaringan by.u nya sih bagus cuman kalau untuk diaplikasi nya sudah mulai kendor untuk transaksinya, dulunya bisa melakukan transfer melalui akun virtual bank dan sekarang hanya bisa melalui ewallet doang itu kalau boleh kembalikan seperti dulu, dan tambahin untuk metode pembayarannya melalui qris. kedua, untuk android versi +12 susah menggunakan aplikasi by.u, seperti saya baru unduh aplikasi by.u di android 12, tidak dapat. terdapat tulisan \"perangkat keras aman tidak tersedia\"</td>\n",
       "      <td>untuk jaringan byu nya sih bagus cuman kalau untuk diaplikasi nya sudah mulai kendor untuk transaksinya, dulunya bisa melakukan transfer melalui akun virtual bank dan sekarang hanya bisa melalui ewallet doang itu kalau boleh kembalikan seperti dulu, dan tambahin untuk metode pembayarannya melalui qris. kedua, untuk android versi +12 susah menggunakan aplikasi byu, seperti saya baru unduh aplikasi byu di android 12, tidak dapat. terdapat tulisan \"perangkat keras aman tidak tersedia\"</td>\n",
       "    </tr>\n",
       "    <tr>\n",
       "      <th>2</th>\n",
       "      <td>makin kesini byu makin ga bagus,aplikasi sering ga bisa di buka,komplain respon lambat, proses lama kadang nunggu lama,giliran keluar aplikasi ada balesan,masuk aplikasi hilang lagi cs nya kayak sengaja gitu, tidak ada penyelesaian, di notif kendala sudah selesai tapi masalah nya masih terjadi, cs nya pun kadang ganti ganti di satu chat, parah, chat cs di aplikasi sinyal bagus paket ada mode data atau pake wifi juga susah, parah, jwbn anak sd dari cs&amp;develover cmn nunjukin ketololan nya.</td>\n",
       "      <td>makin kesini byu makin ga bagus,aplikasi sering ga bisa di buka,komplain respon lambat, proses lama kadang nunggu lama,giliran keluar aplikasi ada balesan,masuk aplikasi hilang lagi cs nya kayak sengaja gitu, tidak ada penyelesaian, di notif kendala sudah selesai tapi masalah nya masih terjadi, cs nya pun kadang ganti ganti di satu chat, parah, chat cs di aplikasi sinyal bagus paket ada mode data atau pake wifi juga susah, parah, jwbn anak sd dari cs&amp;develover cmn nunjukin ketololan nya.</td>\n",
       "    </tr>\n",
       "    <tr>\n",
       "      <th>3</th>\n",
       "      <td>aplikasinya sebenarnya bagus, banyak pilihan kuota yang menarik juga. tapi minusnya jaringannya, kadang suka hilang atau lambat banget, padahal gaada gangguan sama sekali, sudah coba ganti jenis jaringan pun tetap aja jaringannya lambat. mohon kedepannya ini lebih diperhatikan lagi karena jujur perkara jaringan ini sangat menggangu, apalagi kalau perlu ngerjain sesuatu yang penting tapi jaringannya malah lambat. mungkin itu aja, makasih ya</td>\n",
       "      <td>aplikasinya sebenarnya bagus, banyak pilihan kuota yang menarik juga. tapi minusnya jaringannya, kadang suka hilang atau lambat banget, padahal gaada gangguan sama sekali, sudah coba ganti jenis jaringan pun tetap aja jaringannya lambat. mohon kedepannya ini lebih diperhatikan lagi karena jujur perkara jaringan ini sangat menggangu, apalagi kalau perlu ngerjain sesuatu yang penting tapi jaringannya malah lambat. mungkin itu aja, makasih ya</td>\n",
       "    </tr>\n",
       "    <tr>\n",
       "      <th>4</th>\n",
       "      <td>pake by u lumayan lama tapi sampe sekarang belum ada peningkatan jaringan aja, kalau di kota yahh bagus soalnya dapet 5g nya, tapi kalau di lingkungan rumah? maen game ping nya 108ms mulu sering ping merahh, gak pernah tuh maen game ampe ping hijau dari dulu gini mulu cuman cocok buat maen youtube doank itupun otomatis resolusi nya jadi 360p an, kek nya emang harus maen sekitaran kota doank</td>\n",
       "      <td>pake byu lumayan lama tapi sampe sekarang belum ada peningkatan jaringan aja, kalau di kota yahh bagus soalnya dapet 5g nya, tapi kalau di lingkungan rumah? maen game ping nya 108ms mulu sering ping merahh, gak pernah tuh maen game ampe ping hijau dari dulu gini mulu cuman cocok buat maen youtube doank itupun otomatis resolusi nya jadi 360p an, kek nya emang harus maen sekitaran kota doank</td>\n",
       "    </tr>\n",
       "  </tbody>\n",
       "</table>\n",
       "</div>"
      ],
      "text/plain": [
       "                                                                                                                                                                                                                                                                                                                                                                                                                                                                                                   case_folding  \\\n",
       "0                                                                   aku pengguna lama by.u, tapi kok lama kelamaan aku ngerasa by.u itu jaringannya agak kurang stabil ya? kalo buat sosmed an enak\" aja sih, enggak begitu kerasa jaringan kurang stabilnya,kalo dipake untuk nge-game baru agak berasa,kadang ngeganggu banget,waktu pertama kali pake by.u itu jaringannya bener\" poll loh. jarang sekali yg namanya penurunan jaringan,tapi ya gitu,mohon maaf,sekarang jaringan by.u agak kurang menurutku   \n",
       "1     untuk jaringan by.u nya sih bagus cuman kalau untuk diaplikasi nya sudah mulai kendor untuk transaksinya, dulunya bisa melakukan transfer melalui akun virtual bank dan sekarang hanya bisa melalui ewallet doang itu kalau boleh kembalikan seperti dulu, dan tambahin untuk metode pembayarannya melalui qris. kedua, untuk android versi +12 susah menggunakan aplikasi by.u, seperti saya baru unduh aplikasi by.u di android 12, tidak dapat. terdapat tulisan \"perangkat keras aman tidak tersedia\"   \n",
       "2  makin kesini byu makin ga bagus,aplikasi sering ga bisa di buka,komplain respon lambat, proses lama kadang nunggu lama,giliran keluar aplikasi ada balesan,masuk aplikasi hilang lagi cs nya kayak sengaja gitu, tidak ada penyelesaian, di notif kendala sudah selesai tapi masalah nya masih terjadi, cs nya pun kadang ganti ganti di satu chat, parah, chat cs di aplikasi sinyal bagus paket ada mode data atau pake wifi juga susah, parah, jwbn anak sd dari cs&develover cmn nunjukin ketololan nya.   \n",
       "3                                                   aplikasinya sebenarnya bagus, banyak pilihan kuota yang menarik juga. tapi minusnya jaringannya, kadang suka hilang atau lambat banget, padahal gaada gangguan sama sekali, sudah coba ganti jenis jaringan pun tetap aja jaringannya lambat. mohon kedepannya ini lebih diperhatikan lagi karena jujur perkara jaringan ini sangat menggangu, apalagi kalau perlu ngerjain sesuatu yang penting tapi jaringannya malah lambat. mungkin itu aja, makasih ya   \n",
       "4                                                                                                     pake by u lumayan lama tapi sampe sekarang belum ada peningkatan jaringan aja, kalau di kota yahh bagus soalnya dapet 5g nya, tapi kalau di lingkungan rumah? maen game ping nya 108ms mulu sering ping merahh, gak pernah tuh maen game ampe ping hijau dari dulu gini mulu cuman cocok buat maen youtube doank itupun otomatis resolusi nya jadi 360p an, kek nya emang harus maen sekitaran kota doank   \n",
       "\n",
       "                                                                                                                                                                                                                                                                                                                                                                                                                                                                                                     normalized  \n",
       "0                                                                       aku pengguna lama byu, tapi kok lama kelamaan aku ngerasa byu itu jaringannya agak kurang stabil ya? kalo buat sosmed an enak\" aja sih, enggak begitu kerasa jaringan kurang stabilnya,kalo dipake untuk nge-game baru agak berasa,kadang ngeganggu banget,waktu pertama kali pake byu itu jaringannya bener\" poll loh. jarang sekali yg namanya penurunan jaringan,tapi ya gitu,mohon maaf,sekarang jaringan byu agak kurang menurutku  \n",
       "1        untuk jaringan byu nya sih bagus cuman kalau untuk diaplikasi nya sudah mulai kendor untuk transaksinya, dulunya bisa melakukan transfer melalui akun virtual bank dan sekarang hanya bisa melalui ewallet doang itu kalau boleh kembalikan seperti dulu, dan tambahin untuk metode pembayarannya melalui qris. kedua, untuk android versi +12 susah menggunakan aplikasi byu, seperti saya baru unduh aplikasi byu di android 12, tidak dapat. terdapat tulisan \"perangkat keras aman tidak tersedia\"  \n",
       "2  makin kesini byu makin ga bagus,aplikasi sering ga bisa di buka,komplain respon lambat, proses lama kadang nunggu lama,giliran keluar aplikasi ada balesan,masuk aplikasi hilang lagi cs nya kayak sengaja gitu, tidak ada penyelesaian, di notif kendala sudah selesai tapi masalah nya masih terjadi, cs nya pun kadang ganti ganti di satu chat, parah, chat cs di aplikasi sinyal bagus paket ada mode data atau pake wifi juga susah, parah, jwbn anak sd dari cs&develover cmn nunjukin ketololan nya.  \n",
       "3                                                   aplikasinya sebenarnya bagus, banyak pilihan kuota yang menarik juga. tapi minusnya jaringannya, kadang suka hilang atau lambat banget, padahal gaada gangguan sama sekali, sudah coba ganti jenis jaringan pun tetap aja jaringannya lambat. mohon kedepannya ini lebih diperhatikan lagi karena jujur perkara jaringan ini sangat menggangu, apalagi kalau perlu ngerjain sesuatu yang penting tapi jaringannya malah lambat. mungkin itu aja, makasih ya  \n",
       "4                                                                                                      pake byu lumayan lama tapi sampe sekarang belum ada peningkatan jaringan aja, kalau di kota yahh bagus soalnya dapet 5g nya, tapi kalau di lingkungan rumah? maen game ping nya 108ms mulu sering ping merahh, gak pernah tuh maen game ampe ping hijau dari dulu gini mulu cuman cocok buat maen youtube doank itupun otomatis resolusi nya jadi 360p an, kek nya emang harus maen sekitaran kota doank  "
      ]
     },
     "execution_count": 101,
     "metadata": {},
     "output_type": "execute_result"
    }
   ],
   "source": [
    "import re\n",
    "def normalize_app_name(text):\n",
    "    if pd.isnull(text):\n",
    "        return \"\"\n",
    "    text = text.lower()\n",
    "    text = re.sub(r'\\bby\\.?u\\b', 'byu', text) \n",
    "    text = re.sub(r'\\bby u\\b', 'byu', text)\n",
    "    return text\n",
    "\n",
    "df['normalized'] = df['case_folding'].apply(normalize_app_name)\n",
    "# Tampilkan hasil case folding\n",
    "df[['case_folding', 'normalized']].head()"
   ]
  },
  {
   "cell_type": "markdown",
   "id": "af3119c8",
   "metadata": {},
   "source": [
    "<h3>FILTERING DATA SETELAH NORMALISASI</h3> "
   ]
  },
  {
   "cell_type": "code",
   "execution_count": 102,
   "id": "9ec37aad",
   "metadata": {},
   "outputs": [
    {
     "data": {
      "text/html": [
       "<div>\n",
       "<style scoped>\n",
       "    .dataframe tbody tr th:only-of-type {\n",
       "        vertical-align: middle;\n",
       "    }\n",
       "\n",
       "    .dataframe tbody tr th {\n",
       "        vertical-align: top;\n",
       "    }\n",
       "\n",
       "    .dataframe thead th {\n",
       "        text-align: right;\n",
       "    }\n",
       "</style>\n",
       "<table border=\"1\" class=\"dataframe\">\n",
       "  <thead>\n",
       "    <tr style=\"text-align: right;\">\n",
       "      <th></th>\n",
       "      <th>normalized</th>\n",
       "      <th>filtered_text</th>\n",
       "    </tr>\n",
       "  </thead>\n",
       "  <tbody>\n",
       "    <tr>\n",
       "      <th>0</th>\n",
       "      <td>aku pengguna lama byu, tapi kok lama kelamaan aku ngerasa byu itu jaringannya agak kurang stabil ya? kalo buat sosmed an enak\" aja sih, enggak begitu kerasa jaringan kurang stabilnya,kalo dipake untuk nge-game baru agak berasa,kadang ngeganggu banget,waktu pertama kali pake byu itu jaringannya bener\" poll loh. jarang sekali yg namanya penurunan jaringan,tapi ya gitu,mohon maaf,sekarang jaringan byu agak kurang menurutku</td>\n",
       "      <td>aku pengguna lama byu tapi kok lama kelamaan aku ngerasa byu itu jaringannya agak kurang stabil ya kalo buat sosmed an enak aja sih enggak begitu kerasa jaringan kurang stabilnya kalo dipake untuk ngegame baru agak berasa kadang ngeganggu banget waktu pertama kali pake byu itu jaringannya bener poll loh jarang sekali yg namanya penurunan jaringan tapi ya gitu mohon maaf sekarang jaringan byu agak kurang menurutku</td>\n",
       "    </tr>\n",
       "    <tr>\n",
       "      <th>1</th>\n",
       "      <td>untuk jaringan byu nya sih bagus cuman kalau untuk diaplikasi nya sudah mulai kendor untuk transaksinya, dulunya bisa melakukan transfer melalui akun virtual bank dan sekarang hanya bisa melalui ewallet doang itu kalau boleh kembalikan seperti dulu, dan tambahin untuk metode pembayarannya melalui qris. kedua, untuk android versi +12 susah menggunakan aplikasi byu, seperti saya baru unduh aplikasi byu di android 12, tidak dapat. terdapat tulisan \"perangkat keras aman tidak tersedia\"</td>\n",
       "      <td>untuk jaringan byu nya sih bagus cuman kalau untuk diaplikasi nya sudah mulai kendor untuk transaksinya dulunya bisa melakukan transfer melalui akun virtual bank dan sekarang hanya bisa melalui ewallet doang itu kalau boleh kembalikan seperti dulu dan tambahin untuk metode pembayarannya melalui qris kedua untuk android versi susah menggunakan aplikasi byu seperti saya baru unduh aplikasi byu di android tidak dapat terdapat tulisan perangkat keras aman tidak tersedia</td>\n",
       "    </tr>\n",
       "    <tr>\n",
       "      <th>2</th>\n",
       "      <td>makin kesini byu makin ga bagus,aplikasi sering ga bisa di buka,komplain respon lambat, proses lama kadang nunggu lama,giliran keluar aplikasi ada balesan,masuk aplikasi hilang lagi cs nya kayak sengaja gitu, tidak ada penyelesaian, di notif kendala sudah selesai tapi masalah nya masih terjadi, cs nya pun kadang ganti ganti di satu chat, parah, chat cs di aplikasi sinyal bagus paket ada mode data atau pake wifi juga susah, parah, jwbn anak sd dari cs&amp;develover cmn nunjukin ketololan nya.</td>\n",
       "      <td>makin kesini byu makin ga bagus aplikasi sering ga bisa di buka komplain respon lambat proses lama kadang nunggu lama giliran keluar aplikasi ada balesan masuk aplikasi hilang lagi cs nya kayak sengaja gitu tidak ada penyelesaian di notif kendala sudah selesai tapi masalah nya masih terjadi cs nya pun kadang ganti ganti di satu chat parah chat cs di aplikasi sinyal bagus paket ada mode data atau pake wifi juga susah parah jwbn anak sd dari csdevelover cmn nunjukin ketololan nya</td>\n",
       "    </tr>\n",
       "    <tr>\n",
       "      <th>3</th>\n",
       "      <td>aplikasinya sebenarnya bagus, banyak pilihan kuota yang menarik juga. tapi minusnya jaringannya, kadang suka hilang atau lambat banget, padahal gaada gangguan sama sekali, sudah coba ganti jenis jaringan pun tetap aja jaringannya lambat. mohon kedepannya ini lebih diperhatikan lagi karena jujur perkara jaringan ini sangat menggangu, apalagi kalau perlu ngerjain sesuatu yang penting tapi jaringannya malah lambat. mungkin itu aja, makasih ya</td>\n",
       "      <td>aplikasinya sebenarnya bagus banyak pilihan kuota yang menarik juga tapi minusnya jaringannya kadang suka hilang atau lambat banget padahal gaada gangguan sama sekali sudah coba ganti jenis jaringan pun tetap aja jaringannya lambat mohon kedepannya ini lebih diperhatikan lagi karena jujur perkara jaringan ini sangat menggangu apalagi kalau perlu ngerjain sesuatu yang penting tapi jaringannya malah lambat mungkin itu aja makasih ya</td>\n",
       "    </tr>\n",
       "    <tr>\n",
       "      <th>4</th>\n",
       "      <td>pake byu lumayan lama tapi sampe sekarang belum ada peningkatan jaringan aja, kalau di kota yahh bagus soalnya dapet 5g nya, tapi kalau di lingkungan rumah? maen game ping nya 108ms mulu sering ping merahh, gak pernah tuh maen game ampe ping hijau dari dulu gini mulu cuman cocok buat maen youtube doank itupun otomatis resolusi nya jadi 360p an, kek nya emang harus maen sekitaran kota doank</td>\n",
       "      <td>pake byu lumayan lama tapi sampe sekarang belum ada peningkatan jaringan aja kalau di kota yahh bagus soalnya dapet g nya tapi kalau di lingkungan rumah maen game ping nya ms mulu sering ping merahh gak pernah tuh maen game ampe ping hijau dari dulu gini mulu cuman cocok buat maen youtube doank itupun otomatis resolusi nya jadi p an kek nya emang harus maen sekitaran kota doank</td>\n",
       "    </tr>\n",
       "  </tbody>\n",
       "</table>\n",
       "</div>"
      ],
      "text/plain": [
       "                                                                                                                                                                                                                                                                                                                                                                                                                                                                                                     normalized  \\\n",
       "0                                                                       aku pengguna lama byu, tapi kok lama kelamaan aku ngerasa byu itu jaringannya agak kurang stabil ya? kalo buat sosmed an enak\" aja sih, enggak begitu kerasa jaringan kurang stabilnya,kalo dipake untuk nge-game baru agak berasa,kadang ngeganggu banget,waktu pertama kali pake byu itu jaringannya bener\" poll loh. jarang sekali yg namanya penurunan jaringan,tapi ya gitu,mohon maaf,sekarang jaringan byu agak kurang menurutku   \n",
       "1        untuk jaringan byu nya sih bagus cuman kalau untuk diaplikasi nya sudah mulai kendor untuk transaksinya, dulunya bisa melakukan transfer melalui akun virtual bank dan sekarang hanya bisa melalui ewallet doang itu kalau boleh kembalikan seperti dulu, dan tambahin untuk metode pembayarannya melalui qris. kedua, untuk android versi +12 susah menggunakan aplikasi byu, seperti saya baru unduh aplikasi byu di android 12, tidak dapat. terdapat tulisan \"perangkat keras aman tidak tersedia\"   \n",
       "2  makin kesini byu makin ga bagus,aplikasi sering ga bisa di buka,komplain respon lambat, proses lama kadang nunggu lama,giliran keluar aplikasi ada balesan,masuk aplikasi hilang lagi cs nya kayak sengaja gitu, tidak ada penyelesaian, di notif kendala sudah selesai tapi masalah nya masih terjadi, cs nya pun kadang ganti ganti di satu chat, parah, chat cs di aplikasi sinyal bagus paket ada mode data atau pake wifi juga susah, parah, jwbn anak sd dari cs&develover cmn nunjukin ketololan nya.   \n",
       "3                                                   aplikasinya sebenarnya bagus, banyak pilihan kuota yang menarik juga. tapi minusnya jaringannya, kadang suka hilang atau lambat banget, padahal gaada gangguan sama sekali, sudah coba ganti jenis jaringan pun tetap aja jaringannya lambat. mohon kedepannya ini lebih diperhatikan lagi karena jujur perkara jaringan ini sangat menggangu, apalagi kalau perlu ngerjain sesuatu yang penting tapi jaringannya malah lambat. mungkin itu aja, makasih ya   \n",
       "4                                                                                                      pake byu lumayan lama tapi sampe sekarang belum ada peningkatan jaringan aja, kalau di kota yahh bagus soalnya dapet 5g nya, tapi kalau di lingkungan rumah? maen game ping nya 108ms mulu sering ping merahh, gak pernah tuh maen game ampe ping hijau dari dulu gini mulu cuman cocok buat maen youtube doank itupun otomatis resolusi nya jadi 360p an, kek nya emang harus maen sekitaran kota doank   \n",
       "\n",
       "                                                                                                                                                                                                                                                                                                                                                                                                                                                                                        filtered_text  \n",
       "0                                                                    aku pengguna lama byu tapi kok lama kelamaan aku ngerasa byu itu jaringannya agak kurang stabil ya kalo buat sosmed an enak aja sih enggak begitu kerasa jaringan kurang stabilnya kalo dipake untuk ngegame baru agak berasa kadang ngeganggu banget waktu pertama kali pake byu itu jaringannya bener poll loh jarang sekali yg namanya penurunan jaringan tapi ya gitu mohon maaf sekarang jaringan byu agak kurang menurutku  \n",
       "1              untuk jaringan byu nya sih bagus cuman kalau untuk diaplikasi nya sudah mulai kendor untuk transaksinya dulunya bisa melakukan transfer melalui akun virtual bank dan sekarang hanya bisa melalui ewallet doang itu kalau boleh kembalikan seperti dulu dan tambahin untuk metode pembayarannya melalui qris kedua untuk android versi susah menggunakan aplikasi byu seperti saya baru unduh aplikasi byu di android tidak dapat terdapat tulisan perangkat keras aman tidak tersedia  \n",
       "2  makin kesini byu makin ga bagus aplikasi sering ga bisa di buka komplain respon lambat proses lama kadang nunggu lama giliran keluar aplikasi ada balesan masuk aplikasi hilang lagi cs nya kayak sengaja gitu tidak ada penyelesaian di notif kendala sudah selesai tapi masalah nya masih terjadi cs nya pun kadang ganti ganti di satu chat parah chat cs di aplikasi sinyal bagus paket ada mode data atau pake wifi juga susah parah jwbn anak sd dari csdevelover cmn nunjukin ketololan nya  \n",
       "3                                                  aplikasinya sebenarnya bagus banyak pilihan kuota yang menarik juga tapi minusnya jaringannya kadang suka hilang atau lambat banget padahal gaada gangguan sama sekali sudah coba ganti jenis jaringan pun tetap aja jaringannya lambat mohon kedepannya ini lebih diperhatikan lagi karena jujur perkara jaringan ini sangat menggangu apalagi kalau perlu ngerjain sesuatu yang penting tapi jaringannya malah lambat mungkin itu aja makasih ya  \n",
       "4                                                                                                        pake byu lumayan lama tapi sampe sekarang belum ada peningkatan jaringan aja kalau di kota yahh bagus soalnya dapet g nya tapi kalau di lingkungan rumah maen game ping nya ms mulu sering ping merahh gak pernah tuh maen game ampe ping hijau dari dulu gini mulu cuman cocok buat maen youtube doank itupun otomatis resolusi nya jadi p an kek nya emang harus maen sekitaran kota doank  "
      ]
     },
     "execution_count": 102,
     "metadata": {},
     "output_type": "execute_result"
    }
   ],
   "source": [
    "def filtering_combined(text):\n",
    "    if pd.isnull(text):\n",
    "        return \"\"\n",
    "\n",
    "    # Sisipkan spasi agar tanda baca tidak menempel ke kata (dari Filtering 2)\n",
    "    text = re.sub(r\"([.,;:!?()\\[\\]{}\\\"'/])(\\w)\", r\"\\1 \\2\", text)\n",
    "    text = re.sub(r\"(\\w)([.,;:!?()\\[\\]{}\\\"'/])\", r\"\\1 \\2\", text)\n",
    "\n",
    "    # Tambahkan spasi setelah koma jika tidak ada\n",
    "    text = re.sub(r\",(?=\\S)\", \", \", text)\n",
    "\n",
    "    # Hapus URL\n",
    "    text = re.sub(r\"http\\S+|www\\S+\", \"\", text)\n",
    "\n",
    "    # Hapus angka\n",
    "    text = re.sub(r\"\\d+\", \"\", text)\n",
    "\n",
    "    # Hapus simbol dan karakter non-alfabet (kecuali spasi)\n",
    "    text = re.sub(r\"[^a-zA-Z\\s]\", \"\", text)\n",
    "\n",
    "    # Rapikan spasi\n",
    "    text = re.sub(r\"\\s+\", \" \", text).strip()\n",
    "\n",
    "    return text\n",
    "\n",
    "# Terapkan ke data\n",
    "df['filtered_text'] = df['normalized'].apply(filtering_combined)\n",
    "\n",
    "# (Opsional) tampilkan\n",
    "df[['normalized', 'filtered_text']].head()\n"
   ]
  },
  {
   "cell_type": "markdown",
   "id": "2dc5cf1c",
   "metadata": {},
   "source": [
    "<h3>STOPWORD UNTUK MENGHAPUS KATA YANG TIDAK DIPERLUKAN</h3>"
   ]
  },
  {
   "cell_type": "code",
   "execution_count": 103,
   "id": "bc138d0b",
   "metadata": {},
   "outputs": [
    {
     "name": "stdout",
     "output_type": "stream",
     "text": [
      "Requirement already satisfied: nltk in c:\\users\\andi ragil\\.conda\\envs\\topikenv\\lib\\site-packages (3.9.1)\n",
      "Requirement already satisfied: click in c:\\users\\andi ragil\\.conda\\envs\\topikenv\\lib\\site-packages (from nltk) (8.2.1)\n",
      "Requirement already satisfied: joblib in c:\\users\\andi ragil\\.conda\\envs\\topikenv\\lib\\site-packages (from nltk) (1.5.1)\n",
      "Requirement already satisfied: regex>=2021.8.3 in c:\\users\\andi ragil\\.conda\\envs\\topikenv\\lib\\site-packages (from nltk) (2024.11.6)\n",
      "Requirement already satisfied: tqdm in c:\\users\\andi ragil\\.conda\\envs\\topikenv\\lib\\site-packages (from nltk) (4.67.1)\n",
      "Requirement already satisfied: colorama in c:\\users\\andi ragil\\.conda\\envs\\topikenv\\lib\\site-packages (from click->nltk) (0.4.6)\n",
      "Note: you may need to restart the kernel to use updated packages.\n"
     ]
    }
   ],
   "source": [
    "%pip install nltk"
   ]
  },
  {
   "cell_type": "code",
   "execution_count": 104,
   "id": "4285d227",
   "metadata": {},
   "outputs": [
    {
     "name": "stderr",
     "output_type": "stream",
     "text": [
      "[nltk_data] Downloading package stopwords to C:\\Users\\andi\n",
      "[nltk_data]     ragil\\AppData\\Roaming\\nltk_data...\n",
      "[nltk_data]   Package stopwords is already up-to-date!\n"
     ]
    },
    {
     "data": {
      "text/html": [
       "<div>\n",
       "<style scoped>\n",
       "    .dataframe tbody tr th:only-of-type {\n",
       "        vertical-align: middle;\n",
       "    }\n",
       "\n",
       "    .dataframe tbody tr th {\n",
       "        vertical-align: top;\n",
       "    }\n",
       "\n",
       "    .dataframe thead th {\n",
       "        text-align: right;\n",
       "    }\n",
       "</style>\n",
       "<table border=\"1\" class=\"dataframe\">\n",
       "  <thead>\n",
       "    <tr style=\"text-align: right;\">\n",
       "      <th></th>\n",
       "      <th>filtered_text</th>\n",
       "      <th>final_text</th>\n",
       "    </tr>\n",
       "  </thead>\n",
       "  <tbody>\n",
       "    <tr>\n",
       "      <th>0</th>\n",
       "      <td>aku pengguna lama byu tapi kok lama kelamaan aku ngerasa byu itu jaringannya agak kurang stabil ya kalo buat sosmed an enak aja sih enggak begitu kerasa jaringan kurang stabilnya kalo dipake untuk ngegame baru agak berasa kadang ngeganggu banget waktu pertama kali pake byu itu jaringannya bener poll loh jarang sekali yg namanya penurunan jaringan tapi ya gitu mohon maaf sekarang jaringan byu agak kurang menurutku</td>\n",
       "      <td>aku pengguna lama byu kok lama kelamaan aku ngerasa byu jaringannya kurang stabil kalo buat sosmed enak sih enggak kerasa jaringan kurang stabilnya kalo dipake ngegame baru berasa kadang ngeganggu banget waktu pertama kali pake byu jaringannya bener poll loh jarang sekali yg namanya penurunan jaringan gitu mohon maaf sekarang jaringan byu kurang menurutku</td>\n",
       "    </tr>\n",
       "    <tr>\n",
       "      <th>1</th>\n",
       "      <td>untuk jaringan byu nya sih bagus cuman kalau untuk diaplikasi nya sudah mulai kendor untuk transaksinya dulunya bisa melakukan transfer melalui akun virtual bank dan sekarang hanya bisa melalui ewallet doang itu kalau boleh kembalikan seperti dulu dan tambahin untuk metode pembayarannya melalui qris kedua untuk android versi susah menggunakan aplikasi byu seperti saya baru unduh aplikasi byu di android tidak dapat terdapat tulisan perangkat keras aman tidak tersedia</td>\n",
       "      <td>jaringan byu sih bagus cuman kalau diaplikasi mulai kendor transaksinya melakukan transfer melalui akun virtual bank sekarang melalui ewallet doang kalau kembalikan dulu tambahin metode pembayarannya melalui qris kedua android versi susah menggunakan aplikasi byu baru unduh aplikasi byu android terdapat tulisan perangkat keras aman tersedia</td>\n",
       "    </tr>\n",
       "    <tr>\n",
       "      <th>2</th>\n",
       "      <td>makin kesini byu makin ga bagus aplikasi sering ga bisa di buka komplain respon lambat proses lama kadang nunggu lama giliran keluar aplikasi ada balesan masuk aplikasi hilang lagi cs nya kayak sengaja gitu tidak ada penyelesaian di notif kendala sudah selesai tapi masalah nya masih terjadi cs nya pun kadang ganti ganti di satu chat parah chat cs di aplikasi sinyal bagus paket ada mode data atau pake wifi juga susah parah jwbn anak sd dari csdevelover cmn nunjukin ketololan nya</td>\n",
       "      <td>makin kesini byu makin ga bagus aplikasi sering ga buka komplain respon lambat proses lama kadang nunggu lama giliran keluar aplikasi balesan masuk aplikasi hilang cs kayak sengaja gitu penyelesaian notif kendala selesai masalah terjadi cs kadang ganti ganti satu chat parah chat cs aplikasi sinyal bagus paket mode data pake wifi susah parah jwbn anak sd csdevelover cmn nunjukin ketololan</td>\n",
       "    </tr>\n",
       "    <tr>\n",
       "      <th>3</th>\n",
       "      <td>aplikasinya sebenarnya bagus banyak pilihan kuota yang menarik juga tapi minusnya jaringannya kadang suka hilang atau lambat banget padahal gaada gangguan sama sekali sudah coba ganti jenis jaringan pun tetap aja jaringannya lambat mohon kedepannya ini lebih diperhatikan lagi karena jujur perkara jaringan ini sangat menggangu apalagi kalau perlu ngerjain sesuatu yang penting tapi jaringannya malah lambat mungkin itu aja makasih ya</td>\n",
       "      <td>aplikasinya sebenarnya bagus banyak pilihan kuota menarik minusnya jaringannya kadang suka hilang lambat banget padahal gaada gangguan sama sekali coba ganti jenis jaringan tetap jaringannya lambat mohon kedepannya lebih diperhatikan jujur perkara jaringan sangat menggangu kalau perlu ngerjain penting jaringannya malah lambat mungkin makasih</td>\n",
       "    </tr>\n",
       "    <tr>\n",
       "      <th>4</th>\n",
       "      <td>pake byu lumayan lama tapi sampe sekarang belum ada peningkatan jaringan aja kalau di kota yahh bagus soalnya dapet g nya tapi kalau di lingkungan rumah maen game ping nya ms mulu sering ping merahh gak pernah tuh maen game ampe ping hijau dari dulu gini mulu cuman cocok buat maen youtube doank itupun otomatis resolusi nya jadi p an kek nya emang harus maen sekitaran kota doank</td>\n",
       "      <td>pake byu lumayan lama sampe sekarang peningkatan jaringan kalau kota yahh bagus soalnya dapet g kalau lingkungan rumah maen game ping ms mulu sering ping merahh gak pernah tuh maen game ampe ping hijau dulu gini mulu cuman cocok buat maen youtube doank itupun otomatis resolusi jadi p kek emang maen sekitaran kota doank</td>\n",
       "    </tr>\n",
       "  </tbody>\n",
       "</table>\n",
       "</div>"
      ],
      "text/plain": [
       "                                                                                                                                                                                                                                                                                                                                                                                                                                                                                        filtered_text  \\\n",
       "0                                                                    aku pengguna lama byu tapi kok lama kelamaan aku ngerasa byu itu jaringannya agak kurang stabil ya kalo buat sosmed an enak aja sih enggak begitu kerasa jaringan kurang stabilnya kalo dipake untuk ngegame baru agak berasa kadang ngeganggu banget waktu pertama kali pake byu itu jaringannya bener poll loh jarang sekali yg namanya penurunan jaringan tapi ya gitu mohon maaf sekarang jaringan byu agak kurang menurutku   \n",
       "1              untuk jaringan byu nya sih bagus cuman kalau untuk diaplikasi nya sudah mulai kendor untuk transaksinya dulunya bisa melakukan transfer melalui akun virtual bank dan sekarang hanya bisa melalui ewallet doang itu kalau boleh kembalikan seperti dulu dan tambahin untuk metode pembayarannya melalui qris kedua untuk android versi susah menggunakan aplikasi byu seperti saya baru unduh aplikasi byu di android tidak dapat terdapat tulisan perangkat keras aman tidak tersedia   \n",
       "2  makin kesini byu makin ga bagus aplikasi sering ga bisa di buka komplain respon lambat proses lama kadang nunggu lama giliran keluar aplikasi ada balesan masuk aplikasi hilang lagi cs nya kayak sengaja gitu tidak ada penyelesaian di notif kendala sudah selesai tapi masalah nya masih terjadi cs nya pun kadang ganti ganti di satu chat parah chat cs di aplikasi sinyal bagus paket ada mode data atau pake wifi juga susah parah jwbn anak sd dari csdevelover cmn nunjukin ketololan nya   \n",
       "3                                                  aplikasinya sebenarnya bagus banyak pilihan kuota yang menarik juga tapi minusnya jaringannya kadang suka hilang atau lambat banget padahal gaada gangguan sama sekali sudah coba ganti jenis jaringan pun tetap aja jaringannya lambat mohon kedepannya ini lebih diperhatikan lagi karena jujur perkara jaringan ini sangat menggangu apalagi kalau perlu ngerjain sesuatu yang penting tapi jaringannya malah lambat mungkin itu aja makasih ya   \n",
       "4                                                                                                        pake byu lumayan lama tapi sampe sekarang belum ada peningkatan jaringan aja kalau di kota yahh bagus soalnya dapet g nya tapi kalau di lingkungan rumah maen game ping nya ms mulu sering ping merahh gak pernah tuh maen game ampe ping hijau dari dulu gini mulu cuman cocok buat maen youtube doank itupun otomatis resolusi nya jadi p an kek nya emang harus maen sekitaran kota doank   \n",
       "\n",
       "                                                                                                                                                                                                                                                                                                                                                                                               final_text  \n",
       "0                                   aku pengguna lama byu kok lama kelamaan aku ngerasa byu jaringannya kurang stabil kalo buat sosmed enak sih enggak kerasa jaringan kurang stabilnya kalo dipake ngegame baru berasa kadang ngeganggu banget waktu pertama kali pake byu jaringannya bener poll loh jarang sekali yg namanya penurunan jaringan gitu mohon maaf sekarang jaringan byu kurang menurutku  \n",
       "1                                                  jaringan byu sih bagus cuman kalau diaplikasi mulai kendor transaksinya melakukan transfer melalui akun virtual bank sekarang melalui ewallet doang kalau kembalikan dulu tambahin metode pembayarannya melalui qris kedua android versi susah menggunakan aplikasi byu baru unduh aplikasi byu android terdapat tulisan perangkat keras aman tersedia  \n",
       "2  makin kesini byu makin ga bagus aplikasi sering ga buka komplain respon lambat proses lama kadang nunggu lama giliran keluar aplikasi balesan masuk aplikasi hilang cs kayak sengaja gitu penyelesaian notif kendala selesai masalah terjadi cs kadang ganti ganti satu chat parah chat cs aplikasi sinyal bagus paket mode data pake wifi susah parah jwbn anak sd csdevelover cmn nunjukin ketololan  \n",
       "3                                                 aplikasinya sebenarnya bagus banyak pilihan kuota menarik minusnya jaringannya kadang suka hilang lambat banget padahal gaada gangguan sama sekali coba ganti jenis jaringan tetap jaringannya lambat mohon kedepannya lebih diperhatikan jujur perkara jaringan sangat menggangu kalau perlu ngerjain penting jaringannya malah lambat mungkin makasih  \n",
       "4                                                                        pake byu lumayan lama sampe sekarang peningkatan jaringan kalau kota yahh bagus soalnya dapet g kalau lingkungan rumah maen game ping ms mulu sering ping merahh gak pernah tuh maen game ampe ping hijau dulu gini mulu cuman cocok buat maen youtube doank itupun otomatis resolusi jadi p kek emang maen sekitaran kota doank  "
      ]
     },
     "execution_count": 104,
     "metadata": {},
     "output_type": "execute_result"
    }
   ],
   "source": [
    "import nltk\n",
    "from nltk.corpus import stopwords\n",
    "from Sastrawi.StopWordRemover.StopWordRemoverFactory import StopWordRemoverFactory\n",
    "\n",
    "# Unduh stopword dari NLTK jika belum\n",
    "nltk.download('stopwords')\n",
    "\n",
    "# Stopword dari Sastrawi\n",
    "stop_factory = StopWordRemoverFactory()\n",
    "stopword_sastrawi = set(stop_factory.get_stop_words())\n",
    "\n",
    "# Stopword dari NLTK Bahasa Inggris\n",
    "stopwords_nltk = set(stopwords.words('english'))\n",
    "\n",
    "\n",
    "more_stopword = {\n",
    "    'apk','aja','nya','gw','ngelek'\n",
    "}\n",
    "\n",
    "# Gabungkan semua stopword\n",
    "stopword_combined = stopword_sastrawi.union(stopwords_nltk).union(more_stopword)\n",
    "\n",
    "# Fungsi untuk hapus stopword\n",
    "def remove_stopwords(text):\n",
    "    if isinstance(text, str):\n",
    "        words = text.lower().split() \n",
    "        filtered_words = [w for w in words if w not in stopword_combined]\n",
    "        return \" \".join(filtered_words)\n",
    "    else:\n",
    "        return \"\"\n",
    "\n",
    "# Terapkan ke hasil filtering sebelumnya\n",
    "df['final_text'] = df['filtered_text'].apply(remove_stopwords)\n",
    "\n",
    "# Cek hasil\n",
    "df[['filtered_text', 'final_text']].head()"
   ]
  },
  {
   "cell_type": "markdown",
   "id": "b4d806e5",
   "metadata": {},
   "source": [
    "<h3>DROP COLUMN YANG TIDAK DIPERLUKAN</h3>"
   ]
  },
  {
   "cell_type": "code",
   "execution_count": 105,
   "id": "532e6d81",
   "metadata": {},
   "outputs": [],
   "source": [
    "# df = df[df['final_text'].apply(lambda x: len(x.split()) >= 10)]\n",
    "# print(df.shape)"
   ]
  },
  {
   "cell_type": "code",
   "execution_count": 106,
   "id": "40464c08",
   "metadata": {},
   "outputs": [
    {
     "data": {
      "text/html": [
       "<div>\n",
       "<style scoped>\n",
       "    .dataframe tbody tr th:only-of-type {\n",
       "        vertical-align: middle;\n",
       "    }\n",
       "\n",
       "    .dataframe tbody tr th {\n",
       "        vertical-align: top;\n",
       "    }\n",
       "\n",
       "    .dataframe thead th {\n",
       "        text-align: right;\n",
       "    }\n",
       "</style>\n",
       "<table border=\"1\" class=\"dataframe\">\n",
       "  <thead>\n",
       "    <tr style=\"text-align: right;\">\n",
       "      <th></th>\n",
       "      <th>userName</th>\n",
       "      <th>score</th>\n",
       "      <th>final_text</th>\n",
       "    </tr>\n",
       "  </thead>\n",
       "  <tbody>\n",
       "    <tr>\n",
       "      <th>0</th>\n",
       "      <td>Pengguna Google</td>\n",
       "      <td>4</td>\n",
       "      <td>aku pengguna lama byu kok lama kelamaan aku ngerasa byu jaringannya kurang stabil kalo buat sosmed enak sih enggak kerasa jaringan kurang stabilnya kalo dipake ngegame baru berasa kadang ngeganggu banget waktu pertama kali pake byu jaringannya bener poll loh jarang sekali yg namanya penurunan jaringan gitu mohon maaf sekarang jaringan byu kurang menurutku</td>\n",
       "    </tr>\n",
       "    <tr>\n",
       "      <th>1</th>\n",
       "      <td>Pengguna Google</td>\n",
       "      <td>3</td>\n",
       "      <td>jaringan byu sih bagus cuman kalau diaplikasi mulai kendor transaksinya melakukan transfer melalui akun virtual bank sekarang melalui ewallet doang kalau kembalikan dulu tambahin metode pembayarannya melalui qris kedua android versi susah menggunakan aplikasi byu baru unduh aplikasi byu android terdapat tulisan perangkat keras aman tersedia</td>\n",
       "    </tr>\n",
       "    <tr>\n",
       "      <th>2</th>\n",
       "      <td>Pengguna Google</td>\n",
       "      <td>1</td>\n",
       "      <td>makin kesini byu makin ga bagus aplikasi sering ga buka komplain respon lambat proses lama kadang nunggu lama giliran keluar aplikasi balesan masuk aplikasi hilang cs kayak sengaja gitu penyelesaian notif kendala selesai masalah terjadi cs kadang ganti ganti satu chat parah chat cs aplikasi sinyal bagus paket mode data pake wifi susah parah jwbn anak sd csdevelover cmn nunjukin ketololan</td>\n",
       "    </tr>\n",
       "    <tr>\n",
       "      <th>3</th>\n",
       "      <td>Pengguna Google</td>\n",
       "      <td>3</td>\n",
       "      <td>aplikasinya sebenarnya bagus banyak pilihan kuota menarik minusnya jaringannya kadang suka hilang lambat banget padahal gaada gangguan sama sekali coba ganti jenis jaringan tetap jaringannya lambat mohon kedepannya lebih diperhatikan jujur perkara jaringan sangat menggangu kalau perlu ngerjain penting jaringannya malah lambat mungkin makasih</td>\n",
       "    </tr>\n",
       "    <tr>\n",
       "      <th>4</th>\n",
       "      <td>Pengguna Google</td>\n",
       "      <td>3</td>\n",
       "      <td>pake byu lumayan lama sampe sekarang peningkatan jaringan kalau kota yahh bagus soalnya dapet g kalau lingkungan rumah maen game ping ms mulu sering ping merahh gak pernah tuh maen game ampe ping hijau dulu gini mulu cuman cocok buat maen youtube doank itupun otomatis resolusi jadi p kek emang maen sekitaran kota doank</td>\n",
       "    </tr>\n",
       "  </tbody>\n",
       "</table>\n",
       "</div>"
      ],
      "text/plain": [
       "          userName  score  \\\n",
       "0  Pengguna Google      4   \n",
       "1  Pengguna Google      3   \n",
       "2  Pengguna Google      1   \n",
       "3  Pengguna Google      3   \n",
       "4  Pengguna Google      3   \n",
       "\n",
       "                                                                                                                                                                                                                                                                                                                                                                                               final_text  \n",
       "0                                   aku pengguna lama byu kok lama kelamaan aku ngerasa byu jaringannya kurang stabil kalo buat sosmed enak sih enggak kerasa jaringan kurang stabilnya kalo dipake ngegame baru berasa kadang ngeganggu banget waktu pertama kali pake byu jaringannya bener poll loh jarang sekali yg namanya penurunan jaringan gitu mohon maaf sekarang jaringan byu kurang menurutku  \n",
       "1                                                  jaringan byu sih bagus cuman kalau diaplikasi mulai kendor transaksinya melakukan transfer melalui akun virtual bank sekarang melalui ewallet doang kalau kembalikan dulu tambahin metode pembayarannya melalui qris kedua android versi susah menggunakan aplikasi byu baru unduh aplikasi byu android terdapat tulisan perangkat keras aman tersedia  \n",
       "2  makin kesini byu makin ga bagus aplikasi sering ga buka komplain respon lambat proses lama kadang nunggu lama giliran keluar aplikasi balesan masuk aplikasi hilang cs kayak sengaja gitu penyelesaian notif kendala selesai masalah terjadi cs kadang ganti ganti satu chat parah chat cs aplikasi sinyal bagus paket mode data pake wifi susah parah jwbn anak sd csdevelover cmn nunjukin ketololan  \n",
       "3                                                 aplikasinya sebenarnya bagus banyak pilihan kuota menarik minusnya jaringannya kadang suka hilang lambat banget padahal gaada gangguan sama sekali coba ganti jenis jaringan tetap jaringannya lambat mohon kedepannya lebih diperhatikan jujur perkara jaringan sangat menggangu kalau perlu ngerjain penting jaringannya malah lambat mungkin makasih  \n",
       "4                                                                        pake byu lumayan lama sampe sekarang peningkatan jaringan kalau kota yahh bagus soalnya dapet g kalau lingkungan rumah maen game ping ms mulu sering ping merahh gak pernah tuh maen game ampe ping hijau dulu gini mulu cuman cocok buat maen youtube doank itupun otomatis resolusi jadi p kek emang maen sekitaran kota doank  "
      ]
     },
     "execution_count": 106,
     "metadata": {},
     "output_type": "execute_result"
    }
   ],
   "source": [
    "df = df.drop(columns=['at', 'content', 'case_folding', 'normalized','filtered_text'])\n",
    "df.head()"
   ]
  },
  {
   "cell_type": "markdown",
   "id": "ce107c6d",
   "metadata": {},
   "source": [
    "<h3>INSTALL LIBRARY BERTOPIC</h3> "
   ]
  },
  {
   "cell_type": "code",
   "execution_count": 107,
   "id": "820a60db",
   "metadata": {},
   "outputs": [
    {
     "name": "stdout",
     "output_type": "stream",
     "text": [
      "Requirement already satisfied: bertopic in c:\\users\\andi ragil\\.conda\\envs\\topikenv\\lib\\site-packages (0.17.3)\n",
      "Requirement already satisfied: sentence-transformers in c:\\users\\andi ragil\\.conda\\envs\\topikenv\\lib\\site-packages (5.0.0)\n",
      "Requirement already satisfied: umap-learn in c:\\users\\andi ragil\\.conda\\envs\\topikenv\\lib\\site-packages (0.5.9.post2)\n",
      "Requirement already satisfied: hdbscan in c:\\users\\andi ragil\\.conda\\envs\\topikenv\\lib\\site-packages (0.8.40)\n",
      "Requirement already satisfied: numpy>=1.20.0 in c:\\users\\andi ragil\\.conda\\envs\\topikenv\\lib\\site-packages (from bertopic) (1.26.4)\n",
      "Requirement already satisfied: pandas>=1.1.5 in c:\\users\\andi ragil\\.conda\\envs\\topikenv\\lib\\site-packages (from bertopic) (2.3.1)\n",
      "Requirement already satisfied: plotly>=4.7.0 in c:\\users\\andi ragil\\.conda\\envs\\topikenv\\lib\\site-packages (from bertopic) (6.2.0)\n",
      "Requirement already satisfied: scikit-learn>=1.0 in c:\\users\\andi ragil\\.conda\\envs\\topikenv\\lib\\site-packages (from bertopic) (1.7.1)\n",
      "Requirement already satisfied: tqdm>=4.41.1 in c:\\users\\andi ragil\\.conda\\envs\\topikenv\\lib\\site-packages (from bertopic) (4.67.1)\n",
      "Requirement already satisfied: llvmlite>0.36.0 in c:\\users\\andi ragil\\.conda\\envs\\topikenv\\lib\\site-packages (from bertopic) (0.44.0)\n",
      "Requirement already satisfied: transformers<5.0.0,>=4.41.0 in c:\\users\\andi ragil\\.conda\\envs\\topikenv\\lib\\site-packages (from sentence-transformers) (4.53.3)\n",
      "Requirement already satisfied: torch>=1.11.0 in c:\\users\\andi ragil\\.conda\\envs\\topikenv\\lib\\site-packages (from sentence-transformers) (2.7.1)\n",
      "Requirement already satisfied: scipy in c:\\users\\andi ragil\\.conda\\envs\\topikenv\\lib\\site-packages (from sentence-transformers) (1.13.1)\n",
      "Requirement already satisfied: huggingface-hub>=0.20.0 in c:\\users\\andi ragil\\.conda\\envs\\topikenv\\lib\\site-packages (from sentence-transformers) (0.33.4)\n",
      "Requirement already satisfied: Pillow in c:\\users\\andi ragil\\.conda\\envs\\topikenv\\lib\\site-packages (from sentence-transformers) (11.3.0)\n",
      "Requirement already satisfied: typing_extensions>=4.5.0 in c:\\users\\andi ragil\\.conda\\envs\\topikenv\\lib\\site-packages (from sentence-transformers) (4.14.1)\n",
      "Requirement already satisfied: filelock in c:\\users\\andi ragil\\.conda\\envs\\topikenv\\lib\\site-packages (from transformers<5.0.0,>=4.41.0->sentence-transformers) (3.18.0)\n",
      "Requirement already satisfied: packaging>=20.0 in c:\\users\\andi ragil\\.conda\\envs\\topikenv\\lib\\site-packages (from transformers<5.0.0,>=4.41.0->sentence-transformers) (25.0)\n",
      "Requirement already satisfied: pyyaml>=5.1 in c:\\users\\andi ragil\\.conda\\envs\\topikenv\\lib\\site-packages (from transformers<5.0.0,>=4.41.0->sentence-transformers) (6.0.2)\n",
      "Requirement already satisfied: regex!=2019.12.17 in c:\\users\\andi ragil\\.conda\\envs\\topikenv\\lib\\site-packages (from transformers<5.0.0,>=4.41.0->sentence-transformers) (2024.11.6)\n",
      "Requirement already satisfied: requests in c:\\users\\andi ragil\\.conda\\envs\\topikenv\\lib\\site-packages (from transformers<5.0.0,>=4.41.0->sentence-transformers) (2.32.4)\n",
      "Requirement already satisfied: tokenizers<0.22,>=0.21 in c:\\users\\andi ragil\\.conda\\envs\\topikenv\\lib\\site-packages (from transformers<5.0.0,>=4.41.0->sentence-transformers) (0.21.2)\n",
      "Requirement already satisfied: safetensors>=0.4.3 in c:\\users\\andi ragil\\.conda\\envs\\topikenv\\lib\\site-packages (from transformers<5.0.0,>=4.41.0->sentence-transformers) (0.5.3)\n",
      "Requirement already satisfied: fsspec>=2023.5.0 in c:\\users\\andi ragil\\.conda\\envs\\topikenv\\lib\\site-packages (from huggingface-hub>=0.20.0->sentence-transformers) (2025.7.0)\n",
      "Requirement already satisfied: numba>=0.51.2 in c:\\users\\andi ragil\\.conda\\envs\\topikenv\\lib\\site-packages (from umap-learn) (0.61.2)\n",
      "Requirement already satisfied: pynndescent>=0.5 in c:\\users\\andi ragil\\.conda\\envs\\topikenv\\lib\\site-packages (from umap-learn) (0.5.13)\n",
      "Requirement already satisfied: joblib>=1.0 in c:\\users\\andi ragil\\.conda\\envs\\topikenv\\lib\\site-packages (from hdbscan) (1.5.1)\n",
      "Requirement already satisfied: python-dateutil>=2.8.2 in c:\\users\\andi ragil\\.conda\\envs\\topikenv\\lib\\site-packages (from pandas>=1.1.5->bertopic) (2.9.0.post0)\n",
      "Requirement already satisfied: pytz>=2020.1 in c:\\users\\andi ragil\\.conda\\envs\\topikenv\\lib\\site-packages (from pandas>=1.1.5->bertopic) (2025.2)\n",
      "Requirement already satisfied: tzdata>=2022.7 in c:\\users\\andi ragil\\.conda\\envs\\topikenv\\lib\\site-packages (from pandas>=1.1.5->bertopic) (2025.2)\n",
      "Requirement already satisfied: narwhals>=1.15.1 in c:\\users\\andi ragil\\.conda\\envs\\topikenv\\lib\\site-packages (from plotly>=4.7.0->bertopic) (1.48.0)\n",
      "Requirement already satisfied: six>=1.5 in c:\\users\\andi ragil\\.conda\\envs\\topikenv\\lib\\site-packages (from python-dateutil>=2.8.2->pandas>=1.1.5->bertopic) (1.17.0)\n",
      "Requirement already satisfied: threadpoolctl>=3.1.0 in c:\\users\\andi ragil\\.conda\\envs\\topikenv\\lib\\site-packages (from scikit-learn>=1.0->bertopic) (3.6.0)\n",
      "Requirement already satisfied: sympy>=1.13.3 in c:\\users\\andi ragil\\.conda\\envs\\topikenv\\lib\\site-packages (from torch>=1.11.0->sentence-transformers) (1.14.0)\n",
      "Requirement already satisfied: networkx in c:\\users\\andi ragil\\.conda\\envs\\topikenv\\lib\\site-packages (from torch>=1.11.0->sentence-transformers) (3.5)\n",
      "Requirement already satisfied: jinja2 in c:\\users\\andi ragil\\.conda\\envs\\topikenv\\lib\\site-packages (from torch>=1.11.0->sentence-transformers) (3.1.6)\n",
      "Requirement already satisfied: setuptools in c:\\users\\andi ragil\\.conda\\envs\\topikenv\\lib\\site-packages (from torch>=1.11.0->sentence-transformers) (78.1.1)\n",
      "Requirement already satisfied: mpmath<1.4,>=1.1.0 in c:\\users\\andi ragil\\.conda\\envs\\topikenv\\lib\\site-packages (from sympy>=1.13.3->torch>=1.11.0->sentence-transformers) (1.3.0)\n",
      "Requirement already satisfied: colorama in c:\\users\\andi ragil\\.conda\\envs\\topikenv\\lib\\site-packages (from tqdm>=4.41.1->bertopic) (0.4.6)\n",
      "Requirement already satisfied: MarkupSafe>=2.0 in c:\\users\\andi ragil\\.conda\\envs\\topikenv\\lib\\site-packages (from jinja2->torch>=1.11.0->sentence-transformers) (3.0.2)\n",
      "Requirement already satisfied: charset_normalizer<4,>=2 in c:\\users\\andi ragil\\.conda\\envs\\topikenv\\lib\\site-packages (from requests->transformers<5.0.0,>=4.41.0->sentence-transformers) (3.4.2)\n",
      "Requirement already satisfied: idna<4,>=2.5 in c:\\users\\andi ragil\\.conda\\envs\\topikenv\\lib\\site-packages (from requests->transformers<5.0.0,>=4.41.0->sentence-transformers) (3.10)\n",
      "Requirement already satisfied: urllib3<3,>=1.21.1 in c:\\users\\andi ragil\\.conda\\envs\\topikenv\\lib\\site-packages (from requests->transformers<5.0.0,>=4.41.0->sentence-transformers) (2.5.0)\n",
      "Requirement already satisfied: certifi>=2017.4.17 in c:\\users\\andi ragil\\.conda\\envs\\topikenv\\lib\\site-packages (from requests->transformers<5.0.0,>=4.41.0->sentence-transformers) (2025.7.14)\n",
      "Note: you may need to restart the kernel to use updated packages.\n"
     ]
    }
   ],
   "source": [
    "%pip install bertopic sentence-transformers umap-learn hdbscan"
   ]
  },
  {
   "cell_type": "markdown",
   "id": "dd9aac4d",
   "metadata": {},
   "source": [
    "<H3>IMPORT SEMUA LIBRARY YANG DIPERLUKAN</H3> "
   ]
  },
  {
   "cell_type": "code",
   "execution_count": 108,
   "id": "0079b616",
   "metadata": {},
   "outputs": [
    {
     "name": "stdout",
     "output_type": "stream",
     "text": [
      "3.12.9 | packaged by Anaconda, Inc. | (main, Feb  6 2025, 18:49:16) [MSC v.1929 64 bit (AMD64)]\n"
     ]
    }
   ],
   "source": [
    "import sys\n",
    "print(sys.version)"
   ]
  },
  {
   "cell_type": "code",
   "execution_count": 109,
   "id": "2127462a",
   "metadata": {},
   "outputs": [],
   "source": [
    "import umap\n",
    "import pandas as pd\n",
    "from hdbscan import HDBSCAN\n",
    "from bertopic import BERTopic\n",
    "from bertopic.vectorizers import ClassTfidfTransformer\n",
    "from sklearn.feature_extraction.text import CountVectorizer\n",
    "from sentence_transformers import SentenceTransformer\n"
   ]
  },
  {
   "cell_type": "markdown",
   "id": "f7628c4f",
   "metadata": {},
   "source": [
    "<h3>INISIALISASI KOMPONEN MODEL UNTUK BERTopic</h3>"
   ]
  },
  {
   "cell_type": "code",
   "execution_count": 122,
   "id": "77c4acc6",
   "metadata": {},
   "outputs": [],
   "source": [
    "embedding_model = SentenceTransformer('paraphrase-multilingual-MiniLM-L12-v2')\n",
    "umap_model = umap.UMAP(n_neighbors=15, n_components=5, min_dist=0.1, metric='cosine', random_state=42)\n",
    "hdbscan_model = HDBSCAN(min_cluster_size=15, metric='euclidean',cluster_selection_method='eom',prediction_data=True)\n",
    "vectorizer_model = CountVectorizer()\n",
    "ctfidf_model = ClassTfidfTransformer(bm25_weighting=True, reduce_frequent_words=True)"
   ]
  },
  {
   "cell_type": "markdown",
   "id": "eaab424d",
   "metadata": {},
   "source": [
    "<H3> PEMBANGUNAN MODEL BERTopic</H3>"
   ]
  },
  {
   "cell_type": "code",
   "execution_count": 125,
   "id": "19841e48",
   "metadata": {},
   "outputs": [],
   "source": [
    "topic_model = BERTopic(\n",
    "    embedding_model=embedding_model,\n",
    "    umap_model=umap_model,\n",
    "    hdbscan_model=hdbscan_model,\n",
    "    vectorizer_model=vectorizer_model,\n",
    "    ctfidf_model=ctfidf_model,\n",
    "    language=\"indonesian\",\n",
    "    top_n_words=10,\n",
    "    nr_topics=10,\n",
    "    min_topic_size=50, \n",
    "    calculate_probabilities=True,\n",
    "    verbose=True,\n",
    ")"
   ]
  },
  {
   "cell_type": "markdown",
   "id": "bcefc079",
   "metadata": {},
   "source": [
    "<h3>FIT TRANSFORM BERTopic</h3>"
   ]
  },
  {
   "cell_type": "code",
   "execution_count": 126,
   "id": "1e48619f",
   "metadata": {},
   "outputs": [
    {
     "name": "stderr",
     "output_type": "stream",
     "text": [
      "2025-07-23 07:55:39,024 - BERTopic - Embedding - Transforming documents to embeddings.\n",
      "Batches: 100%|██████████| 293/293 [01:29<00:00,  3.28it/s]\n",
      "2025-07-23 07:57:08,541 - BERTopic - Embedding - Completed ✓\n",
      "2025-07-23 07:57:08,542 - BERTopic - Dimensionality - Fitting the dimensionality reduction algorithm\n",
      "2025-07-23 07:57:21,935 - BERTopic - Dimensionality - Completed ✓\n",
      "2025-07-23 07:57:21,936 - BERTopic - Cluster - Start clustering the reduced embeddings\n",
      "2025-07-23 07:57:22,728 - BERTopic - Cluster - Completed ✓\n",
      "2025-07-23 07:57:22,728 - BERTopic - Representation - Extracting topics using c-TF-IDF for topic reduction.\n",
      "2025-07-23 07:57:22,902 - BERTopic - Representation - Completed ✓\n",
      "2025-07-23 07:57:22,903 - BERTopic - Topic reduction - Reducing number of topics\n",
      "2025-07-23 07:57:22,934 - BERTopic - Representation - Fine-tuning topics using representation models.\n",
      "2025-07-23 07:57:23,064 - BERTopic - Representation - Completed ✓\n",
      "2025-07-23 07:57:23,066 - BERTopic - Topic reduction - Reduced number of topics from 29 to 10\n"
     ]
    }
   ],
   "source": [
    "topics, probs = topic_model.fit_transform(df['final_text'])"
   ]
  },
  {
   "cell_type": "markdown",
   "id": "901a1545",
   "metadata": {},
   "source": [
    "<H3>VISUALISASI PERSEBARAN TOPIK</H3>"
   ]
  },
  {
   "cell_type": "code",
   "execution_count": 127,
   "id": "998753c1",
   "metadata": {},
   "outputs": [
    {
     "data": {
      "application/vnd.plotly.v1+json": {
       "config": {
        "plotlyServerURL": "https://plot.ly"
       },
       "data": [
        {
         "customdata": [
          [
           0,
           "aplikasi | game | buka | jaringan | ping",
           1826
          ],
          [
           1,
           "kartu | pembayaran | beli | sim | masuk",
           881
          ],
          [
           2,
           "sinyal | sinyalnya | ilang | hilang | tiba",
           767
          ],
          [
           3,
           "mbps | unlimited | fup | kbps | kecepatan",
           417
          ],
          [
           4,
           "mudah | harga | bagus | murah | promo",
           219
          ],
          [
           5,
           "youtube | nonton | instagram | topping | lancar",
           176
          ],
          [
           6,
           "tetep | udh | gabisa | bener | ga",
           162
          ],
          [
           7,
           "login | log | ulang | server | nomor",
           129
          ],
          [
           8,
           "virtual | account | bca | pembayaran | berhasil",
           29
          ]
         ],
         "hovertemplate": "<b>Topic %{customdata[0]}</b><br>%{customdata[1]}<br>Size: %{customdata[2]}",
         "legendgroup": "",
         "marker": {
          "color": "#B0BEC5",
          "line": {
           "color": "DarkSlateGrey",
           "width": 2
          },
          "size": {
           "bdata": "IgdxA/8CoQHbALAAogCBAB0A",
           "dtype": "i2"
          },
          "sizemode": "area",
          "sizeref": 1.14125,
          "symbol": "circle"
         },
         "mode": "markers",
         "name": "",
         "orientation": "v",
         "showlegend": false,
         "type": "scatter",
         "x": {
          "bdata": "fgAAQG1Vqj9nYhFAaKVTQACQeECDrRxA4tmFPz9Kd0DrCoQ/",
          "dtype": "f4"
         },
         "xaxis": "x",
         "y": {
          "bdata": "wDxHQIZWakCjpxVA4BtKQDcbFkBzwklA3yVGQNhTiUCnSoJA",
          "dtype": "f4"
         },
         "yaxis": "y"
        }
       ],
       "layout": {
        "annotations": [
         {
          "showarrow": false,
          "text": "D1",
          "x": 0.8768457114696503,
          "y": 3.4614053905010227,
          "yshift": 10
         },
         {
          "showarrow": false,
          "text": "D2",
          "x": 2.6716015666723254,
          "xshift": 10,
          "y": 4.935207557678223
         }
        ],
        "height": 650,
        "hoverlabel": {
         "bgcolor": "white",
         "font": {
          "family": "Rockwell",
          "size": 16
         }
        },
        "legend": {
         "itemsizing": "constant",
         "tracegroupgap": 0
        },
        "margin": {
         "t": 60
        },
        "shapes": [
         {
          "line": {
           "color": "#CFD8DC",
           "width": 2
          },
          "type": "line",
          "x0": 2.6716015666723254,
          "x1": 2.6716015666723254,
          "y0": 1.987603223323822,
          "y1": 4.935207557678223
         },
         {
          "line": {
           "color": "#9E9E9E",
           "width": 2
          },
          "type": "line",
          "x0": 0.8768457114696503,
          "x1": 4.466357421875,
          "y0": 3.4614053905010227,
          "y1": 3.4614053905010227
         }
        ],
        "sliders": [
         {
          "active": 0,
          "pad": {
           "t": 50
          },
          "steps": [
           {
            "args": [
             {
              "marker.color": [
               [
                "red",
                "#B0BEC5",
                "#B0BEC5",
                "#B0BEC5",
                "#B0BEC5",
                "#B0BEC5",
                "#B0BEC5",
                "#B0BEC5",
                "#B0BEC5"
               ]
              ]
             }
            ],
            "label": "Topic 0",
            "method": "update"
           },
           {
            "args": [
             {
              "marker.color": [
               [
                "#B0BEC5",
                "red",
                "#B0BEC5",
                "#B0BEC5",
                "#B0BEC5",
                "#B0BEC5",
                "#B0BEC5",
                "#B0BEC5",
                "#B0BEC5"
               ]
              ]
             }
            ],
            "label": "Topic 1",
            "method": "update"
           },
           {
            "args": [
             {
              "marker.color": [
               [
                "#B0BEC5",
                "#B0BEC5",
                "red",
                "#B0BEC5",
                "#B0BEC5",
                "#B0BEC5",
                "#B0BEC5",
                "#B0BEC5",
                "#B0BEC5"
               ]
              ]
             }
            ],
            "label": "Topic 2",
            "method": "update"
           },
           {
            "args": [
             {
              "marker.color": [
               [
                "#B0BEC5",
                "#B0BEC5",
                "#B0BEC5",
                "red",
                "#B0BEC5",
                "#B0BEC5",
                "#B0BEC5",
                "#B0BEC5",
                "#B0BEC5"
               ]
              ]
             }
            ],
            "label": "Topic 3",
            "method": "update"
           },
           {
            "args": [
             {
              "marker.color": [
               [
                "#B0BEC5",
                "#B0BEC5",
                "#B0BEC5",
                "#B0BEC5",
                "red",
                "#B0BEC5",
                "#B0BEC5",
                "#B0BEC5",
                "#B0BEC5"
               ]
              ]
             }
            ],
            "label": "Topic 4",
            "method": "update"
           },
           {
            "args": [
             {
              "marker.color": [
               [
                "#B0BEC5",
                "#B0BEC5",
                "#B0BEC5",
                "#B0BEC5",
                "#B0BEC5",
                "red",
                "#B0BEC5",
                "#B0BEC5",
                "#B0BEC5"
               ]
              ]
             }
            ],
            "label": "Topic 5",
            "method": "update"
           },
           {
            "args": [
             {
              "marker.color": [
               [
                "#B0BEC5",
                "#B0BEC5",
                "#B0BEC5",
                "#B0BEC5",
                "#B0BEC5",
                "#B0BEC5",
                "red",
                "#B0BEC5",
                "#B0BEC5"
               ]
              ]
             }
            ],
            "label": "Topic 6",
            "method": "update"
           },
           {
            "args": [
             {
              "marker.color": [
               [
                "#B0BEC5",
                "#B0BEC5",
                "#B0BEC5",
                "#B0BEC5",
                "#B0BEC5",
                "#B0BEC5",
                "#B0BEC5",
                "red",
                "#B0BEC5"
               ]
              ]
             }
            ],
            "label": "Topic 7",
            "method": "update"
           },
           {
            "args": [
             {
              "marker.color": [
               [
                "#B0BEC5",
                "#B0BEC5",
                "#B0BEC5",
                "#B0BEC5",
                "#B0BEC5",
                "#B0BEC5",
                "#B0BEC5",
                "#B0BEC5",
                "red"
               ]
              ]
             }
            ],
            "label": "Topic 8",
            "method": "update"
           }
          ]
         }
        ],
        "template": {
         "data": {
          "bar": [
           {
            "error_x": {
             "color": "rgb(36,36,36)"
            },
            "error_y": {
             "color": "rgb(36,36,36)"
            },
            "marker": {
             "line": {
              "color": "white",
              "width": 0.5
             },
             "pattern": {
              "fillmode": "overlay",
              "size": 10,
              "solidity": 0.2
             }
            },
            "type": "bar"
           }
          ],
          "barpolar": [
           {
            "marker": {
             "line": {
              "color": "white",
              "width": 0.5
             },
             "pattern": {
              "fillmode": "overlay",
              "size": 10,
              "solidity": 0.2
             }
            },
            "type": "barpolar"
           }
          ],
          "carpet": [
           {
            "aaxis": {
             "endlinecolor": "rgb(36,36,36)",
             "gridcolor": "white",
             "linecolor": "white",
             "minorgridcolor": "white",
             "startlinecolor": "rgb(36,36,36)"
            },
            "baxis": {
             "endlinecolor": "rgb(36,36,36)",
             "gridcolor": "white",
             "linecolor": "white",
             "minorgridcolor": "white",
             "startlinecolor": "rgb(36,36,36)"
            },
            "type": "carpet"
           }
          ],
          "choropleth": [
           {
            "colorbar": {
             "outlinewidth": 1,
             "tickcolor": "rgb(36,36,36)",
             "ticks": "outside"
            },
            "type": "choropleth"
           }
          ],
          "contour": [
           {
            "colorbar": {
             "outlinewidth": 1,
             "tickcolor": "rgb(36,36,36)",
             "ticks": "outside"
            },
            "colorscale": [
             [
              0,
              "#440154"
             ],
             [
              0.1111111111111111,
              "#482878"
             ],
             [
              0.2222222222222222,
              "#3e4989"
             ],
             [
              0.3333333333333333,
              "#31688e"
             ],
             [
              0.4444444444444444,
              "#26828e"
             ],
             [
              0.5555555555555556,
              "#1f9e89"
             ],
             [
              0.6666666666666666,
              "#35b779"
             ],
             [
              0.7777777777777778,
              "#6ece58"
             ],
             [
              0.8888888888888888,
              "#b5de2b"
             ],
             [
              1,
              "#fde725"
             ]
            ],
            "type": "contour"
           }
          ],
          "contourcarpet": [
           {
            "colorbar": {
             "outlinewidth": 1,
             "tickcolor": "rgb(36,36,36)",
             "ticks": "outside"
            },
            "type": "contourcarpet"
           }
          ],
          "heatmap": [
           {
            "colorbar": {
             "outlinewidth": 1,
             "tickcolor": "rgb(36,36,36)",
             "ticks": "outside"
            },
            "colorscale": [
             [
              0,
              "#440154"
             ],
             [
              0.1111111111111111,
              "#482878"
             ],
             [
              0.2222222222222222,
              "#3e4989"
             ],
             [
              0.3333333333333333,
              "#31688e"
             ],
             [
              0.4444444444444444,
              "#26828e"
             ],
             [
              0.5555555555555556,
              "#1f9e89"
             ],
             [
              0.6666666666666666,
              "#35b779"
             ],
             [
              0.7777777777777778,
              "#6ece58"
             ],
             [
              0.8888888888888888,
              "#b5de2b"
             ],
             [
              1,
              "#fde725"
             ]
            ],
            "type": "heatmap"
           }
          ],
          "histogram": [
           {
            "marker": {
             "line": {
              "color": "white",
              "width": 0.6
             }
            },
            "type": "histogram"
           }
          ],
          "histogram2d": [
           {
            "colorbar": {
             "outlinewidth": 1,
             "tickcolor": "rgb(36,36,36)",
             "ticks": "outside"
            },
            "colorscale": [
             [
              0,
              "#440154"
             ],
             [
              0.1111111111111111,
              "#482878"
             ],
             [
              0.2222222222222222,
              "#3e4989"
             ],
             [
              0.3333333333333333,
              "#31688e"
             ],
             [
              0.4444444444444444,
              "#26828e"
             ],
             [
              0.5555555555555556,
              "#1f9e89"
             ],
             [
              0.6666666666666666,
              "#35b779"
             ],
             [
              0.7777777777777778,
              "#6ece58"
             ],
             [
              0.8888888888888888,
              "#b5de2b"
             ],
             [
              1,
              "#fde725"
             ]
            ],
            "type": "histogram2d"
           }
          ],
          "histogram2dcontour": [
           {
            "colorbar": {
             "outlinewidth": 1,
             "tickcolor": "rgb(36,36,36)",
             "ticks": "outside"
            },
            "colorscale": [
             [
              0,
              "#440154"
             ],
             [
              0.1111111111111111,
              "#482878"
             ],
             [
              0.2222222222222222,
              "#3e4989"
             ],
             [
              0.3333333333333333,
              "#31688e"
             ],
             [
              0.4444444444444444,
              "#26828e"
             ],
             [
              0.5555555555555556,
              "#1f9e89"
             ],
             [
              0.6666666666666666,
              "#35b779"
             ],
             [
              0.7777777777777778,
              "#6ece58"
             ],
             [
              0.8888888888888888,
              "#b5de2b"
             ],
             [
              1,
              "#fde725"
             ]
            ],
            "type": "histogram2dcontour"
           }
          ],
          "mesh3d": [
           {
            "colorbar": {
             "outlinewidth": 1,
             "tickcolor": "rgb(36,36,36)",
             "ticks": "outside"
            },
            "type": "mesh3d"
           }
          ],
          "parcoords": [
           {
            "line": {
             "colorbar": {
              "outlinewidth": 1,
              "tickcolor": "rgb(36,36,36)",
              "ticks": "outside"
             }
            },
            "type": "parcoords"
           }
          ],
          "pie": [
           {
            "automargin": true,
            "type": "pie"
           }
          ],
          "scatter": [
           {
            "fillpattern": {
             "fillmode": "overlay",
             "size": 10,
             "solidity": 0.2
            },
            "type": "scatter"
           }
          ],
          "scatter3d": [
           {
            "line": {
             "colorbar": {
              "outlinewidth": 1,
              "tickcolor": "rgb(36,36,36)",
              "ticks": "outside"
             }
            },
            "marker": {
             "colorbar": {
              "outlinewidth": 1,
              "tickcolor": "rgb(36,36,36)",
              "ticks": "outside"
             }
            },
            "type": "scatter3d"
           }
          ],
          "scattercarpet": [
           {
            "marker": {
             "colorbar": {
              "outlinewidth": 1,
              "tickcolor": "rgb(36,36,36)",
              "ticks": "outside"
             }
            },
            "type": "scattercarpet"
           }
          ],
          "scattergeo": [
           {
            "marker": {
             "colorbar": {
              "outlinewidth": 1,
              "tickcolor": "rgb(36,36,36)",
              "ticks": "outside"
             }
            },
            "type": "scattergeo"
           }
          ],
          "scattergl": [
           {
            "marker": {
             "colorbar": {
              "outlinewidth": 1,
              "tickcolor": "rgb(36,36,36)",
              "ticks": "outside"
             }
            },
            "type": "scattergl"
           }
          ],
          "scattermap": [
           {
            "marker": {
             "colorbar": {
              "outlinewidth": 1,
              "tickcolor": "rgb(36,36,36)",
              "ticks": "outside"
             }
            },
            "type": "scattermap"
           }
          ],
          "scattermapbox": [
           {
            "marker": {
             "colorbar": {
              "outlinewidth": 1,
              "tickcolor": "rgb(36,36,36)",
              "ticks": "outside"
             }
            },
            "type": "scattermapbox"
           }
          ],
          "scatterpolar": [
           {
            "marker": {
             "colorbar": {
              "outlinewidth": 1,
              "tickcolor": "rgb(36,36,36)",
              "ticks": "outside"
             }
            },
            "type": "scatterpolar"
           }
          ],
          "scatterpolargl": [
           {
            "marker": {
             "colorbar": {
              "outlinewidth": 1,
              "tickcolor": "rgb(36,36,36)",
              "ticks": "outside"
             }
            },
            "type": "scatterpolargl"
           }
          ],
          "scatterternary": [
           {
            "marker": {
             "colorbar": {
              "outlinewidth": 1,
              "tickcolor": "rgb(36,36,36)",
              "ticks": "outside"
             }
            },
            "type": "scatterternary"
           }
          ],
          "surface": [
           {
            "colorbar": {
             "outlinewidth": 1,
             "tickcolor": "rgb(36,36,36)",
             "ticks": "outside"
            },
            "colorscale": [
             [
              0,
              "#440154"
             ],
             [
              0.1111111111111111,
              "#482878"
             ],
             [
              0.2222222222222222,
              "#3e4989"
             ],
             [
              0.3333333333333333,
              "#31688e"
             ],
             [
              0.4444444444444444,
              "#26828e"
             ],
             [
              0.5555555555555556,
              "#1f9e89"
             ],
             [
              0.6666666666666666,
              "#35b779"
             ],
             [
              0.7777777777777778,
              "#6ece58"
             ],
             [
              0.8888888888888888,
              "#b5de2b"
             ],
             [
              1,
              "#fde725"
             ]
            ],
            "type": "surface"
           }
          ],
          "table": [
           {
            "cells": {
             "fill": {
              "color": "rgb(237,237,237)"
             },
             "line": {
              "color": "white"
             }
            },
            "header": {
             "fill": {
              "color": "rgb(217,217,217)"
             },
             "line": {
              "color": "white"
             }
            },
            "type": "table"
           }
          ]
         },
         "layout": {
          "annotationdefaults": {
           "arrowhead": 0,
           "arrowwidth": 1
          },
          "autotypenumbers": "strict",
          "coloraxis": {
           "colorbar": {
            "outlinewidth": 1,
            "tickcolor": "rgb(36,36,36)",
            "ticks": "outside"
           }
          },
          "colorscale": {
           "diverging": [
            [
             0,
             "rgb(103,0,31)"
            ],
            [
             0.1,
             "rgb(178,24,43)"
            ],
            [
             0.2,
             "rgb(214,96,77)"
            ],
            [
             0.3,
             "rgb(244,165,130)"
            ],
            [
             0.4,
             "rgb(253,219,199)"
            ],
            [
             0.5,
             "rgb(247,247,247)"
            ],
            [
             0.6,
             "rgb(209,229,240)"
            ],
            [
             0.7,
             "rgb(146,197,222)"
            ],
            [
             0.8,
             "rgb(67,147,195)"
            ],
            [
             0.9,
             "rgb(33,102,172)"
            ],
            [
             1,
             "rgb(5,48,97)"
            ]
           ],
           "sequential": [
            [
             0,
             "#440154"
            ],
            [
             0.1111111111111111,
             "#482878"
            ],
            [
             0.2222222222222222,
             "#3e4989"
            ],
            [
             0.3333333333333333,
             "#31688e"
            ],
            [
             0.4444444444444444,
             "#26828e"
            ],
            [
             0.5555555555555556,
             "#1f9e89"
            ],
            [
             0.6666666666666666,
             "#35b779"
            ],
            [
             0.7777777777777778,
             "#6ece58"
            ],
            [
             0.8888888888888888,
             "#b5de2b"
            ],
            [
             1,
             "#fde725"
            ]
           ],
           "sequentialminus": [
            [
             0,
             "#440154"
            ],
            [
             0.1111111111111111,
             "#482878"
            ],
            [
             0.2222222222222222,
             "#3e4989"
            ],
            [
             0.3333333333333333,
             "#31688e"
            ],
            [
             0.4444444444444444,
             "#26828e"
            ],
            [
             0.5555555555555556,
             "#1f9e89"
            ],
            [
             0.6666666666666666,
             "#35b779"
            ],
            [
             0.7777777777777778,
             "#6ece58"
            ],
            [
             0.8888888888888888,
             "#b5de2b"
            ],
            [
             1,
             "#fde725"
            ]
           ]
          },
          "colorway": [
           "#1F77B4",
           "#FF7F0E",
           "#2CA02C",
           "#D62728",
           "#9467BD",
           "#8C564B",
           "#E377C2",
           "#7F7F7F",
           "#BCBD22",
           "#17BECF"
          ],
          "font": {
           "color": "rgb(36,36,36)"
          },
          "geo": {
           "bgcolor": "white",
           "lakecolor": "white",
           "landcolor": "white",
           "showlakes": true,
           "showland": true,
           "subunitcolor": "white"
          },
          "hoverlabel": {
           "align": "left"
          },
          "hovermode": "closest",
          "mapbox": {
           "style": "light"
          },
          "paper_bgcolor": "white",
          "plot_bgcolor": "white",
          "polar": {
           "angularaxis": {
            "gridcolor": "rgb(232,232,232)",
            "linecolor": "rgb(36,36,36)",
            "showgrid": false,
            "showline": true,
            "ticks": "outside"
           },
           "bgcolor": "white",
           "radialaxis": {
            "gridcolor": "rgb(232,232,232)",
            "linecolor": "rgb(36,36,36)",
            "showgrid": false,
            "showline": true,
            "ticks": "outside"
           }
          },
          "scene": {
           "xaxis": {
            "backgroundcolor": "white",
            "gridcolor": "rgb(232,232,232)",
            "gridwidth": 2,
            "linecolor": "rgb(36,36,36)",
            "showbackground": true,
            "showgrid": false,
            "showline": true,
            "ticks": "outside",
            "zeroline": false,
            "zerolinecolor": "rgb(36,36,36)"
           },
           "yaxis": {
            "backgroundcolor": "white",
            "gridcolor": "rgb(232,232,232)",
            "gridwidth": 2,
            "linecolor": "rgb(36,36,36)",
            "showbackground": true,
            "showgrid": false,
            "showline": true,
            "ticks": "outside",
            "zeroline": false,
            "zerolinecolor": "rgb(36,36,36)"
           },
           "zaxis": {
            "backgroundcolor": "white",
            "gridcolor": "rgb(232,232,232)",
            "gridwidth": 2,
            "linecolor": "rgb(36,36,36)",
            "showbackground": true,
            "showgrid": false,
            "showline": true,
            "ticks": "outside",
            "zeroline": false,
            "zerolinecolor": "rgb(36,36,36)"
           }
          },
          "shapedefaults": {
           "fillcolor": "black",
           "line": {
            "width": 0
           },
           "opacity": 0.3
          },
          "ternary": {
           "aaxis": {
            "gridcolor": "rgb(232,232,232)",
            "linecolor": "rgb(36,36,36)",
            "showgrid": false,
            "showline": true,
            "ticks": "outside"
           },
           "baxis": {
            "gridcolor": "rgb(232,232,232)",
            "linecolor": "rgb(36,36,36)",
            "showgrid": false,
            "showline": true,
            "ticks": "outside"
           },
           "bgcolor": "white",
           "caxis": {
            "gridcolor": "rgb(232,232,232)",
            "linecolor": "rgb(36,36,36)",
            "showgrid": false,
            "showline": true,
            "ticks": "outside"
           }
          },
          "title": {
           "x": 0.05
          },
          "xaxis": {
           "automargin": true,
           "gridcolor": "rgb(232,232,232)",
           "linecolor": "rgb(36,36,36)",
           "showgrid": false,
           "showline": true,
           "ticks": "outside",
           "title": {
            "standoff": 15
           },
           "zeroline": false,
           "zerolinecolor": "rgb(36,36,36)"
          },
          "yaxis": {
           "automargin": true,
           "gridcolor": "rgb(232,232,232)",
           "linecolor": "rgb(36,36,36)",
           "showgrid": false,
           "showline": true,
           "ticks": "outside",
           "title": {
            "standoff": 15
           },
           "zeroline": false,
           "zerolinecolor": "rgb(36,36,36)"
          }
         }
        },
        "title": {
         "font": {
          "color": "Black",
          "size": 22
         },
         "text": "<b>Intertopic Distance Map</b>",
         "x": 0.5,
         "xanchor": "center",
         "y": 0.95,
         "yanchor": "top"
        },
        "width": 650,
        "xaxis": {
         "anchor": "y",
         "domain": [
          0,
          1
         ],
         "range": [
          0.8768457114696503,
          4.466357421875
         ],
         "title": {
          "text": ""
         },
         "visible": false
        },
        "yaxis": {
         "anchor": "x",
         "domain": [
          0,
          1
         ],
         "range": [
          1.987603223323822,
          4.935207557678223
         ],
         "title": {
          "text": ""
         },
         "visible": false
        }
       }
      }
     },
     "metadata": {},
     "output_type": "display_data"
    }
   ],
   "source": [
    "topic_model.visualize_topics()"
   ]
  },
  {
   "cell_type": "markdown",
   "id": "8edf736a",
   "metadata": {},
   "source": [
    "<h3>VISUALISASI BARCHART</h3>"
   ]
  },
  {
   "cell_type": "code",
   "execution_count": 128,
   "id": "3c97fcf7",
   "metadata": {},
   "outputs": [
    {
     "data": {
      "application/vnd.plotly.v1+json": {
       "config": {
        "plotlyServerURL": "https://plot.ly"
       },
       "data": [
        {
         "marker": {
          "color": "#D55E00"
         },
         "orientation": "h",
         "type": "bar",
         "x": [
          0.2957666977809666,
          0.2962803719219081,
          0.2995298156778291,
          0.3087424143269439,
          0.3194117862144449
         ],
         "xaxis": "x",
         "y": [
          "ping  ",
          "jaringan  ",
          "buka  ",
          "game  ",
          "aplikasi  "
         ],
         "yaxis": "y"
        },
        {
         "marker": {
          "color": "#0072B2"
         },
         "orientation": "h",
         "type": "bar",
         "x": [
          0.3060515426322195,
          0.32396817449751675,
          0.32482696397022054,
          0.33807854617726335,
          0.3805255675274438
         ],
         "xaxis": "x2",
         "y": [
          "masuk  ",
          "sim  ",
          "beli  ",
          "pembayaran  ",
          "kartu  "
         ],
         "yaxis": "y2"
        },
        {
         "marker": {
          "color": "#CC79A7"
         },
         "orientation": "h",
         "type": "bar",
         "x": [
          0.30079379573115916,
          0.3161531643143213,
          0.334643405071301,
          0.39980869786295814,
          0.4749038646593776
         ],
         "xaxis": "x3",
         "y": [
          "tiba  ",
          "hilang  ",
          "ilang  ",
          "sinyalnya  ",
          "sinyal  "
         ],
         "yaxis": "y3"
        },
        {
         "marker": {
          "color": "#E69F00"
         },
         "orientation": "h",
         "type": "bar",
         "x": [
          0.4366106746206441,
          0.447715098345712,
          0.4794169976767615,
          0.5577381190783353,
          0.6361744475518608
         ],
         "xaxis": "x4",
         "y": [
          "kecepatan  ",
          "kbps  ",
          "fup  ",
          "unlimited  ",
          "mbps  "
         ],
         "yaxis": "y4"
        },
        {
         "marker": {
          "color": "#56B4E9"
         },
         "orientation": "h",
         "type": "bar",
         "x": [
          0.39396785123823963,
          0.39528887221303594,
          0.40122171495218556,
          0.40846860772898835,
          0.43095838010707394
         ],
         "xaxis": "x5",
         "y": [
          "promo  ",
          "murah  ",
          "bagus  ",
          "harga  ",
          "mudah  "
         ],
         "yaxis": "y5"
        },
        {
         "marker": {
          "color": "#009E73"
         },
         "orientation": "h",
         "type": "bar",
         "x": [
          0.3472700560326989,
          0.3593156790850149,
          0.3739966415794582,
          0.38392523053548916,
          0.7045010155802621
         ],
         "xaxis": "x6",
         "y": [
          "lancar  ",
          "topping  ",
          "instagram  ",
          "nonton  ",
          "youtube  "
         ],
         "yaxis": "y6"
        },
        {
         "marker": {
          "color": "#F0E442"
         },
         "orientation": "h",
         "type": "bar",
         "x": [
          0.2814960116927055,
          0.3002559268852322,
          0.3175667690680219,
          0.3322779741160163,
          0.3334312124205111
         ],
         "xaxis": "x7",
         "y": [
          "ga  ",
          "bener  ",
          "gabisa  ",
          "udh  ",
          "tetep  "
         ],
         "yaxis": "y7"
        },
        {
         "marker": {
          "color": "#D55E00"
         },
         "orientation": "h",
         "type": "bar",
         "x": [
          0.41983661488929286,
          0.4325794618686213,
          0.44116697600835125,
          0.4570977961266845,
          0.8964990255351757
         ],
         "xaxis": "x8",
         "y": [
          "nomor  ",
          "server  ",
          "ulang  ",
          "log  ",
          "login  "
         ],
         "yaxis": "y8"
        },
        {
         "marker": {
          "color": "#0072B2"
         },
         "orientation": "h",
         "type": "bar",
         "x": [
          0.549756243313829,
          0.5711227602905379,
          0.5982239363383886,
          1.0951640965574443,
          1.1515142273734524
         ],
         "xaxis": "x9",
         "y": [
          "berhasil  ",
          "pembayaran  ",
          "bca  ",
          "account  ",
          "virtual  "
         ],
         "yaxis": "y9"
        }
       ],
       "layout": {
        "annotations": [
         {
          "font": {
           "size": 16
          },
          "showarrow": false,
          "text": "Topic 0",
          "x": 0.0875,
          "xanchor": "center",
          "xref": "paper",
          "y": 1,
          "yanchor": "bottom",
          "yref": "paper"
         },
         {
          "font": {
           "size": 16
          },
          "showarrow": false,
          "text": "Topic 1",
          "x": 0.36250000000000004,
          "xanchor": "center",
          "xref": "paper",
          "y": 1,
          "yanchor": "bottom",
          "yref": "paper"
         },
         {
          "font": {
           "size": 16
          },
          "showarrow": false,
          "text": "Topic 2",
          "x": 0.6375000000000001,
          "xanchor": "center",
          "xref": "paper",
          "y": 1,
          "yanchor": "bottom",
          "yref": "paper"
         },
         {
          "font": {
           "size": 16
          },
          "showarrow": false,
          "text": "Topic 3",
          "x": 0.9125,
          "xanchor": "center",
          "xref": "paper",
          "y": 1,
          "yanchor": "bottom",
          "yref": "paper"
         },
         {
          "font": {
           "size": 16
          },
          "showarrow": false,
          "text": "Topic 4",
          "x": 0.0875,
          "xanchor": "center",
          "xref": "paper",
          "y": 0.6222222222222222,
          "yanchor": "bottom",
          "yref": "paper"
         },
         {
          "font": {
           "size": 16
          },
          "showarrow": false,
          "text": "Topic 5",
          "x": 0.36250000000000004,
          "xanchor": "center",
          "xref": "paper",
          "y": 0.6222222222222222,
          "yanchor": "bottom",
          "yref": "paper"
         },
         {
          "font": {
           "size": 16
          },
          "showarrow": false,
          "text": "Topic 6",
          "x": 0.6375000000000001,
          "xanchor": "center",
          "xref": "paper",
          "y": 0.6222222222222222,
          "yanchor": "bottom",
          "yref": "paper"
         },
         {
          "font": {
           "size": 16
          },
          "showarrow": false,
          "text": "Topic 7",
          "x": 0.9125,
          "xanchor": "center",
          "xref": "paper",
          "y": 0.6222222222222222,
          "yanchor": "bottom",
          "yref": "paper"
         },
         {
          "font": {
           "size": 16
          },
          "showarrow": false,
          "text": "Topic 8",
          "x": 0.0875,
          "xanchor": "center",
          "xref": "paper",
          "y": 0.24444444444444446,
          "yanchor": "bottom",
          "yref": "paper"
         }
        ],
        "height": 750,
        "hoverlabel": {
         "bgcolor": "white",
         "font": {
          "family": "Rockwell",
          "size": 16
         }
        },
        "showlegend": false,
        "template": {
         "data": {
          "bar": [
           {
            "error_x": {
             "color": "#2a3f5f"
            },
            "error_y": {
             "color": "#2a3f5f"
            },
            "marker": {
             "line": {
              "color": "white",
              "width": 0.5
             },
             "pattern": {
              "fillmode": "overlay",
              "size": 10,
              "solidity": 0.2
             }
            },
            "type": "bar"
           }
          ],
          "barpolar": [
           {
            "marker": {
             "line": {
              "color": "white",
              "width": 0.5
             },
             "pattern": {
              "fillmode": "overlay",
              "size": 10,
              "solidity": 0.2
             }
            },
            "type": "barpolar"
           }
          ],
          "carpet": [
           {
            "aaxis": {
             "endlinecolor": "#2a3f5f",
             "gridcolor": "#C8D4E3",
             "linecolor": "#C8D4E3",
             "minorgridcolor": "#C8D4E3",
             "startlinecolor": "#2a3f5f"
            },
            "baxis": {
             "endlinecolor": "#2a3f5f",
             "gridcolor": "#C8D4E3",
             "linecolor": "#C8D4E3",
             "minorgridcolor": "#C8D4E3",
             "startlinecolor": "#2a3f5f"
            },
            "type": "carpet"
           }
          ],
          "choropleth": [
           {
            "colorbar": {
             "outlinewidth": 0,
             "ticks": ""
            },
            "type": "choropleth"
           }
          ],
          "contour": [
           {
            "colorbar": {
             "outlinewidth": 0,
             "ticks": ""
            },
            "colorscale": [
             [
              0,
              "#0d0887"
             ],
             [
              0.1111111111111111,
              "#46039f"
             ],
             [
              0.2222222222222222,
              "#7201a8"
             ],
             [
              0.3333333333333333,
              "#9c179e"
             ],
             [
              0.4444444444444444,
              "#bd3786"
             ],
             [
              0.5555555555555556,
              "#d8576b"
             ],
             [
              0.6666666666666666,
              "#ed7953"
             ],
             [
              0.7777777777777778,
              "#fb9f3a"
             ],
             [
              0.8888888888888888,
              "#fdca26"
             ],
             [
              1,
              "#f0f921"
             ]
            ],
            "type": "contour"
           }
          ],
          "contourcarpet": [
           {
            "colorbar": {
             "outlinewidth": 0,
             "ticks": ""
            },
            "type": "contourcarpet"
           }
          ],
          "heatmap": [
           {
            "colorbar": {
             "outlinewidth": 0,
             "ticks": ""
            },
            "colorscale": [
             [
              0,
              "#0d0887"
             ],
             [
              0.1111111111111111,
              "#46039f"
             ],
             [
              0.2222222222222222,
              "#7201a8"
             ],
             [
              0.3333333333333333,
              "#9c179e"
             ],
             [
              0.4444444444444444,
              "#bd3786"
             ],
             [
              0.5555555555555556,
              "#d8576b"
             ],
             [
              0.6666666666666666,
              "#ed7953"
             ],
             [
              0.7777777777777778,
              "#fb9f3a"
             ],
             [
              0.8888888888888888,
              "#fdca26"
             ],
             [
              1,
              "#f0f921"
             ]
            ],
            "type": "heatmap"
           }
          ],
          "histogram": [
           {
            "marker": {
             "pattern": {
              "fillmode": "overlay",
              "size": 10,
              "solidity": 0.2
             }
            },
            "type": "histogram"
           }
          ],
          "histogram2d": [
           {
            "colorbar": {
             "outlinewidth": 0,
             "ticks": ""
            },
            "colorscale": [
             [
              0,
              "#0d0887"
             ],
             [
              0.1111111111111111,
              "#46039f"
             ],
             [
              0.2222222222222222,
              "#7201a8"
             ],
             [
              0.3333333333333333,
              "#9c179e"
             ],
             [
              0.4444444444444444,
              "#bd3786"
             ],
             [
              0.5555555555555556,
              "#d8576b"
             ],
             [
              0.6666666666666666,
              "#ed7953"
             ],
             [
              0.7777777777777778,
              "#fb9f3a"
             ],
             [
              0.8888888888888888,
              "#fdca26"
             ],
             [
              1,
              "#f0f921"
             ]
            ],
            "type": "histogram2d"
           }
          ],
          "histogram2dcontour": [
           {
            "colorbar": {
             "outlinewidth": 0,
             "ticks": ""
            },
            "colorscale": [
             [
              0,
              "#0d0887"
             ],
             [
              0.1111111111111111,
              "#46039f"
             ],
             [
              0.2222222222222222,
              "#7201a8"
             ],
             [
              0.3333333333333333,
              "#9c179e"
             ],
             [
              0.4444444444444444,
              "#bd3786"
             ],
             [
              0.5555555555555556,
              "#d8576b"
             ],
             [
              0.6666666666666666,
              "#ed7953"
             ],
             [
              0.7777777777777778,
              "#fb9f3a"
             ],
             [
              0.8888888888888888,
              "#fdca26"
             ],
             [
              1,
              "#f0f921"
             ]
            ],
            "type": "histogram2dcontour"
           }
          ],
          "mesh3d": [
           {
            "colorbar": {
             "outlinewidth": 0,
             "ticks": ""
            },
            "type": "mesh3d"
           }
          ],
          "parcoords": [
           {
            "line": {
             "colorbar": {
              "outlinewidth": 0,
              "ticks": ""
             }
            },
            "type": "parcoords"
           }
          ],
          "pie": [
           {
            "automargin": true,
            "type": "pie"
           }
          ],
          "scatter": [
           {
            "fillpattern": {
             "fillmode": "overlay",
             "size": 10,
             "solidity": 0.2
            },
            "type": "scatter"
           }
          ],
          "scatter3d": [
           {
            "line": {
             "colorbar": {
              "outlinewidth": 0,
              "ticks": ""
             }
            },
            "marker": {
             "colorbar": {
              "outlinewidth": 0,
              "ticks": ""
             }
            },
            "type": "scatter3d"
           }
          ],
          "scattercarpet": [
           {
            "marker": {
             "colorbar": {
              "outlinewidth": 0,
              "ticks": ""
             }
            },
            "type": "scattercarpet"
           }
          ],
          "scattergeo": [
           {
            "marker": {
             "colorbar": {
              "outlinewidth": 0,
              "ticks": ""
             }
            },
            "type": "scattergeo"
           }
          ],
          "scattergl": [
           {
            "marker": {
             "colorbar": {
              "outlinewidth": 0,
              "ticks": ""
             }
            },
            "type": "scattergl"
           }
          ],
          "scattermap": [
           {
            "marker": {
             "colorbar": {
              "outlinewidth": 0,
              "ticks": ""
             }
            },
            "type": "scattermap"
           }
          ],
          "scattermapbox": [
           {
            "marker": {
             "colorbar": {
              "outlinewidth": 0,
              "ticks": ""
             }
            },
            "type": "scattermapbox"
           }
          ],
          "scatterpolar": [
           {
            "marker": {
             "colorbar": {
              "outlinewidth": 0,
              "ticks": ""
             }
            },
            "type": "scatterpolar"
           }
          ],
          "scatterpolargl": [
           {
            "marker": {
             "colorbar": {
              "outlinewidth": 0,
              "ticks": ""
             }
            },
            "type": "scatterpolargl"
           }
          ],
          "scatterternary": [
           {
            "marker": {
             "colorbar": {
              "outlinewidth": 0,
              "ticks": ""
             }
            },
            "type": "scatterternary"
           }
          ],
          "surface": [
           {
            "colorbar": {
             "outlinewidth": 0,
             "ticks": ""
            },
            "colorscale": [
             [
              0,
              "#0d0887"
             ],
             [
              0.1111111111111111,
              "#46039f"
             ],
             [
              0.2222222222222222,
              "#7201a8"
             ],
             [
              0.3333333333333333,
              "#9c179e"
             ],
             [
              0.4444444444444444,
              "#bd3786"
             ],
             [
              0.5555555555555556,
              "#d8576b"
             ],
             [
              0.6666666666666666,
              "#ed7953"
             ],
             [
              0.7777777777777778,
              "#fb9f3a"
             ],
             [
              0.8888888888888888,
              "#fdca26"
             ],
             [
              1,
              "#f0f921"
             ]
            ],
            "type": "surface"
           }
          ],
          "table": [
           {
            "cells": {
             "fill": {
              "color": "#EBF0F8"
             },
             "line": {
              "color": "white"
             }
            },
            "header": {
             "fill": {
              "color": "#C8D4E3"
             },
             "line": {
              "color": "white"
             }
            },
            "type": "table"
           }
          ]
         },
         "layout": {
          "annotationdefaults": {
           "arrowcolor": "#2a3f5f",
           "arrowhead": 0,
           "arrowwidth": 1
          },
          "autotypenumbers": "strict",
          "coloraxis": {
           "colorbar": {
            "outlinewidth": 0,
            "ticks": ""
           }
          },
          "colorscale": {
           "diverging": [
            [
             0,
             "#8e0152"
            ],
            [
             0.1,
             "#c51b7d"
            ],
            [
             0.2,
             "#de77ae"
            ],
            [
             0.3,
             "#f1b6da"
            ],
            [
             0.4,
             "#fde0ef"
            ],
            [
             0.5,
             "#f7f7f7"
            ],
            [
             0.6,
             "#e6f5d0"
            ],
            [
             0.7,
             "#b8e186"
            ],
            [
             0.8,
             "#7fbc41"
            ],
            [
             0.9,
             "#4d9221"
            ],
            [
             1,
             "#276419"
            ]
           ],
           "sequential": [
            [
             0,
             "#0d0887"
            ],
            [
             0.1111111111111111,
             "#46039f"
            ],
            [
             0.2222222222222222,
             "#7201a8"
            ],
            [
             0.3333333333333333,
             "#9c179e"
            ],
            [
             0.4444444444444444,
             "#bd3786"
            ],
            [
             0.5555555555555556,
             "#d8576b"
            ],
            [
             0.6666666666666666,
             "#ed7953"
            ],
            [
             0.7777777777777778,
             "#fb9f3a"
            ],
            [
             0.8888888888888888,
             "#fdca26"
            ],
            [
             1,
             "#f0f921"
            ]
           ],
           "sequentialminus": [
            [
             0,
             "#0d0887"
            ],
            [
             0.1111111111111111,
             "#46039f"
            ],
            [
             0.2222222222222222,
             "#7201a8"
            ],
            [
             0.3333333333333333,
             "#9c179e"
            ],
            [
             0.4444444444444444,
             "#bd3786"
            ],
            [
             0.5555555555555556,
             "#d8576b"
            ],
            [
             0.6666666666666666,
             "#ed7953"
            ],
            [
             0.7777777777777778,
             "#fb9f3a"
            ],
            [
             0.8888888888888888,
             "#fdca26"
            ],
            [
             1,
             "#f0f921"
            ]
           ]
          },
          "colorway": [
           "#636efa",
           "#EF553B",
           "#00cc96",
           "#ab63fa",
           "#FFA15A",
           "#19d3f3",
           "#FF6692",
           "#B6E880",
           "#FF97FF",
           "#FECB52"
          ],
          "font": {
           "color": "#2a3f5f"
          },
          "geo": {
           "bgcolor": "white",
           "lakecolor": "white",
           "landcolor": "white",
           "showlakes": true,
           "showland": true,
           "subunitcolor": "#C8D4E3"
          },
          "hoverlabel": {
           "align": "left"
          },
          "hovermode": "closest",
          "mapbox": {
           "style": "light"
          },
          "paper_bgcolor": "white",
          "plot_bgcolor": "white",
          "polar": {
           "angularaxis": {
            "gridcolor": "#EBF0F8",
            "linecolor": "#EBF0F8",
            "ticks": ""
           },
           "bgcolor": "white",
           "radialaxis": {
            "gridcolor": "#EBF0F8",
            "linecolor": "#EBF0F8",
            "ticks": ""
           }
          },
          "scene": {
           "xaxis": {
            "backgroundcolor": "white",
            "gridcolor": "#DFE8F3",
            "gridwidth": 2,
            "linecolor": "#EBF0F8",
            "showbackground": true,
            "ticks": "",
            "zerolinecolor": "#EBF0F8"
           },
           "yaxis": {
            "backgroundcolor": "white",
            "gridcolor": "#DFE8F3",
            "gridwidth": 2,
            "linecolor": "#EBF0F8",
            "showbackground": true,
            "ticks": "",
            "zerolinecolor": "#EBF0F8"
           },
           "zaxis": {
            "backgroundcolor": "white",
            "gridcolor": "#DFE8F3",
            "gridwidth": 2,
            "linecolor": "#EBF0F8",
            "showbackground": true,
            "ticks": "",
            "zerolinecolor": "#EBF0F8"
           }
          },
          "shapedefaults": {
           "line": {
            "color": "#2a3f5f"
           }
          },
          "ternary": {
           "aaxis": {
            "gridcolor": "#DFE8F3",
            "linecolor": "#A2B1C6",
            "ticks": ""
           },
           "baxis": {
            "gridcolor": "#DFE8F3",
            "linecolor": "#A2B1C6",
            "ticks": ""
           },
           "bgcolor": "white",
           "caxis": {
            "gridcolor": "#DFE8F3",
            "linecolor": "#A2B1C6",
            "ticks": ""
           }
          },
          "title": {
           "x": 0.05
          },
          "xaxis": {
           "automargin": true,
           "gridcolor": "#EBF0F8",
           "linecolor": "#EBF0F8",
           "ticks": "",
           "title": {
            "standoff": 15
           },
           "zerolinecolor": "#EBF0F8",
           "zerolinewidth": 2
          },
          "yaxis": {
           "automargin": true,
           "gridcolor": "#EBF0F8",
           "linecolor": "#EBF0F8",
           "ticks": "",
           "title": {
            "standoff": 15
           },
           "zerolinecolor": "#EBF0F8",
           "zerolinewidth": 2
          }
         }
        },
        "title": {
         "font": {
          "color": "Black",
          "size": 22
         },
         "text": "Topic Word Scores",
         "x": 0.5,
         "xanchor": "center",
         "yanchor": "top"
        },
        "width": 1000,
        "xaxis": {
         "anchor": "y",
         "domain": [
          0,
          0.175
         ],
         "showgrid": true
        },
        "xaxis10": {
         "anchor": "y10",
         "domain": [
          0.275,
          0.45
         ],
         "showgrid": true
        },
        "xaxis11": {
         "anchor": "y11",
         "domain": [
          0.55,
          0.7250000000000001
         ],
         "showgrid": true
        },
        "xaxis12": {
         "anchor": "y12",
         "domain": [
          0.825,
          1
         ],
         "showgrid": true
        },
        "xaxis2": {
         "anchor": "y2",
         "domain": [
          0.275,
          0.45
         ],
         "showgrid": true
        },
        "xaxis3": {
         "anchor": "y3",
         "domain": [
          0.55,
          0.7250000000000001
         ],
         "showgrid": true
        },
        "xaxis4": {
         "anchor": "y4",
         "domain": [
          0.825,
          1
         ],
         "showgrid": true
        },
        "xaxis5": {
         "anchor": "y5",
         "domain": [
          0,
          0.175
         ],
         "showgrid": true
        },
        "xaxis6": {
         "anchor": "y6",
         "domain": [
          0.275,
          0.45
         ],
         "showgrid": true
        },
        "xaxis7": {
         "anchor": "y7",
         "domain": [
          0.55,
          0.7250000000000001
         ],
         "showgrid": true
        },
        "xaxis8": {
         "anchor": "y8",
         "domain": [
          0.825,
          1
         ],
         "showgrid": true
        },
        "xaxis9": {
         "anchor": "y9",
         "domain": [
          0,
          0.175
         ],
         "showgrid": true
        },
        "yaxis": {
         "anchor": "x",
         "domain": [
          0.7555555555555555,
          1
         ],
         "showgrid": true
        },
        "yaxis10": {
         "anchor": "x10",
         "domain": [
          0,
          0.24444444444444446
         ],
         "showgrid": true
        },
        "yaxis11": {
         "anchor": "x11",
         "domain": [
          0,
          0.24444444444444446
         ],
         "showgrid": true
        },
        "yaxis12": {
         "anchor": "x12",
         "domain": [
          0,
          0.24444444444444446
         ],
         "showgrid": true
        },
        "yaxis2": {
         "anchor": "x2",
         "domain": [
          0.7555555555555555,
          1
         ],
         "showgrid": true
        },
        "yaxis3": {
         "anchor": "x3",
         "domain": [
          0.7555555555555555,
          1
         ],
         "showgrid": true
        },
        "yaxis4": {
         "anchor": "x4",
         "domain": [
          0.7555555555555555,
          1
         ],
         "showgrid": true
        },
        "yaxis5": {
         "anchor": "x5",
         "domain": [
          0.37777777777777777,
          0.6222222222222222
         ],
         "showgrid": true
        },
        "yaxis6": {
         "anchor": "x6",
         "domain": [
          0.37777777777777777,
          0.6222222222222222
         ],
         "showgrid": true
        },
        "yaxis7": {
         "anchor": "x7",
         "domain": [
          0.37777777777777777,
          0.6222222222222222
         ],
         "showgrid": true
        },
        "yaxis8": {
         "anchor": "x8",
         "domain": [
          0.37777777777777777,
          0.6222222222222222
         ],
         "showgrid": true
        },
        "yaxis9": {
         "anchor": "x9",
         "domain": [
          0,
          0.24444444444444446
         ],
         "showgrid": true
        }
       }
      }
     },
     "metadata": {},
     "output_type": "display_data"
    }
   ],
   "source": [
    "topic_model.visualize_barchart(top_n_topics=10)"
   ]
  },
  {
   "cell_type": "code",
   "execution_count": null,
   "id": "d41bb184",
   "metadata": {},
   "outputs": [
    {
     "data": {
      "text/plain": [
       "([7, 2, 4, 8, 6],\n",
       " [0.23079648380407866,\n",
       "  0.13950937464953583,\n",
       "  0.12961838402743625,\n",
       "  0.12193898050163567,\n",
       "  0.11173320803566808])"
      ]
     },
     "execution_count": 85,
     "metadata": {},
     "output_type": "execute_result"
    }
   ],
   "source": [
    "topic_model.find_topics(\"respon cs\", top_n=5)"
   ]
  },
  {
   "cell_type": "markdown",
   "id": "2ccea80c",
   "metadata": {},
   "source": [
    "<h3>CEK COHERENCE SCORE</h3>"
   ]
  },
  {
   "cell_type": "code",
   "execution_count": null,
   "id": "50b1ee78",
   "metadata": {},
   "outputs": [
    {
     "name": "stdout",
     "output_type": "stream",
     "text": [
      "Requirement already satisfied: gensim in c:\\users\\andi ragil\\.conda\\envs\\topikenv\\lib\\site-packages (4.3.3)\n",
      "Requirement already satisfied: numpy<2.0,>=1.18.5 in c:\\users\\andi ragil\\.conda\\envs\\topikenv\\lib\\site-packages (from gensim) (1.26.4)\n",
      "Requirement already satisfied: scipy<1.14.0,>=1.7.0 in c:\\users\\andi ragil\\.conda\\envs\\topikenv\\lib\\site-packages (from gensim) (1.13.1)\n",
      "Requirement already satisfied: smart-open>=1.8.1 in c:\\users\\andi ragil\\.conda\\envs\\topikenv\\lib\\site-packages (from gensim) (7.3.0.post1)\n",
      "Requirement already satisfied: wrapt in c:\\users\\andi ragil\\.conda\\envs\\topikenv\\lib\\site-packages (from smart-open>=1.8.1->gensim) (1.17.2)\n",
      "Note: you may need to restart the kernel to use updated packages.\n"
     ]
    }
   ],
   "source": [
    "%pip install gensim"
   ]
  },
  {
   "cell_type": "code",
   "execution_count": 152,
   "id": "cacc0541",
   "metadata": {},
   "outputs": [
    {
     "name": "stdout",
     "output_type": "stream",
     "text": [
      "Topik 0: Coherence = 0.3471\n",
      "Topik 1: Coherence = 0.3848\n",
      "Topik 2: Coherence = 0.6339\n",
      "Topik 3: Coherence = 0.5938\n",
      "Topik 4: Coherence = 0.7843\n",
      "Topik 5: Coherence = 0.6535\n",
      "Topik 6: Coherence = 0.6631\n",
      "Topik 7: Coherence = 0.5362\n",
      "Topik 8: Coherence = 0.6986\n",
      "Topik 9: Coherence = 0.7544\n"
     ]
    }
   ],
   "source": [
    "from gensim.models.coherencemodel import CoherenceModel\n",
    "from gensim.corpora import Dictionary\n",
    "\n",
    "# Tokenisasi teks ulasan\n",
    "tokens = [text.split() for text in df['final_text']]\n",
    "\n",
    "# Buat dictionary dan corpus\n",
    "dictionary = Dictionary(tokens)\n",
    "corpus = [dictionary.doc2bow(text) for text in tokens]\n",
    "\n",
    "# Ambil kata-kata representatif dari setiap topik\n",
    "topics = topic_model.get_topics()\n",
    "topic_words = []\n",
    "for topic_id, word_probs in topics.items():\n",
    "    words = [word for word, _ in word_probs]\n",
    "    topic_words.append(words)\n",
    "\n",
    "# Hitung coherence per topik\n",
    "coherence_model = CoherenceModel(\n",
    "    topics=topic_words,\n",
    "    texts=tokens,\n",
    "    corpus=corpus,\n",
    "    dictionary=dictionary,\n",
    "    coherence='c_v'\n",
    ")\n",
    "\n",
    "# Dapatkan daftar coherence per topik\n",
    "coherence_per_topic = coherence_model.get_coherence_per_topic()\n",
    "\n",
    "# Cetak hasilnya\n",
    "for idx, score in enumerate(coherence_per_topic):\n",
    "    print(f\"Topik {idx}: Coherence = {score:.4f}\")\n"
   ]
  },
  {
   "cell_type": "code",
   "execution_count": 129,
   "id": "67128168",
   "metadata": {},
   "outputs": [
    {
     "name": "stdout",
     "output_type": "stream",
     "text": [
      "Coherence Score: 0.6050\n"
     ]
    }
   ],
   "source": [
    "from gensim.models.coherencemodel import CoherenceModel\n",
    "from gensim.corpora import Dictionary\n",
    "\n",
    "tokens = [text.split() for text in df['final_text']] \n",
    "\n",
    "\n",
    "dictionary = Dictionary(tokens)\n",
    "corpus = [dictionary.doc2bow(text) for text in tokens]\n",
    "\n",
    "topics = topic_model.get_topics()\n",
    "topic_words = []\n",
    "for topic_id, word_probs in topics.items():\n",
    "    words = [word for word, _ in word_probs] \n",
    "    topic_words.append(words)\n",
    "\n",
    "\n",
    "coherence_model = CoherenceModel(\n",
    "    topics=topic_words,\n",
    "    texts=tokens,\n",
    "    corpus=corpus,\n",
    "    dictionary=dictionary,\n",
    "    coherence='c_v'\n",
    ")\n",
    "\n",
    "coherence = coherence_model.get_coherence()\n",
    "print(f\"Coherence Score: {coherence:.4f}\")"
   ]
  },
  {
   "cell_type": "markdown",
   "id": "cef96708",
   "metadata": {},
   "source": [
    "<H4>OPSIONAL CODE</H4>"
   ]
  },
  {
   "cell_type": "code",
   "execution_count": null,
   "id": "6387dece",
   "metadata": {},
   "outputs": [
    {
     "ename": "NameError",
     "evalue": "name 'doc_topics' is not defined",
     "output_type": "error",
     "traceback": [
      "\u001b[31m---------------------------------------------------------------------------\u001b[39m",
      "\u001b[31mNameError\u001b[39m                                 Traceback (most recent call last)",
      "\u001b[36mCell\u001b[39m\u001b[36m \u001b[39m\u001b[32mIn[156]\u001b[39m\u001b[32m, line 23\u001b[39m\n\u001b[32m      1\u001b[39m \u001b[38;5;66;03m# # Simpan model topik ke file\u001b[39;00m\n\u001b[32m      2\u001b[39m \u001b[38;5;66;03m# docs = df['final_text'].tolist()\u001b[39;00m\n\u001b[32m      3\u001b[39m \u001b[38;5;66;03m# topics, probs = topic_model.fit_transform(docs)\u001b[39;00m\n\u001b[32m   (...)\u001b[39m\u001b[32m     19\u001b[39m \n\u001b[32m     20\u001b[39m \u001b[38;5;66;03m# Dapatkan label topik dari BERTopic\u001b[39;00m\n\u001b[32m     21\u001b[39m topic_labels = topic_model.get_topic_info().set_index(\u001b[33m'\u001b[39m\u001b[33mTopic\u001b[39m\u001b[33m'\u001b[39m)[\u001b[33m'\u001b[39m\u001b[33mName\u001b[39m\u001b[33m'\u001b[39m].to_dict()\n\u001b[32m---> \u001b[39m\u001b[32m23\u001b[39m doc_topics[\u001b[33m'\u001b[39m\u001b[33mtopic_label\u001b[39m\u001b[33m'\u001b[39m] = \u001b[43mdoc_topics\u001b[49m[\u001b[33m'\u001b[39m\u001b[33mtopic\u001b[39m\u001b[33m'\u001b[39m].map(topic_labels)\n\u001b[32m     24\u001b[39m doc_topics.to_csv(\u001b[33m\"\u001b[39m\u001b[33mtopik_per_dokumen2.csv\u001b[39m\u001b[33m\"\u001b[39m, index=\u001b[38;5;28;01mFalse\u001b[39;00m)\n\u001b[32m     26\u001b[39m topic_model.get_topic_info().to_csv(\u001b[33m\"\u001b[39m\u001b[33mtopik_info.csv\u001b[39m\u001b[33m\"\u001b[39m, index=\u001b[38;5;28;01mFalse\u001b[39;00m)\n",
      "\u001b[31mNameError\u001b[39m: name 'doc_topics' is not defined"
     ]
    }
   ],
   "source": [
    "# # Simpan model topik ke file\n",
    "# docs = df['final_text'].tolist()\n",
    "# topics, probs = topic_model.fit_transform(docs)\n",
    "\n",
    "\n",
    "# import numpy as np\n",
    "\n",
    "# # Konversi ke list of float dengan ambil nilai tertinggi per dokumen\n",
    "# max_probs = [float(np.max(p)) for p in probs]\n",
    "\n",
    "# doc_topics = pd.DataFrame({\n",
    "#     \"text\": docs,\n",
    "#     \"topic\": topics,\n",
    "#     \"probability\": max_probs\n",
    "# })\n",
    "\n",
    "# doc_topics.to_csv(\"topik_per_dokumen.csv\", index=False)\n",
    "\n",
    "\n",
    "# Dapatkan label topik dari BERTopic\n",
    "# topic_labels = topic_model.get_topic_info().set_index('Topic')['Name'].to_dict()\n",
    "\n",
    "# doc_topics['topic_label'] = doc_topics['topic'].map(topic_labels)\n",
    "# doc_topics.to_csv(\"topik_per_dokumen2.csv\", index=False)\n",
    "\n",
    "# topic_model.get_topic_info().to_csv(\"topik_info.csv\", index=False)\n"
   ]
  },
  {
   "cell_type": "code",
   "execution_count": null,
   "id": "040ecfc2",
   "metadata": {},
   "outputs": [],
   "source": [
    "# # cek bentuk topics dan probs\n",
    "# print(type(topics), type(topics[0]))\n",
    "# print(type(probs), type(probs[0]))"
   ]
  },
  {
   "cell_type": "code",
   "execution_count": null,
   "id": "578eab4a",
   "metadata": {},
   "outputs": [],
   "source": [
    "# # Ambil teks final untuk analisis topik\n",
    "# docs = df['final_text'].tolist()"
   ]
  },
  {
   "cell_type": "code",
   "execution_count": null,
   "id": "a716b32f",
   "metadata": {},
   "outputs": [],
   "source": [
    "# # Cek panjang\n",
    "# print(len(docs), len(topics), len(probs))"
   ]
  },
  {
   "cell_type": "code",
   "execution_count": 154,
   "id": "53129554",
   "metadata": {},
   "outputs": [
    {
     "data": {
      "text/plain": [
       "[('aplikasi', 0.3194117862144449),\n",
       " ('game', 0.3087424143269439),\n",
       " ('buka', 0.2995298156778291),\n",
       " ('jaringan', 0.2962803719219081),\n",
       " ('ping', 0.2957666977809666),\n",
       " ('main', 0.2781495296955974),\n",
       " ('wifi', 0.27662163248616944),\n",
       " ('aplikasinya', 0.26708588817035195),\n",
       " ('selalu', 0.2565071147948304),\n",
       " ('buat', 0.2551555069577243)]"
      ]
     },
     "execution_count": 154,
     "metadata": {},
     "output_type": "execute_result"
    }
   ],
   "source": [
    "topic_model.get_topic(0)"
   ]
  },
  {
   "cell_type": "code",
   "execution_count": 151,
   "id": "783b4708",
   "metadata": {},
   "outputs": [
    {
     "data": {
      "text/plain": [
       "['bintangnya kurangi minta aplikasinya diperbaiki dong sering banget gabisa dibuka padahal dah update mulu kan jadi bingung kalau mau beli paketan mau cek kuota semuanya serba aplikasi lah termasuk setia sama byu loh bahkan harganya ribu per bulan gak masalah diperbaiki',\n",
       " 'hampir tahun memakai aplikasi byu kecewa banget sih sama byu sekarang aplikasinya sering macet ga login apa gak akses apapun provider byu aplikasinya kalo aplikasinya tibatiba nge lag parah gimana saran deh buat byu kalo aplikasinya belom kuat stabil usahakan buat situs internet akses pengguna byu buat cek internet beli paket dah sekian',\n",
       " 'dulu byu cukup stabil sekarang sering lag terutama main game online aneh banget kalau direkam malah lancar kalau justru makin ngelag padahal sinyal penuh speedtest normal coba berbagai cara restart hp reset jaringan ubah apn bahkan pakai hp hasilnya tetap sama byu bermasalah cs memberi solusi cek sinyal tunggu perbaiki kalau terpaksa pindah provider lebih stabil']"
      ]
     },
     "execution_count": 151,
     "metadata": {},
     "output_type": "execute_result"
    }
   ],
   "source": [
    "topic_model.get_representative_docs(0)"
   ]
  },
  {
   "cell_type": "code",
   "execution_count": 137,
   "id": "6736f513",
   "metadata": {},
   "outputs": [
    {
     "data": {
      "text/plain": [
       "['bintangnya kurangi minta aplikasinya diperbaiki dong sering banget gabisa dibuka padahal dah update mulu kan jadi bingung kalau mau beli paketan mau cek kuota semuanya serba aplikasi lah termasuk setia sama byu loh bahkan harganya ribu per bulan gak masalah diperbaiki',\n",
       " 'hampir tahun memakai aplikasi byu kecewa banget sih sama byu sekarang aplikasinya sering macet ga login apa gak akses apapun provider byu aplikasinya kalo aplikasinya tibatiba nge lag parah gimana saran deh buat byu kalo aplikasinya belom kuat stabil usahakan buat situs internet akses pengguna byu buat cek internet beli paket dah sekian',\n",
       " 'dulu byu cukup stabil sekarang sering lag terutama main game online aneh banget kalau direkam malah lancar kalau justru makin ngelag padahal sinyal penuh speedtest normal coba berbagai cara restart hp reset jaringan ubah apn bahkan pakai hp hasilnya tetap sama byu bermasalah cs memberi solusi cek sinyal tunggu perbaiki kalau terpaksa pindah provider lebih stabil']"
      ]
     },
     "execution_count": 137,
     "metadata": {},
     "output_type": "execute_result"
    }
   ],
   "source": [
    "topic_model.get_representative_docs(0)"
   ]
  },
  {
   "cell_type": "code",
   "execution_count": 138,
   "id": "83392dc6",
   "metadata": {},
   "outputs": [
    {
     "data": {
      "text/plain": [
       "['beli kartu via aplikasi ambil indomaret katanya nunggu pin sekarang gak pin pengambilan chat cs lewat aplikasi katanya suruh upload ss page order pas diupload kagak lewat email minta data padahal lengkap cs beda minta data gimana sih sistemnya baru mau beli gimana pas uda pake kartu',\n",
       " 'beli kuota pembayaran via dana dana udah bukti pembayaran byu kuota sama sekali ga masuk ga bukti transaksi byu padal saldo dana dah berkurang buktinya chat admin via ig ga solusi sama sekali udah kirim semua bukti kurang ga ditindaklanjuti untung belinya selalu rb tiap beli rugi kecewa yaudah',\n",
       " 'iseng beli kuota gb hari pembayaran via linkaja pas pembayaran langsung alihkan linkaja sukses bayar kuota gak masuk masuk chat cs suruh upload bukti pembayaran linkaja buktinya terus disuruh upload ss bukti transaksi byu pas cek gak riwayat transaksi gak jelas siapa bermasalah chat sama robot dikasih solusi penjelasan padahal dana terpotong']"
      ]
     },
     "execution_count": 138,
     "metadata": {},
     "output_type": "execute_result"
    }
   ],
   "source": [
    "topic_model.get_representative_docs(1)"
   ]
  },
  {
   "cell_type": "code",
   "execution_count": 139,
   "id": "3ac4b783",
   "metadata": {},
   "outputs": [
    {
     "data": {
      "text/plain": [
       "['kartu digital kaga jelas suka bug beli paket berbeda kekuatan sinyal beda kan aneh pernah beli kuota gb lancar banget buat game kuota abis lalu beli gb ga tau malah sinyal atas bawah ilang padahal sinyal lancar sangat mengganggu sekali katanya kartu digital digunakan digital game malah stabil sinyal sering hilang sekali sering hilang bukan kadang kadang bukan kartu digital namanya kartu hilang sinyal',\n",
       " 'sih hari sinyalnya ga pernah stabil sinyal tiba full hilang ga sama sekali mau zoom awal masuk lancar tiba langsung hilang sinyal keluar main game gitu lancar tiba ping tinggi padahal hari sebelumnya ga kek gini tempatnya tetap sama disuruh ubah jaringan g terus kan mode pesawat tetep sama selama hari',\n",
       " 'kurang lebih tahun yg lalu pake byu sinyalnya bagus kenceng gatau udah beberapa bulan sinyalnya jadi makin ga karuan lemotnya kadang suka lost sinyal klo ujan langsung sinyalnya ilang padahal dlu pas pertama kali make mau ujan apa engga sinyal tetep bagus lancar buat streaming nah sekarang mau ujan apa engga buat liat snap wa lola banget diperbaiki']"
      ]
     },
     "execution_count": 139,
     "metadata": {},
     "output_type": "execute_result"
    }
   ],
   "source": [
    "topic_model.get_representative_docs(2)"
   ]
  },
  {
   "cell_type": "code",
   "execution_count": 143,
   "id": "362a7304",
   "metadata": {},
   "outputs": [
    {
     "data": {
      "text/plain": [
       "['kecewa kecewa sangat beli paket yg unlimited mbps tibatiba lemot eh ternyata penggunaan gb dibatasi kecepatannya menjadi kbps pembelian ga keterangan batas fup padahal',\n",
       " 'gua kecewa sama byu akhir gatau kaya banyak minusnya gak paket berlangganan disney sekarang data unlimited mbps batas fup padahal sebelumnya gua pake sepuasnya sampe masanya abis fup sekarang kalau penggunaan udah gb kekuatan sinyal mbps jadi kbps jadi gak aman buat streaming main game moba gak lancar kalo gini terus gua ganti provider kelewat cape dikata ramah dikantong ternyata cuma scam',\n",
       " 'parah ni jaringan tiba tiba lambat banget bikin males isi data aturan fup baru paket unlimited mbps sangat meresahkan meski isi ulang kalau batas waktu sebelumnya habis terpaksa menikmati paket limit fup sebelumnya speed parah ngak buat apaapa bagus aku puas makin sini makin pengen ganti kartu mohon perbaiki']"
      ]
     },
     "execution_count": 143,
     "metadata": {},
     "output_type": "execute_result"
    }
   ],
   "source": [
    "topic_model.get_representative_docs(3)"
   ]
  },
  {
   "cell_type": "code",
   "execution_count": 144,
   "id": "2fa0c9da",
   "metadata": {},
   "outputs": [
    {
     "data": {
      "text/plain": [
       "['aplikasi bagus bgtt gampang bgt buat beli kuota banyak diskon plus bonus yg ga sedikit aku jg rekomendasiin kluarga aku pke byu soalnya murahgampang makenya jaringannya enak banyak hiburan pilihan kuotanya banyak bgt mulai dri yg murah smpe yg mahal worth bgt byu asiknya pilih sendiri suka bgt gampang beli kuota sm pulsaa banyak jga diskon flash sale nyaa rekomended bgt',\n",
       " 'byu praktis aplikasi sangat bagus mudah diakses promo paket ditawarkan banyak harga ditawarkan terjangkau banyak pilihan paket sesuai kebutuhan sangat direkomendasikan buat kamu suka streaming ngegame download pokok byu best deh cuman perlu byu perbaiki kestabilan jaringan kadang cepat kadang lemot selebihnya love u byu',\n",
       " 'aplikasi byu nyaman bgt dipakai gampang gak lemot sering promo flash sale jadi enak banget digunain aplikasi beli nomor beli pulsa beli kuota internet keren deh pokoknya lengkap banget']"
      ]
     },
     "execution_count": 144,
     "metadata": {},
     "output_type": "execute_result"
    }
   ],
   "source": [
    "topic_model.get_representative_docs(4)"
   ]
  },
  {
   "cell_type": "code",
   "execution_count": 146,
   "id": "cdc2ae84",
   "metadata": {},
   "outputs": [
    {
     "data": {
      "text/plain": [
       "['byu yg bener aku main game ngelag terus buat buka liat youtube instagram facebook kok lancar kalau pas main game sinyal sama latensi ping naik turun tlng yg bener udah pakai krng lebih bulan udah merasa nyaman sama byu skrng malah kualitas jaringan menurun tlng diperbaiki jaringan',\n",
       " 'jaringan cukup bagus rumahku terpencil harga tergolong murah signalnya naik turunnya ngeri tp ga masalah harga terjangkau download streaming lancar kalau buat main game kurang bagus cuma satu aku notice kuotanya gatau lebih boros banget cepat habis aku coba provider utk pemakaian yg sama nonton youtube video yg sama kualitas video yg sama hasilnya kuota byu lebih boros cepat habis sayang banget kan',\n",
       " 'aneh sama provider aktifin kuota bulanan lemot minta ampun buat main game mobile legend free fire nonton youtube streaming netflix lemot banget sumpah kalo pake paket gb rb sehari internet lancar banget mau streaming youtube main ml ff kamar mandi lancar jaya tau target marketing tp jangan gini dong harusnya paket bulanan bagusin sinyal percuma paket bulanan gb rb hari sinyal macem pake tri']"
      ]
     },
     "execution_count": 146,
     "metadata": {},
     "output_type": "execute_result"
    }
   ],
   "source": [
    "topic_model.get_representative_docs(5)"
   ]
  },
  {
   "cell_type": "code",
   "execution_count": 147,
   "id": "276afe22",
   "metadata": {},
   "outputs": [
    {
     "data": {
      "text/plain": [
       "['maaf awal pake dl lancar bgt tp makin kesini jaringannya lemot parah srg mode pesawat sekelas telkomsel tp jaringan kaya gini duh bener deh byu kualitasnya makin turun kl ga perubahan sprtinya bakalan ganti provider note udh isi apn sesuai saran udh tlp cs byu langsung jg cs blg jaringan baik ga masalah pdhl usernya mmg makin lemot srg erorr mode pesawat pake privider lancar gada masalah',\n",
       " 'sih byu kalo mau buka aplikasi susah terkadang update dulu udah restart hp kaga solusi tuh perbaiki aplikasinya bukan suruh restart hp mode pesawat terlebih mau cek kuota isi kuota terus gimana dah lama pake byu permasalahanya sama sering susah masuk aplikasinya update kadang jg susah provider baik kureng banget ngatasin keluhan customernya mohon perhatikan masukan kritikan customer thanks',\n",
       " 'nyaman bgt sebenernya pake byu aku cm pernah beli kuota mbps mbps sih ga pernah yg biar aman lebih hemat kendalanya beli paket baru pas baru dibayar ni kadang ga lgsg pake kaya beberapa jam jaringannya ilang jaringan h kadang g jg cuma wa ig yg bs akses kaya twitter telegram yt gabisa pas baru beberapa jam kemudian udh balik normal sih kalau diperbaiki kalau abis payment lgsg aktif pake gitu']"
      ]
     },
     "execution_count": 147,
     "metadata": {},
     "output_type": "execute_result"
    }
   ],
   "source": [
    "topic_model.get_representative_docs(6)"
   ]
  },
  {
   "cell_type": "code",
   "execution_count": 148,
   "id": "21ab4ebf",
   "metadata": {},
   "outputs": [
    {
     "data": {
      "text/plain": [
       "['bukannya mempermudah malah jadi ribet posisi kuota habis isi pulsa mau paketin data ga masuk terus login pake nomor byu yg terdaftar malah responnya ga daftar pake nomor byu lah kan login bukan daftar jadi kesel ga isi kuota via ribettt harusnya kalau ngga via dial mercant seenggaknya jgn dipersulit buat login dong asli kesel',\n",
       " 'mau isi ulang paket aplikasinya logout mau login otp gagal padahal bener masuk eh kesalahan coba keluar trus masuk aplikasi suruh login otp gagal',\n",
       " 'keknya masalah server mulu mau daftar kuota malah disuruh login ulang pas mah login muncul masalah server apaan sih kesel banget udah cape bolak balik gabisa masuk apknya masalah server trus ih']"
      ]
     },
     "execution_count": 148,
     "metadata": {},
     "output_type": "execute_result"
    }
   ],
   "source": [
    "topic_model.get_representative_docs(7)"
   ]
  },
  {
   "cell_type": "code",
   "execution_count": 149,
   "id": "acf41758",
   "metadata": {},
   "outputs": [
    {
     "data": {
      "text/plain": [
       "['bintang lebih cukup byu provider yg sangat jelek buat yg pakai gak usah pakek biar menyesal beli paket melalui virtual account pembelian sukses tp paket masuk lapor cs dn bukti transfert kirim pertama langsung respon tp cs gak bs ngatasin masalah yg cuman sepele tiba langsung gak respon gak ahklah uang jadi korban provider gak bertanggung jawab auto langsung guting kartu simcartnya',\n",
       " 'udh beli paket kuota pembayaran via virtual account bca berhasil bukti pembayaran saldo rekening udh terpotong status msh pending aplikasinya komplain suruh nunggu hari gk mikir apa hari kira sebentar kali jgn pake byu ribet bli kuota gk masuk masuk gk pake ribet gk',\n",
       " 'kecewa beli paket internet yg rb gb pembayarannya via bni virtual account udah transfer tpi paketnya ga masuk udh jam nunggu padahal pembayaran pake virtual account ga bakal salah udah kirim bukti transfer sama nomor order email si nindi tpi ga bales kecewa']"
      ]
     },
     "execution_count": 149,
     "metadata": {},
     "output_type": "execute_result"
    }
   ],
   "source": [
    "topic_model.get_representative_docs(8)"
   ]
  },
  {
   "cell_type": "code",
   "execution_count": 159,
   "id": "97861016",
   "metadata": {},
   "outputs": [
    {
     "data": {
      "text/plain": [
       "['bintang lebih cukup byu provider yg sangat jelek buat yg pakai gak usah pakek biar menyesal beli paket melalui virtual account pembelian sukses tp paket masuk lapor cs dn bukti transfert kirim pertama langsung respon tp cs gak bs ngatasin masalah yg cuman sepele tiba langsung gak respon gak ahklah uang jadi korban provider gak bertanggung jawab auto langsung guting kartu simcartnya',\n",
       " 'udh beli paket kuota pembayaran via virtual account bca berhasil bukti pembayaran saldo rekening udh terpotong status msh pending aplikasinya komplain suruh nunggu hari gk mikir apa hari kira sebentar kali jgn pake byu ribet bli kuota gk masuk masuk gk pake ribet gk',\n",
       " 'kecewa beli paket internet yg rb gb pembayarannya via bni virtual account udah transfer tpi paketnya ga masuk udh jam nunggu padahal pembayaran pake virtual account ga bakal salah udah kirim bukti transfer sama nomor order email si nindi tpi ga bales kecewa']"
      ]
     },
     "execution_count": 159,
     "metadata": {},
     "output_type": "execute_result"
    }
   ],
   "source": [
    "topic_model.get_representative_docs(8)"
   ]
  },
  {
   "cell_type": "code",
   "execution_count": 130,
   "id": "29136cbd",
   "metadata": {},
   "outputs": [
    {
     "data": {
      "text/html": [
       "<div>\n",
       "<style scoped>\n",
       "    .dataframe tbody tr th:only-of-type {\n",
       "        vertical-align: middle;\n",
       "    }\n",
       "\n",
       "    .dataframe tbody tr th {\n",
       "        vertical-align: top;\n",
       "    }\n",
       "\n",
       "    .dataframe thead th {\n",
       "        text-align: right;\n",
       "    }\n",
       "</style>\n",
       "<table border=\"1\" class=\"dataframe\">\n",
       "  <thead>\n",
       "    <tr style=\"text-align: right;\">\n",
       "      <th></th>\n",
       "      <th>Topic</th>\n",
       "      <th>Count</th>\n",
       "      <th>Name</th>\n",
       "      <th>Representation</th>\n",
       "      <th>Representative_Docs</th>\n",
       "    </tr>\n",
       "  </thead>\n",
       "  <tbody>\n",
       "    <tr>\n",
       "      <th>0</th>\n",
       "      <td>-1</td>\n",
       "      <td>4770</td>\n",
       "      <td>-1_jaringan_kuota_sinyal_yg</td>\n",
       "      <td>[jaringan, kuota, sinyal, yg, udah, mau, gak, kartu, ga, bagus]</td>\n",
       "      <td>[aku udah pakai byu bulan awalawal pake byu seru sih sinyalnya bagus dapet bar harga kuotanya murah sekarang sinyalnya lemot banget sekarang dapet bar bahkan cuman bar tiap kali berselancar internet suka ngadat buka aplikasi byu terlebih pas buka aplikasi login kalau kejadian sekali kali wajar yah kalau sering kali kan jadi nggk nyaman suka kesel sendiri mungkin saatnya ganti provaider, jelek banget jaringan sekarang dulu pas awal awal pake mbps bagus lah pake gb jaringan g sama sekali gak pakai kecewa banget padahal dulu jaringan bagus harga murah sekarang beda jauh aplikasi susah buka, kartu enak banyak kouta murah udh tahun pake fine fine kali kok tiba tiba jaringannya kayak gk pake biasanya aman aman klo mo pake nge streaming nge game download tpi knp tiba tiba jaringan ngelag banget klo main merah terus jaringan nnton tiktok lambat banget nge streaming sama padahal udh coba segala cara mode pesawat restart hp pindahin jaringan g g udh semua ku coba tetap nge lag terus]</td>\n",
       "    </tr>\n",
       "    <tr>\n",
       "      <th>1</th>\n",
       "      <td>0</td>\n",
       "      <td>1826</td>\n",
       "      <td>0_aplikasi_game_buka_jaringan</td>\n",
       "      <td>[aplikasi, game, buka, jaringan, ping, main, wifi, aplikasinya, selalu, buat]</td>\n",
       "      <td>[bintangnya kurangi minta aplikasinya diperbaiki dong sering banget gabisa dibuka padahal dah update mulu kan jadi bingung kalau mau beli paketan mau cek kuota semuanya serba aplikasi lah termasuk setia sama byu loh bahkan harganya ribu per bulan gak masalah diperbaiki, hampir tahun memakai aplikasi byu kecewa banget sih sama byu sekarang aplikasinya sering macet ga login apa gak akses apapun provider byu aplikasinya kalo aplikasinya tibatiba nge lag parah gimana saran deh buat byu kalo aplikasinya belom kuat stabil usahakan buat situs internet akses pengguna byu buat cek internet beli paket dah sekian, dulu byu cukup stabil sekarang sering lag terutama main game online aneh banget kalau direkam malah lancar kalau justru makin ngelag padahal sinyal penuh speedtest normal coba berbagai cara restart hp reset jaringan ubah apn bahkan pakai hp hasilnya tetap sama byu bermasalah cs memberi solusi cek sinyal tunggu perbaiki kalau terpaksa pindah provider lebih stabil]</td>\n",
       "    </tr>\n",
       "    <tr>\n",
       "      <th>2</th>\n",
       "      <td>1</td>\n",
       "      <td>881</td>\n",
       "      <td>1_kartu_pembayaran_beli_sim</td>\n",
       "      <td>[kartu, pembayaran, beli, sim, masuk, transaksi, bayar, cs, saldo, chat]</td>\n",
       "      <td>[beli kartu via aplikasi ambil indomaret katanya nunggu pin sekarang gak pin pengambilan chat cs lewat aplikasi katanya suruh upload ss page order pas diupload kagak lewat email minta data padahal lengkap cs beda minta data gimana sih sistemnya baru mau beli gimana pas uda pake kartu, beli kuota pembayaran via dana dana udah bukti pembayaran byu kuota sama sekali ga masuk ga bukti transaksi byu padal saldo dana dah berkurang buktinya chat admin via ig ga solusi sama sekali udah kirim semua bukti kurang ga ditindaklanjuti untung belinya selalu rb tiap beli rugi kecewa yaudah, iseng beli kuota gb hari pembayaran via linkaja pas pembayaran langsung alihkan linkaja sukses bayar kuota gak masuk masuk chat cs suruh upload bukti pembayaran linkaja buktinya terus disuruh upload ss bukti transaksi byu pas cek gak riwayat transaksi gak jelas siapa bermasalah chat sama robot dikasih solusi penjelasan padahal dana terpotong]</td>\n",
       "    </tr>\n",
       "    <tr>\n",
       "      <th>3</th>\n",
       "      <td>2</td>\n",
       "      <td>767</td>\n",
       "      <td>2_sinyal_sinyalnya_ilang_hilang</td>\n",
       "      <td>[sinyal, sinyalnya, ilang, hilang, tiba, makin, jelek, kadang, sering, parah]</td>\n",
       "      <td>[kartu digital kaga jelas suka bug beli paket berbeda kekuatan sinyal beda kan aneh pernah beli kuota gb lancar banget buat game kuota abis lalu beli gb ga tau malah sinyal atas bawah ilang padahal sinyal lancar sangat mengganggu sekali katanya kartu digital digunakan digital game malah stabil sinyal sering hilang sekali sering hilang bukan kadang kadang bukan kartu digital namanya kartu hilang sinyal, sih hari sinyalnya ga pernah stabil sinyal tiba full hilang ga sama sekali mau zoom awal masuk lancar tiba langsung hilang sinyal keluar main game gitu lancar tiba ping tinggi padahal hari sebelumnya ga kek gini tempatnya tetap sama disuruh ubah jaringan g terus kan mode pesawat tetep sama selama hari, kurang lebih tahun yg lalu pake byu sinyalnya bagus kenceng gatau udah beberapa bulan sinyalnya jadi makin ga karuan lemotnya kadang suka lost sinyal klo ujan langsung sinyalnya ilang padahal dlu pas pertama kali make mau ujan apa engga sinyal tetep bagus lancar buat streaming nah sekarang mau ujan apa engga buat liat snap wa lola banget diperbaiki]</td>\n",
       "    </tr>\n",
       "    <tr>\n",
       "      <th>4</th>\n",
       "      <td>3</td>\n",
       "      <td>417</td>\n",
       "      <td>3_mbps_unlimited_fup_kbps</td>\n",
       "      <td>[mbps, unlimited, fup, kbps, kecepatan, paket, speed, gb, download, yg]</td>\n",
       "      <td>[kecewa kecewa sangat beli paket yg unlimited mbps tibatiba lemot eh ternyata penggunaan gb dibatasi kecepatannya menjadi kbps pembelian ga keterangan batas fup padahal, gua kecewa sama byu akhir gatau kaya banyak minusnya gak paket berlangganan disney sekarang data unlimited mbps batas fup padahal sebelumnya gua pake sepuasnya sampe masanya abis fup sekarang kalau penggunaan udah gb kekuatan sinyal mbps jadi kbps jadi gak aman buat streaming main game moba gak lancar kalo gini terus gua ganti provider kelewat cape dikata ramah dikantong ternyata cuma scam, parah ni jaringan tiba tiba lambat banget bikin males isi data aturan fup baru paket unlimited mbps sangat meresahkan meski isi ulang kalau batas waktu sebelumnya habis terpaksa menikmati paket limit fup sebelumnya speed parah ngak buat apaapa bagus aku puas makin sini makin pengen ganti kartu mohon perbaiki]</td>\n",
       "    </tr>\n",
       "    <tr>\n",
       "      <th>5</th>\n",
       "      <td>4</td>\n",
       "      <td>219</td>\n",
       "      <td>4_mudah_harga_bagus_murah</td>\n",
       "      <td>[mudah, harga, bagus, murah, promo, terjangkau, sale, flash, sangat, gampang]</td>\n",
       "      <td>[aplikasi bagus bgtt gampang bgt buat beli kuota banyak diskon plus bonus yg ga sedikit aku jg rekomendasiin kluarga aku pke byu soalnya murahgampang makenya jaringannya enak banyak hiburan pilihan kuotanya banyak bgt mulai dri yg murah smpe yg mahal worth bgt byu asiknya pilih sendiri suka bgt gampang beli kuota sm pulsaa banyak jga diskon flash sale nyaa rekomended bgt, byu praktis aplikasi sangat bagus mudah diakses promo paket ditawarkan banyak harga ditawarkan terjangkau banyak pilihan paket sesuai kebutuhan sangat direkomendasikan buat kamu suka streaming ngegame download pokok byu best deh cuman perlu byu perbaiki kestabilan jaringan kadang cepat kadang lemot selebihnya love u byu, aplikasi byu nyaman bgt dipakai gampang gak lemot sering promo flash sale jadi enak banget digunain aplikasi beli nomor beli pulsa beli kuota internet keren deh pokoknya lengkap banget]</td>\n",
       "    </tr>\n",
       "    <tr>\n",
       "      <th>6</th>\n",
       "      <td>5</td>\n",
       "      <td>176</td>\n",
       "      <td>5_youtube_nonton_instagram_topping</td>\n",
       "      <td>[youtube, nonton, instagram, topping, lancar, video, buat, main, streaming, game]</td>\n",
       "      <td>[byu yg bener aku main game ngelag terus buat buka liat youtube instagram facebook kok lancar kalau pas main game sinyal sama latensi ping naik turun tlng yg bener udah pakai krng lebih bulan udah merasa nyaman sama byu skrng malah kualitas jaringan menurun tlng diperbaiki jaringan, jaringan cukup bagus rumahku terpencil harga tergolong murah signalnya naik turunnya ngeri tp ga masalah harga terjangkau download streaming lancar kalau buat main game kurang bagus cuma satu aku notice kuotanya gatau lebih boros banget cepat habis aku coba provider utk pemakaian yg sama nonton youtube video yg sama kualitas video yg sama hasilnya kuota byu lebih boros cepat habis sayang banget kan, aneh sama provider aktifin kuota bulanan lemot minta ampun buat main game mobile legend free fire nonton youtube streaming netflix lemot banget sumpah kalo pake paket gb rb sehari internet lancar banget mau streaming youtube main ml ff kamar mandi lancar jaya tau target marketing tp jangan gini dong harusnya paket bulanan bagusin sinyal percuma paket bulanan gb rb hari sinyal macem pake tri]</td>\n",
       "    </tr>\n",
       "    <tr>\n",
       "      <th>7</th>\n",
       "      <td>6</td>\n",
       "      <td>162</td>\n",
       "      <td>6_tetep_udh_gabisa_bener</td>\n",
       "      <td>[tetep, udh, gabisa, bener, ga, pake, provider, ganti, mau, sama]</td>\n",
       "      <td>[maaf awal pake dl lancar bgt tp makin kesini jaringannya lemot parah srg mode pesawat sekelas telkomsel tp jaringan kaya gini duh bener deh byu kualitasnya makin turun kl ga perubahan sprtinya bakalan ganti provider note udh isi apn sesuai saran udh tlp cs byu langsung jg cs blg jaringan baik ga masalah pdhl usernya mmg makin lemot srg erorr mode pesawat pake privider lancar gada masalah, sih byu kalo mau buka aplikasi susah terkadang update dulu udah restart hp kaga solusi tuh perbaiki aplikasinya bukan suruh restart hp mode pesawat terlebih mau cek kuota isi kuota terus gimana dah lama pake byu permasalahanya sama sering susah masuk aplikasinya update kadang jg susah provider baik kureng banget ngatasin keluhan customernya mohon perhatikan masukan kritikan customer thanks, nyaman bgt sebenernya pake byu aku cm pernah beli kuota mbps mbps sih ga pernah yg biar aman lebih hemat kendalanya beli paket baru pas baru dibayar ni kadang ga lgsg pake kaya beberapa jam jaringannya ilang jaringan h kadang g jg cuma wa ig yg bs akses kaya twitter telegram yt gabisa pas baru beberapa jam kemudian udh balik normal sih kalau diperbaiki kalau abis payment lgsg aktif pake gitu]</td>\n",
       "    </tr>\n",
       "    <tr>\n",
       "      <th>8</th>\n",
       "      <td>7</td>\n",
       "      <td>129</td>\n",
       "      <td>7_login_log_ulang_server</td>\n",
       "      <td>[login, log, ulang, server, nomor, logout, otp, akun, mau, sendiri]</td>\n",
       "      <td>[bukannya mempermudah malah jadi ribet posisi kuota habis isi pulsa mau paketin data ga masuk terus login pake nomor byu yg terdaftar malah responnya ga daftar pake nomor byu lah kan login bukan daftar jadi kesel ga isi kuota via ribettt harusnya kalau ngga via dial mercant seenggaknya jgn dipersulit buat login dong asli kesel, mau isi ulang paket aplikasinya logout mau login otp gagal padahal bener masuk eh kesalahan coba keluar trus masuk aplikasi suruh login otp gagal, keknya masalah server mulu mau daftar kuota malah disuruh login ulang pas mah login muncul masalah server apaan sih kesel banget udah cape bolak balik gabisa masuk apknya masalah server trus ih]</td>\n",
       "    </tr>\n",
       "    <tr>\n",
       "      <th>9</th>\n",
       "      <td>8</td>\n",
       "      <td>29</td>\n",
       "      <td>8_virtual_account_bca_pembayaran</td>\n",
       "      <td>[virtual, account, bca, pembayaran, berhasil, masuk, bni, bank, transaksi, pembayarannya]</td>\n",
       "      <td>[bintang lebih cukup byu provider yg sangat jelek buat yg pakai gak usah pakek biar menyesal beli paket melalui virtual account pembelian sukses tp paket masuk lapor cs dn bukti transfert kirim pertama langsung respon tp cs gak bs ngatasin masalah yg cuman sepele tiba langsung gak respon gak ahklah uang jadi korban provider gak bertanggung jawab auto langsung guting kartu simcartnya, udh beli paket kuota pembayaran via virtual account bca berhasil bukti pembayaran saldo rekening udh terpotong status msh pending aplikasinya komplain suruh nunggu hari gk mikir apa hari kira sebentar kali jgn pake byu ribet bli kuota gk masuk masuk gk pake ribet gk, kecewa beli paket internet yg rb gb pembayarannya via bni virtual account udah transfer tpi paketnya ga masuk udh jam nunggu padahal pembayaran pake virtual account ga bakal salah udah kirim bukti transfer sama nomor order email si nindi tpi ga bales kecewa]</td>\n",
       "    </tr>\n",
       "  </tbody>\n",
       "</table>\n",
       "</div>"
      ],
      "text/plain": [
       "   Topic  Count                                Name  \\\n",
       "0     -1   4770         -1_jaringan_kuota_sinyal_yg   \n",
       "1      0   1826       0_aplikasi_game_buka_jaringan   \n",
       "2      1    881         1_kartu_pembayaran_beli_sim   \n",
       "3      2    767     2_sinyal_sinyalnya_ilang_hilang   \n",
       "4      3    417           3_mbps_unlimited_fup_kbps   \n",
       "5      4    219           4_mudah_harga_bagus_murah   \n",
       "6      5    176  5_youtube_nonton_instagram_topping   \n",
       "7      6    162            6_tetep_udh_gabisa_bener   \n",
       "8      7    129            7_login_log_ulang_server   \n",
       "9      8     29    8_virtual_account_bca_pembayaran   \n",
       "\n",
       "                                                                              Representation  \\\n",
       "0                            [jaringan, kuota, sinyal, yg, udah, mau, gak, kartu, ga, bagus]   \n",
       "1              [aplikasi, game, buka, jaringan, ping, main, wifi, aplikasinya, selalu, buat]   \n",
       "2                   [kartu, pembayaran, beli, sim, masuk, transaksi, bayar, cs, saldo, chat]   \n",
       "3              [sinyal, sinyalnya, ilang, hilang, tiba, makin, jelek, kadang, sering, parah]   \n",
       "4                    [mbps, unlimited, fup, kbps, kecepatan, paket, speed, gb, download, yg]   \n",
       "5              [mudah, harga, bagus, murah, promo, terjangkau, sale, flash, sangat, gampang]   \n",
       "6          [youtube, nonton, instagram, topping, lancar, video, buat, main, streaming, game]   \n",
       "7                          [tetep, udh, gabisa, bener, ga, pake, provider, ganti, mau, sama]   \n",
       "8                        [login, log, ulang, server, nomor, logout, otp, akun, mau, sendiri]   \n",
       "9  [virtual, account, bca, pembayaran, berhasil, masuk, bni, bank, transaksi, pembayarannya]   \n",
       "\n",
       "                                                                                                                                                                                                                                                                                                                                                                                                                                                                                                                                                                                                                                                                                                                                                                                                                                                                                                                                                                                                                                                                                                                                                                                                              Representative_Docs  \n",
       "0                                                                                                                                                                                                    [aku udah pakai byu bulan awalawal pake byu seru sih sinyalnya bagus dapet bar harga kuotanya murah sekarang sinyalnya lemot banget sekarang dapet bar bahkan cuman bar tiap kali berselancar internet suka ngadat buka aplikasi byu terlebih pas buka aplikasi login kalau kejadian sekali kali wajar yah kalau sering kali kan jadi nggk nyaman suka kesel sendiri mungkin saatnya ganti provaider, jelek banget jaringan sekarang dulu pas awal awal pake mbps bagus lah pake gb jaringan g sama sekali gak pakai kecewa banget padahal dulu jaringan bagus harga murah sekarang beda jauh aplikasi susah buka, kartu enak banyak kouta murah udh tahun pake fine fine kali kok tiba tiba jaringannya kayak gk pake biasanya aman aman klo mo pake nge streaming nge game download tpi knp tiba tiba jaringan ngelag banget klo main merah terus jaringan nnton tiktok lambat banget nge streaming sama padahal udh coba segala cara mode pesawat restart hp pindahin jaringan g g udh semua ku coba tetap nge lag terus]  \n",
       "1                                                                                                                                                                                                                [bintangnya kurangi minta aplikasinya diperbaiki dong sering banget gabisa dibuka padahal dah update mulu kan jadi bingung kalau mau beli paketan mau cek kuota semuanya serba aplikasi lah termasuk setia sama byu loh bahkan harganya ribu per bulan gak masalah diperbaiki, hampir tahun memakai aplikasi byu kecewa banget sih sama byu sekarang aplikasinya sering macet ga login apa gak akses apapun provider byu aplikasinya kalo aplikasinya tibatiba nge lag parah gimana saran deh buat byu kalo aplikasinya belom kuat stabil usahakan buat situs internet akses pengguna byu buat cek internet beli paket dah sekian, dulu byu cukup stabil sekarang sering lag terutama main game online aneh banget kalau direkam malah lancar kalau justru makin ngelag padahal sinyal penuh speedtest normal coba berbagai cara restart hp reset jaringan ubah apn bahkan pakai hp hasilnya tetap sama byu bermasalah cs memberi solusi cek sinyal tunggu perbaiki kalau terpaksa pindah provider lebih stabil]  \n",
       "2                                                                                                                                                                                                                                                                  [beli kartu via aplikasi ambil indomaret katanya nunggu pin sekarang gak pin pengambilan chat cs lewat aplikasi katanya suruh upload ss page order pas diupload kagak lewat email minta data padahal lengkap cs beda minta data gimana sih sistemnya baru mau beli gimana pas uda pake kartu, beli kuota pembayaran via dana dana udah bukti pembayaran byu kuota sama sekali ga masuk ga bukti transaksi byu padal saldo dana dah berkurang buktinya chat admin via ig ga solusi sama sekali udah kirim semua bukti kurang ga ditindaklanjuti untung belinya selalu rb tiap beli rugi kecewa yaudah, iseng beli kuota gb hari pembayaran via linkaja pas pembayaran langsung alihkan linkaja sukses bayar kuota gak masuk masuk chat cs suruh upload bukti pembayaran linkaja buktinya terus disuruh upload ss bukti transaksi byu pas cek gak riwayat transaksi gak jelas siapa bermasalah chat sama robot dikasih solusi penjelasan padahal dana terpotong]  \n",
       "3                                                                                                                           [kartu digital kaga jelas suka bug beli paket berbeda kekuatan sinyal beda kan aneh pernah beli kuota gb lancar banget buat game kuota abis lalu beli gb ga tau malah sinyal atas bawah ilang padahal sinyal lancar sangat mengganggu sekali katanya kartu digital digunakan digital game malah stabil sinyal sering hilang sekali sering hilang bukan kadang kadang bukan kartu digital namanya kartu hilang sinyal, sih hari sinyalnya ga pernah stabil sinyal tiba full hilang ga sama sekali mau zoom awal masuk lancar tiba langsung hilang sinyal keluar main game gitu lancar tiba ping tinggi padahal hari sebelumnya ga kek gini tempatnya tetap sama disuruh ubah jaringan g terus kan mode pesawat tetep sama selama hari, kurang lebih tahun yg lalu pake byu sinyalnya bagus kenceng gatau udah beberapa bulan sinyalnya jadi makin ga karuan lemotnya kadang suka lost sinyal klo ujan langsung sinyalnya ilang padahal dlu pas pertama kali make mau ujan apa engga sinyal tetep bagus lancar buat streaming nah sekarang mau ujan apa engga buat liat snap wa lola banget diperbaiki]  \n",
       "4                                                                                                                                                                                                                                                                                                                      [kecewa kecewa sangat beli paket yg unlimited mbps tibatiba lemot eh ternyata penggunaan gb dibatasi kecepatannya menjadi kbps pembelian ga keterangan batas fup padahal, gua kecewa sama byu akhir gatau kaya banyak minusnya gak paket berlangganan disney sekarang data unlimited mbps batas fup padahal sebelumnya gua pake sepuasnya sampe masanya abis fup sekarang kalau penggunaan udah gb kekuatan sinyal mbps jadi kbps jadi gak aman buat streaming main game moba gak lancar kalo gini terus gua ganti provider kelewat cape dikata ramah dikantong ternyata cuma scam, parah ni jaringan tiba tiba lambat banget bikin males isi data aturan fup baru paket unlimited mbps sangat meresahkan meski isi ulang kalau batas waktu sebelumnya habis terpaksa menikmati paket limit fup sebelumnya speed parah ngak buat apaapa bagus aku puas makin sini makin pengen ganti kartu mohon perbaiki]  \n",
       "5                                                                                                                                                                                                                                                                                                             [aplikasi bagus bgtt gampang bgt buat beli kuota banyak diskon plus bonus yg ga sedikit aku jg rekomendasiin kluarga aku pke byu soalnya murahgampang makenya jaringannya enak banyak hiburan pilihan kuotanya banyak bgt mulai dri yg murah smpe yg mahal worth bgt byu asiknya pilih sendiri suka bgt gampang beli kuota sm pulsaa banyak jga diskon flash sale nyaa rekomended bgt, byu praktis aplikasi sangat bagus mudah diakses promo paket ditawarkan banyak harga ditawarkan terjangkau banyak pilihan paket sesuai kebutuhan sangat direkomendasikan buat kamu suka streaming ngegame download pokok byu best deh cuman perlu byu perbaiki kestabilan jaringan kadang cepat kadang lemot selebihnya love u byu, aplikasi byu nyaman bgt dipakai gampang gak lemot sering promo flash sale jadi enak banget digunain aplikasi beli nomor beli pulsa beli kuota internet keren deh pokoknya lengkap banget]  \n",
       "6                                                                                                       [byu yg bener aku main game ngelag terus buat buka liat youtube instagram facebook kok lancar kalau pas main game sinyal sama latensi ping naik turun tlng yg bener udah pakai krng lebih bulan udah merasa nyaman sama byu skrng malah kualitas jaringan menurun tlng diperbaiki jaringan, jaringan cukup bagus rumahku terpencil harga tergolong murah signalnya naik turunnya ngeri tp ga masalah harga terjangkau download streaming lancar kalau buat main game kurang bagus cuma satu aku notice kuotanya gatau lebih boros banget cepat habis aku coba provider utk pemakaian yg sama nonton youtube video yg sama kualitas video yg sama hasilnya kuota byu lebih boros cepat habis sayang banget kan, aneh sama provider aktifin kuota bulanan lemot minta ampun buat main game mobile legend free fire nonton youtube streaming netflix lemot banget sumpah kalo pake paket gb rb sehari internet lancar banget mau streaming youtube main ml ff kamar mandi lancar jaya tau target marketing tp jangan gini dong harusnya paket bulanan bagusin sinyal percuma paket bulanan gb rb hari sinyal macem pake tri]  \n",
       "7  [maaf awal pake dl lancar bgt tp makin kesini jaringannya lemot parah srg mode pesawat sekelas telkomsel tp jaringan kaya gini duh bener deh byu kualitasnya makin turun kl ga perubahan sprtinya bakalan ganti provider note udh isi apn sesuai saran udh tlp cs byu langsung jg cs blg jaringan baik ga masalah pdhl usernya mmg makin lemot srg erorr mode pesawat pake privider lancar gada masalah, sih byu kalo mau buka aplikasi susah terkadang update dulu udah restart hp kaga solusi tuh perbaiki aplikasinya bukan suruh restart hp mode pesawat terlebih mau cek kuota isi kuota terus gimana dah lama pake byu permasalahanya sama sering susah masuk aplikasinya update kadang jg susah provider baik kureng banget ngatasin keluhan customernya mohon perhatikan masukan kritikan customer thanks, nyaman bgt sebenernya pake byu aku cm pernah beli kuota mbps mbps sih ga pernah yg biar aman lebih hemat kendalanya beli paket baru pas baru dibayar ni kadang ga lgsg pake kaya beberapa jam jaringannya ilang jaringan h kadang g jg cuma wa ig yg bs akses kaya twitter telegram yt gabisa pas baru beberapa jam kemudian udh balik normal sih kalau diperbaiki kalau abis payment lgsg aktif pake gitu]  \n",
       "8                                                                                                                                                                                                                                                                                                                                                                                                                                                                                                                                 [bukannya mempermudah malah jadi ribet posisi kuota habis isi pulsa mau paketin data ga masuk terus login pake nomor byu yg terdaftar malah responnya ga daftar pake nomor byu lah kan login bukan daftar jadi kesel ga isi kuota via ribettt harusnya kalau ngga via dial mercant seenggaknya jgn dipersulit buat login dong asli kesel, mau isi ulang paket aplikasinya logout mau login otp gagal padahal bener masuk eh kesalahan coba keluar trus masuk aplikasi suruh login otp gagal, keknya masalah server mulu mau daftar kuota malah disuruh login ulang pas mah login muncul masalah server apaan sih kesel banget udah cape bolak balik gabisa masuk apknya masalah server trus ih]  \n",
       "9                                                                                                                                                                                                                                                                               [bintang lebih cukup byu provider yg sangat jelek buat yg pakai gak usah pakek biar menyesal beli paket melalui virtual account pembelian sukses tp paket masuk lapor cs dn bukti transfert kirim pertama langsung respon tp cs gak bs ngatasin masalah yg cuman sepele tiba langsung gak respon gak ahklah uang jadi korban provider gak bertanggung jawab auto langsung guting kartu simcartnya, udh beli paket kuota pembayaran via virtual account bca berhasil bukti pembayaran saldo rekening udh terpotong status msh pending aplikasinya komplain suruh nunggu hari gk mikir apa hari kira sebentar kali jgn pake byu ribet bli kuota gk masuk masuk gk pake ribet gk, kecewa beli paket internet yg rb gb pembayarannya via bni virtual account udah transfer tpi paketnya ga masuk udh jam nunggu padahal pembayaran pake virtual account ga bakal salah udah kirim bukti transfer sama nomor order email si nindi tpi ga bales kecewa]  "
      ]
     },
     "execution_count": 130,
     "metadata": {},
     "output_type": "execute_result"
    }
   ],
   "source": [
    "# Tampilkan topik yang dihasilkan\n",
    "topic_model.get_topic_info()"
   ]
  },
  {
   "cell_type": "code",
   "execution_count": 161,
   "id": "1f036c27",
   "metadata": {},
   "outputs": [
    {
     "data": {
      "text/plain": [
       "[('login', 0.8964990255351757),\n",
       " ('log', 0.4570977961266845),\n",
       " ('ulang', 0.44116697600835125),\n",
       " ('server', 0.4325794618686213),\n",
       " ('nomor', 0.41983661488929286),\n",
       " ('logout', 0.4190602322350842),\n",
       " ('otp', 0.39726708631446445),\n",
       " ('akun', 0.3731391993735551),\n",
       " ('mau', 0.36297420008340064),\n",
       " ('sendiri', 0.3463043601537908)]"
      ]
     },
     "execution_count": 161,
     "metadata": {},
     "output_type": "execute_result"
    }
   ],
   "source": [
    "topic_model.get_topic(7)"
   ]
  },
  {
   "cell_type": "code",
   "execution_count": null,
   "id": "b9f24b1c",
   "metadata": {},
   "outputs": [],
   "source": [
    "# topic_model.save(\"bertopic_model_byu\")"
   ]
  },
  {
   "cell_type": "code",
   "execution_count": null,
   "id": "73e8329d",
   "metadata": {},
   "outputs": [],
   "source": [
    "# #cek kata-kata yang paling sering muncul\n",
    "\n",
    "# from sklearn.feature_extraction.text import CountVectorizer\n",
    "\n",
    "# vec = CountVectorizer()\n",
    "# X = vec.fit_transform(df['final_text'])\n",
    "# word_freq = zip(vec.get_feature_names_out(), X.toarray().sum(axis=0))\n",
    "# sorted(word_freq, key=lambda x: -x[1])[:30]\n",
    "\n",
    "# # Cek panjang teks final\n",
    "# df['final_text'].str.split().apply(len).describe()"
   ]
  },
  {
   "cell_type": "code",
   "execution_count": null,
   "id": "9c8a6b1d",
   "metadata": {},
   "outputs": [],
   "source": []
  },
  {
   "cell_type": "code",
   "execution_count": 157,
   "id": "410a8861",
   "metadata": {},
   "outputs": [
    {
     "ename": "ValueError",
     "evalue": "Mixing dicts with non-Series may lead to ambiguous ordering.",
     "output_type": "error",
     "traceback": [
      "\u001b[31m---------------------------------------------------------------------------\u001b[39m",
      "\u001b[31mValueError\u001b[39m                                Traceback (most recent call last)",
      "\u001b[36mCell\u001b[39m\u001b[36m \u001b[39m\u001b[32mIn[157]\u001b[39m\u001b[32m, line 9\u001b[39m\n\u001b[32m      6\u001b[39m max_probs = [\u001b[38;5;28mfloat\u001b[39m(np.max(p)) \u001b[38;5;28;01mfor\u001b[39;00m p \u001b[38;5;129;01min\u001b[39;00m probs]\n\u001b[32m      8\u001b[39m \u001b[38;5;66;03m# Buat DataFrame topik per dokumen\u001b[39;00m\n\u001b[32m----> \u001b[39m\u001b[32m9\u001b[39m doc_topics = \u001b[43mpd\u001b[49m\u001b[43m.\u001b[49m\u001b[43mDataFrame\u001b[49m\u001b[43m(\u001b[49m\u001b[43m{\u001b[49m\n\u001b[32m     10\u001b[39m \u001b[43m    \u001b[49m\u001b[33;43m\"\u001b[39;49m\u001b[33;43mtext\u001b[39;49m\u001b[33;43m\"\u001b[39;49m\u001b[43m:\u001b[49m\u001b[43m \u001b[49m\u001b[43mdf\u001b[49m\u001b[43m[\u001b[49m\u001b[33;43m'\u001b[39;49m\u001b[33;43mfinal_text\u001b[39;49m\u001b[33;43m'\u001b[39;49m\u001b[43m]\u001b[49m\u001b[43m,\u001b[49m\u001b[43m  \u001b[49m\u001b[38;5;66;43;03m# Atau ganti dengan docs jika kamu punya list asli dokumen\u001b[39;49;00m\n\u001b[32m     11\u001b[39m \u001b[43m    \u001b[49m\u001b[33;43m\"\u001b[39;49m\u001b[33;43mtopic\u001b[39;49m\u001b[33;43m\"\u001b[39;49m\u001b[43m:\u001b[49m\u001b[43m \u001b[49m\u001b[43mtopics\u001b[49m\u001b[43m,\u001b[49m\n\u001b[32m     12\u001b[39m \u001b[43m    \u001b[49m\u001b[33;43m\"\u001b[39;49m\u001b[33;43mprobability\u001b[39;49m\u001b[33;43m\"\u001b[39;49m\u001b[43m:\u001b[49m\u001b[43m \u001b[49m\u001b[43mmax_probs\u001b[49m\n\u001b[32m     13\u001b[39m \u001b[43m}\u001b[49m\u001b[43m)\u001b[49m\n\u001b[32m     15\u001b[39m \u001b[38;5;66;03m# Ambil label topik dari BERTopic\u001b[39;00m\n\u001b[32m     16\u001b[39m topic_labels = topic_model.get_topic_info().set_index(\u001b[33m'\u001b[39m\u001b[33mTopic\u001b[39m\u001b[33m'\u001b[39m)[\u001b[33m'\u001b[39m\u001b[33mName\u001b[39m\u001b[33m'\u001b[39m].to_dict()\n",
      "\u001b[36mFile \u001b[39m\u001b[32mc:\\Users\\andi ragil\\.conda\\envs\\topikenv\\Lib\\site-packages\\pandas\\core\\frame.py:778\u001b[39m, in \u001b[36mDataFrame.__init__\u001b[39m\u001b[34m(self, data, index, columns, dtype, copy)\u001b[39m\n\u001b[32m    772\u001b[39m     mgr = \u001b[38;5;28mself\u001b[39m._init_mgr(\n\u001b[32m    773\u001b[39m         data, axes={\u001b[33m\"\u001b[39m\u001b[33mindex\u001b[39m\u001b[33m\"\u001b[39m: index, \u001b[33m\"\u001b[39m\u001b[33mcolumns\u001b[39m\u001b[33m\"\u001b[39m: columns}, dtype=dtype, copy=copy\n\u001b[32m    774\u001b[39m     )\n\u001b[32m    776\u001b[39m \u001b[38;5;28;01melif\u001b[39;00m \u001b[38;5;28misinstance\u001b[39m(data, \u001b[38;5;28mdict\u001b[39m):\n\u001b[32m    777\u001b[39m     \u001b[38;5;66;03m# GH#38939 de facto copy defaults to False only in non-dict cases\u001b[39;00m\n\u001b[32m--> \u001b[39m\u001b[32m778\u001b[39m     mgr = \u001b[43mdict_to_mgr\u001b[49m\u001b[43m(\u001b[49m\u001b[43mdata\u001b[49m\u001b[43m,\u001b[49m\u001b[43m \u001b[49m\u001b[43mindex\u001b[49m\u001b[43m,\u001b[49m\u001b[43m \u001b[49m\u001b[43mcolumns\u001b[49m\u001b[43m,\u001b[49m\u001b[43m \u001b[49m\u001b[43mdtype\u001b[49m\u001b[43m=\u001b[49m\u001b[43mdtype\u001b[49m\u001b[43m,\u001b[49m\u001b[43m \u001b[49m\u001b[43mcopy\u001b[49m\u001b[43m=\u001b[49m\u001b[43mcopy\u001b[49m\u001b[43m,\u001b[49m\u001b[43m \u001b[49m\u001b[43mtyp\u001b[49m\u001b[43m=\u001b[49m\u001b[43mmanager\u001b[49m\u001b[43m)\u001b[49m\n\u001b[32m    779\u001b[39m \u001b[38;5;28;01melif\u001b[39;00m \u001b[38;5;28misinstance\u001b[39m(data, ma.MaskedArray):\n\u001b[32m    780\u001b[39m     \u001b[38;5;28;01mfrom\u001b[39;00m\u001b[38;5;250m \u001b[39m\u001b[34;01mnumpy\u001b[39;00m\u001b[34;01m.\u001b[39;00m\u001b[34;01mma\u001b[39;00m\u001b[38;5;250m \u001b[39m\u001b[38;5;28;01mimport\u001b[39;00m mrecords\n",
      "\u001b[36mFile \u001b[39m\u001b[32mc:\\Users\\andi ragil\\.conda\\envs\\topikenv\\Lib\\site-packages\\pandas\\core\\internals\\construction.py:503\u001b[39m, in \u001b[36mdict_to_mgr\u001b[39m\u001b[34m(data, index, columns, dtype, typ, copy)\u001b[39m\n\u001b[32m    499\u001b[39m     \u001b[38;5;28;01melse\u001b[39;00m:\n\u001b[32m    500\u001b[39m         \u001b[38;5;66;03m# dtype check to exclude e.g. range objects, scalars\u001b[39;00m\n\u001b[32m    501\u001b[39m         arrays = [x.copy() \u001b[38;5;28;01mif\u001b[39;00m \u001b[38;5;28mhasattr\u001b[39m(x, \u001b[33m\"\u001b[39m\u001b[33mdtype\u001b[39m\u001b[33m\"\u001b[39m) \u001b[38;5;28;01melse\u001b[39;00m x \u001b[38;5;28;01mfor\u001b[39;00m x \u001b[38;5;129;01min\u001b[39;00m arrays]\n\u001b[32m--> \u001b[39m\u001b[32m503\u001b[39m \u001b[38;5;28;01mreturn\u001b[39;00m \u001b[43marrays_to_mgr\u001b[49m\u001b[43m(\u001b[49m\u001b[43marrays\u001b[49m\u001b[43m,\u001b[49m\u001b[43m \u001b[49m\u001b[43mcolumns\u001b[49m\u001b[43m,\u001b[49m\u001b[43m \u001b[49m\u001b[43mindex\u001b[49m\u001b[43m,\u001b[49m\u001b[43m \u001b[49m\u001b[43mdtype\u001b[49m\u001b[43m=\u001b[49m\u001b[43mdtype\u001b[49m\u001b[43m,\u001b[49m\u001b[43m \u001b[49m\u001b[43mtyp\u001b[49m\u001b[43m=\u001b[49m\u001b[43mtyp\u001b[49m\u001b[43m,\u001b[49m\u001b[43m \u001b[49m\u001b[43mconsolidate\u001b[49m\u001b[43m=\u001b[49m\u001b[43mcopy\u001b[49m\u001b[43m)\u001b[49m\n",
      "\u001b[36mFile \u001b[39m\u001b[32mc:\\Users\\andi ragil\\.conda\\envs\\topikenv\\Lib\\site-packages\\pandas\\core\\internals\\construction.py:114\u001b[39m, in \u001b[36marrays_to_mgr\u001b[39m\u001b[34m(arrays, columns, index, dtype, verify_integrity, typ, consolidate)\u001b[39m\n\u001b[32m    111\u001b[39m \u001b[38;5;28;01mif\u001b[39;00m verify_integrity:\n\u001b[32m    112\u001b[39m     \u001b[38;5;66;03m# figure out the index, if necessary\u001b[39;00m\n\u001b[32m    113\u001b[39m     \u001b[38;5;28;01mif\u001b[39;00m index \u001b[38;5;129;01mis\u001b[39;00m \u001b[38;5;28;01mNone\u001b[39;00m:\n\u001b[32m--> \u001b[39m\u001b[32m114\u001b[39m         index = \u001b[43m_extract_index\u001b[49m\u001b[43m(\u001b[49m\u001b[43marrays\u001b[49m\u001b[43m)\u001b[49m\n\u001b[32m    115\u001b[39m     \u001b[38;5;28;01melse\u001b[39;00m:\n\u001b[32m    116\u001b[39m         index = ensure_index(index)\n",
      "\u001b[36mFile \u001b[39m\u001b[32mc:\\Users\\andi ragil\\.conda\\envs\\topikenv\\Lib\\site-packages\\pandas\\core\\internals\\construction.py:680\u001b[39m, in \u001b[36m_extract_index\u001b[39m\u001b[34m(data)\u001b[39m\n\u001b[32m    677\u001b[39m     \u001b[38;5;28;01mraise\u001b[39;00m \u001b[38;5;167;01mValueError\u001b[39;00m(\u001b[33m\"\u001b[39m\u001b[33mAll arrays must be of the same length\u001b[39m\u001b[33m\"\u001b[39m)\n\u001b[32m    679\u001b[39m \u001b[38;5;28;01mif\u001b[39;00m have_dicts:\n\u001b[32m--> \u001b[39m\u001b[32m680\u001b[39m     \u001b[38;5;28;01mraise\u001b[39;00m \u001b[38;5;167;01mValueError\u001b[39;00m(\n\u001b[32m    681\u001b[39m         \u001b[33m\"\u001b[39m\u001b[33mMixing dicts with non-Series may lead to ambiguous ordering.\u001b[39m\u001b[33m\"\u001b[39m\n\u001b[32m    682\u001b[39m     )\n\u001b[32m    684\u001b[39m \u001b[38;5;28;01mif\u001b[39;00m have_series:\n\u001b[32m    685\u001b[39m     \u001b[38;5;28;01mif\u001b[39;00m lengths[\u001b[32m0\u001b[39m] != \u001b[38;5;28mlen\u001b[39m(index):\n",
      "\u001b[31mValueError\u001b[39m: Mixing dicts with non-Series may lead to ambiguous ordering."
     ]
    }
   ],
   "source": [
    "# Simpan csv untuk visualisasi\n",
    "\n",
    "import numpy as np\n",
    "\n",
    "# Ambil probabilitas tertinggi untuk tiap dokumen\n",
    "max_probs = [float(np.max(p)) for p in probs]\n",
    "\n",
    "# Buat DataFrame topik per dokumen\n",
    "doc_topics = pd.DataFrame({\n",
    "    \"text\": df['final_text'],  # Atau ganti dengan docs jika kamu punya list asli dokumen\n",
    "    \"topic\": topics,\n",
    "    \"probability\": max_probs\n",
    "})\n",
    "\n",
    "# Ambil label topik dari BERTopic\n",
    "topic_labels = topic_model.get_topic_info().set_index('Topic')['Name'].to_dict()\n",
    "\n",
    "# Tambahkan label ke DataFrame\n",
    "doc_topics['topic_label'] = doc_topics['topic'].map(topic_labels)\n",
    "\n",
    "# Simpan sebagai CSV\n",
    "doc_topics.to_csv(\"topik_per_dokumen.csv\", index=False)\n",
    "\n",
    "# Simpan ringkasan topik ke CSV\n",
    "topic_model.get_topic_info().to_csv(\"topik_summary.csv\", index=False)"
   ]
  },
  {
   "cell_type": "code",
   "execution_count": 160,
   "id": "512974f7",
   "metadata": {},
   "outputs": [
    {
     "name": "stdout",
     "output_type": "stream",
     "text": [
      "9376 10 9376\n"
     ]
    }
   ],
   "source": [
    "print(len(df['final_text']), len(topics), len(max_probs))"
   ]
  }
 ],
 "metadata": {
  "kernelspec": {
   "display_name": "topikenv",
   "language": "python",
   "name": "python3"
  },
  "language_info": {
   "codemirror_mode": {
    "name": "ipython",
    "version": 3
   },
   "file_extension": ".py",
   "mimetype": "text/x-python",
   "name": "python",
   "nbconvert_exporter": "python",
   "pygments_lexer": "ipython3",
   "version": "3.12.9"
  }
 },
 "nbformat": 4,
 "nbformat_minor": 5
}
